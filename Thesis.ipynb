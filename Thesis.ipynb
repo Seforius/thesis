{
  "cells": [
    {
      "cell_type": "code",
      "execution_count": 1,
      "metadata": {
        "colab": {
          "base_uri": "https://localhost:8080/"
        },
        "id": "OyS7_YA69D5L",
        "outputId": "6c2891a8-caee-4ccc-ccba-c8fb3c961ff0"
      },
      "outputs": [
        {
          "name": "stdout",
          "output_type": "stream",
          "text": [
            "WARNING:tensorflow:From C:\\Users\\yusef\\AppData\\Local\\Packages\\PythonSoftwareFoundation.Python.3.11_qbz5n2kfra8p0\\LocalCache\\local-packages\\Python311\\site-packages\\keras\\src\\losses.py:2976: The name tf.losses.sparse_softmax_cross_entropy is deprecated. Please use tf.compat.v1.losses.sparse_softmax_cross_entropy instead.\n",
            "\n",
            "tf.__version__: 2.15.0\n"
          ]
        }
      ],
      "source": [
        "#setup\n",
        "\n",
        "# digit 8\n",
        "from __future__ import absolute_import, division, print_function\n",
        "\n",
        "# %tensorflow_version 1.x\n",
        "from tqdm.notebook import tqdm\n",
        "import numpy as np\n",
        "import cv2 #pip install opencv-python\n",
        "import scipy\n",
        "import scipy.spatial\n",
        "from scipy import ndimage\n",
        "from skimage import metrics #pip install scikit-image\n",
        "import tensorflow as tf #pip install tensorflow==2.15.0\n",
        "import time\n",
        "\n",
        "print('tf.__version__: {}'.format(tf.__version__))\n",
        "\n",
        "import matplotlib.pyplot as plt\n",
        "from keras import datasets, layers, models\n",
        "import keras\n",
        "\n",
        "from rembg import remove\n",
        "from PIL import Image\n",
        "\n",
        "#from google.colab import drive\n",
        "#drive.mount('/content/drive')\n",
        "\n",
        "#test GPU\n",
        "# gpu = tf.config.list_physical_devices('GPU')\n",
        "# print(gpu)\n",
        "# tf.config.experimental.set_memory_growth(device=gpu[0], enable=True)\n",
        "\n",
        "#force to run on cpu\n",
        "tf.config.set_visible_devices([], 'GPU')"
      ]
    },
    {
      "cell_type": "code",
      "execution_count": 3,
      "metadata": {},
      "outputs": [],
      "source": [
        "def extract_frames(video_path):\n",
        "    cap = cv2.VideoCapture(video_path)\n",
        "    frames = []\n",
        "\n",
        "    while cap.isOpened():\n",
        "        ret, frame = cap.read()\n",
        "        if not ret:\n",
        "            break\n",
        "        frames.append(frame)\n",
        "\n",
        "    cap.release()\n",
        "    return frames"
      ]
    },
    {
      "cell_type": "code",
      "execution_count": 7,
      "metadata": {},
      "outputs": [],
      "source": [
        "frames = extract_frames('cheetah.mp4')\n",
        "grayscale_frames = [cv2.cvtColor(frame, cv2.COLOR_BGR2GRAY) for frame in frames]\n",
        "resized_frames = [cv2.resize(frame, (336, 336)) for frame in grayscale_frames]\n",
        "\n",
        "#save frames in original_frames folder\n",
        "for i, frame in enumerate(resized_frames):\n",
        "    cv2.imwrite('original_frames/original_frame_{:01d}.png'.format(i), frame)"
      ]
    },
    {
      "cell_type": "code",
      "execution_count": 3,
      "metadata": {},
      "outputs": [],
      "source": [
        "from scipy.ndimage import map_coordinates\n",
        "from scipy.ndimage import gaussian_filter\n",
        "\n",
        "def invert_colors(image1, image2):\n",
        "    return cv2.bitwise_not(image1), cv2.bitwise_not(image2)\n",
        "\n",
        "def elastic_distortion(image1, image2, alpha_range, sigma):\n",
        "    random_state = np.random.RandomState(None)\n",
        "    alpha = image1.shape[1] * alpha_range\n",
        "    sigma = image1.shape[1] * sigma\n",
        "\n",
        "    shape = image1.shape[:2]\n",
        "    dx = gaussian_filter((random_state.rand(*shape) * 2 - 1), sigma, mode='constant', cval=0) * alpha\n",
        "    dy = gaussian_filter((random_state.rand(*shape) * 2 - 1), sigma, mode='constant', cval=0) * alpha\n",
        "\n",
        "    x, y = np.meshgrid(np.arange(shape[1]), np.arange(shape[0]))\n",
        "    indices = np.reshape(y + dy, (-1, 1)), np.reshape(x + dx, (-1, 1))\n",
        "\n",
        "    distorted_image1 = map_coordinates(image1, indices, order=1, mode='reflect').reshape(image1.shape)\n",
        "    distorted_image2 = map_coordinates(image2, indices, order=1, mode='reflect').reshape(image2.shape)\n",
        "\n",
        "    return distorted_image1, distorted_image2\n",
        "\n",
        "def random_erasing(image1, image2, p=0.5, sl=0.02, sh=0.4, r1=0.3, r2=3.3):\n",
        "    if np.random.rand() > p:\n",
        "        return image1, image2\n",
        "\n",
        "    img_h, img_w = image1.shape[:2]\n",
        "    area = img_h * img_w\n",
        "\n",
        "    target_area = np.random.uniform(sl, sh) * area\n",
        "    aspect_ratio = np.random.uniform(r1, r2)\n",
        "\n",
        "    h = int(round(np.sqrt(target_area * aspect_ratio)))\n",
        "    w = int(round(np.sqrt(target_area / aspect_ratio)))\n",
        "\n",
        "    if w < img_w and h < img_h:\n",
        "        x1 = np.random.randint(0, img_h - h)\n",
        "        y1 = np.random.randint(0, img_w - w)\n",
        "        image1_patch = np.random.rand(h, w) * 255\n",
        "        image2_patch = np.random.rand(h, w) * 255\n",
        "\n",
        "        image1[x1:x1 + h, y1:y1 + w] = image1_patch\n",
        "        image2[x1:x1 + h, y1:y1 + w] = image2_patch\n",
        "\n",
        "    return image1, image2\n",
        "\n",
        "\n",
        "def gamma_correction(image1, image2, gamma=1.0):\n",
        "    gamma_inv = 1.0 / gamma\n",
        "    table = np.array([((i / 255.0) ** gamma_inv) * 255 for i in np.arange(0, 256)]).astype('uint8')\n",
        "    return cv2.LUT(image1, table), cv2.LUT(image2, table)\n",
        "\n",
        "def brightness_adjustment(image1, image2, alpha=1.0, beta=0.0):\n",
        "    return cv2.convertScaleAbs(image1, alpha=alpha, beta=beta), cv2.convertScaleAbs(image2, alpha=alpha, beta=beta)\n",
        "\n",
        "def saturation_adjustment(image1, image2, alpha=1.0):\n",
        "    hsv1 = cv2.cvtColor(image1, cv2.COLOR_BGR2HSV)\n",
        "    hsv1[..., 1] = hsv1[..., 1] * alpha\n",
        "    image1 = cv2.cvtColor(hsv1, cv2.COLOR_HSV2BGR)\n",
        "\n",
        "    hsv2 = cv2.cvtColor(image2, cv2.COLOR_BGR2HSV)\n",
        "    hsv2[..., 1] = hsv2[..., 1] * alpha\n",
        "    image2 = cv2.cvtColor(hsv2, cv2.COLOR_HSV2BGR)\n",
        "\n",
        "    return image1, image2\n",
        "\n",
        "def contrast_adjustment(image1, image2, alpha=1.0):\n",
        "    image_gray1 = cv2.cvtColor(image1, cv2.COLOR_BGR2GRAY)\n",
        "    image_gray1 = (image_gray1 - image_gray1.mean()) * alpha + image_gray1.mean()\n",
        "    image1 = cv2.cvtColor(image_gray1, cv2.COLOR_GRAY2BGR)\n",
        "\n",
        "    image_gray2 = cv2.cvtColor(image2, cv2.COLOR_BGR2GRAY)\n",
        "    image_gray2 = (image_gray2 - image_gray2.mean()) * alpha + image_gray2.mean()\n",
        "    image2 = cv2.cvtColor(image_gray2, cv2.COLOR_GRAY2BGR)\n",
        "\n",
        "    return image1, image2\n",
        "\n",
        "def augment_image_pair(image1, image2):\n",
        "    # Generate random choice from 1 to 5\n",
        "    choice = np.random.randint(1, 5)\n",
        "\n",
        "    new_image1 = image1.copy()\n",
        "    new_image2 = image2.copy()\n",
        "\n",
        "    if choice == 1:\n",
        "        # Invert colors\n",
        "        new_image1, new_image2 = invert_colors(new_image1, new_image2)\n",
        "\n",
        "    elif choice == 2:\n",
        "        # Elastic distortion\n",
        "        new_image1, new_image2 = elastic_distortion(new_image1, new_image2, alpha_range=30, sigma=5)\n",
        "\n",
        "    elif choice == 3:\n",
        "        # Gamma correction\n",
        "        gamma = np.random.uniform(0.5, 2.0)\n",
        "        new_image1, new_image2 = gamma_correction(new_image1, new_image2, gamma)\n",
        "\n",
        "    elif choice == 4:\n",
        "        # Brightness adjustment\n",
        "        alpha = np.random.uniform(0.8, 1.2)\n",
        "        beta = np.random.uniform(-20, 20)\n",
        "        new_image1, new_image2 = brightness_adjustment(new_image1, new_image2, alpha, beta)\n",
        "\n",
        "    return new_image1, new_image2"
      ]
    },
    {
      "cell_type": "code",
      "execution_count": 4,
      "metadata": {},
      "outputs": [],
      "source": [
        "def generate_perturbations_new(image, stride, shape, im_range):\n",
        "    pass"
      ]
    },
    {
      "cell_type": "code",
      "execution_count": 5,
      "metadata": {
        "id": "dY4k2la_m8Ht"
      },
      "outputs": [],
      "source": [
        "def generate_translation_matrices(image_size, stride, im_range):\n",
        "\n",
        "    # Generate all the translations in x and y directions\n",
        "\n",
        "    translations_x, translations_y = tf.meshgrid(tf.range(-image_size/2/im_range, image_size/2/im_range, stride),\n",
        "                                                 tf.range(-image_size/2/im_range, image_size/2/im_range, stride))\n",
        "    # Convert the translations to float32\n",
        "    translations_x = tf.cast(translations_x, tf.float32)\n",
        "    translations_y = tf.cast(translations_y, tf.float32)\n",
        "\n",
        "    # Reshape the translations to be able to concatenate them\n",
        "    translations_x = tf.reshape(translations_x, [-1, 1])\n",
        "    translations_y = tf.reshape(translations_y, [-1, 1])\n",
        "\n",
        "    # Create the 2D affine matrix for all translations\n",
        "    num_matrices = tf.size(translations_x)\n",
        "    ones = tf.ones((num_matrices, 1), dtype=tf.float32)\n",
        "    zeros = tf.zeros((num_matrices, 1), dtype=tf.float32)\n",
        "\n",
        "    matrices = tf.concat([ones, zeros, translations_x, zeros, ones, translations_y, zeros, zeros], axis=1)\n",
        "\n",
        "    return matrices"
      ]
    },
    {
      "cell_type": "code",
      "execution_count": 6,
      "metadata": {
        "id": "r2g841hXnNSQ"
      },
      "outputs": [],
      "source": [
        "def prepare_image_for_transform(image, num_transforms):\n",
        "    image = tf.expand_dims(image, axis=0)  # Add batch dimension\n",
        "    image = tf.tile(image, [num_transforms, 1, 1])  # Repeat the image for all transformations\n",
        "    return image"
      ]
    },
    {
      "cell_type": "code",
      "execution_count": 7,
      "metadata": {
        "id": "kx71id2RnQHS"
      },
      "outputs": [],
      "source": [
        "def apply_all_transforms(image, matrices):\n",
        "    # Prepare the image for transformation\n",
        "    num_transforms = tf.shape(matrices)[0]\n",
        "    image_shape = tf.shape(image)\n",
        "    image = prepare_image_for_transform(image, num_transforms)\n",
        "    image = tf.expand_dims(image, axis=-1)\n",
        "    # Apply all transforms\n",
        "    transformed_images = tf.raw_ops.ImageProjectiveTransformV3(images=image,\n",
        "                                                               transforms=matrices,\n",
        "                                                               output_shape=image_shape,\n",
        "                                                               interpolation='NEAREST',\n",
        "                                                               fill_value=0.0)\n",
        "    return transformed_images.numpy()"
      ]
    },
    {
      "cell_type": "code",
      "execution_count": 8,
      "metadata": {
        "id": "wEE0f-QrnYy1"
      },
      "outputs": [],
      "source": [
        "def generate_perturbations(image, stride, shape, im_range):\n",
        "    # Generate all the transformations\n",
        "    matrices = generate_translation_matrices(shape, stride, im_range)\n",
        "    # Apply all the transformations\n",
        "    transformed_images = apply_all_transforms(image, matrices)\n",
        "    # Return the transformations\n",
        "    return transformed_images"
      ]
    },
    {
      "cell_type": "code",
      "execution_count": 9,
      "metadata": {
        "id": "-F9mENsEndpi"
      },
      "outputs": [],
      "source": [
        "def mse(imageA, imageB):\n",
        "    err = np.sum((imageA - imageB) ** 2)\n",
        "    err /= float(imageA.shape[0] * imageA.shape[1])\n",
        "    # return the MSE, the lower the error, the more 'similar'\n",
        "    return err"
      ]
    },
    {
      "cell_type": "code",
      "execution_count": 10,
      "metadata": {
        "id": "hGXL-iaSng9W"
      },
      "outputs": [],
      "source": [
        "def compare_images(imageA, imageB):\n",
        "    imageA = imageA.numpy()\n",
        "    imageA = imageA.astype('float') / 255.0\n",
        "    imageB = imageB.astype('float') / 255.0\n",
        "\n",
        "    m = mse(imageA, imageB)\n",
        "    s = metrics.structural_similarity(imageA, imageB, data_range=imageA.max() - imageA.min())\n",
        "    s_percentage = (s + 1) / 2 * 100\n",
        "\n",
        "    return m, s_percentage"
      ]
    },
    {
      "cell_type": "code",
      "execution_count": 11,
      "metadata": {
        "id": "Ya8tKiIjnlPd"
      },
      "outputs": [],
      "source": [
        "# Assumes the patch consists of last 2 dimensions\n",
        "\n",
        "def get_LBM(x):\n",
        "    n_row = x.shape[-2]\n",
        "    n_col = x.shape[-1]\n",
        "\n",
        "    # Convert the patches to column vectors\n",
        "    x_col_shape = tf.shape(x).numpy()\n",
        "    x_col_shape[-2] = n_row * n_col\n",
        "    x_col_shape[-1] = 1\n",
        "    x_col = tf.reshape(x, x_col_shape)\n",
        "    x_col = tf.cast(x_col, tf.float32)\n",
        "    # print('x_col.shape', x_col.shape)\n",
        "\n",
        "    # Convert the patches to row vectors\n",
        "    x_row_shape = tf.shape(x).numpy()\n",
        "    x_row_shape[-2] = 1\n",
        "    x_row_shape[-1] = n_row * n_col\n",
        "    x_row = tf.reshape(x, x_row_shape)\n",
        "    x_row = tf.cast(x_row, tf.float32)\n",
        "    # print('x_row.shape', x_row.shape)\n",
        "\n",
        "    # Calculate the AdjM\n",
        "    sqr_diff = tf.math.sqrt(tf.math.abs(x_col - x_row))\n",
        "    # print('sqr_diff.shape', sqr_diff.shape)\n",
        "\n",
        "    Dismean = np.zeros([n_row * n_col, 2])\n",
        "    i = np.broadcast_to(np.arange(n_row).reshape([n_row, 1]), [n_row, n_col]).reshape(n_row * n_col)\n",
        "    j = np.broadcast_to(np.arange(n_col).reshape([1, n_col]), [n_row, n_col]).reshape(n_row * n_col)\n",
        "\n",
        "    Dismean[:, 0] = i\n",
        "    Dismean[:, 1] = j\n",
        "    # print('Dis')\n",
        "    # print(Dismean)\n",
        "\n",
        "    E = scipy.spatial.distance.cdist(Dismean, Dismean, 'euclidean')\n",
        "    E = E + np.identity(n_row * n_col)\n",
        "    # print('E.shape', E.shape)\n",
        "    # print(E[:, 0])\n",
        "\n",
        "    AdjM = tf.divide(sqr_diff, E)\n",
        "    # print('AdjM')\n",
        "    # print(AdjM.shape)\n",
        "\n",
        "    # Sum the rows or cols of the AdjM (AdjM is symmetric so anything works)\n",
        "    sum_AdjM = tf.reduce_sum(AdjM, axis=-1)  # Sum cols\n",
        "    # print('sum_AdjM.shape', sum_AdjM.shape)\n",
        "    # print(sum_AdjM[0])\n",
        "\n",
        "    diagonal = tf.linalg.diag(sum_AdjM)\n",
        "    # print('diagonal.shape', diagonal.shape)\n",
        "\n",
        "    # LBM\n",
        "    LBM = AdjM - diagonal\n",
        "    # print('LBM.shape', LBM.shape)\n",
        "\n",
        "    return tf.cast(LBM, tf.float32)"
      ]
    },
    {
      "cell_type": "code",
      "execution_count": 12,
      "metadata": {
        "id": "f3GNAKjdn4q9"
      },
      "outputs": [],
      "source": [
        "class SVLayer(layers.Layer):\n",
        "\n",
        "    def __init__(self, patch_size, stride, patch_size_2, stride_2, **kwargs):\n",
        "        super(SVLayer, self).__init__(**kwargs)\n",
        "        self.patch_size = patch_size\n",
        "        self.stride = stride\n",
        "\n",
        "        self.patch_size_2 = patch_size_2\n",
        "        self.stride_2 = stride_2\n",
        "\n",
        "    def call(self, inputs):\n",
        "        n_images = inputs.shape[0]\n",
        "        # print('input', inputs.shape)\n",
        "\n",
        "        # Get BIG patches from the input batch of images\n",
        "        big_patches = tf.image.extract_patches(inputs, sizes=[1, self.patch_size, self.patch_size, 1],\n",
        "                                               strides=[1, self.stride, self.stride, 1], rates=[1, 1, 1, 1],\n",
        "                                               padding='VALID')\n",
        "\n",
        "        # print('big_patches.shape', big_patches.shape)\n",
        "        _, n_big_row, n_big_col, _ = big_patches.shape\n",
        "        n_big = n_big_row * n_big_col  # No. of big patches\n",
        "\n",
        "        ## tf.extract_image_patches flattens the patch in extraction.\n",
        "        ## We have to reshape the patches to (patch_size x patch_size) reshape\n",
        "        big_patches = tf.reshape(big_patches,\n",
        "                                 (n_images, n_big, self.patch_size, self.patch_size))\n",
        "\n",
        "        # print('big_patches.shape before transpose', big_patches.shape)  ###input_patches_reshape.shape (None, 3, 3, 5, 5)\n",
        "        big_patches = tf.transpose(big_patches, [0, 2, 3, 1])\n",
        "        # print('big_patches.shape after transpose', big_patches.shape)  ###input_patches_reshape.shape (None, 3, 3, 5, 5)\n",
        "\n",
        "        ## Now we need to extract smaller patches from the above big patch\n",
        "        small_patches = tf.image.extract_patches(big_patches, sizes=[1, self.patch_size_2, self.patch_size_2, 1], \\\n",
        "                                                 strides=[1, self.stride_2, self.stride_2, 1],\n",
        "                                                 rates=[1, 1, 1, 1], padding='VALID')\n",
        "\n",
        "        _, n_small_row, n_small_col, _ = small_patches.shape\n",
        "        n_small = n_small_row * n_small_col  # No. of small patches\n",
        "        # print('small_patches.shape', small_patches.shape)\n",
        "\n",
        "        # The last axis contains the small_patch at a particular posiiton for each of the n_big big_patches\n",
        "        # and there are n_small positons.\n",
        "        # So we need to breack the last axis into pieces of size = self.patch_size_2 ** 2\n",
        "\n",
        "        small_patches = tf.reshape(small_patches,\n",
        "                                   (n_images, n_small_row, n_small_col, self.patch_size_2 * self.patch_size_2, n_big))\n",
        "        small_patches = tf.reshape(small_patches, (\n",
        "        n_images, n_small_row, n_small_col, self.patch_size_2, self.patch_size_2, n_big_row, n_big_col))\n",
        "        # print('small_patches.shape before transpose', small_patches.shape)\n",
        "\n",
        "        small_patches = tf.transpose(small_patches, [0, 5, 6, 1, 2, 3, 4])\n",
        "        # print('small_patches.shape after transpose', small_patches.shape)\n",
        "\n",
        "        # Make the aggregate patch by averaging the small patches\n",
        "        # There is one aggregate patch for each big patch\n",
        "\n",
        "        agg_patches = tf.math.reduce_mean(small_patches, axis=(5, 6))\n",
        "        agg_patches = tf.cast(agg_patches, tf.float32)\n",
        "        # print('agg_patches.shape', agg_patches.shape)\n",
        "\n",
        "        agg_patches = tf.reshape(agg_patches, (n_images, n_big_row, n_big_col, n_small_row, n_small_col))\n",
        "        #print('agg_patches.shape', agg_patches.shape)\n",
        "\n",
        "        agg_LBM = get_LBM(agg_patches)\n",
        "        agg_sv, agg_eigvecs = tf.linalg.eigh(agg_LBM)  # Trunk eigenvalue vec\n",
        "\n",
        "        # Calculate the sampler vector of small_patches\n",
        "        small_LBM = get_LBM(small_patches)\n",
        "        small_sv, small_eigvecs = tf.linalg.eigh(small_LBM)\n",
        "\n",
        "        # Replicate the aggregaate patches for each of the small patch\n",
        "        agg_sv = tf.expand_dims(agg_sv, axis=3)\n",
        "        agg_sv = tf.expand_dims(agg_sv, axis=3)\n",
        "        agg_sv = tf.repeat(agg_sv, repeats=n_small_row, axis=3)\n",
        "        agg_sv = tf.repeat(agg_sv, repeats=n_small_col, axis=4)\n",
        "\n",
        "        # Concatenate the aggeregate SVs and small SVs\n",
        "        sv = tf.concat([agg_sv, small_sv], axis=-1)\n",
        "        #print('sv.shape', sv.shape)\n",
        "\n",
        "        return sv"
      ]
    },
    {
      "cell_type": "code",
      "execution_count": 13,
      "metadata": {},
      "outputs": [],
      "source": [
        "def get_similarities(input_images, transformed_images, params):\n",
        "\n",
        "    NUM_PATCHES = params['NUM_PATCHES']\n",
        "    NUM_IMAGES = params['NUM_IMAGES']\n",
        "    PATCH_SIZE = params['PATCH_SIZE']\n",
        "    STRIDE = params['STRIDE']\n",
        "    PATCH_SIZE_2 = params['PATCH_SIZE_2']\n",
        "    STRIDE_2 = params['STRIDE_2']\n",
        "    BIG_PATCHES = params['BIG_PATCHES']\n",
        "    SMALL_PATCHES = params['SMALL_PATCHES']\n",
        "    CORRECTION = params['CORRECTION']\n",
        "\n",
        "    similarities = np.zeros((NUM_PATCHES, NUM_PATCHES), dtype=np.float32)\n",
        "\n",
        "    for i in tqdm(range(len(input_images)), desc='Similarity Calculation', bar_format='{l_bar}{bar}|'):\n",
        "\n",
        "        tf.keras.backend.clear_session()\n",
        "\n",
        "        model = models.Sequential()\n",
        "        model.add(SVLayer(PATCH_SIZE, STRIDE, PATCH_SIZE_2, STRIDE_2))\n",
        "        single_img = input_images[i]\n",
        "        single_img = tf.expand_dims(single_img, axis=(0))\n",
        "        expanded_original_img = tf.expand_dims(single_img, axis=(3))\n",
        "\n",
        "        original_eigvals = model(expanded_original_img)\n",
        "\n",
        "        # original_eigvals = original_eigvals[0, :, :, :]\n",
        "\n",
        "        # Convert to unit vector\n",
        "        # print('original_eigvals_x', original_eigvals.shape)\n",
        "\n",
        "        original_eigvals = original_eigvals / (\n",
        "                    np.sqrt(np.sum(original_eigvals ** 2, axis=(5), keepdims=True)) + CORRECTION)\n",
        "\n",
        "        # print('original_eigvals', original_eigvals.shape)\n",
        "\n",
        "        # Generate eigenvalues for the rotated image\n",
        "        single_rotated_img = transformed_images[i]\n",
        "        single_rotated_img = tf.expand_dims(single_rotated_img, axis=(0))\n",
        "        expanded_rotated_img = tf.expand_dims(single_rotated_img, axis=(3))\n",
        "        rotated_eigvals = model(expanded_rotated_img)\n",
        "        # rotated_eigvals = rotated_eigvals[0, :, :, :]\n",
        "\n",
        "        # Convert to unit vector\n",
        "        rotated_eigvals = rotated_eigvals / (\n",
        "                    np.sqrt(np.sum(rotated_eigvals ** 2, axis=(5), keepdims=True)) + CORRECTION)\n",
        "\n",
        "        original_eigvals = np.reshape(original_eigvals,\n",
        "                                        (BIG_PATCHES * SMALL_PATCHES, original_eigvals.shape[-1]))\n",
        "\n",
        "        rotated_eigvals = np.reshape(rotated_eigvals, (BIG_PATCHES * SMALL_PATCHES, rotated_eigvals.shape[-1]))\n",
        "\n",
        "        similarities += np.matmul(original_eigvals, rotated_eigvals.T)\n",
        "\n",
        "        #print('ss', similarities.shape)\n",
        "\n",
        "    tf.keras.backend.clear_session()\n",
        "    return similarities"
      ]
    },
    {
      "cell_type": "code",
      "execution_count": 14,
      "metadata": {},
      "outputs": [],
      "source": [
        "def imshow(img):\n",
        "    import IPython\n",
        "    _,ret = cv2.imencode('.jpg', img) \n",
        "    i = IPython.display.Image(data=ret)\n",
        "    IPython.display.display(i)"
      ]
    },
    {
      "cell_type": "code",
      "execution_count": 15,
      "metadata": {},
      "outputs": [],
      "source": [
        "# 2. Generate the Mapping between Patches of original and new image\n",
        "\n",
        "def get_mapping(similarities):\n",
        "\n",
        "    # 1. Calculate row-wise softmax, to interpret the similarities as probabilities\n",
        "    soft_similarities = tf.nn.softmax(similarities, axis=1)\n",
        "\n",
        "    # 2. Sort rows according to entropy\n",
        "    sorted_entropy_idx = np.argsort(- tf.math.reduce_sum(soft_similarities * np.log(soft_similarities + CORRECTION), axis=1))\n",
        "    # print('entropy_idx', sorted_entropy_idx)\n",
        "\n",
        "    # 3. Generate mapping\n",
        "\n",
        "    # Select the most probable matching rotated patch for each row (original patch)\n",
        "    # starting from the row with least entropy (most confident)\n",
        "\n",
        "    bool_mapping = np.zeros_like(similarities,dtype=np.uint8)\n",
        "    #print('bool_mapping', bool_mapping.shape)\n",
        "    frozen = np.ones((similarities.shape[1]), dtype=np.uint8)\n",
        "\n",
        "    #print('frozen', frozen.shape)\n",
        "\n",
        "    for original_patch in tqdm(sorted_entropy_idx, desc='Patch Mapping', bar_format='{l_bar}{bar}|'):\n",
        "        # print('original_patch', original_patch)\n",
        "\n",
        "        similarity = soft_similarities[original_patch]\n",
        "        similarity = np.multiply(frozen, similarity)\n",
        "        # print('similarity', similarity, similarity.max(), similarity.argmax())\n",
        "\n",
        "        sorted_similarity_idx = np.argsort(-similarity)  # Sort in Descending order\n",
        "        # print('sorted_similarity_idx', sorted_similarity_idx)\n",
        "\n",
        "        #i = 0\n",
        "\n",
        "        #matching_rotated_patch = sorted_similarity_idx[i]\n",
        "        #while frozen[matching_rotated_patch] == 1:\n",
        "        #    i += 1\n",
        "        #    matching_rotated_patch = sorted_similarity_idx[i]\n",
        "\n",
        "        frozen[sorted_similarity_idx[0]] = 0\n",
        "        # print('matching_rotated_patch', matching_rotated_patch)\n",
        "        bool_mapping[original_patch, sorted_similarity_idx[0]] = 1\n",
        "\n",
        "    mapping = np.argmax(bool_mapping, axis=1)\n",
        "\n",
        "    return mapping"
      ]
    },
    {
      "cell_type": "code",
      "execution_count": 16,
      "metadata": {},
      "outputs": [],
      "source": [
        "def apply_mapping(input_img, mapping, params):\n",
        "\n",
        "    output_img = np.zeros_like(input_img)\n",
        "    NUM_PATCHES = params['NUM_PATCHES']\n",
        "\n",
        "    BIG_X_PATCHES = params['BIG_X_PATCHES']\n",
        "    BIG_Y_PATCHES = params['BIG_Y_PATCHES']\n",
        "\n",
        "    SMALL_X_PATCHES = params['SMALL_X_PATCHES']\n",
        "    SMALL_Y_PATCHES = params['SMALL_Y_PATCHES']\n",
        "\n",
        "    SMALL_PATCHES = params['SMALL_PATCHES']\n",
        "\n",
        "    PATCH_SIZE = params['PATCH_SIZE']\n",
        "    PATCH_SIZE_2 = params['PATCH_SIZE_2']\n",
        "\n",
        "    STRIDE = params['STRIDE']\n",
        "    STRIDE_2 = params['STRIDE_2']\n",
        "\n",
        "    for in_idx in range(NUM_PATCHES):\n",
        "        # Calculate the start and end rows and columns of patch in input image\n",
        "        big_in_idx = in_idx // SMALL_PATCHES\n",
        "\n",
        "        big_in_row = big_in_idx // BIG_Y_PATCHES\n",
        "        big_in_col = big_in_idx % BIG_Y_PATCHES\n",
        "\n",
        "        small_in_idx = in_idx % SMALL_PATCHES\n",
        "\n",
        "        small_in_row = small_in_idx // SMALL_Y_PATCHES\n",
        "        small_in_col = small_in_idx % SMALL_Y_PATCHES\n",
        "\n",
        "        in_row_start = big_in_row * STRIDE + small_in_row * STRIDE_2\n",
        "        in_row_end = in_row_start + PATCH_SIZE_2\n",
        "        in_col_start = big_in_col * STRIDE + small_in_col * STRIDE_2\n",
        "        in_col_end = in_col_start + PATCH_SIZE_2\n",
        "\n",
        "        # Calculate the start and end rows and columns of patch in mapped image\n",
        "        out_idx = mapping[in_idx]\n",
        "\n",
        "        big_out_idx = out_idx // SMALL_PATCHES\n",
        "        big_out_row = big_out_idx // BIG_Y_PATCHES\n",
        "        big_out_col = big_out_idx % BIG_Y_PATCHES\n",
        "\n",
        "        small_out_idx = out_idx % SMALL_PATCHES\n",
        "        small_out_row = small_out_idx // SMALL_Y_PATCHES\n",
        "        small_out_col = small_out_idx % SMALL_Y_PATCHES\n",
        "\n",
        "        out_row_start = big_out_row * STRIDE + small_out_row * STRIDE_2\n",
        "        out_row_end = out_row_start + PATCH_SIZE_2\n",
        "        out_col_start = big_out_col * STRIDE + small_out_col * STRIDE_2\n",
        "        out_col_end = out_col_start + PATCH_SIZE_2\n",
        "        output_img[out_row_start:out_row_end, out_col_start:out_col_end] = input_img[in_row_start:in_row_end, in_col_start:in_col_end]\n",
        "\n",
        "    return output_img"
      ]
    },
    {
      "cell_type": "code",
      "execution_count": 17,
      "metadata": {},
      "outputs": [],
      "source": [
        "def generate_augmentations_for_image_pair(image1, image2, number_of_augmentations: int) -> tuple:\n",
        "    augmented_image1s = []\n",
        "    augmented_image2s = []\n",
        "\n",
        "    for i in tqdm(range(number_of_augmentations), desc='Image Augmentation', bar_format='{l_bar}{bar}|'):\n",
        "        augmented_image1, augmented_image2 = augment_image_pair(image1, image2)\n",
        "        augmented_image1s.append(augmented_image1)\n",
        "        augmented_image2s.append(augmented_image2)\n",
        "\n",
        "    return augmented_image1s, augmented_image2s"
      ]
    },
    {
      "cell_type": "code",
      "execution_count": 18,
      "metadata": {},
      "outputs": [],
      "source": [
        "def generate_mapping_for_augmented_image_pair(augmented_image1s, augmented_image2s, params):\n",
        "    similarities = get_similarities(augmented_image1s, augmented_image2s, params)\n",
        "    mapping = get_mapping(similarities)\n",
        "    return mapping      "
      ]
    },
    {
      "cell_type": "code",
      "execution_count": 19,
      "metadata": {},
      "outputs": [],
      "source": [
        "def generate_mapping_for_image_pair(image1, image2, params, number_of_augmentation=200):\n",
        "    augmented_image1s, augmented_image2s = generate_augmentations_for_image_pair(image1, image2, number_of_augmentation)\n",
        "    mapping = generate_mapping_for_augmented_image_pair(augmented_image1s, augmented_image2s, params)\n",
        "    return mapping"
      ]
    },
    {
      "cell_type": "code",
      "execution_count": 43,
      "metadata": {},
      "outputs": [],
      "source": [
        "def display_results_for_single_image(input, predicted, expected, params):\n",
        "    \n",
        "    SCALE = params['SCALE']\n",
        "    NUM_IMAGES = params['NUM_IMAGES']\n",
        "    TRAIN_CLASS = params['TRAIN_CLASS']\n",
        "    FINAL_TEST_CLASS = params['TEST_CLASS']\n",
        "    NUM_PATCHES = params['NUM_PATCHES']\n",
        "\n",
        "    # Display result of transformation\n",
        "    result_fig = plt.figure()\n",
        "\n",
        "    result_fig.add_subplot(2, 3, 1)\n",
        "    input = tf.squeeze(input)\n",
        "    plt.imshow(input)\n",
        "    plt.axis('off')\n",
        "    plt.title('Input Image')\n",
        "\n",
        "    result_fig.add_subplot(2, 3, 2)\n",
        "    predicted = tf.squeeze(predicted)\n",
        "    plt.imshow(predicted)\n",
        "    plt.axis('off')\n",
        "    plt.title('Predicted')\n",
        "\n",
        "    # Filter images\n",
        "\n",
        "    filter_img = ndimage.grey_opening(predicted, size=(5, 5))\n",
        "    filter_img = ndimage.grey_closing(filter_img, size=(5, 5))\n",
        "\n",
        "    result_fig.add_subplot(2, 3, 3)\n",
        "    plt.imshow(filter_img)\n",
        "    plt.axis('off')\n",
        "    plt.title('Filtered')\n",
        "\n",
        "    mse_val, ssim_val = compare_images(predicted, expected)\n",
        "\n",
        "    plot_data = {\n",
        "        'SCALE': [SCALE],\n",
        "        'NUM_IMAGES': [NUM_IMAGES],\n",
        "        'TRAIN_CLASS': [TRAIN_CLASS],\n",
        "        'TEST_CLASS': [FINAL_TEST_CLASS],\n",
        "        'NUM_PATCHES': [NUM_PATCHES],\n",
        "        'PREDICTION MSE': [f'{mse_val:.2f}'],\n",
        "        'PREDICTION SIMILARITY (%)': [f'{ssim_val:.2f}']\n",
        "    }\n",
        "\n",
        "    table_data = [plot_data[key] for key in plot_data]\n",
        "    table_columns = list(plot_data.keys())\n",
        "\n",
        "    ax_table = result_fig.add_subplot(2, 3, 5)\n",
        "    table = ax_table.table(cellText=table_data, rowLabels=table_columns, loc='center')\n",
        "    ax_table.axis('off')\n",
        "\n",
        "    result_fig.add_subplot(2, 3, 6)\n",
        "    expected = tf.squeeze(expected)\n",
        "\n",
        "    plt.imshow(expected)\n",
        "    plt.axis('off')\n",
        "    plt.title('Expected')\n",
        "    plt.show()"
      ]
    },
    {
      "cell_type": "code",
      "execution_count": 20,
      "metadata": {
        "colab": {
          "base_uri": "https://localhost:8080/",
          "height": 140
        },
        "id": "juWJd1WaoXvC",
        "outputId": "bf80b7f2-bc5d-40ee-baa0-d7b67d3fc4b7"
      },
      "outputs": [
        {
          "name": "stdout",
          "output_type": "stream",
          "text": [
            "NUM IMAGES GENERATED:  784\n",
            "train_images.shape (200, 28, 28)\n",
            "train_images.shape (784, 28, 28, 1)\n",
            "train_images.shape (784, 336, 336, 1)\n"
          ]
        },
        {
          "data": {
            "text/plain": [
              "<Figure size 1280x2048 with 0 Axes>"
            ]
          },
          "metadata": {},
          "output_type": "display_data"
        }
      ],
      "source": [
        "# Load MNIST datasets provided by TensorFlow\n",
        "(train_images, train_labels), (_, _) = datasets.mnist.load_data()\n",
        "\n",
        "NUM_TRAIN, H, W = train_images.shape\n",
        "# NUM_TEST, _, _ = test_images.shape\n",
        "NUM_CLASSES = np.max(train_labels) + 1\n",
        "\n",
        "NUM_IMAGES = 200  # No. images per class\n",
        "FINAL_TEST_CLASS = 8\n",
        "SCALE = int(12 * 28 / H)\n",
        "new_train_images = []\n",
        "new_train_labels = []\n",
        "TRAIN_CLASS = 2\n",
        "class_images = train_images[train_labels == TRAIN_CLASS][:NUM_IMAGES]\n",
        "class_labels = train_labels[train_labels == TRAIN_CLASS][:NUM_IMAGES]\n",
        "new_train_images.append(class_images)\n",
        "new_train_labels.append(class_labels)\n",
        "\n",
        "#DO THIS HERE BECAUSE WE CHANGE THE SHAPE OF train_images AND THEN IT DOESN'T WORK\n",
        "input_image = ndimage.zoom(train_images[train_labels == FINAL_TEST_CLASS][0].reshape((-1, H, W, 1)),\n",
        "                           zoom=[1, SCALE, SCALE, 1])\n",
        "\n",
        "new_train_images = np.concatenate(new_train_images, axis=0)\n",
        "new_train_labels = np.concatenate(new_train_labels, axis=0)\n",
        "\n",
        "train_images = new_train_images\n",
        "train_labels = new_train_labels\n",
        "\n",
        "stride   = 1\n",
        "im_range = 1  # Only cover half  the image (1/4 on each side)\n",
        "NUM_IMAGES = int(np.ceil(H / stride / im_range) * np.ceil(H / stride / im_range))\n",
        "print('NUM IMAGES GENERATED: ', NUM_IMAGES)\n",
        "\n",
        "print('train_images.shape', train_images.shape)\n",
        "train_images = generate_perturbations(train_images[0], stride, H, im_range)\n",
        "print('train_images.shape', train_images.shape)\n",
        "train_images = ndimage.zoom(train_images.reshape((-1, H, W, 1)), zoom=[1, SCALE, SCALE, 1]) # TIME EATER\n",
        "print('train_images.shape', train_images.shape)\n",
        "# test_images = ndimage.zoom(test_images.reshape((NUM_TEST, H, W, 1)), zoom=[1, SCALE, SCALE, 1])\n",
        "original_imgs = np.squeeze(train_images)\n",
        "H = int(H * SCALE)\n",
        "W = int(W * SCALE)\n",
        "# Check initial images\n",
        "initial_fig = plt.figure(figsize=(10, 16), dpi=128)"
      ]
    },
    {
      "cell_type": "code",
      "execution_count": 21,
      "metadata": {
        "colab": {
          "base_uri": "https://localhost:8080/",
          "height": 122
        },
        "id": "YDGfVGXso4qP",
        "outputId": "505bb1ac-2565-4719-8433-c40886b02039"
      },
      "outputs": [
        {
          "name": "stdout",
          "output_type": "stream",
          "text": [
            "original_imgs (784, 336, 336)\n"
          ]
        },
        {
          "data": {
            "text/plain": [
              "<Figure size 1600x3200 with 0 Axes>"
            ]
          },
          "metadata": {},
          "output_type": "display_data"
        }
      ],
      "source": [
        "# Rotation Experiment\n",
        "# Given multiple pairs of images, generate a mapping using some similarity measure\n",
        "# applied to eigvectors of LBM of patches of the two images\n",
        "\n",
        "# 1. Get an image of class == TEST_CLASS and rotate a copy of it\n",
        "#TEST_CLASS = 3\n",
        "#original_imgs = np.squeeze(train_images[train_labels == TEST_CLASS][:NUM_IMAGES])\n",
        "\n",
        "if NUM_IMAGES == 1:\n",
        "    original_imgs = np.expand_dims(original_imgs, axis=0)\n",
        "\n",
        "print('original_imgs', original_imgs.shape)  # original_imgs (20, 336, 336)\n",
        "\n",
        "rotation_angle = 45\n",
        "translation_x = 0\n",
        "translation_y = 0\n",
        "\n",
        "rotation_angle = np.deg2rad(rotation_angle)\n",
        "array_shape = original_imgs[0].shape\n",
        "center = np.array(array_shape) / 2.0 - 0.5\n",
        "translate_to_origin = np.array([\n",
        "    [1, 0, -center[1]],\n",
        "    [0, 1, -center[0]],\n",
        "    [0, 0, 1]\n",
        "])\n",
        "\n",
        "rotation = np.array([\n",
        "    [np.cos(rotation_angle), -np.sin(rotation_angle),  0],\n",
        "    [np.sin(rotation_angle),  np.cos(rotation_angle),  0],\n",
        "    [                     0,                       0,  1]\n",
        "])\n",
        "\n",
        "translate_back = np.array([\n",
        "    [1, 0, center[1] + translation_x],\n",
        "    [0, 1, center[0] + translation_y],\n",
        "    [0, 0, 1]\n",
        "])\n",
        "\n",
        "transform = np.dot(translate_back, np.dot(rotation, translate_to_origin))\n",
        "rotated_imgs = []\n",
        "\n",
        "for i in range(NUM_IMAGES):\n",
        "    original_img = original_imgs[i]\n",
        "    # print('original_img', original_img.shape)\n",
        "    # Control23 ????\n",
        "    array = np.array(original_img)\n",
        "    # height, width = array.shape[1,2]\n",
        "    # print('array.shape',array.shape)\n",
        "\n",
        "    rotated_img = ndimage.affine_transform(array,\n",
        "                                           transform,\n",
        "                                           output_shape=(SCALE * 28, SCALE * 28),\n",
        "                                           mode='nearest',\n",
        "                                           cval=0.0)\n",
        "    rotated_imgs.append(rotated_img)\n",
        "\n",
        "# np.array([ndimage.rotate(original_img, ROTATION, reshape=False, cval=0) for original_img in original_img])\n",
        "# print('rotated_imgs', rotated_imgs.shape)\n",
        "\n",
        "input_img_fig = plt.figure(figsize=(16, 32), dpi=100)"
      ]
    },
    {
      "cell_type": "code",
      "execution_count": 22,
      "metadata": {
        "colab": {
          "base_uri": "https://localhost:8080/"
        },
        "id": "_MfR7PmPqOey",
        "outputId": "023099d1-51fa-4870-a487-0bcc390d81af"
      },
      "outputs": [
        {
          "name": "stdout",
          "output_type": "stream",
          "text": [
            "H, W: 336 336\n"
          ]
        }
      ],
      "source": [
        "CORRECTION = 1e-8\n",
        "PATCH_SIZE = 8  # To Match original SV implementation this patch size must be original patch size\n",
        "STRIDE = 4\n",
        "\n",
        "PATCH_SIZE_2 = 4  # this patch size must be same as above and stride = 1 (stride doesnt matter because patch sizes are same as big patches)\n",
        "STRIDE_2 = 4\n",
        "\n",
        "print('H, W:', H, W)\n",
        "\n",
        "BIG_X_PATCHES = (H - PATCH_SIZE) // STRIDE + 1\n",
        "BIG_Y_PATCHES = (W - PATCH_SIZE) // STRIDE + 1\n",
        "\n",
        "BIG_PATCHES = BIG_X_PATCHES * BIG_Y_PATCHES\n",
        "\n",
        "SMALL_X_PATCHES = (PATCH_SIZE - PATCH_SIZE_2) // STRIDE_2 + 1\n",
        "SMALL_Y_PATCHES = (PATCH_SIZE - PATCH_SIZE_2) // STRIDE_2 + 1\n",
        "\n",
        "SMALL_PATCHES = SMALL_X_PATCHES * SMALL_Y_PATCHES\n",
        "\n",
        "NUM_PATCHES = BIG_PATCHES * SMALL_PATCHES\n",
        "\n",
        "#######print('BIG_PATCHES: ', BIG_PATCHES)\n",
        "#######print('SMALL_PATCHES: ', SMALL_PATCHES)\n",
        "#######print('NUM_PATCHES: ', NUM_PATCHES)"
      ]
    },
    {
      "cell_type": "code",
      "execution_count": null,
      "metadata": {
        "colab": {
          "base_uri": "https://localhost:8080/",
          "height": 245
        },
        "id": "FK-ptR7nrB_n",
        "outputId": "4ea15d6c-a20d-4f99-b156-873c6b960d06"
      },
      "outputs": [],
      "source": [
        "# A. Find eigen values for each patch in original and rotated image\n",
        "\n",
        "# Generate eigenvalues for the original image\n",
        "# print('rotated_eigvals', rotated_eigvals.shape)\n",
        "\n",
        "#get frames from video\n",
        "frames = extract_frames('cheetah.mp4')\n",
        "grayscale_frames = [cv2.cvtColor(frame, cv2.COLOR_BGR2GRAY) for frame in frames]\n",
        "resized_frames = [cv2.resize(frame, (336, 336)) for frame in grayscale_frames]\n",
        "\n",
        "\n",
        "# for i in range(3,21):\n",
        "#     current_frame = resized_frames[i]\n",
        "#     #save frame as png\n",
        "#     cv2.imwrite(f'frame{i}.png', current_frame)\n",
        "\n",
        "#load clear frames into memory\n",
        "clear_frames = [cv2.imread(f'frame{i}-clear.png', cv2.IMREAD_GRAYSCALE) for i in range(1,21)]\n",
        "\n",
        "frame1 = clear_frames[0]\n",
        "frame2 = clear_frames[1]"
      ]
    },
    {
      "cell_type": "code",
      "execution_count": 68,
      "metadata": {},
      "outputs": [],
      "source": [
        "# extract frames\n",
        "frames = extract_frames('cheetah.mp4')\n",
        "# make grayscale\n",
        "grayscale_frames = [cv2.cvtColor(frame, cv2.COLOR_BGR2GRAY) for frame in frames]\n",
        "# resize\n",
        "resized_frames = [cv2.resize(frame, (336, 336)) for frame in grayscale_frames]\n",
        "\n",
        "#clear background (requires conversion to grayscale again)\n",
        "clear_frames = [cv2.cvtColor(remove(frame), cv2.COLOR_BGR2GRAY) for frame in resized_frames]"
      ]
    },
    {
      "cell_type": "code",
      "execution_count": 69,
      "metadata": {},
      "outputs": [
        {
          "name": "stdout",
          "output_type": "stream",
          "text": [
            "147\n"
          ]
        }
      ],
      "source": [
        "print(len(clear_frames))"
      ]
    },
    {
      "cell_type": "code",
      "execution_count": 70,
      "metadata": {},
      "outputs": [
        {
          "name": "stdout",
          "output_type": "stream",
          "text": [
            "shapes of images:  (336, 336) (336, 336)\n"
          ]
        },
        {
          "data": {
            "application/vnd.jupyter.widget-view+json": {
              "model_id": "9a10ed1e02094412a090fabe57eda3ef",
              "version_major": 2,
              "version_minor": 0
            },
            "text/plain": [
              "Image Augmentation:   0%|          |"
            ]
          },
          "metadata": {},
          "output_type": "display_data"
        },
        {
          "data": {
            "application/vnd.jupyter.widget-view+json": {
              "model_id": "e1eb1f0e3bd04f2a94c2e2485745ca83",
              "version_major": 2,
              "version_minor": 0
            },
            "text/plain": [
              "Similarity Calculation:   0%|          |"
            ]
          },
          "metadata": {},
          "output_type": "display_data"
        },
        {
          "data": {
            "application/vnd.jupyter.widget-view+json": {
              "model_id": "a7d017f5dc764f009d19ca582681cb7c",
              "version_major": 2,
              "version_minor": 0
            },
            "text/plain": [
              "Patch Mapping:   0%|          |"
            ]
          },
          "metadata": {},
          "output_type": "display_data"
        },
        {
          "name": "stdout",
          "output_type": "stream",
          "text": [
            "shapes of images:  (336, 336) (336, 336)\n"
          ]
        },
        {
          "data": {
            "application/vnd.jupyter.widget-view+json": {
              "model_id": "338d67e6d6644fa98e46913a8be7654a",
              "version_major": 2,
              "version_minor": 0
            },
            "text/plain": [
              "Image Augmentation:   0%|          |"
            ]
          },
          "metadata": {},
          "output_type": "display_data"
        },
        {
          "data": {
            "application/vnd.jupyter.widget-view+json": {
              "model_id": "de402b3b23a44290bcf6dc3bcb06caad",
              "version_major": 2,
              "version_minor": 0
            },
            "text/plain": [
              "Similarity Calculation:   0%|          |"
            ]
          },
          "metadata": {},
          "output_type": "display_data"
        },
        {
          "data": {
            "application/vnd.jupyter.widget-view+json": {
              "model_id": "f6b1d0843edd419cb45b3fd3879e8a1e",
              "version_major": 2,
              "version_minor": 0
            },
            "text/plain": [
              "Patch Mapping:   0%|          |"
            ]
          },
          "metadata": {},
          "output_type": "display_data"
        },
        {
          "name": "stdout",
          "output_type": "stream",
          "text": [
            "shapes of images:  (336, 336) (336, 336)\n"
          ]
        },
        {
          "data": {
            "application/vnd.jupyter.widget-view+json": {
              "model_id": "f39da20fb5f44548822b4eba2cd49ab3",
              "version_major": 2,
              "version_minor": 0
            },
            "text/plain": [
              "Image Augmentation:   0%|          |"
            ]
          },
          "metadata": {},
          "output_type": "display_data"
        },
        {
          "data": {
            "application/vnd.jupyter.widget-view+json": {
              "model_id": "19c6fdca19eb4147b396b74b757a081b",
              "version_major": 2,
              "version_minor": 0
            },
            "text/plain": [
              "Similarity Calculation:   0%|          |"
            ]
          },
          "metadata": {},
          "output_type": "display_data"
        },
        {
          "data": {
            "application/vnd.jupyter.widget-view+json": {
              "model_id": "1e8be72f5dce445a8a269965e0849bf0",
              "version_major": 2,
              "version_minor": 0
            },
            "text/plain": [
              "Patch Mapping:   0%|          |"
            ]
          },
          "metadata": {},
          "output_type": "display_data"
        },
        {
          "name": "stdout",
          "output_type": "stream",
          "text": [
            "shapes of images:  (336, 336) (336, 336)\n"
          ]
        },
        {
          "data": {
            "application/vnd.jupyter.widget-view+json": {
              "model_id": "482738da798645a391a23b2e679ac120",
              "version_major": 2,
              "version_minor": 0
            },
            "text/plain": [
              "Image Augmentation:   0%|          |"
            ]
          },
          "metadata": {},
          "output_type": "display_data"
        },
        {
          "data": {
            "application/vnd.jupyter.widget-view+json": {
              "model_id": "b73f976ceaa84b38a7bb5a11cd8d6f8b",
              "version_major": 2,
              "version_minor": 0
            },
            "text/plain": [
              "Similarity Calculation:   0%|          |"
            ]
          },
          "metadata": {},
          "output_type": "display_data"
        },
        {
          "data": {
            "application/vnd.jupyter.widget-view+json": {
              "model_id": "e74661edbebe4cfdba6d1424f00c400c",
              "version_major": 2,
              "version_minor": 0
            },
            "text/plain": [
              "Patch Mapping:   0%|          |"
            ]
          },
          "metadata": {},
          "output_type": "display_data"
        },
        {
          "name": "stdout",
          "output_type": "stream",
          "text": [
            "shapes of images:  (336, 336) (336, 336)\n"
          ]
        },
        {
          "data": {
            "application/vnd.jupyter.widget-view+json": {
              "model_id": "7bf2f5232417437eace2aee0acdff6eb",
              "version_major": 2,
              "version_minor": 0
            },
            "text/plain": [
              "Image Augmentation:   0%|          |"
            ]
          },
          "metadata": {},
          "output_type": "display_data"
        },
        {
          "data": {
            "application/vnd.jupyter.widget-view+json": {
              "model_id": "3f47ec87a0f9449badfa4cbfdb122b9b",
              "version_major": 2,
              "version_minor": 0
            },
            "text/plain": [
              "Similarity Calculation:   0%|          |"
            ]
          },
          "metadata": {},
          "output_type": "display_data"
        },
        {
          "data": {
            "application/vnd.jupyter.widget-view+json": {
              "model_id": "c0bcd320dc6c47419a73b763546086d0",
              "version_major": 2,
              "version_minor": 0
            },
            "text/plain": [
              "Patch Mapping:   0%|          |"
            ]
          },
          "metadata": {},
          "output_type": "display_data"
        },
        {
          "name": "stdout",
          "output_type": "stream",
          "text": [
            "shapes of images:  (336, 336) (336, 336)\n"
          ]
        },
        {
          "data": {
            "application/vnd.jupyter.widget-view+json": {
              "model_id": "693fa7acd4aa4bbb98167b5bdde3b372",
              "version_major": 2,
              "version_minor": 0
            },
            "text/plain": [
              "Image Augmentation:   0%|          |"
            ]
          },
          "metadata": {},
          "output_type": "display_data"
        },
        {
          "data": {
            "application/vnd.jupyter.widget-view+json": {
              "model_id": "c46d39bad7644b479fd0b29228c8fc4e",
              "version_major": 2,
              "version_minor": 0
            },
            "text/plain": [
              "Similarity Calculation:   0%|          |"
            ]
          },
          "metadata": {},
          "output_type": "display_data"
        },
        {
          "data": {
            "application/vnd.jupyter.widget-view+json": {
              "model_id": "280b8bf5a02a448cbdbbade86502723c",
              "version_major": 2,
              "version_minor": 0
            },
            "text/plain": [
              "Patch Mapping:   0%|          |"
            ]
          },
          "metadata": {},
          "output_type": "display_data"
        },
        {
          "name": "stdout",
          "output_type": "stream",
          "text": [
            "shapes of images:  (336, 336) (336, 336)\n"
          ]
        },
        {
          "data": {
            "application/vnd.jupyter.widget-view+json": {
              "model_id": "d94fedde93834458a6857bc73474dc7e",
              "version_major": 2,
              "version_minor": 0
            },
            "text/plain": [
              "Image Augmentation:   0%|          |"
            ]
          },
          "metadata": {},
          "output_type": "display_data"
        },
        {
          "data": {
            "application/vnd.jupyter.widget-view+json": {
              "model_id": "6781fb203bce4951948274c7748bbbf0",
              "version_major": 2,
              "version_minor": 0
            },
            "text/plain": [
              "Similarity Calculation:   0%|          |"
            ]
          },
          "metadata": {},
          "output_type": "display_data"
        },
        {
          "data": {
            "application/vnd.jupyter.widget-view+json": {
              "model_id": "ca9b12e38f2246e09df72d72aa2dd3b9",
              "version_major": 2,
              "version_minor": 0
            },
            "text/plain": [
              "Patch Mapping:   0%|          |"
            ]
          },
          "metadata": {},
          "output_type": "display_data"
        },
        {
          "name": "stdout",
          "output_type": "stream",
          "text": [
            "shapes of images:  (336, 336) (336, 336)\n"
          ]
        },
        {
          "data": {
            "application/vnd.jupyter.widget-view+json": {
              "model_id": "9d86deca6a0b4899969d304e421af58f",
              "version_major": 2,
              "version_minor": 0
            },
            "text/plain": [
              "Image Augmentation:   0%|          |"
            ]
          },
          "metadata": {},
          "output_type": "display_data"
        },
        {
          "data": {
            "application/vnd.jupyter.widget-view+json": {
              "model_id": "a49a1d8cd2824e5598b18b098a9d4002",
              "version_major": 2,
              "version_minor": 0
            },
            "text/plain": [
              "Similarity Calculation:   0%|          |"
            ]
          },
          "metadata": {},
          "output_type": "display_data"
        },
        {
          "data": {
            "application/vnd.jupyter.widget-view+json": {
              "model_id": "476d35474eb54d6e9759a497ae0d2bd6",
              "version_major": 2,
              "version_minor": 0
            },
            "text/plain": [
              "Patch Mapping:   0%|          |"
            ]
          },
          "metadata": {},
          "output_type": "display_data"
        },
        {
          "name": "stdout",
          "output_type": "stream",
          "text": [
            "shapes of images:  (336, 336) (336, 336)\n"
          ]
        },
        {
          "data": {
            "application/vnd.jupyter.widget-view+json": {
              "model_id": "3a22bc03716f4d39afc95b66c6394e81",
              "version_major": 2,
              "version_minor": 0
            },
            "text/plain": [
              "Image Augmentation:   0%|          |"
            ]
          },
          "metadata": {},
          "output_type": "display_data"
        },
        {
          "data": {
            "application/vnd.jupyter.widget-view+json": {
              "model_id": "244a2735fa20431f83a8bedc1c7d5490",
              "version_major": 2,
              "version_minor": 0
            },
            "text/plain": [
              "Similarity Calculation:   0%|          |"
            ]
          },
          "metadata": {},
          "output_type": "display_data"
        },
        {
          "data": {
            "application/vnd.jupyter.widget-view+json": {
              "model_id": "0118687b74f74aecb6c9146a609a1051",
              "version_major": 2,
              "version_minor": 0
            },
            "text/plain": [
              "Patch Mapping:   0%|          |"
            ]
          },
          "metadata": {},
          "output_type": "display_data"
        },
        {
          "name": "stdout",
          "output_type": "stream",
          "text": [
            "shapes of images:  (336, 336) (336, 336)\n"
          ]
        },
        {
          "data": {
            "application/vnd.jupyter.widget-view+json": {
              "model_id": "cecda56aa4b341ca96788389da77ec8e",
              "version_major": 2,
              "version_minor": 0
            },
            "text/plain": [
              "Image Augmentation:   0%|          |"
            ]
          },
          "metadata": {},
          "output_type": "display_data"
        },
        {
          "data": {
            "application/vnd.jupyter.widget-view+json": {
              "model_id": "7bd0407fe91f431cab8eb73755755aa0",
              "version_major": 2,
              "version_minor": 0
            },
            "text/plain": [
              "Similarity Calculation:   0%|          |"
            ]
          },
          "metadata": {},
          "output_type": "display_data"
        },
        {
          "data": {
            "application/vnd.jupyter.widget-view+json": {
              "model_id": "e6398aa99ba445909e35fdf8e04a91fe",
              "version_major": 2,
              "version_minor": 0
            },
            "text/plain": [
              "Patch Mapping:   0%|          |"
            ]
          },
          "metadata": {},
          "output_type": "display_data"
        },
        {
          "name": "stdout",
          "output_type": "stream",
          "text": [
            "shapes of images:  (336, 336) (336, 336)\n"
          ]
        },
        {
          "data": {
            "application/vnd.jupyter.widget-view+json": {
              "model_id": "b44fa608f83646b6b6380c378a44ed75",
              "version_major": 2,
              "version_minor": 0
            },
            "text/plain": [
              "Image Augmentation:   0%|          |"
            ]
          },
          "metadata": {},
          "output_type": "display_data"
        },
        {
          "data": {
            "application/vnd.jupyter.widget-view+json": {
              "model_id": "f597906b81704ab6a5c98bbcb71f2907",
              "version_major": 2,
              "version_minor": 0
            },
            "text/plain": [
              "Similarity Calculation:   0%|          |"
            ]
          },
          "metadata": {},
          "output_type": "display_data"
        },
        {
          "data": {
            "application/vnd.jupyter.widget-view+json": {
              "model_id": "1fb68c75618b47009c150c388c101cc2",
              "version_major": 2,
              "version_minor": 0
            },
            "text/plain": [
              "Patch Mapping:   0%|          |"
            ]
          },
          "metadata": {},
          "output_type": "display_data"
        },
        {
          "name": "stdout",
          "output_type": "stream",
          "text": [
            "shapes of images:  (336, 336) (336, 336)\n"
          ]
        },
        {
          "data": {
            "application/vnd.jupyter.widget-view+json": {
              "model_id": "c21be30407124461b0113cbd1332188b",
              "version_major": 2,
              "version_minor": 0
            },
            "text/plain": [
              "Image Augmentation:   0%|          |"
            ]
          },
          "metadata": {},
          "output_type": "display_data"
        },
        {
          "data": {
            "application/vnd.jupyter.widget-view+json": {
              "model_id": "6ba733c967e440cd9083d3b1b0f58aca",
              "version_major": 2,
              "version_minor": 0
            },
            "text/plain": [
              "Similarity Calculation:   0%|          |"
            ]
          },
          "metadata": {},
          "output_type": "display_data"
        },
        {
          "data": {
            "application/vnd.jupyter.widget-view+json": {
              "model_id": "9b48786b0bf04a828dbfdc74bd24a45e",
              "version_major": 2,
              "version_minor": 0
            },
            "text/plain": [
              "Patch Mapping:   0%|          |"
            ]
          },
          "metadata": {},
          "output_type": "display_data"
        },
        {
          "name": "stdout",
          "output_type": "stream",
          "text": [
            "shapes of images:  (336, 336) (336, 336)\n"
          ]
        },
        {
          "data": {
            "application/vnd.jupyter.widget-view+json": {
              "model_id": "8972b68295ed4bc9bebd335fed030ba7",
              "version_major": 2,
              "version_minor": 0
            },
            "text/plain": [
              "Image Augmentation:   0%|          |"
            ]
          },
          "metadata": {},
          "output_type": "display_data"
        },
        {
          "data": {
            "application/vnd.jupyter.widget-view+json": {
              "model_id": "2ec77aaa02bb4547ae750fd25721db97",
              "version_major": 2,
              "version_minor": 0
            },
            "text/plain": [
              "Similarity Calculation:   0%|          |"
            ]
          },
          "metadata": {},
          "output_type": "display_data"
        },
        {
          "data": {
            "application/vnd.jupyter.widget-view+json": {
              "model_id": "f2f25fb42c104e49a17d1878b8841537",
              "version_major": 2,
              "version_minor": 0
            },
            "text/plain": [
              "Patch Mapping:   0%|          |"
            ]
          },
          "metadata": {},
          "output_type": "display_data"
        },
        {
          "name": "stdout",
          "output_type": "stream",
          "text": [
            "shapes of images:  (336, 336) (336, 336)\n"
          ]
        },
        {
          "data": {
            "application/vnd.jupyter.widget-view+json": {
              "model_id": "0414917ca1ae45f7be275d4491ca869a",
              "version_major": 2,
              "version_minor": 0
            },
            "text/plain": [
              "Image Augmentation:   0%|          |"
            ]
          },
          "metadata": {},
          "output_type": "display_data"
        },
        {
          "data": {
            "application/vnd.jupyter.widget-view+json": {
              "model_id": "d9a77dea32154b03aaff77997d7dc3bb",
              "version_major": 2,
              "version_minor": 0
            },
            "text/plain": [
              "Similarity Calculation:   0%|          |"
            ]
          },
          "metadata": {},
          "output_type": "display_data"
        },
        {
          "data": {
            "application/vnd.jupyter.widget-view+json": {
              "model_id": "7e0d2ccc204d47889fbc22c114ba78cf",
              "version_major": 2,
              "version_minor": 0
            },
            "text/plain": [
              "Patch Mapping:   0%|          |"
            ]
          },
          "metadata": {},
          "output_type": "display_data"
        },
        {
          "name": "stdout",
          "output_type": "stream",
          "text": [
            "shapes of images:  (336, 336) (336, 336)\n"
          ]
        },
        {
          "data": {
            "application/vnd.jupyter.widget-view+json": {
              "model_id": "2b2e38f753fe46fdb6a2b382732b71a4",
              "version_major": 2,
              "version_minor": 0
            },
            "text/plain": [
              "Image Augmentation:   0%|          |"
            ]
          },
          "metadata": {},
          "output_type": "display_data"
        },
        {
          "data": {
            "application/vnd.jupyter.widget-view+json": {
              "model_id": "3a2f91e0578a4aeda61dbfc1061f6a87",
              "version_major": 2,
              "version_minor": 0
            },
            "text/plain": [
              "Similarity Calculation:   0%|          |"
            ]
          },
          "metadata": {},
          "output_type": "display_data"
        },
        {
          "data": {
            "application/vnd.jupyter.widget-view+json": {
              "model_id": "e175fc6557cf4f69a1a6d89c4571e793",
              "version_major": 2,
              "version_minor": 0
            },
            "text/plain": [
              "Patch Mapping:   0%|          |"
            ]
          },
          "metadata": {},
          "output_type": "display_data"
        },
        {
          "name": "stdout",
          "output_type": "stream",
          "text": [
            "shapes of images:  (336, 336) (336, 336)\n"
          ]
        },
        {
          "data": {
            "application/vnd.jupyter.widget-view+json": {
              "model_id": "91475b508422446fa875babb71746c65",
              "version_major": 2,
              "version_minor": 0
            },
            "text/plain": [
              "Image Augmentation:   0%|          |"
            ]
          },
          "metadata": {},
          "output_type": "display_data"
        },
        {
          "data": {
            "application/vnd.jupyter.widget-view+json": {
              "model_id": "8da68ba19ad346408bb5fdf431938772",
              "version_major": 2,
              "version_minor": 0
            },
            "text/plain": [
              "Similarity Calculation:   0%|          |"
            ]
          },
          "metadata": {},
          "output_type": "display_data"
        },
        {
          "data": {
            "application/vnd.jupyter.widget-view+json": {
              "model_id": "bd05d5aaca74435194f0db16c475f6c2",
              "version_major": 2,
              "version_minor": 0
            },
            "text/plain": [
              "Patch Mapping:   0%|          |"
            ]
          },
          "metadata": {},
          "output_type": "display_data"
        },
        {
          "name": "stdout",
          "output_type": "stream",
          "text": [
            "shapes of images:  (336, 336) (336, 336)\n"
          ]
        },
        {
          "data": {
            "application/vnd.jupyter.widget-view+json": {
              "model_id": "29ceb5c8e5fb4d068dcdbbf3c1fbcfde",
              "version_major": 2,
              "version_minor": 0
            },
            "text/plain": [
              "Image Augmentation:   0%|          |"
            ]
          },
          "metadata": {},
          "output_type": "display_data"
        },
        {
          "data": {
            "application/vnd.jupyter.widget-view+json": {
              "model_id": "6c59f357bf45408daa37c27f58c68ed6",
              "version_major": 2,
              "version_minor": 0
            },
            "text/plain": [
              "Similarity Calculation:   0%|          |"
            ]
          },
          "metadata": {},
          "output_type": "display_data"
        },
        {
          "data": {
            "application/vnd.jupyter.widget-view+json": {
              "model_id": "0c4ab6a72e114c2c90fb45b6ede6fb33",
              "version_major": 2,
              "version_minor": 0
            },
            "text/plain": [
              "Patch Mapping:   0%|          |"
            ]
          },
          "metadata": {},
          "output_type": "display_data"
        },
        {
          "name": "stdout",
          "output_type": "stream",
          "text": [
            "shapes of images:  (336, 336) (336, 336)\n"
          ]
        },
        {
          "data": {
            "application/vnd.jupyter.widget-view+json": {
              "model_id": "3a087fbbb4464c4d922205fe3826e77e",
              "version_major": 2,
              "version_minor": 0
            },
            "text/plain": [
              "Image Augmentation:   0%|          |"
            ]
          },
          "metadata": {},
          "output_type": "display_data"
        },
        {
          "data": {
            "application/vnd.jupyter.widget-view+json": {
              "model_id": "e54d33580dfc428cb0ca19f3782e4083",
              "version_major": 2,
              "version_minor": 0
            },
            "text/plain": [
              "Similarity Calculation:   0%|          |"
            ]
          },
          "metadata": {},
          "output_type": "display_data"
        },
        {
          "data": {
            "application/vnd.jupyter.widget-view+json": {
              "model_id": "4b08194959604f43b7bc6a2f1ac323ef",
              "version_major": 2,
              "version_minor": 0
            },
            "text/plain": [
              "Patch Mapping:   0%|          |"
            ]
          },
          "metadata": {},
          "output_type": "display_data"
        },
        {
          "name": "stdout",
          "output_type": "stream",
          "text": [
            "shapes of images:  (336, 336) (336, 336)\n"
          ]
        },
        {
          "data": {
            "application/vnd.jupyter.widget-view+json": {
              "model_id": "53465dd44ce04fbabd84284df8359614",
              "version_major": 2,
              "version_minor": 0
            },
            "text/plain": [
              "Image Augmentation:   0%|          |"
            ]
          },
          "metadata": {},
          "output_type": "display_data"
        },
        {
          "data": {
            "application/vnd.jupyter.widget-view+json": {
              "model_id": "0aa2b737099d4397915eb528eefa7b15",
              "version_major": 2,
              "version_minor": 0
            },
            "text/plain": [
              "Similarity Calculation:   0%|          |"
            ]
          },
          "metadata": {},
          "output_type": "display_data"
        },
        {
          "data": {
            "application/vnd.jupyter.widget-view+json": {
              "model_id": "88bc5c5ba3ae4500a2a126191aabb589",
              "version_major": 2,
              "version_minor": 0
            },
            "text/plain": [
              "Patch Mapping:   0%|          |"
            ]
          },
          "metadata": {},
          "output_type": "display_data"
        },
        {
          "name": "stdout",
          "output_type": "stream",
          "text": [
            "shapes of images:  (336, 336) (336, 336)\n"
          ]
        },
        {
          "data": {
            "application/vnd.jupyter.widget-view+json": {
              "model_id": "df66ce3a76834b8a99c23d41152191da",
              "version_major": 2,
              "version_minor": 0
            },
            "text/plain": [
              "Image Augmentation:   0%|          |"
            ]
          },
          "metadata": {},
          "output_type": "display_data"
        },
        {
          "data": {
            "application/vnd.jupyter.widget-view+json": {
              "model_id": "d5385592636c4749b67d75732e0b0161",
              "version_major": 2,
              "version_minor": 0
            },
            "text/plain": [
              "Similarity Calculation:   0%|          |"
            ]
          },
          "metadata": {},
          "output_type": "display_data"
        },
        {
          "data": {
            "application/vnd.jupyter.widget-view+json": {
              "model_id": "71c089a05f2e46e982c2d43a7cb0b65c",
              "version_major": 2,
              "version_minor": 0
            },
            "text/plain": [
              "Patch Mapping:   0%|          |"
            ]
          },
          "metadata": {},
          "output_type": "display_data"
        },
        {
          "name": "stdout",
          "output_type": "stream",
          "text": [
            "shapes of images:  (336, 336) (336, 336)\n"
          ]
        },
        {
          "data": {
            "application/vnd.jupyter.widget-view+json": {
              "model_id": "98e2f8f4d7ef457fa6f51ada51e6dcab",
              "version_major": 2,
              "version_minor": 0
            },
            "text/plain": [
              "Image Augmentation:   0%|          |"
            ]
          },
          "metadata": {},
          "output_type": "display_data"
        },
        {
          "data": {
            "application/vnd.jupyter.widget-view+json": {
              "model_id": "869c359080734e08bf4e5f1eedd84de7",
              "version_major": 2,
              "version_minor": 0
            },
            "text/plain": [
              "Similarity Calculation:   0%|          |"
            ]
          },
          "metadata": {},
          "output_type": "display_data"
        },
        {
          "data": {
            "application/vnd.jupyter.widget-view+json": {
              "model_id": "bc4366fed7c549b38947c88bc43126ce",
              "version_major": 2,
              "version_minor": 0
            },
            "text/plain": [
              "Patch Mapping:   0%|          |"
            ]
          },
          "metadata": {},
          "output_type": "display_data"
        },
        {
          "name": "stdout",
          "output_type": "stream",
          "text": [
            "shapes of images:  (336, 336) (336, 336)\n"
          ]
        },
        {
          "data": {
            "application/vnd.jupyter.widget-view+json": {
              "model_id": "4916033bf1294ce3874985962c9d77c5",
              "version_major": 2,
              "version_minor": 0
            },
            "text/plain": [
              "Image Augmentation:   0%|          |"
            ]
          },
          "metadata": {},
          "output_type": "display_data"
        },
        {
          "data": {
            "application/vnd.jupyter.widget-view+json": {
              "model_id": "a4a3a4dc744a444fa488316e1d96485d",
              "version_major": 2,
              "version_minor": 0
            },
            "text/plain": [
              "Similarity Calculation:   0%|          |"
            ]
          },
          "metadata": {},
          "output_type": "display_data"
        },
        {
          "data": {
            "application/vnd.jupyter.widget-view+json": {
              "model_id": "08a83756f35548a790a6d7c06ec7eefa",
              "version_major": 2,
              "version_minor": 0
            },
            "text/plain": [
              "Patch Mapping:   0%|          |"
            ]
          },
          "metadata": {},
          "output_type": "display_data"
        },
        {
          "name": "stdout",
          "output_type": "stream",
          "text": [
            "shapes of images:  (336, 336) (336, 336)\n"
          ]
        },
        {
          "data": {
            "application/vnd.jupyter.widget-view+json": {
              "model_id": "c4c5d6c9891a4264b0ffa5591e96fc6f",
              "version_major": 2,
              "version_minor": 0
            },
            "text/plain": [
              "Image Augmentation:   0%|          |"
            ]
          },
          "metadata": {},
          "output_type": "display_data"
        },
        {
          "data": {
            "application/vnd.jupyter.widget-view+json": {
              "model_id": "cd872ab8dc3247608daef1dc1ac720bd",
              "version_major": 2,
              "version_minor": 0
            },
            "text/plain": [
              "Similarity Calculation:   0%|          |"
            ]
          },
          "metadata": {},
          "output_type": "display_data"
        },
        {
          "data": {
            "application/vnd.jupyter.widget-view+json": {
              "model_id": "2f97a35613264fa1b2a58ad2f1fb7212",
              "version_major": 2,
              "version_minor": 0
            },
            "text/plain": [
              "Patch Mapping:   0%|          |"
            ]
          },
          "metadata": {},
          "output_type": "display_data"
        },
        {
          "name": "stdout",
          "output_type": "stream",
          "text": [
            "shapes of images:  (336, 336) (336, 336)\n"
          ]
        },
        {
          "data": {
            "application/vnd.jupyter.widget-view+json": {
              "model_id": "b43bba48271c4d5cb54d21d30d06f2f3",
              "version_major": 2,
              "version_minor": 0
            },
            "text/plain": [
              "Image Augmentation:   0%|          |"
            ]
          },
          "metadata": {},
          "output_type": "display_data"
        },
        {
          "data": {
            "application/vnd.jupyter.widget-view+json": {
              "model_id": "ca229142adec46d195b3589ef512c1d3",
              "version_major": 2,
              "version_minor": 0
            },
            "text/plain": [
              "Similarity Calculation:   0%|          |"
            ]
          },
          "metadata": {},
          "output_type": "display_data"
        },
        {
          "data": {
            "application/vnd.jupyter.widget-view+json": {
              "model_id": "087f6b9872c247c28406acd7d1a98029",
              "version_major": 2,
              "version_minor": 0
            },
            "text/plain": [
              "Patch Mapping:   0%|          |"
            ]
          },
          "metadata": {},
          "output_type": "display_data"
        },
        {
          "name": "stdout",
          "output_type": "stream",
          "text": [
            "shapes of images:  (336, 336) (336, 336)\n"
          ]
        },
        {
          "data": {
            "application/vnd.jupyter.widget-view+json": {
              "model_id": "e6c6963f81284a99b148df2daff08128",
              "version_major": 2,
              "version_minor": 0
            },
            "text/plain": [
              "Image Augmentation:   0%|          |"
            ]
          },
          "metadata": {},
          "output_type": "display_data"
        },
        {
          "data": {
            "application/vnd.jupyter.widget-view+json": {
              "model_id": "3df0c113891748969c51e6d64332479b",
              "version_major": 2,
              "version_minor": 0
            },
            "text/plain": [
              "Similarity Calculation:   0%|          |"
            ]
          },
          "metadata": {},
          "output_type": "display_data"
        },
        {
          "data": {
            "application/vnd.jupyter.widget-view+json": {
              "model_id": "dfed5afa9f594027a82b658a0376f7f9",
              "version_major": 2,
              "version_minor": 0
            },
            "text/plain": [
              "Patch Mapping:   0%|          |"
            ]
          },
          "metadata": {},
          "output_type": "display_data"
        },
        {
          "name": "stdout",
          "output_type": "stream",
          "text": [
            "shapes of images:  (336, 336) (336, 336)\n"
          ]
        },
        {
          "data": {
            "application/vnd.jupyter.widget-view+json": {
              "model_id": "49a828dae0894d1480d0ca64d408620e",
              "version_major": 2,
              "version_minor": 0
            },
            "text/plain": [
              "Image Augmentation:   0%|          |"
            ]
          },
          "metadata": {},
          "output_type": "display_data"
        },
        {
          "data": {
            "application/vnd.jupyter.widget-view+json": {
              "model_id": "df37fef4c05b4df2b339649c5e82c24d",
              "version_major": 2,
              "version_minor": 0
            },
            "text/plain": [
              "Similarity Calculation:   0%|          |"
            ]
          },
          "metadata": {},
          "output_type": "display_data"
        },
        {
          "data": {
            "application/vnd.jupyter.widget-view+json": {
              "model_id": "bfc1f7f653794827a35df2b913e8fb4d",
              "version_major": 2,
              "version_minor": 0
            },
            "text/plain": [
              "Patch Mapping:   0%|          |"
            ]
          },
          "metadata": {},
          "output_type": "display_data"
        },
        {
          "name": "stdout",
          "output_type": "stream",
          "text": [
            "shapes of images:  (336, 336) (336, 336)\n"
          ]
        },
        {
          "data": {
            "application/vnd.jupyter.widget-view+json": {
              "model_id": "44cceaa0ae2647c0bc194415a7c6ceef",
              "version_major": 2,
              "version_minor": 0
            },
            "text/plain": [
              "Image Augmentation:   0%|          |"
            ]
          },
          "metadata": {},
          "output_type": "display_data"
        },
        {
          "data": {
            "application/vnd.jupyter.widget-view+json": {
              "model_id": "39a1b104d3d848a494c24d8fca399eff",
              "version_major": 2,
              "version_minor": 0
            },
            "text/plain": [
              "Similarity Calculation:   0%|          |"
            ]
          },
          "metadata": {},
          "output_type": "display_data"
        },
        {
          "data": {
            "application/vnd.jupyter.widget-view+json": {
              "model_id": "1a632741e6bf4d41b2dc17e93d2df26f",
              "version_major": 2,
              "version_minor": 0
            },
            "text/plain": [
              "Patch Mapping:   0%|          |"
            ]
          },
          "metadata": {},
          "output_type": "display_data"
        },
        {
          "name": "stdout",
          "output_type": "stream",
          "text": [
            "shapes of images:  (336, 336) (336, 336)\n"
          ]
        },
        {
          "data": {
            "application/vnd.jupyter.widget-view+json": {
              "model_id": "72007a0fd3e8454da469f6b96b2ec0c3",
              "version_major": 2,
              "version_minor": 0
            },
            "text/plain": [
              "Image Augmentation:   0%|          |"
            ]
          },
          "metadata": {},
          "output_type": "display_data"
        },
        {
          "data": {
            "application/vnd.jupyter.widget-view+json": {
              "model_id": "980611fda0344d6cae56461404676ef9",
              "version_major": 2,
              "version_minor": 0
            },
            "text/plain": [
              "Similarity Calculation:   0%|          |"
            ]
          },
          "metadata": {},
          "output_type": "display_data"
        },
        {
          "data": {
            "application/vnd.jupyter.widget-view+json": {
              "model_id": "f59630482fe24711a97e86a365d38d78",
              "version_major": 2,
              "version_minor": 0
            },
            "text/plain": [
              "Patch Mapping:   0%|          |"
            ]
          },
          "metadata": {},
          "output_type": "display_data"
        },
        {
          "name": "stdout",
          "output_type": "stream",
          "text": [
            "shapes of images:  (336, 336) (336, 336)\n"
          ]
        },
        {
          "data": {
            "application/vnd.jupyter.widget-view+json": {
              "model_id": "4afeda1359a34d3bb6d48393e357d381",
              "version_major": 2,
              "version_minor": 0
            },
            "text/plain": [
              "Image Augmentation:   0%|          |"
            ]
          },
          "metadata": {},
          "output_type": "display_data"
        },
        {
          "data": {
            "application/vnd.jupyter.widget-view+json": {
              "model_id": "03b558d03dc34f4ea31117650590fbd1",
              "version_major": 2,
              "version_minor": 0
            },
            "text/plain": [
              "Similarity Calculation:   0%|          |"
            ]
          },
          "metadata": {},
          "output_type": "display_data"
        },
        {
          "data": {
            "application/vnd.jupyter.widget-view+json": {
              "model_id": "cd087787b2364e468e85aefc579ed177",
              "version_major": 2,
              "version_minor": 0
            },
            "text/plain": [
              "Patch Mapping:   0%|          |"
            ]
          },
          "metadata": {},
          "output_type": "display_data"
        },
        {
          "name": "stdout",
          "output_type": "stream",
          "text": [
            "shapes of images:  (336, 336) (336, 336)\n"
          ]
        },
        {
          "data": {
            "application/vnd.jupyter.widget-view+json": {
              "model_id": "e8c76d6f5a9f4ecaa35251548e617a54",
              "version_major": 2,
              "version_minor": 0
            },
            "text/plain": [
              "Image Augmentation:   0%|          |"
            ]
          },
          "metadata": {},
          "output_type": "display_data"
        },
        {
          "data": {
            "application/vnd.jupyter.widget-view+json": {
              "model_id": "d9568c1c63f04b4ca2eb57af7dc96d95",
              "version_major": 2,
              "version_minor": 0
            },
            "text/plain": [
              "Similarity Calculation:   0%|          |"
            ]
          },
          "metadata": {},
          "output_type": "display_data"
        },
        {
          "data": {
            "application/vnd.jupyter.widget-view+json": {
              "model_id": "342d033b3218496d993c8799273d4723",
              "version_major": 2,
              "version_minor": 0
            },
            "text/plain": [
              "Patch Mapping:   0%|          |"
            ]
          },
          "metadata": {},
          "output_type": "display_data"
        },
        {
          "name": "stdout",
          "output_type": "stream",
          "text": [
            "shapes of images:  (336, 336) (336, 336)\n"
          ]
        },
        {
          "data": {
            "application/vnd.jupyter.widget-view+json": {
              "model_id": "46c589e3b57c4be8a536c939a71ac154",
              "version_major": 2,
              "version_minor": 0
            },
            "text/plain": [
              "Image Augmentation:   0%|          |"
            ]
          },
          "metadata": {},
          "output_type": "display_data"
        },
        {
          "data": {
            "application/vnd.jupyter.widget-view+json": {
              "model_id": "945b8f9622e242b3be886a2e6044d82c",
              "version_major": 2,
              "version_minor": 0
            },
            "text/plain": [
              "Similarity Calculation:   0%|          |"
            ]
          },
          "metadata": {},
          "output_type": "display_data"
        },
        {
          "data": {
            "application/vnd.jupyter.widget-view+json": {
              "model_id": "6fa28d4ecead400eaf24e191b2d2e381",
              "version_major": 2,
              "version_minor": 0
            },
            "text/plain": [
              "Patch Mapping:   0%|          |"
            ]
          },
          "metadata": {},
          "output_type": "display_data"
        },
        {
          "name": "stdout",
          "output_type": "stream",
          "text": [
            "shapes of images:  (336, 336) (336, 336)\n"
          ]
        },
        {
          "data": {
            "application/vnd.jupyter.widget-view+json": {
              "model_id": "8fcd771f289b4451ac54da1b73686abf",
              "version_major": 2,
              "version_minor": 0
            },
            "text/plain": [
              "Image Augmentation:   0%|          |"
            ]
          },
          "metadata": {},
          "output_type": "display_data"
        },
        {
          "data": {
            "application/vnd.jupyter.widget-view+json": {
              "model_id": "7041c8054f96474b9cadec92ca555986",
              "version_major": 2,
              "version_minor": 0
            },
            "text/plain": [
              "Similarity Calculation:   0%|          |"
            ]
          },
          "metadata": {},
          "output_type": "display_data"
        },
        {
          "data": {
            "application/vnd.jupyter.widget-view+json": {
              "model_id": "c3198f975da9447b806bb81582160769",
              "version_major": 2,
              "version_minor": 0
            },
            "text/plain": [
              "Patch Mapping:   0%|          |"
            ]
          },
          "metadata": {},
          "output_type": "display_data"
        },
        {
          "name": "stdout",
          "output_type": "stream",
          "text": [
            "shapes of images:  (336, 336) (336, 336)\n"
          ]
        },
        {
          "data": {
            "application/vnd.jupyter.widget-view+json": {
              "model_id": "87b7e51a4a3742c987c49f22d5aa90de",
              "version_major": 2,
              "version_minor": 0
            },
            "text/plain": [
              "Image Augmentation:   0%|          |"
            ]
          },
          "metadata": {},
          "output_type": "display_data"
        },
        {
          "data": {
            "application/vnd.jupyter.widget-view+json": {
              "model_id": "69c1b8658379477d8cf11ac321e1a109",
              "version_major": 2,
              "version_minor": 0
            },
            "text/plain": [
              "Similarity Calculation:   0%|          |"
            ]
          },
          "metadata": {},
          "output_type": "display_data"
        },
        {
          "data": {
            "application/vnd.jupyter.widget-view+json": {
              "model_id": "673f3cbbc3ef4b4c9393912575ed246f",
              "version_major": 2,
              "version_minor": 0
            },
            "text/plain": [
              "Patch Mapping:   0%|          |"
            ]
          },
          "metadata": {},
          "output_type": "display_data"
        },
        {
          "name": "stdout",
          "output_type": "stream",
          "text": [
            "shapes of images:  (336, 336) (336, 336)\n"
          ]
        },
        {
          "data": {
            "application/vnd.jupyter.widget-view+json": {
              "model_id": "e420d5effaf843f58f385f3aec021149",
              "version_major": 2,
              "version_minor": 0
            },
            "text/plain": [
              "Image Augmentation:   0%|          |"
            ]
          },
          "metadata": {},
          "output_type": "display_data"
        },
        {
          "data": {
            "application/vnd.jupyter.widget-view+json": {
              "model_id": "db932e7acc7449d3962c10aa1c67ae28",
              "version_major": 2,
              "version_minor": 0
            },
            "text/plain": [
              "Similarity Calculation:   0%|          |"
            ]
          },
          "metadata": {},
          "output_type": "display_data"
        },
        {
          "data": {
            "application/vnd.jupyter.widget-view+json": {
              "model_id": "4b193c851d544b4d9a44ae2c017138ed",
              "version_major": 2,
              "version_minor": 0
            },
            "text/plain": [
              "Patch Mapping:   0%|          |"
            ]
          },
          "metadata": {},
          "output_type": "display_data"
        },
        {
          "name": "stdout",
          "output_type": "stream",
          "text": [
            "shapes of images:  (336, 336) (336, 336)\n"
          ]
        },
        {
          "data": {
            "application/vnd.jupyter.widget-view+json": {
              "model_id": "872275f5343a41a98b3b1b035b28aa14",
              "version_major": 2,
              "version_minor": 0
            },
            "text/plain": [
              "Image Augmentation:   0%|          |"
            ]
          },
          "metadata": {},
          "output_type": "display_data"
        },
        {
          "data": {
            "application/vnd.jupyter.widget-view+json": {
              "model_id": "8c2fc79322e94fe3b0d4bc1a691f462b",
              "version_major": 2,
              "version_minor": 0
            },
            "text/plain": [
              "Similarity Calculation:   0%|          |"
            ]
          },
          "metadata": {},
          "output_type": "display_data"
        },
        {
          "data": {
            "application/vnd.jupyter.widget-view+json": {
              "model_id": "a01c18483a944991bfc2905b2e766a13",
              "version_major": 2,
              "version_minor": 0
            },
            "text/plain": [
              "Patch Mapping:   0%|          |"
            ]
          },
          "metadata": {},
          "output_type": "display_data"
        },
        {
          "name": "stdout",
          "output_type": "stream",
          "text": [
            "shapes of images:  (336, 336) (336, 336)\n"
          ]
        },
        {
          "data": {
            "application/vnd.jupyter.widget-view+json": {
              "model_id": "f35080b51e4e4d6f838d5c05891a5d91",
              "version_major": 2,
              "version_minor": 0
            },
            "text/plain": [
              "Image Augmentation:   0%|          |"
            ]
          },
          "metadata": {},
          "output_type": "display_data"
        },
        {
          "data": {
            "application/vnd.jupyter.widget-view+json": {
              "model_id": "6f290207164940ae9c4c3ae6c98a71b7",
              "version_major": 2,
              "version_minor": 0
            },
            "text/plain": [
              "Similarity Calculation:   0%|          |"
            ]
          },
          "metadata": {},
          "output_type": "display_data"
        },
        {
          "data": {
            "application/vnd.jupyter.widget-view+json": {
              "model_id": "80a36dd2a4c248e993a8bb69db968954",
              "version_major": 2,
              "version_minor": 0
            },
            "text/plain": [
              "Patch Mapping:   0%|          |"
            ]
          },
          "metadata": {},
          "output_type": "display_data"
        },
        {
          "name": "stdout",
          "output_type": "stream",
          "text": [
            "shapes of images:  (336, 336) (336, 336)\n"
          ]
        },
        {
          "data": {
            "application/vnd.jupyter.widget-view+json": {
              "model_id": "a6eb1009f2a34432af97c374754cb1c3",
              "version_major": 2,
              "version_minor": 0
            },
            "text/plain": [
              "Image Augmentation:   0%|          |"
            ]
          },
          "metadata": {},
          "output_type": "display_data"
        },
        {
          "data": {
            "application/vnd.jupyter.widget-view+json": {
              "model_id": "4c78c62298ff46048144f6e6677d077b",
              "version_major": 2,
              "version_minor": 0
            },
            "text/plain": [
              "Similarity Calculation:   0%|          |"
            ]
          },
          "metadata": {},
          "output_type": "display_data"
        },
        {
          "data": {
            "application/vnd.jupyter.widget-view+json": {
              "model_id": "4b64f6e253c74329abea207ff3278470",
              "version_major": 2,
              "version_minor": 0
            },
            "text/plain": [
              "Patch Mapping:   0%|          |"
            ]
          },
          "metadata": {},
          "output_type": "display_data"
        },
        {
          "name": "stdout",
          "output_type": "stream",
          "text": [
            "shapes of images:  (336, 336) (336, 336)\n"
          ]
        },
        {
          "data": {
            "application/vnd.jupyter.widget-view+json": {
              "model_id": "5544613f69264c2881d37d31cf752fc6",
              "version_major": 2,
              "version_minor": 0
            },
            "text/plain": [
              "Image Augmentation:   0%|          |"
            ]
          },
          "metadata": {},
          "output_type": "display_data"
        },
        {
          "data": {
            "application/vnd.jupyter.widget-view+json": {
              "model_id": "598dcca5db6246cbb4933182026cca6c",
              "version_major": 2,
              "version_minor": 0
            },
            "text/plain": [
              "Similarity Calculation:   0%|          |"
            ]
          },
          "metadata": {},
          "output_type": "display_data"
        },
        {
          "data": {
            "application/vnd.jupyter.widget-view+json": {
              "model_id": "dbc9c220539b41c9b0bec0946ec1d2e1",
              "version_major": 2,
              "version_minor": 0
            },
            "text/plain": [
              "Patch Mapping:   0%|          |"
            ]
          },
          "metadata": {},
          "output_type": "display_data"
        },
        {
          "name": "stdout",
          "output_type": "stream",
          "text": [
            "shapes of images:  (336, 336) (336, 336)\n"
          ]
        },
        {
          "data": {
            "application/vnd.jupyter.widget-view+json": {
              "model_id": "907daf44091a4ab0a697912da7fa94a1",
              "version_major": 2,
              "version_minor": 0
            },
            "text/plain": [
              "Image Augmentation:   0%|          |"
            ]
          },
          "metadata": {},
          "output_type": "display_data"
        },
        {
          "data": {
            "application/vnd.jupyter.widget-view+json": {
              "model_id": "61085cbf90634cbe8975d8370ea30a0f",
              "version_major": 2,
              "version_minor": 0
            },
            "text/plain": [
              "Similarity Calculation:   0%|          |"
            ]
          },
          "metadata": {},
          "output_type": "display_data"
        },
        {
          "data": {
            "application/vnd.jupyter.widget-view+json": {
              "model_id": "ca4cc5630eeb463b9276ca46263555c7",
              "version_major": 2,
              "version_minor": 0
            },
            "text/plain": [
              "Patch Mapping:   0%|          |"
            ]
          },
          "metadata": {},
          "output_type": "display_data"
        },
        {
          "name": "stdout",
          "output_type": "stream",
          "text": [
            "shapes of images:  (336, 336) (336, 336)\n"
          ]
        },
        {
          "data": {
            "application/vnd.jupyter.widget-view+json": {
              "model_id": "2cbb3101b31b422c922131a33a8201a4",
              "version_major": 2,
              "version_minor": 0
            },
            "text/plain": [
              "Image Augmentation:   0%|          |"
            ]
          },
          "metadata": {},
          "output_type": "display_data"
        },
        {
          "data": {
            "application/vnd.jupyter.widget-view+json": {
              "model_id": "404668ec34214b398e4d108df06bbe1c",
              "version_major": 2,
              "version_minor": 0
            },
            "text/plain": [
              "Similarity Calculation:   0%|          |"
            ]
          },
          "metadata": {},
          "output_type": "display_data"
        },
        {
          "data": {
            "application/vnd.jupyter.widget-view+json": {
              "model_id": "43034fe6b14546c2b6ae4a33cfd406ff",
              "version_major": 2,
              "version_minor": 0
            },
            "text/plain": [
              "Patch Mapping:   0%|          |"
            ]
          },
          "metadata": {},
          "output_type": "display_data"
        },
        {
          "name": "stdout",
          "output_type": "stream",
          "text": [
            "shapes of images:  (336, 336) (336, 336)\n"
          ]
        },
        {
          "data": {
            "application/vnd.jupyter.widget-view+json": {
              "model_id": "0940fc3471904a91a5b00fef0d4e476a",
              "version_major": 2,
              "version_minor": 0
            },
            "text/plain": [
              "Image Augmentation:   0%|          |"
            ]
          },
          "metadata": {},
          "output_type": "display_data"
        },
        {
          "data": {
            "application/vnd.jupyter.widget-view+json": {
              "model_id": "6a2fc33d76634d07a4e53fa3522591d7",
              "version_major": 2,
              "version_minor": 0
            },
            "text/plain": [
              "Similarity Calculation:   0%|          |"
            ]
          },
          "metadata": {},
          "output_type": "display_data"
        },
        {
          "data": {
            "application/vnd.jupyter.widget-view+json": {
              "model_id": "ea014acf2a39408eb8bea8fa32a13177",
              "version_major": 2,
              "version_minor": 0
            },
            "text/plain": [
              "Patch Mapping:   0%|          |"
            ]
          },
          "metadata": {},
          "output_type": "display_data"
        },
        {
          "name": "stdout",
          "output_type": "stream",
          "text": [
            "shapes of images:  (336, 336) (336, 336)\n"
          ]
        },
        {
          "data": {
            "application/vnd.jupyter.widget-view+json": {
              "model_id": "49515029b07f4cca83617c2112582cc9",
              "version_major": 2,
              "version_minor": 0
            },
            "text/plain": [
              "Image Augmentation:   0%|          |"
            ]
          },
          "metadata": {},
          "output_type": "display_data"
        },
        {
          "data": {
            "application/vnd.jupyter.widget-view+json": {
              "model_id": "bded2d6496a14e19a9fa07cff3be666a",
              "version_major": 2,
              "version_minor": 0
            },
            "text/plain": [
              "Similarity Calculation:   0%|          |"
            ]
          },
          "metadata": {},
          "output_type": "display_data"
        },
        {
          "data": {
            "application/vnd.jupyter.widget-view+json": {
              "model_id": "baddd2c6ddb74f90bdadeb54b8e1d39f",
              "version_major": 2,
              "version_minor": 0
            },
            "text/plain": [
              "Patch Mapping:   0%|          |"
            ]
          },
          "metadata": {},
          "output_type": "display_data"
        },
        {
          "name": "stdout",
          "output_type": "stream",
          "text": [
            "shapes of images:  (336, 336) (336, 336)\n"
          ]
        },
        {
          "data": {
            "application/vnd.jupyter.widget-view+json": {
              "model_id": "92b8563fbf374d9689542e755814b7f7",
              "version_major": 2,
              "version_minor": 0
            },
            "text/plain": [
              "Image Augmentation:   0%|          |"
            ]
          },
          "metadata": {},
          "output_type": "display_data"
        },
        {
          "data": {
            "application/vnd.jupyter.widget-view+json": {
              "model_id": "4ff5a71590d745cab059ea761f80e4a7",
              "version_major": 2,
              "version_minor": 0
            },
            "text/plain": [
              "Similarity Calculation:   0%|          |"
            ]
          },
          "metadata": {},
          "output_type": "display_data"
        },
        {
          "data": {
            "application/vnd.jupyter.widget-view+json": {
              "model_id": "e0e3f898e77b4a1f977f2a51d490472a",
              "version_major": 2,
              "version_minor": 0
            },
            "text/plain": [
              "Patch Mapping:   0%|          |"
            ]
          },
          "metadata": {},
          "output_type": "display_data"
        },
        {
          "name": "stdout",
          "output_type": "stream",
          "text": [
            "shapes of images:  (336, 336) (336, 336)\n"
          ]
        },
        {
          "data": {
            "application/vnd.jupyter.widget-view+json": {
              "model_id": "b2bfb3dcde2b4ef3b83fd78a1b91e242",
              "version_major": 2,
              "version_minor": 0
            },
            "text/plain": [
              "Image Augmentation:   0%|          |"
            ]
          },
          "metadata": {},
          "output_type": "display_data"
        },
        {
          "data": {
            "application/vnd.jupyter.widget-view+json": {
              "model_id": "a103e36991db41a6a608370ccd1bc94e",
              "version_major": 2,
              "version_minor": 0
            },
            "text/plain": [
              "Similarity Calculation:   0%|          |"
            ]
          },
          "metadata": {},
          "output_type": "display_data"
        },
        {
          "data": {
            "application/vnd.jupyter.widget-view+json": {
              "model_id": "2e4030686a5948d7b6e9a887e9470c16",
              "version_major": 2,
              "version_minor": 0
            },
            "text/plain": [
              "Patch Mapping:   0%|          |"
            ]
          },
          "metadata": {},
          "output_type": "display_data"
        },
        {
          "name": "stdout",
          "output_type": "stream",
          "text": [
            "shapes of images:  (336, 336) (336, 336)\n"
          ]
        },
        {
          "data": {
            "application/vnd.jupyter.widget-view+json": {
              "model_id": "7990aa2b823d4e3da273a5e87b2ea927",
              "version_major": 2,
              "version_minor": 0
            },
            "text/plain": [
              "Image Augmentation:   0%|          |"
            ]
          },
          "metadata": {},
          "output_type": "display_data"
        },
        {
          "data": {
            "application/vnd.jupyter.widget-view+json": {
              "model_id": "d59edf7d82eb4e948264ed5939472c35",
              "version_major": 2,
              "version_minor": 0
            },
            "text/plain": [
              "Similarity Calculation:   0%|          |"
            ]
          },
          "metadata": {},
          "output_type": "display_data"
        },
        {
          "data": {
            "application/vnd.jupyter.widget-view+json": {
              "model_id": "3cb5222d64a7422282a82c3a8db05745",
              "version_major": 2,
              "version_minor": 0
            },
            "text/plain": [
              "Patch Mapping:   0%|          |"
            ]
          },
          "metadata": {},
          "output_type": "display_data"
        },
        {
          "name": "stdout",
          "output_type": "stream",
          "text": [
            "shapes of images:  (336, 336) (336, 336)\n"
          ]
        },
        {
          "data": {
            "application/vnd.jupyter.widget-view+json": {
              "model_id": "969dcf0872424107a9e1c399fcb3cb29",
              "version_major": 2,
              "version_minor": 0
            },
            "text/plain": [
              "Image Augmentation:   0%|          |"
            ]
          },
          "metadata": {},
          "output_type": "display_data"
        },
        {
          "data": {
            "application/vnd.jupyter.widget-view+json": {
              "model_id": "feb6c0b9d5c04d998670a184870939c3",
              "version_major": 2,
              "version_minor": 0
            },
            "text/plain": [
              "Similarity Calculation:   0%|          |"
            ]
          },
          "metadata": {},
          "output_type": "display_data"
        },
        {
          "data": {
            "application/vnd.jupyter.widget-view+json": {
              "model_id": "31bfe7756d87443196617212967d6c90",
              "version_major": 2,
              "version_minor": 0
            },
            "text/plain": [
              "Patch Mapping:   0%|          |"
            ]
          },
          "metadata": {},
          "output_type": "display_data"
        },
        {
          "name": "stdout",
          "output_type": "stream",
          "text": [
            "shapes of images:  (336, 336) (336, 336)\n"
          ]
        },
        {
          "data": {
            "application/vnd.jupyter.widget-view+json": {
              "model_id": "55202633b70c4c2baf08badb20745796",
              "version_major": 2,
              "version_minor": 0
            },
            "text/plain": [
              "Image Augmentation:   0%|          |"
            ]
          },
          "metadata": {},
          "output_type": "display_data"
        },
        {
          "data": {
            "application/vnd.jupyter.widget-view+json": {
              "model_id": "ac815c8471a7454fab5c9529293338bd",
              "version_major": 2,
              "version_minor": 0
            },
            "text/plain": [
              "Similarity Calculation:   0%|          |"
            ]
          },
          "metadata": {},
          "output_type": "display_data"
        },
        {
          "data": {
            "application/vnd.jupyter.widget-view+json": {
              "model_id": "da2e69e0708d4aef9876753fb6d24c74",
              "version_major": 2,
              "version_minor": 0
            },
            "text/plain": [
              "Patch Mapping:   0%|          |"
            ]
          },
          "metadata": {},
          "output_type": "display_data"
        },
        {
          "name": "stdout",
          "output_type": "stream",
          "text": [
            "shapes of images:  (336, 336) (336, 336)\n"
          ]
        },
        {
          "data": {
            "application/vnd.jupyter.widget-view+json": {
              "model_id": "96853ed3784147058cc7b78e057e1222",
              "version_major": 2,
              "version_minor": 0
            },
            "text/plain": [
              "Image Augmentation:   0%|          |"
            ]
          },
          "metadata": {},
          "output_type": "display_data"
        },
        {
          "data": {
            "application/vnd.jupyter.widget-view+json": {
              "model_id": "ffcaea8c823a4ed6b604d99a62bac340",
              "version_major": 2,
              "version_minor": 0
            },
            "text/plain": [
              "Similarity Calculation:   0%|          |"
            ]
          },
          "metadata": {},
          "output_type": "display_data"
        },
        {
          "data": {
            "application/vnd.jupyter.widget-view+json": {
              "model_id": "db572b08e8e047fca9a4a22cb04c0080",
              "version_major": 2,
              "version_minor": 0
            },
            "text/plain": [
              "Patch Mapping:   0%|          |"
            ]
          },
          "metadata": {},
          "output_type": "display_data"
        },
        {
          "name": "stdout",
          "output_type": "stream",
          "text": [
            "shapes of images:  (336, 336) (336, 336)\n"
          ]
        },
        {
          "data": {
            "application/vnd.jupyter.widget-view+json": {
              "model_id": "72ff4a05ad4947618b8459004f18da07",
              "version_major": 2,
              "version_minor": 0
            },
            "text/plain": [
              "Image Augmentation:   0%|          |"
            ]
          },
          "metadata": {},
          "output_type": "display_data"
        },
        {
          "data": {
            "application/vnd.jupyter.widget-view+json": {
              "model_id": "41cc368b727a40a1b4b18d830d6d8791",
              "version_major": 2,
              "version_minor": 0
            },
            "text/plain": [
              "Similarity Calculation:   0%|          |"
            ]
          },
          "metadata": {},
          "output_type": "display_data"
        },
        {
          "data": {
            "application/vnd.jupyter.widget-view+json": {
              "model_id": "0f49a0e812654948895f9fe3cd71a960",
              "version_major": 2,
              "version_minor": 0
            },
            "text/plain": [
              "Patch Mapping:   0%|          |"
            ]
          },
          "metadata": {},
          "output_type": "display_data"
        },
        {
          "name": "stdout",
          "output_type": "stream",
          "text": [
            "shapes of images:  (336, 336) (336, 336)\n"
          ]
        },
        {
          "data": {
            "application/vnd.jupyter.widget-view+json": {
              "model_id": "f2f6aaa68c224ce293936bc9b88e25a8",
              "version_major": 2,
              "version_minor": 0
            },
            "text/plain": [
              "Image Augmentation:   0%|          |"
            ]
          },
          "metadata": {},
          "output_type": "display_data"
        },
        {
          "data": {
            "application/vnd.jupyter.widget-view+json": {
              "model_id": "fac7904654624dca8f0aef8649cef04d",
              "version_major": 2,
              "version_minor": 0
            },
            "text/plain": [
              "Similarity Calculation:   0%|          |"
            ]
          },
          "metadata": {},
          "output_type": "display_data"
        },
        {
          "data": {
            "application/vnd.jupyter.widget-view+json": {
              "model_id": "60aaee1d7ef74ae1bd72ef3f600616c5",
              "version_major": 2,
              "version_minor": 0
            },
            "text/plain": [
              "Patch Mapping:   0%|          |"
            ]
          },
          "metadata": {},
          "output_type": "display_data"
        },
        {
          "name": "stdout",
          "output_type": "stream",
          "text": [
            "shapes of images:  (336, 336) (336, 336)\n"
          ]
        },
        {
          "data": {
            "application/vnd.jupyter.widget-view+json": {
              "model_id": "394cce47c07443e2aba0477ce03fe72f",
              "version_major": 2,
              "version_minor": 0
            },
            "text/plain": [
              "Image Augmentation:   0%|          |"
            ]
          },
          "metadata": {},
          "output_type": "display_data"
        },
        {
          "data": {
            "application/vnd.jupyter.widget-view+json": {
              "model_id": "7bfb33fcc1d44d118a18f4d8a0aad7b1",
              "version_major": 2,
              "version_minor": 0
            },
            "text/plain": [
              "Similarity Calculation:   0%|          |"
            ]
          },
          "metadata": {},
          "output_type": "display_data"
        },
        {
          "data": {
            "application/vnd.jupyter.widget-view+json": {
              "model_id": "c50544fea231473a9b5a64ecc03c3825",
              "version_major": 2,
              "version_minor": 0
            },
            "text/plain": [
              "Patch Mapping:   0%|          |"
            ]
          },
          "metadata": {},
          "output_type": "display_data"
        },
        {
          "name": "stdout",
          "output_type": "stream",
          "text": [
            "shapes of images:  (336, 336) (336, 336)\n"
          ]
        },
        {
          "data": {
            "application/vnd.jupyter.widget-view+json": {
              "model_id": "e649cf81b57b43249302bc389bd940ad",
              "version_major": 2,
              "version_minor": 0
            },
            "text/plain": [
              "Image Augmentation:   0%|          |"
            ]
          },
          "metadata": {},
          "output_type": "display_data"
        },
        {
          "data": {
            "application/vnd.jupyter.widget-view+json": {
              "model_id": "63aecfb305164f2caf0236c13b6e7f3f",
              "version_major": 2,
              "version_minor": 0
            },
            "text/plain": [
              "Similarity Calculation:   0%|          |"
            ]
          },
          "metadata": {},
          "output_type": "display_data"
        },
        {
          "data": {
            "application/vnd.jupyter.widget-view+json": {
              "model_id": "66e689a764924431b6c33b2558f70e43",
              "version_major": 2,
              "version_minor": 0
            },
            "text/plain": [
              "Patch Mapping:   0%|          |"
            ]
          },
          "metadata": {},
          "output_type": "display_data"
        },
        {
          "name": "stdout",
          "output_type": "stream",
          "text": [
            "shapes of images:  (336, 336) (336, 336)\n"
          ]
        },
        {
          "data": {
            "application/vnd.jupyter.widget-view+json": {
              "model_id": "eb77f49e89c848f2b4ff807c99368f57",
              "version_major": 2,
              "version_minor": 0
            },
            "text/plain": [
              "Image Augmentation:   0%|          |"
            ]
          },
          "metadata": {},
          "output_type": "display_data"
        },
        {
          "data": {
            "application/vnd.jupyter.widget-view+json": {
              "model_id": "cf3f56789ddb4eb69d28fda2e75152d9",
              "version_major": 2,
              "version_minor": 0
            },
            "text/plain": [
              "Similarity Calculation:   0%|          |"
            ]
          },
          "metadata": {},
          "output_type": "display_data"
        },
        {
          "data": {
            "application/vnd.jupyter.widget-view+json": {
              "model_id": "f2c2d3b10ba145cf8a4b355962784f43",
              "version_major": 2,
              "version_minor": 0
            },
            "text/plain": [
              "Patch Mapping:   0%|          |"
            ]
          },
          "metadata": {},
          "output_type": "display_data"
        },
        {
          "name": "stdout",
          "output_type": "stream",
          "text": [
            "shapes of images:  (336, 336) (336, 336)\n"
          ]
        },
        {
          "data": {
            "application/vnd.jupyter.widget-view+json": {
              "model_id": "9363280f11894a998c7c536dc7da0094",
              "version_major": 2,
              "version_minor": 0
            },
            "text/plain": [
              "Image Augmentation:   0%|          |"
            ]
          },
          "metadata": {},
          "output_type": "display_data"
        },
        {
          "data": {
            "application/vnd.jupyter.widget-view+json": {
              "model_id": "8f3d339b0c424496be266adc74638472",
              "version_major": 2,
              "version_minor": 0
            },
            "text/plain": [
              "Similarity Calculation:   0%|          |"
            ]
          },
          "metadata": {},
          "output_type": "display_data"
        },
        {
          "data": {
            "application/vnd.jupyter.widget-view+json": {
              "model_id": "e5f53c4aa1884c0cb2ba3f8f3407c981",
              "version_major": 2,
              "version_minor": 0
            },
            "text/plain": [
              "Patch Mapping:   0%|          |"
            ]
          },
          "metadata": {},
          "output_type": "display_data"
        },
        {
          "name": "stdout",
          "output_type": "stream",
          "text": [
            "shapes of images:  (336, 336) (336, 336)\n"
          ]
        },
        {
          "data": {
            "application/vnd.jupyter.widget-view+json": {
              "model_id": "77b530d3a855441b836da0fee92db2db",
              "version_major": 2,
              "version_minor": 0
            },
            "text/plain": [
              "Image Augmentation:   0%|          |"
            ]
          },
          "metadata": {},
          "output_type": "display_data"
        },
        {
          "data": {
            "application/vnd.jupyter.widget-view+json": {
              "model_id": "0fc049b10f5d4e9aba44bd8ef415859f",
              "version_major": 2,
              "version_minor": 0
            },
            "text/plain": [
              "Similarity Calculation:   0%|          |"
            ]
          },
          "metadata": {},
          "output_type": "display_data"
        },
        {
          "data": {
            "application/vnd.jupyter.widget-view+json": {
              "model_id": "64500b6b9f6749f69066bd55c6bfef7b",
              "version_major": 2,
              "version_minor": 0
            },
            "text/plain": [
              "Patch Mapping:   0%|          |"
            ]
          },
          "metadata": {},
          "output_type": "display_data"
        },
        {
          "name": "stdout",
          "output_type": "stream",
          "text": [
            "shapes of images:  (336, 336) (336, 336)\n"
          ]
        },
        {
          "data": {
            "application/vnd.jupyter.widget-view+json": {
              "model_id": "eaf0cfb7f2864bb2b60df82ed9f4db73",
              "version_major": 2,
              "version_minor": 0
            },
            "text/plain": [
              "Image Augmentation:   0%|          |"
            ]
          },
          "metadata": {},
          "output_type": "display_data"
        },
        {
          "data": {
            "application/vnd.jupyter.widget-view+json": {
              "model_id": "c323e26c80534d74a39b54849c3804ec",
              "version_major": 2,
              "version_minor": 0
            },
            "text/plain": [
              "Similarity Calculation:   0%|          |"
            ]
          },
          "metadata": {},
          "output_type": "display_data"
        },
        {
          "data": {
            "application/vnd.jupyter.widget-view+json": {
              "model_id": "78345dcd6bad49de8dd7b264f68857ab",
              "version_major": 2,
              "version_minor": 0
            },
            "text/plain": [
              "Patch Mapping:   0%|          |"
            ]
          },
          "metadata": {},
          "output_type": "display_data"
        },
        {
          "name": "stdout",
          "output_type": "stream",
          "text": [
            "shapes of images:  (336, 336) (336, 336)\n"
          ]
        },
        {
          "data": {
            "application/vnd.jupyter.widget-view+json": {
              "model_id": "738e6cb8f6ed430487ff2fd91890a99c",
              "version_major": 2,
              "version_minor": 0
            },
            "text/plain": [
              "Image Augmentation:   0%|          |"
            ]
          },
          "metadata": {},
          "output_type": "display_data"
        },
        {
          "data": {
            "application/vnd.jupyter.widget-view+json": {
              "model_id": "ea70505757be4938b143cd5fd987e177",
              "version_major": 2,
              "version_minor": 0
            },
            "text/plain": [
              "Similarity Calculation:   0%|          |"
            ]
          },
          "metadata": {},
          "output_type": "display_data"
        },
        {
          "data": {
            "application/vnd.jupyter.widget-view+json": {
              "model_id": "e68e6410988a40ecba04caa514c68e69",
              "version_major": 2,
              "version_minor": 0
            },
            "text/plain": [
              "Patch Mapping:   0%|          |"
            ]
          },
          "metadata": {},
          "output_type": "display_data"
        },
        {
          "name": "stdout",
          "output_type": "stream",
          "text": [
            "shapes of images:  (336, 336) (336, 336)\n"
          ]
        },
        {
          "data": {
            "application/vnd.jupyter.widget-view+json": {
              "model_id": "4eadce2151b34ee4b08b187d5a0ecc36",
              "version_major": 2,
              "version_minor": 0
            },
            "text/plain": [
              "Image Augmentation:   0%|          |"
            ]
          },
          "metadata": {},
          "output_type": "display_data"
        },
        {
          "data": {
            "application/vnd.jupyter.widget-view+json": {
              "model_id": "12adb6b8408f4c818e2edf31ea2d8d47",
              "version_major": 2,
              "version_minor": 0
            },
            "text/plain": [
              "Similarity Calculation:   0%|          |"
            ]
          },
          "metadata": {},
          "output_type": "display_data"
        },
        {
          "data": {
            "application/vnd.jupyter.widget-view+json": {
              "model_id": "a8f7103858b34437a42333911f8cb533",
              "version_major": 2,
              "version_minor": 0
            },
            "text/plain": [
              "Patch Mapping:   0%|          |"
            ]
          },
          "metadata": {},
          "output_type": "display_data"
        },
        {
          "name": "stdout",
          "output_type": "stream",
          "text": [
            "shapes of images:  (336, 336) (336, 336)\n"
          ]
        },
        {
          "data": {
            "application/vnd.jupyter.widget-view+json": {
              "model_id": "21c1c1f056f245a3838265cb791ac40d",
              "version_major": 2,
              "version_minor": 0
            },
            "text/plain": [
              "Image Augmentation:   0%|          |"
            ]
          },
          "metadata": {},
          "output_type": "display_data"
        },
        {
          "data": {
            "application/vnd.jupyter.widget-view+json": {
              "model_id": "2d4697bd9d5a4c8f8be45fc300eb2a5c",
              "version_major": 2,
              "version_minor": 0
            },
            "text/plain": [
              "Similarity Calculation:   0%|          |"
            ]
          },
          "metadata": {},
          "output_type": "display_data"
        },
        {
          "data": {
            "application/vnd.jupyter.widget-view+json": {
              "model_id": "1e5bad2785834aaf8fecd6e2ef94ce9e",
              "version_major": 2,
              "version_minor": 0
            },
            "text/plain": [
              "Patch Mapping:   0%|          |"
            ]
          },
          "metadata": {},
          "output_type": "display_data"
        },
        {
          "name": "stdout",
          "output_type": "stream",
          "text": [
            "shapes of images:  (336, 336) (336, 336)\n"
          ]
        },
        {
          "data": {
            "application/vnd.jupyter.widget-view+json": {
              "model_id": "4ed595a33aa2410aa32cd6ae0fef9393",
              "version_major": 2,
              "version_minor": 0
            },
            "text/plain": [
              "Image Augmentation:   0%|          |"
            ]
          },
          "metadata": {},
          "output_type": "display_data"
        },
        {
          "data": {
            "application/vnd.jupyter.widget-view+json": {
              "model_id": "647f3c3cd44d46a59839e8e243eae1d9",
              "version_major": 2,
              "version_minor": 0
            },
            "text/plain": [
              "Similarity Calculation:   0%|          |"
            ]
          },
          "metadata": {},
          "output_type": "display_data"
        },
        {
          "data": {
            "application/vnd.jupyter.widget-view+json": {
              "model_id": "5e01fb8042be4e159322c0612f342f41",
              "version_major": 2,
              "version_minor": 0
            },
            "text/plain": [
              "Patch Mapping:   0%|          |"
            ]
          },
          "metadata": {},
          "output_type": "display_data"
        },
        {
          "name": "stdout",
          "output_type": "stream",
          "text": [
            "shapes of images:  (336, 336) (336, 336)\n"
          ]
        },
        {
          "data": {
            "application/vnd.jupyter.widget-view+json": {
              "model_id": "44fb9f6bc1914cb5877f67003f517fb3",
              "version_major": 2,
              "version_minor": 0
            },
            "text/plain": [
              "Image Augmentation:   0%|          |"
            ]
          },
          "metadata": {},
          "output_type": "display_data"
        },
        {
          "data": {
            "application/vnd.jupyter.widget-view+json": {
              "model_id": "8a6e3d693e3e4a358e2912af0439e8ac",
              "version_major": 2,
              "version_minor": 0
            },
            "text/plain": [
              "Similarity Calculation:   0%|          |"
            ]
          },
          "metadata": {},
          "output_type": "display_data"
        },
        {
          "data": {
            "application/vnd.jupyter.widget-view+json": {
              "model_id": "42a9106abf8f48b6bc964f0dbb5ed0f6",
              "version_major": 2,
              "version_minor": 0
            },
            "text/plain": [
              "Patch Mapping:   0%|          |"
            ]
          },
          "metadata": {},
          "output_type": "display_data"
        },
        {
          "name": "stdout",
          "output_type": "stream",
          "text": [
            "shapes of images:  (336, 336) (336, 336)\n"
          ]
        },
        {
          "data": {
            "application/vnd.jupyter.widget-view+json": {
              "model_id": "d3b8eca294184f389060fba6ec64a078",
              "version_major": 2,
              "version_minor": 0
            },
            "text/plain": [
              "Image Augmentation:   0%|          |"
            ]
          },
          "metadata": {},
          "output_type": "display_data"
        },
        {
          "data": {
            "application/vnd.jupyter.widget-view+json": {
              "model_id": "fe7f82233baa41bd98abdf898bff27c4",
              "version_major": 2,
              "version_minor": 0
            },
            "text/plain": [
              "Similarity Calculation:   0%|          |"
            ]
          },
          "metadata": {},
          "output_type": "display_data"
        },
        {
          "data": {
            "application/vnd.jupyter.widget-view+json": {
              "model_id": "5f5d27be7f5b49aeb1b39305fd635cec",
              "version_major": 2,
              "version_minor": 0
            },
            "text/plain": [
              "Patch Mapping:   0%|          |"
            ]
          },
          "metadata": {},
          "output_type": "display_data"
        },
        {
          "name": "stdout",
          "output_type": "stream",
          "text": [
            "shapes of images:  (336, 336) (336, 336)\n"
          ]
        },
        {
          "data": {
            "application/vnd.jupyter.widget-view+json": {
              "model_id": "22927baa7fad4742a2f0bd7396ae7da2",
              "version_major": 2,
              "version_minor": 0
            },
            "text/plain": [
              "Image Augmentation:   0%|          |"
            ]
          },
          "metadata": {},
          "output_type": "display_data"
        },
        {
          "data": {
            "application/vnd.jupyter.widget-view+json": {
              "model_id": "d46b7c17ea3f4af990db28954150fa98",
              "version_major": 2,
              "version_minor": 0
            },
            "text/plain": [
              "Similarity Calculation:   0%|          |"
            ]
          },
          "metadata": {},
          "output_type": "display_data"
        },
        {
          "data": {
            "application/vnd.jupyter.widget-view+json": {
              "model_id": "580aba2482b640e6862066cb065fa0df",
              "version_major": 2,
              "version_minor": 0
            },
            "text/plain": [
              "Patch Mapping:   0%|          |"
            ]
          },
          "metadata": {},
          "output_type": "display_data"
        },
        {
          "name": "stdout",
          "output_type": "stream",
          "text": [
            "shapes of images:  (336, 336) (336, 336)\n"
          ]
        },
        {
          "data": {
            "application/vnd.jupyter.widget-view+json": {
              "model_id": "3216a837076644a29ca9b4b44307f1de",
              "version_major": 2,
              "version_minor": 0
            },
            "text/plain": [
              "Image Augmentation:   0%|          |"
            ]
          },
          "metadata": {},
          "output_type": "display_data"
        },
        {
          "data": {
            "application/vnd.jupyter.widget-view+json": {
              "model_id": "0c170c338fa8442996a4b8edbce17e1a",
              "version_major": 2,
              "version_minor": 0
            },
            "text/plain": [
              "Similarity Calculation:   0%|          |"
            ]
          },
          "metadata": {},
          "output_type": "display_data"
        },
        {
          "data": {
            "application/vnd.jupyter.widget-view+json": {
              "model_id": "2d1106cb9f8c40f399bd65c2a82d4900",
              "version_major": 2,
              "version_minor": 0
            },
            "text/plain": [
              "Patch Mapping:   0%|          |"
            ]
          },
          "metadata": {},
          "output_type": "display_data"
        },
        {
          "name": "stdout",
          "output_type": "stream",
          "text": [
            "shapes of images:  (336, 336) (336, 336)\n"
          ]
        },
        {
          "data": {
            "application/vnd.jupyter.widget-view+json": {
              "model_id": "534910611c2b4a6bb3722adf45e30e47",
              "version_major": 2,
              "version_minor": 0
            },
            "text/plain": [
              "Image Augmentation:   0%|          |"
            ]
          },
          "metadata": {},
          "output_type": "display_data"
        },
        {
          "data": {
            "application/vnd.jupyter.widget-view+json": {
              "model_id": "3254743965e44365aea43fc8c4cd3cc5",
              "version_major": 2,
              "version_minor": 0
            },
            "text/plain": [
              "Similarity Calculation:   0%|          |"
            ]
          },
          "metadata": {},
          "output_type": "display_data"
        },
        {
          "data": {
            "application/vnd.jupyter.widget-view+json": {
              "model_id": "cb2df425ed744bda8f2a75a29271c902",
              "version_major": 2,
              "version_minor": 0
            },
            "text/plain": [
              "Patch Mapping:   0%|          |"
            ]
          },
          "metadata": {},
          "output_type": "display_data"
        },
        {
          "name": "stdout",
          "output_type": "stream",
          "text": [
            "shapes of images:  (336, 336) (336, 336)\n"
          ]
        },
        {
          "data": {
            "application/vnd.jupyter.widget-view+json": {
              "model_id": "8235b44c493d4256abfda9c024f96b67",
              "version_major": 2,
              "version_minor": 0
            },
            "text/plain": [
              "Image Augmentation:   0%|          |"
            ]
          },
          "metadata": {},
          "output_type": "display_data"
        },
        {
          "data": {
            "application/vnd.jupyter.widget-view+json": {
              "model_id": "21f269745fae4ffd844f1be651d30467",
              "version_major": 2,
              "version_minor": 0
            },
            "text/plain": [
              "Similarity Calculation:   0%|          |"
            ]
          },
          "metadata": {},
          "output_type": "display_data"
        },
        {
          "data": {
            "application/vnd.jupyter.widget-view+json": {
              "model_id": "e43a3911d9ac45debdbf482adc14d647",
              "version_major": 2,
              "version_minor": 0
            },
            "text/plain": [
              "Patch Mapping:   0%|          |"
            ]
          },
          "metadata": {},
          "output_type": "display_data"
        },
        {
          "name": "stdout",
          "output_type": "stream",
          "text": [
            "shapes of images:  (336, 336) (336, 336)\n"
          ]
        },
        {
          "data": {
            "application/vnd.jupyter.widget-view+json": {
              "model_id": "5fc2024115ff4a94b774b5d30f0c1b1f",
              "version_major": 2,
              "version_minor": 0
            },
            "text/plain": [
              "Image Augmentation:   0%|          |"
            ]
          },
          "metadata": {},
          "output_type": "display_data"
        },
        {
          "data": {
            "application/vnd.jupyter.widget-view+json": {
              "model_id": "176cf7c27534413d9e09f0c41d6d1b3d",
              "version_major": 2,
              "version_minor": 0
            },
            "text/plain": [
              "Similarity Calculation:   0%|          |"
            ]
          },
          "metadata": {},
          "output_type": "display_data"
        },
        {
          "data": {
            "application/vnd.jupyter.widget-view+json": {
              "model_id": "4885aaaf8e8c4978b9e001eeeff71c87",
              "version_major": 2,
              "version_minor": 0
            },
            "text/plain": [
              "Patch Mapping:   0%|          |"
            ]
          },
          "metadata": {},
          "output_type": "display_data"
        },
        {
          "name": "stdout",
          "output_type": "stream",
          "text": [
            "shapes of images:  (336, 336) (336, 336)\n"
          ]
        },
        {
          "data": {
            "application/vnd.jupyter.widget-view+json": {
              "model_id": "6efb9d5f6b4741fe8c078b0c8600a456",
              "version_major": 2,
              "version_minor": 0
            },
            "text/plain": [
              "Image Augmentation:   0%|          |"
            ]
          },
          "metadata": {},
          "output_type": "display_data"
        },
        {
          "data": {
            "application/vnd.jupyter.widget-view+json": {
              "model_id": "98c325e96b4e444592d68834edf2fb62",
              "version_major": 2,
              "version_minor": 0
            },
            "text/plain": [
              "Similarity Calculation:   0%|          |"
            ]
          },
          "metadata": {},
          "output_type": "display_data"
        },
        {
          "data": {
            "application/vnd.jupyter.widget-view+json": {
              "model_id": "11127dd8533b441195e1764cb7070d47",
              "version_major": 2,
              "version_minor": 0
            },
            "text/plain": [
              "Patch Mapping:   0%|          |"
            ]
          },
          "metadata": {},
          "output_type": "display_data"
        },
        {
          "name": "stdout",
          "output_type": "stream",
          "text": [
            "shapes of images:  (336, 336) (336, 336)\n"
          ]
        },
        {
          "data": {
            "application/vnd.jupyter.widget-view+json": {
              "model_id": "db790598f9e248739a6802ab747e9901",
              "version_major": 2,
              "version_minor": 0
            },
            "text/plain": [
              "Image Augmentation:   0%|          |"
            ]
          },
          "metadata": {},
          "output_type": "display_data"
        },
        {
          "data": {
            "application/vnd.jupyter.widget-view+json": {
              "model_id": "cd20f727dbe54be5b0f6d9c0895defd6",
              "version_major": 2,
              "version_minor": 0
            },
            "text/plain": [
              "Similarity Calculation:   0%|          |"
            ]
          },
          "metadata": {},
          "output_type": "display_data"
        },
        {
          "data": {
            "application/vnd.jupyter.widget-view+json": {
              "model_id": "7422c206c9164393aa5d29837d6e7ddc",
              "version_major": 2,
              "version_minor": 0
            },
            "text/plain": [
              "Patch Mapping:   0%|          |"
            ]
          },
          "metadata": {},
          "output_type": "display_data"
        },
        {
          "name": "stdout",
          "output_type": "stream",
          "text": [
            "shapes of images:  (336, 336) (336, 336)\n"
          ]
        },
        {
          "data": {
            "application/vnd.jupyter.widget-view+json": {
              "model_id": "c1c45ec0668c4e20955169cde8b5222b",
              "version_major": 2,
              "version_minor": 0
            },
            "text/plain": [
              "Image Augmentation:   0%|          |"
            ]
          },
          "metadata": {},
          "output_type": "display_data"
        },
        {
          "data": {
            "application/vnd.jupyter.widget-view+json": {
              "model_id": "5aa0d8a85585402280aa8c45d7d7c9f1",
              "version_major": 2,
              "version_minor": 0
            },
            "text/plain": [
              "Similarity Calculation:   0%|          |"
            ]
          },
          "metadata": {},
          "output_type": "display_data"
        },
        {
          "data": {
            "application/vnd.jupyter.widget-view+json": {
              "model_id": "13d914922b4f450e8e7ef6640dc6e00d",
              "version_major": 2,
              "version_minor": 0
            },
            "text/plain": [
              "Patch Mapping:   0%|          |"
            ]
          },
          "metadata": {},
          "output_type": "display_data"
        },
        {
          "name": "stdout",
          "output_type": "stream",
          "text": [
            "shapes of images:  (336, 336) (336, 336)\n"
          ]
        },
        {
          "data": {
            "application/vnd.jupyter.widget-view+json": {
              "model_id": "3037482f1d9742d683e263ebfbef75b3",
              "version_major": 2,
              "version_minor": 0
            },
            "text/plain": [
              "Image Augmentation:   0%|          |"
            ]
          },
          "metadata": {},
          "output_type": "display_data"
        },
        {
          "data": {
            "application/vnd.jupyter.widget-view+json": {
              "model_id": "e6c28a985cd44393824fea4f11ed1b4c",
              "version_major": 2,
              "version_minor": 0
            },
            "text/plain": [
              "Similarity Calculation:   0%|          |"
            ]
          },
          "metadata": {},
          "output_type": "display_data"
        },
        {
          "data": {
            "application/vnd.jupyter.widget-view+json": {
              "model_id": "a699ef6a73c24801b481b4a66d8decff",
              "version_major": 2,
              "version_minor": 0
            },
            "text/plain": [
              "Patch Mapping:   0%|          |"
            ]
          },
          "metadata": {},
          "output_type": "display_data"
        },
        {
          "name": "stdout",
          "output_type": "stream",
          "text": [
            "shapes of images:  (336, 336) (336, 336)\n"
          ]
        },
        {
          "data": {
            "application/vnd.jupyter.widget-view+json": {
              "model_id": "ad86947c053a4830a0438eadf152c644",
              "version_major": 2,
              "version_minor": 0
            },
            "text/plain": [
              "Image Augmentation:   0%|          |"
            ]
          },
          "metadata": {},
          "output_type": "display_data"
        },
        {
          "data": {
            "application/vnd.jupyter.widget-view+json": {
              "model_id": "ec9478d9999e4b8682d90d1c836f4277",
              "version_major": 2,
              "version_minor": 0
            },
            "text/plain": [
              "Similarity Calculation:   0%|          |"
            ]
          },
          "metadata": {},
          "output_type": "display_data"
        },
        {
          "data": {
            "application/vnd.jupyter.widget-view+json": {
              "model_id": "b42b5ce50c514aee8deef10a13eef50d",
              "version_major": 2,
              "version_minor": 0
            },
            "text/plain": [
              "Patch Mapping:   0%|          |"
            ]
          },
          "metadata": {},
          "output_type": "display_data"
        },
        {
          "name": "stdout",
          "output_type": "stream",
          "text": [
            "shapes of images:  (336, 336) (336, 336)\n"
          ]
        },
        {
          "data": {
            "application/vnd.jupyter.widget-view+json": {
              "model_id": "767ff6be645b48b5a083f06ca26631ad",
              "version_major": 2,
              "version_minor": 0
            },
            "text/plain": [
              "Image Augmentation:   0%|          |"
            ]
          },
          "metadata": {},
          "output_type": "display_data"
        },
        {
          "data": {
            "application/vnd.jupyter.widget-view+json": {
              "model_id": "7c1e9cde76f34b6a97046029117d56dc",
              "version_major": 2,
              "version_minor": 0
            },
            "text/plain": [
              "Similarity Calculation:   0%|          |"
            ]
          },
          "metadata": {},
          "output_type": "display_data"
        },
        {
          "data": {
            "application/vnd.jupyter.widget-view+json": {
              "model_id": "99552c7be1a54397b9db633a7403eefe",
              "version_major": 2,
              "version_minor": 0
            },
            "text/plain": [
              "Patch Mapping:   0%|          |"
            ]
          },
          "metadata": {},
          "output_type": "display_data"
        },
        {
          "name": "stdout",
          "output_type": "stream",
          "text": [
            "shapes of images:  (336, 336) (336, 336)\n"
          ]
        },
        {
          "data": {
            "application/vnd.jupyter.widget-view+json": {
              "model_id": "65c9ea5ed8dd44daa5fb51592da2bb52",
              "version_major": 2,
              "version_minor": 0
            },
            "text/plain": [
              "Image Augmentation:   0%|          |"
            ]
          },
          "metadata": {},
          "output_type": "display_data"
        },
        {
          "data": {
            "application/vnd.jupyter.widget-view+json": {
              "model_id": "f715c6fbd843428f87ed6614db6f8809",
              "version_major": 2,
              "version_minor": 0
            },
            "text/plain": [
              "Similarity Calculation:   0%|          |"
            ]
          },
          "metadata": {},
          "output_type": "display_data"
        },
        {
          "data": {
            "application/vnd.jupyter.widget-view+json": {
              "model_id": "edd8820c6153434b9bef2765cfc49877",
              "version_major": 2,
              "version_minor": 0
            },
            "text/plain": [
              "Patch Mapping:   0%|          |"
            ]
          },
          "metadata": {},
          "output_type": "display_data"
        },
        {
          "name": "stdout",
          "output_type": "stream",
          "text": [
            "shapes of images:  (336, 336) (336, 336)\n"
          ]
        },
        {
          "data": {
            "application/vnd.jupyter.widget-view+json": {
              "model_id": "4d05b6a359fa487a9896ac58ff33fe8a",
              "version_major": 2,
              "version_minor": 0
            },
            "text/plain": [
              "Image Augmentation:   0%|          |"
            ]
          },
          "metadata": {},
          "output_type": "display_data"
        },
        {
          "data": {
            "application/vnd.jupyter.widget-view+json": {
              "model_id": "da9b44147c52425ca69f449841b4f2a7",
              "version_major": 2,
              "version_minor": 0
            },
            "text/plain": [
              "Similarity Calculation:   0%|          |"
            ]
          },
          "metadata": {},
          "output_type": "display_data"
        },
        {
          "data": {
            "application/vnd.jupyter.widget-view+json": {
              "model_id": "e3a86f6af9314295ba70f363cb0a890c",
              "version_major": 2,
              "version_minor": 0
            },
            "text/plain": [
              "Patch Mapping:   0%|          |"
            ]
          },
          "metadata": {},
          "output_type": "display_data"
        },
        {
          "name": "stdout",
          "output_type": "stream",
          "text": [
            "shapes of images:  (336, 336) (336, 336)\n"
          ]
        },
        {
          "data": {
            "application/vnd.jupyter.widget-view+json": {
              "model_id": "f0d5f5f41b774e02924d1214eae98ac0",
              "version_major": 2,
              "version_minor": 0
            },
            "text/plain": [
              "Image Augmentation:   0%|          |"
            ]
          },
          "metadata": {},
          "output_type": "display_data"
        },
        {
          "data": {
            "application/vnd.jupyter.widget-view+json": {
              "model_id": "711dff1a3f14470591e2dc5d13fc3db0",
              "version_major": 2,
              "version_minor": 0
            },
            "text/plain": [
              "Similarity Calculation:   0%|          |"
            ]
          },
          "metadata": {},
          "output_type": "display_data"
        },
        {
          "data": {
            "application/vnd.jupyter.widget-view+json": {
              "model_id": "bd72e7ddcbba4dc49dc4634783f28bc3",
              "version_major": 2,
              "version_minor": 0
            },
            "text/plain": [
              "Patch Mapping:   0%|          |"
            ]
          },
          "metadata": {},
          "output_type": "display_data"
        },
        {
          "name": "stdout",
          "output_type": "stream",
          "text": [
            "shapes of images:  (336, 336) (336, 336)\n"
          ]
        },
        {
          "data": {
            "application/vnd.jupyter.widget-view+json": {
              "model_id": "168f6ef846674c82aa66e802a4ccf8c6",
              "version_major": 2,
              "version_minor": 0
            },
            "text/plain": [
              "Image Augmentation:   0%|          |"
            ]
          },
          "metadata": {},
          "output_type": "display_data"
        },
        {
          "data": {
            "application/vnd.jupyter.widget-view+json": {
              "model_id": "0e6c767442fc44a2b11ab8a189ff13c4",
              "version_major": 2,
              "version_minor": 0
            },
            "text/plain": [
              "Similarity Calculation:   0%|          |"
            ]
          },
          "metadata": {},
          "output_type": "display_data"
        },
        {
          "data": {
            "application/vnd.jupyter.widget-view+json": {
              "model_id": "8af0ee0eae35429c97130b5898b42311",
              "version_major": 2,
              "version_minor": 0
            },
            "text/plain": [
              "Patch Mapping:   0%|          |"
            ]
          },
          "metadata": {},
          "output_type": "display_data"
        },
        {
          "name": "stdout",
          "output_type": "stream",
          "text": [
            "shapes of images:  (336, 336) (336, 336)\n"
          ]
        },
        {
          "data": {
            "application/vnd.jupyter.widget-view+json": {
              "model_id": "f03e8961c70c40e8be3a4557a5033d4a",
              "version_major": 2,
              "version_minor": 0
            },
            "text/plain": [
              "Image Augmentation:   0%|          |"
            ]
          },
          "metadata": {},
          "output_type": "display_data"
        },
        {
          "data": {
            "application/vnd.jupyter.widget-view+json": {
              "model_id": "97031360d6154774a2ba76b9b6f579b8",
              "version_major": 2,
              "version_minor": 0
            },
            "text/plain": [
              "Similarity Calculation:   0%|          |"
            ]
          },
          "metadata": {},
          "output_type": "display_data"
        },
        {
          "data": {
            "application/vnd.jupyter.widget-view+json": {
              "model_id": "d44ea6dcad3442c0a77e7757e2f1a664",
              "version_major": 2,
              "version_minor": 0
            },
            "text/plain": [
              "Patch Mapping:   0%|          |"
            ]
          },
          "metadata": {},
          "output_type": "display_data"
        },
        {
          "name": "stdout",
          "output_type": "stream",
          "text": [
            "shapes of images:  (336, 336) (336, 336)\n"
          ]
        },
        {
          "data": {
            "application/vnd.jupyter.widget-view+json": {
              "model_id": "abf5e67e78d442adb2dc13223006feb6",
              "version_major": 2,
              "version_minor": 0
            },
            "text/plain": [
              "Image Augmentation:   0%|          |"
            ]
          },
          "metadata": {},
          "output_type": "display_data"
        },
        {
          "data": {
            "application/vnd.jupyter.widget-view+json": {
              "model_id": "7c1fa0fb61494d8890777a864141e0af",
              "version_major": 2,
              "version_minor": 0
            },
            "text/plain": [
              "Similarity Calculation:   0%|          |"
            ]
          },
          "metadata": {},
          "output_type": "display_data"
        },
        {
          "data": {
            "application/vnd.jupyter.widget-view+json": {
              "model_id": "3ab51711d4fc43f988b5a651d066b931",
              "version_major": 2,
              "version_minor": 0
            },
            "text/plain": [
              "Patch Mapping:   0%|          |"
            ]
          },
          "metadata": {},
          "output_type": "display_data"
        },
        {
          "name": "stdout",
          "output_type": "stream",
          "text": [
            "shapes of images:  (336, 336) (336, 336)\n"
          ]
        },
        {
          "data": {
            "application/vnd.jupyter.widget-view+json": {
              "model_id": "5bc3bf4d733946ff88b589e5d4600dd9",
              "version_major": 2,
              "version_minor": 0
            },
            "text/plain": [
              "Image Augmentation:   0%|          |"
            ]
          },
          "metadata": {},
          "output_type": "display_data"
        },
        {
          "data": {
            "application/vnd.jupyter.widget-view+json": {
              "model_id": "83b389d71a8447318b73fefb2d75785f",
              "version_major": 2,
              "version_minor": 0
            },
            "text/plain": [
              "Similarity Calculation:   0%|          |"
            ]
          },
          "metadata": {},
          "output_type": "display_data"
        },
        {
          "data": {
            "application/vnd.jupyter.widget-view+json": {
              "model_id": "09af49c653384a16ac6ba7f7f2a284a5",
              "version_major": 2,
              "version_minor": 0
            },
            "text/plain": [
              "Patch Mapping:   0%|          |"
            ]
          },
          "metadata": {},
          "output_type": "display_data"
        },
        {
          "name": "stdout",
          "output_type": "stream",
          "text": [
            "shapes of images:  (336, 336) (336, 336)\n"
          ]
        },
        {
          "data": {
            "application/vnd.jupyter.widget-view+json": {
              "model_id": "600a87d9e20d47edb8040c4541844105",
              "version_major": 2,
              "version_minor": 0
            },
            "text/plain": [
              "Image Augmentation:   0%|          |"
            ]
          },
          "metadata": {},
          "output_type": "display_data"
        },
        {
          "data": {
            "application/vnd.jupyter.widget-view+json": {
              "model_id": "002a4864bc7d40c1890663576c0c9b22",
              "version_major": 2,
              "version_minor": 0
            },
            "text/plain": [
              "Similarity Calculation:   0%|          |"
            ]
          },
          "metadata": {},
          "output_type": "display_data"
        },
        {
          "data": {
            "application/vnd.jupyter.widget-view+json": {
              "model_id": "3ecd89de089049cd8fa8c933f035d42e",
              "version_major": 2,
              "version_minor": 0
            },
            "text/plain": [
              "Patch Mapping:   0%|          |"
            ]
          },
          "metadata": {},
          "output_type": "display_data"
        },
        {
          "name": "stdout",
          "output_type": "stream",
          "text": [
            "shapes of images:  (336, 336) (336, 336)\n"
          ]
        },
        {
          "data": {
            "application/vnd.jupyter.widget-view+json": {
              "model_id": "b5687de17ae545318641cce354e9d371",
              "version_major": 2,
              "version_minor": 0
            },
            "text/plain": [
              "Image Augmentation:   0%|          |"
            ]
          },
          "metadata": {},
          "output_type": "display_data"
        },
        {
          "data": {
            "application/vnd.jupyter.widget-view+json": {
              "model_id": "d7578f18e26048a294909009997557e3",
              "version_major": 2,
              "version_minor": 0
            },
            "text/plain": [
              "Similarity Calculation:   0%|          |"
            ]
          },
          "metadata": {},
          "output_type": "display_data"
        },
        {
          "data": {
            "application/vnd.jupyter.widget-view+json": {
              "model_id": "1d4d2669c4ce4e31824a0fb732863894",
              "version_major": 2,
              "version_minor": 0
            },
            "text/plain": [
              "Patch Mapping:   0%|          |"
            ]
          },
          "metadata": {},
          "output_type": "display_data"
        },
        {
          "name": "stdout",
          "output_type": "stream",
          "text": [
            "shapes of images:  (336, 336) (336, 336)\n"
          ]
        },
        {
          "data": {
            "application/vnd.jupyter.widget-view+json": {
              "model_id": "dd52b993a4ed41aab0e81ca6adb7628b",
              "version_major": 2,
              "version_minor": 0
            },
            "text/plain": [
              "Image Augmentation:   0%|          |"
            ]
          },
          "metadata": {},
          "output_type": "display_data"
        },
        {
          "data": {
            "application/vnd.jupyter.widget-view+json": {
              "model_id": "7245bdb8d21b4c2babf221d26ec9db83",
              "version_major": 2,
              "version_minor": 0
            },
            "text/plain": [
              "Similarity Calculation:   0%|          |"
            ]
          },
          "metadata": {},
          "output_type": "display_data"
        },
        {
          "data": {
            "application/vnd.jupyter.widget-view+json": {
              "model_id": "9162a6fbb5ae46bd9b2fe01cce8f50cb",
              "version_major": 2,
              "version_minor": 0
            },
            "text/plain": [
              "Patch Mapping:   0%|          |"
            ]
          },
          "metadata": {},
          "output_type": "display_data"
        },
        {
          "name": "stdout",
          "output_type": "stream",
          "text": [
            "shapes of images:  (336, 336) (336, 336)\n"
          ]
        },
        {
          "data": {
            "application/vnd.jupyter.widget-view+json": {
              "model_id": "5630c064008d4d3baec4fdd2c1a39f71",
              "version_major": 2,
              "version_minor": 0
            },
            "text/plain": [
              "Image Augmentation:   0%|          |"
            ]
          },
          "metadata": {},
          "output_type": "display_data"
        },
        {
          "data": {
            "application/vnd.jupyter.widget-view+json": {
              "model_id": "7f6ced44d1634de590720f1740374884",
              "version_major": 2,
              "version_minor": 0
            },
            "text/plain": [
              "Similarity Calculation:   0%|          |"
            ]
          },
          "metadata": {},
          "output_type": "display_data"
        },
        {
          "data": {
            "application/vnd.jupyter.widget-view+json": {
              "model_id": "c4687e605600459dbbe028d109df1a3a",
              "version_major": 2,
              "version_minor": 0
            },
            "text/plain": [
              "Patch Mapping:   0%|          |"
            ]
          },
          "metadata": {},
          "output_type": "display_data"
        },
        {
          "name": "stdout",
          "output_type": "stream",
          "text": [
            "shapes of images:  (336, 336) (336, 336)\n"
          ]
        },
        {
          "data": {
            "application/vnd.jupyter.widget-view+json": {
              "model_id": "51d330634e8b4d7e8824c896f6a13a76",
              "version_major": 2,
              "version_minor": 0
            },
            "text/plain": [
              "Image Augmentation:   0%|          |"
            ]
          },
          "metadata": {},
          "output_type": "display_data"
        },
        {
          "data": {
            "application/vnd.jupyter.widget-view+json": {
              "model_id": "f62a8ffee9ef460da103b057d5b7f51f",
              "version_major": 2,
              "version_minor": 0
            },
            "text/plain": [
              "Similarity Calculation:   0%|          |"
            ]
          },
          "metadata": {},
          "output_type": "display_data"
        },
        {
          "data": {
            "application/vnd.jupyter.widget-view+json": {
              "model_id": "3ebf7735a90349ba966112cc3c258f37",
              "version_major": 2,
              "version_minor": 0
            },
            "text/plain": [
              "Patch Mapping:   0%|          |"
            ]
          },
          "metadata": {},
          "output_type": "display_data"
        },
        {
          "name": "stdout",
          "output_type": "stream",
          "text": [
            "shapes of images:  (336, 336) (336, 336)\n"
          ]
        },
        {
          "data": {
            "application/vnd.jupyter.widget-view+json": {
              "model_id": "9923eefe63b848cb95affd10ac0f9386",
              "version_major": 2,
              "version_minor": 0
            },
            "text/plain": [
              "Image Augmentation:   0%|          |"
            ]
          },
          "metadata": {},
          "output_type": "display_data"
        },
        {
          "data": {
            "application/vnd.jupyter.widget-view+json": {
              "model_id": "a71be5e9c1b4449bb59126f1eec88c9c",
              "version_major": 2,
              "version_minor": 0
            },
            "text/plain": [
              "Similarity Calculation:   0%|          |"
            ]
          },
          "metadata": {},
          "output_type": "display_data"
        },
        {
          "data": {
            "application/vnd.jupyter.widget-view+json": {
              "model_id": "85f9e832dc4f4982933c100a575260c7",
              "version_major": 2,
              "version_minor": 0
            },
            "text/plain": [
              "Patch Mapping:   0%|          |"
            ]
          },
          "metadata": {},
          "output_type": "display_data"
        },
        {
          "name": "stdout",
          "output_type": "stream",
          "text": [
            "shapes of images:  (336, 336) (336, 336)\n"
          ]
        },
        {
          "data": {
            "application/vnd.jupyter.widget-view+json": {
              "model_id": "403ffa9c361c493197d85e5beebfbfd1",
              "version_major": 2,
              "version_minor": 0
            },
            "text/plain": [
              "Image Augmentation:   0%|          |"
            ]
          },
          "metadata": {},
          "output_type": "display_data"
        },
        {
          "data": {
            "application/vnd.jupyter.widget-view+json": {
              "model_id": "3b5ac1fc8ede48e086dbc2cffe2da569",
              "version_major": 2,
              "version_minor": 0
            },
            "text/plain": [
              "Similarity Calculation:   0%|          |"
            ]
          },
          "metadata": {},
          "output_type": "display_data"
        },
        {
          "data": {
            "application/vnd.jupyter.widget-view+json": {
              "model_id": "fec84506839749f38c2572d760ca3540",
              "version_major": 2,
              "version_minor": 0
            },
            "text/plain": [
              "Patch Mapping:   0%|          |"
            ]
          },
          "metadata": {},
          "output_type": "display_data"
        },
        {
          "name": "stdout",
          "output_type": "stream",
          "text": [
            "shapes of images:  (336, 336) (336, 336)\n"
          ]
        },
        {
          "data": {
            "application/vnd.jupyter.widget-view+json": {
              "model_id": "acddcfa5021c44bd8bb5425aafc8a99d",
              "version_major": 2,
              "version_minor": 0
            },
            "text/plain": [
              "Image Augmentation:   0%|          |"
            ]
          },
          "metadata": {},
          "output_type": "display_data"
        },
        {
          "data": {
            "application/vnd.jupyter.widget-view+json": {
              "model_id": "3d93328023054e509c1ec7253802e451",
              "version_major": 2,
              "version_minor": 0
            },
            "text/plain": [
              "Similarity Calculation:   0%|          |"
            ]
          },
          "metadata": {},
          "output_type": "display_data"
        },
        {
          "data": {
            "application/vnd.jupyter.widget-view+json": {
              "model_id": "af567762b0e24239a8f5a780e86dd8a5",
              "version_major": 2,
              "version_minor": 0
            },
            "text/plain": [
              "Patch Mapping:   0%|          |"
            ]
          },
          "metadata": {},
          "output_type": "display_data"
        },
        {
          "name": "stdout",
          "output_type": "stream",
          "text": [
            "shapes of images:  (336, 336) (336, 336)\n"
          ]
        },
        {
          "data": {
            "application/vnd.jupyter.widget-view+json": {
              "model_id": "12ae1c298dbd4671be09d2e45d73e322",
              "version_major": 2,
              "version_minor": 0
            },
            "text/plain": [
              "Image Augmentation:   0%|          |"
            ]
          },
          "metadata": {},
          "output_type": "display_data"
        },
        {
          "data": {
            "application/vnd.jupyter.widget-view+json": {
              "model_id": "f13aed17e43b4335949fe65c1c8868df",
              "version_major": 2,
              "version_minor": 0
            },
            "text/plain": [
              "Similarity Calculation:   0%|          |"
            ]
          },
          "metadata": {},
          "output_type": "display_data"
        },
        {
          "data": {
            "application/vnd.jupyter.widget-view+json": {
              "model_id": "0881b8e53f6b4a89b17b155dd97a51ed",
              "version_major": 2,
              "version_minor": 0
            },
            "text/plain": [
              "Patch Mapping:   0%|          |"
            ]
          },
          "metadata": {},
          "output_type": "display_data"
        },
        {
          "name": "stdout",
          "output_type": "stream",
          "text": [
            "shapes of images:  (336, 336) (336, 336)\n"
          ]
        },
        {
          "data": {
            "application/vnd.jupyter.widget-view+json": {
              "model_id": "a1c82d4ce9bb46e6b963e02fec88d8e7",
              "version_major": 2,
              "version_minor": 0
            },
            "text/plain": [
              "Image Augmentation:   0%|          |"
            ]
          },
          "metadata": {},
          "output_type": "display_data"
        },
        {
          "data": {
            "application/vnd.jupyter.widget-view+json": {
              "model_id": "1fd138332cbb4938ad25f4b64ef22c17",
              "version_major": 2,
              "version_minor": 0
            },
            "text/plain": [
              "Similarity Calculation:   0%|          |"
            ]
          },
          "metadata": {},
          "output_type": "display_data"
        },
        {
          "data": {
            "application/vnd.jupyter.widget-view+json": {
              "model_id": "9482af9ac25b409f9614e95f0f829056",
              "version_major": 2,
              "version_minor": 0
            },
            "text/plain": [
              "Patch Mapping:   0%|          |"
            ]
          },
          "metadata": {},
          "output_type": "display_data"
        },
        {
          "name": "stdout",
          "output_type": "stream",
          "text": [
            "shapes of images:  (336, 336) (336, 336)\n"
          ]
        },
        {
          "data": {
            "application/vnd.jupyter.widget-view+json": {
              "model_id": "364f37606d05426786cb3ba5bdd9c065",
              "version_major": 2,
              "version_minor": 0
            },
            "text/plain": [
              "Image Augmentation:   0%|          |"
            ]
          },
          "metadata": {},
          "output_type": "display_data"
        },
        {
          "data": {
            "application/vnd.jupyter.widget-view+json": {
              "model_id": "61de162aa82c4e36bc7c993cd7af6427",
              "version_major": 2,
              "version_minor": 0
            },
            "text/plain": [
              "Similarity Calculation:   0%|          |"
            ]
          },
          "metadata": {},
          "output_type": "display_data"
        },
        {
          "data": {
            "application/vnd.jupyter.widget-view+json": {
              "model_id": "90700025cf2e4d24a06d7146ecd82a09",
              "version_major": 2,
              "version_minor": 0
            },
            "text/plain": [
              "Patch Mapping:   0%|          |"
            ]
          },
          "metadata": {},
          "output_type": "display_data"
        },
        {
          "name": "stdout",
          "output_type": "stream",
          "text": [
            "shapes of images:  (336, 336) (336, 336)\n"
          ]
        },
        {
          "data": {
            "application/vnd.jupyter.widget-view+json": {
              "model_id": "e446f6dd43744a08baf448288c14b4b9",
              "version_major": 2,
              "version_minor": 0
            },
            "text/plain": [
              "Image Augmentation:   0%|          |"
            ]
          },
          "metadata": {},
          "output_type": "display_data"
        },
        {
          "data": {
            "application/vnd.jupyter.widget-view+json": {
              "model_id": "de686a9469b1462e9886ba0c6f306eb1",
              "version_major": 2,
              "version_minor": 0
            },
            "text/plain": [
              "Similarity Calculation:   0%|          |"
            ]
          },
          "metadata": {},
          "output_type": "display_data"
        },
        {
          "data": {
            "application/vnd.jupyter.widget-view+json": {
              "model_id": "068b53797aee4b3eaca0cc83121d9d72",
              "version_major": 2,
              "version_minor": 0
            },
            "text/plain": [
              "Patch Mapping:   0%|          |"
            ]
          },
          "metadata": {},
          "output_type": "display_data"
        },
        {
          "name": "stdout",
          "output_type": "stream",
          "text": [
            "shapes of images:  (336, 336) (336, 336)\n"
          ]
        },
        {
          "data": {
            "application/vnd.jupyter.widget-view+json": {
              "model_id": "30b827aefe7d40ec8d286198511428a9",
              "version_major": 2,
              "version_minor": 0
            },
            "text/plain": [
              "Image Augmentation:   0%|          |"
            ]
          },
          "metadata": {},
          "output_type": "display_data"
        },
        {
          "data": {
            "application/vnd.jupyter.widget-view+json": {
              "model_id": "eef2c4425ec54e658fb5a336b3d2ca9c",
              "version_major": 2,
              "version_minor": 0
            },
            "text/plain": [
              "Similarity Calculation:   0%|          |"
            ]
          },
          "metadata": {},
          "output_type": "display_data"
        },
        {
          "data": {
            "application/vnd.jupyter.widget-view+json": {
              "model_id": "f917c29d998648a5ba386462a6cf06a9",
              "version_major": 2,
              "version_minor": 0
            },
            "text/plain": [
              "Patch Mapping:   0%|          |"
            ]
          },
          "metadata": {},
          "output_type": "display_data"
        },
        {
          "name": "stdout",
          "output_type": "stream",
          "text": [
            "shapes of images:  (336, 336) (336, 336)\n"
          ]
        },
        {
          "data": {
            "application/vnd.jupyter.widget-view+json": {
              "model_id": "7004e02141d94cafb29d75a8d93f6e33",
              "version_major": 2,
              "version_minor": 0
            },
            "text/plain": [
              "Image Augmentation:   0%|          |"
            ]
          },
          "metadata": {},
          "output_type": "display_data"
        },
        {
          "data": {
            "application/vnd.jupyter.widget-view+json": {
              "model_id": "90229b2b17774f1fabc2dff44006f089",
              "version_major": 2,
              "version_minor": 0
            },
            "text/plain": [
              "Similarity Calculation:   0%|          |"
            ]
          },
          "metadata": {},
          "output_type": "display_data"
        },
        {
          "data": {
            "application/vnd.jupyter.widget-view+json": {
              "model_id": "d5fc9f5fd68d4b1c956527c28742c57d",
              "version_major": 2,
              "version_minor": 0
            },
            "text/plain": [
              "Patch Mapping:   0%|          |"
            ]
          },
          "metadata": {},
          "output_type": "display_data"
        },
        {
          "name": "stdout",
          "output_type": "stream",
          "text": [
            "shapes of images:  (336, 336) (336, 336)\n"
          ]
        },
        {
          "data": {
            "application/vnd.jupyter.widget-view+json": {
              "model_id": "11e5a452c2274d2ea8e53c9627c6afe0",
              "version_major": 2,
              "version_minor": 0
            },
            "text/plain": [
              "Image Augmentation:   0%|          |"
            ]
          },
          "metadata": {},
          "output_type": "display_data"
        },
        {
          "data": {
            "application/vnd.jupyter.widget-view+json": {
              "model_id": "92cd971ca1f946e98300131f1142971f",
              "version_major": 2,
              "version_minor": 0
            },
            "text/plain": [
              "Similarity Calculation:   0%|          |"
            ]
          },
          "metadata": {},
          "output_type": "display_data"
        },
        {
          "data": {
            "application/vnd.jupyter.widget-view+json": {
              "model_id": "0844336d90b5490d98bd63eeb310ed9b",
              "version_major": 2,
              "version_minor": 0
            },
            "text/plain": [
              "Patch Mapping:   0%|          |"
            ]
          },
          "metadata": {},
          "output_type": "display_data"
        },
        {
          "name": "stdout",
          "output_type": "stream",
          "text": [
            "shapes of images:  (336, 336) (336, 336)\n"
          ]
        },
        {
          "data": {
            "application/vnd.jupyter.widget-view+json": {
              "model_id": "2b20950f399f4e9d9f88e0d3458c5e07",
              "version_major": 2,
              "version_minor": 0
            },
            "text/plain": [
              "Image Augmentation:   0%|          |"
            ]
          },
          "metadata": {},
          "output_type": "display_data"
        },
        {
          "data": {
            "application/vnd.jupyter.widget-view+json": {
              "model_id": "140c03c7d56543d19ad8b34337b20b96",
              "version_major": 2,
              "version_minor": 0
            },
            "text/plain": [
              "Similarity Calculation:   0%|          |"
            ]
          },
          "metadata": {},
          "output_type": "display_data"
        },
        {
          "data": {
            "application/vnd.jupyter.widget-view+json": {
              "model_id": "e7218e26c25b4ee39b3aa737cf490e59",
              "version_major": 2,
              "version_minor": 0
            },
            "text/plain": [
              "Patch Mapping:   0%|          |"
            ]
          },
          "metadata": {},
          "output_type": "display_data"
        },
        {
          "name": "stdout",
          "output_type": "stream",
          "text": [
            "shapes of images:  (336, 336) (336, 336)\n"
          ]
        },
        {
          "data": {
            "application/vnd.jupyter.widget-view+json": {
              "model_id": "3c1304ac00ba43e09bcdaa34457f86a3",
              "version_major": 2,
              "version_minor": 0
            },
            "text/plain": [
              "Image Augmentation:   0%|          |"
            ]
          },
          "metadata": {},
          "output_type": "display_data"
        },
        {
          "data": {
            "application/vnd.jupyter.widget-view+json": {
              "model_id": "baf565d83e194d168baa842283e38d26",
              "version_major": 2,
              "version_minor": 0
            },
            "text/plain": [
              "Similarity Calculation:   0%|          |"
            ]
          },
          "metadata": {},
          "output_type": "display_data"
        },
        {
          "data": {
            "application/vnd.jupyter.widget-view+json": {
              "model_id": "a1263bb086f64039b5472276cd8cff7b",
              "version_major": 2,
              "version_minor": 0
            },
            "text/plain": [
              "Patch Mapping:   0%|          |"
            ]
          },
          "metadata": {},
          "output_type": "display_data"
        },
        {
          "name": "stdout",
          "output_type": "stream",
          "text": [
            "shapes of images:  (336, 336) (336, 336)\n"
          ]
        },
        {
          "data": {
            "application/vnd.jupyter.widget-view+json": {
              "model_id": "c0b9a8aec91b4fcbaa4da50625d8b084",
              "version_major": 2,
              "version_minor": 0
            },
            "text/plain": [
              "Image Augmentation:   0%|          |"
            ]
          },
          "metadata": {},
          "output_type": "display_data"
        },
        {
          "data": {
            "application/vnd.jupyter.widget-view+json": {
              "model_id": "de5c4bbe0a4241d9885d98c0472c964f",
              "version_major": 2,
              "version_minor": 0
            },
            "text/plain": [
              "Similarity Calculation:   0%|          |"
            ]
          },
          "metadata": {},
          "output_type": "display_data"
        },
        {
          "data": {
            "application/vnd.jupyter.widget-view+json": {
              "model_id": "c556fd4ef94240bcbdc3501289082056",
              "version_major": 2,
              "version_minor": 0
            },
            "text/plain": [
              "Patch Mapping:   0%|          |"
            ]
          },
          "metadata": {},
          "output_type": "display_data"
        },
        {
          "name": "stdout",
          "output_type": "stream",
          "text": [
            "shapes of images:  (336, 336) (336, 336)\n"
          ]
        },
        {
          "data": {
            "application/vnd.jupyter.widget-view+json": {
              "model_id": "616b4d75ed8b475db8d4695617c1d539",
              "version_major": 2,
              "version_minor": 0
            },
            "text/plain": [
              "Image Augmentation:   0%|          |"
            ]
          },
          "metadata": {},
          "output_type": "display_data"
        },
        {
          "data": {
            "application/vnd.jupyter.widget-view+json": {
              "model_id": "66185f7643c548d482a8bcba3c303ea9",
              "version_major": 2,
              "version_minor": 0
            },
            "text/plain": [
              "Similarity Calculation:   0%|          |"
            ]
          },
          "metadata": {},
          "output_type": "display_data"
        },
        {
          "data": {
            "application/vnd.jupyter.widget-view+json": {
              "model_id": "ce7c2e0b177b483f924e9ea55b5fbad8",
              "version_major": 2,
              "version_minor": 0
            },
            "text/plain": [
              "Patch Mapping:   0%|          |"
            ]
          },
          "metadata": {},
          "output_type": "display_data"
        },
        {
          "name": "stdout",
          "output_type": "stream",
          "text": [
            "shapes of images:  (336, 336) (336, 336)\n"
          ]
        },
        {
          "data": {
            "application/vnd.jupyter.widget-view+json": {
              "model_id": "e67fba1f6ddc43d0b682be272db0aae2",
              "version_major": 2,
              "version_minor": 0
            },
            "text/plain": [
              "Image Augmentation:   0%|          |"
            ]
          },
          "metadata": {},
          "output_type": "display_data"
        },
        {
          "data": {
            "application/vnd.jupyter.widget-view+json": {
              "model_id": "a0e49436507843cb907e73d6c383be78",
              "version_major": 2,
              "version_minor": 0
            },
            "text/plain": [
              "Similarity Calculation:   0%|          |"
            ]
          },
          "metadata": {},
          "output_type": "display_data"
        },
        {
          "data": {
            "application/vnd.jupyter.widget-view+json": {
              "model_id": "6036d8340b65404a8bee2f36dccc6498",
              "version_major": 2,
              "version_minor": 0
            },
            "text/plain": [
              "Patch Mapping:   0%|          |"
            ]
          },
          "metadata": {},
          "output_type": "display_data"
        },
        {
          "name": "stdout",
          "output_type": "stream",
          "text": [
            "shapes of images:  (336, 336) (336, 336)\n"
          ]
        },
        {
          "data": {
            "application/vnd.jupyter.widget-view+json": {
              "model_id": "b6105882bfab4b32993e180854c86527",
              "version_major": 2,
              "version_minor": 0
            },
            "text/plain": [
              "Image Augmentation:   0%|          |"
            ]
          },
          "metadata": {},
          "output_type": "display_data"
        },
        {
          "data": {
            "application/vnd.jupyter.widget-view+json": {
              "model_id": "d9ad5480af1948aaaacdc5254e5fe0a4",
              "version_major": 2,
              "version_minor": 0
            },
            "text/plain": [
              "Similarity Calculation:   0%|          |"
            ]
          },
          "metadata": {},
          "output_type": "display_data"
        },
        {
          "data": {
            "application/vnd.jupyter.widget-view+json": {
              "model_id": "c1d597a597f6416e8cc4d7298d58d343",
              "version_major": 2,
              "version_minor": 0
            },
            "text/plain": [
              "Patch Mapping:   0%|          |"
            ]
          },
          "metadata": {},
          "output_type": "display_data"
        },
        {
          "name": "stdout",
          "output_type": "stream",
          "text": [
            "shapes of images:  (336, 336) (336, 336)\n"
          ]
        },
        {
          "data": {
            "application/vnd.jupyter.widget-view+json": {
              "model_id": "8021895098ee4418be6505feae7380bc",
              "version_major": 2,
              "version_minor": 0
            },
            "text/plain": [
              "Image Augmentation:   0%|          |"
            ]
          },
          "metadata": {},
          "output_type": "display_data"
        },
        {
          "data": {
            "application/vnd.jupyter.widget-view+json": {
              "model_id": "37303865a57c4f2dae39321a26195f2d",
              "version_major": 2,
              "version_minor": 0
            },
            "text/plain": [
              "Similarity Calculation:   0%|          |"
            ]
          },
          "metadata": {},
          "output_type": "display_data"
        },
        {
          "data": {
            "application/vnd.jupyter.widget-view+json": {
              "model_id": "609d53b7ce884f038d1b5ac90ddb641c",
              "version_major": 2,
              "version_minor": 0
            },
            "text/plain": [
              "Patch Mapping:   0%|          |"
            ]
          },
          "metadata": {},
          "output_type": "display_data"
        },
        {
          "name": "stdout",
          "output_type": "stream",
          "text": [
            "shapes of images:  (336, 336) (336, 336)\n"
          ]
        },
        {
          "data": {
            "application/vnd.jupyter.widget-view+json": {
              "model_id": "289aa27406fc40d7be8dc15cef790496",
              "version_major": 2,
              "version_minor": 0
            },
            "text/plain": [
              "Image Augmentation:   0%|          |"
            ]
          },
          "metadata": {},
          "output_type": "display_data"
        },
        {
          "data": {
            "application/vnd.jupyter.widget-view+json": {
              "model_id": "f30cba31ffc546189c191605f0526f2a",
              "version_major": 2,
              "version_minor": 0
            },
            "text/plain": [
              "Similarity Calculation:   0%|          |"
            ]
          },
          "metadata": {},
          "output_type": "display_data"
        },
        {
          "data": {
            "application/vnd.jupyter.widget-view+json": {
              "model_id": "67c8fa939e8f4936b251517c097cabee",
              "version_major": 2,
              "version_minor": 0
            },
            "text/plain": [
              "Patch Mapping:   0%|          |"
            ]
          },
          "metadata": {},
          "output_type": "display_data"
        },
        {
          "name": "stdout",
          "output_type": "stream",
          "text": [
            "shapes of images:  (336, 336) (336, 336)\n"
          ]
        },
        {
          "data": {
            "application/vnd.jupyter.widget-view+json": {
              "model_id": "973d3e2d8e954223ba966b1c58e7e5af",
              "version_major": 2,
              "version_minor": 0
            },
            "text/plain": [
              "Image Augmentation:   0%|          |"
            ]
          },
          "metadata": {},
          "output_type": "display_data"
        },
        {
          "data": {
            "application/vnd.jupyter.widget-view+json": {
              "model_id": "b2b2fedd233c4dd2837c2820aa77f908",
              "version_major": 2,
              "version_minor": 0
            },
            "text/plain": [
              "Similarity Calculation:   0%|          |"
            ]
          },
          "metadata": {},
          "output_type": "display_data"
        },
        {
          "data": {
            "application/vnd.jupyter.widget-view+json": {
              "model_id": "682881760690453992f484b30b2cc721",
              "version_major": 2,
              "version_minor": 0
            },
            "text/plain": [
              "Patch Mapping:   0%|          |"
            ]
          },
          "metadata": {},
          "output_type": "display_data"
        },
        {
          "name": "stdout",
          "output_type": "stream",
          "text": [
            "shapes of images:  (336, 336) (336, 336)\n"
          ]
        },
        {
          "data": {
            "application/vnd.jupyter.widget-view+json": {
              "model_id": "472ca600657044b79cd065d0b0aa0350",
              "version_major": 2,
              "version_minor": 0
            },
            "text/plain": [
              "Image Augmentation:   0%|          |"
            ]
          },
          "metadata": {},
          "output_type": "display_data"
        },
        {
          "data": {
            "application/vnd.jupyter.widget-view+json": {
              "model_id": "5d280a83cfa0447e858472b8dc6fcfaf",
              "version_major": 2,
              "version_minor": 0
            },
            "text/plain": [
              "Similarity Calculation:   0%|          |"
            ]
          },
          "metadata": {},
          "output_type": "display_data"
        },
        {
          "data": {
            "application/vnd.jupyter.widget-view+json": {
              "model_id": "c491a89bed4d494a98396e3027132217",
              "version_major": 2,
              "version_minor": 0
            },
            "text/plain": [
              "Patch Mapping:   0%|          |"
            ]
          },
          "metadata": {},
          "output_type": "display_data"
        },
        {
          "name": "stdout",
          "output_type": "stream",
          "text": [
            "shapes of images:  (336, 336) (336, 336)\n"
          ]
        },
        {
          "data": {
            "application/vnd.jupyter.widget-view+json": {
              "model_id": "e958fe3f5a4c446fa6ca9191bdca872a",
              "version_major": 2,
              "version_minor": 0
            },
            "text/plain": [
              "Image Augmentation:   0%|          |"
            ]
          },
          "metadata": {},
          "output_type": "display_data"
        },
        {
          "data": {
            "application/vnd.jupyter.widget-view+json": {
              "model_id": "6863de5a9d0a42f48cfc51c43b60e968",
              "version_major": 2,
              "version_minor": 0
            },
            "text/plain": [
              "Similarity Calculation:   0%|          |"
            ]
          },
          "metadata": {},
          "output_type": "display_data"
        },
        {
          "data": {
            "application/vnd.jupyter.widget-view+json": {
              "model_id": "26bc5dc2721f40fdbe1292d6f95e5624",
              "version_major": 2,
              "version_minor": 0
            },
            "text/plain": [
              "Patch Mapping:   0%|          |"
            ]
          },
          "metadata": {},
          "output_type": "display_data"
        },
        {
          "name": "stdout",
          "output_type": "stream",
          "text": [
            "shapes of images:  (336, 336) (336, 336)\n"
          ]
        },
        {
          "data": {
            "application/vnd.jupyter.widget-view+json": {
              "model_id": "09c1d7b28f5b4acca2ace90ddfcc3523",
              "version_major": 2,
              "version_minor": 0
            },
            "text/plain": [
              "Image Augmentation:   0%|          |"
            ]
          },
          "metadata": {},
          "output_type": "display_data"
        },
        {
          "data": {
            "application/vnd.jupyter.widget-view+json": {
              "model_id": "a84b3901ebc344bc998668e0428fb6c8",
              "version_major": 2,
              "version_minor": 0
            },
            "text/plain": [
              "Similarity Calculation:   0%|          |"
            ]
          },
          "metadata": {},
          "output_type": "display_data"
        },
        {
          "data": {
            "application/vnd.jupyter.widget-view+json": {
              "model_id": "a633799ef1e7493ab62152eef2bcd48f",
              "version_major": 2,
              "version_minor": 0
            },
            "text/plain": [
              "Patch Mapping:   0%|          |"
            ]
          },
          "metadata": {},
          "output_type": "display_data"
        },
        {
          "name": "stdout",
          "output_type": "stream",
          "text": [
            "shapes of images:  (336, 336) (336, 336)\n"
          ]
        },
        {
          "data": {
            "application/vnd.jupyter.widget-view+json": {
              "model_id": "b1278715401e4e1c85894566ac85823a",
              "version_major": 2,
              "version_minor": 0
            },
            "text/plain": [
              "Image Augmentation:   0%|          |"
            ]
          },
          "metadata": {},
          "output_type": "display_data"
        },
        {
          "data": {
            "application/vnd.jupyter.widget-view+json": {
              "model_id": "6f4d5dc25bc341fd89fdbe41592ee258",
              "version_major": 2,
              "version_minor": 0
            },
            "text/plain": [
              "Similarity Calculation:   0%|          |"
            ]
          },
          "metadata": {},
          "output_type": "display_data"
        },
        {
          "data": {
            "application/vnd.jupyter.widget-view+json": {
              "model_id": "e91f299d80bc45ad9cfd5c07148fba3e",
              "version_major": 2,
              "version_minor": 0
            },
            "text/plain": [
              "Patch Mapping:   0%|          |"
            ]
          },
          "metadata": {},
          "output_type": "display_data"
        },
        {
          "name": "stdout",
          "output_type": "stream",
          "text": [
            "shapes of images:  (336, 336) (336, 336)\n"
          ]
        },
        {
          "data": {
            "application/vnd.jupyter.widget-view+json": {
              "model_id": "2706d96106ec4473ab28957caff3f39f",
              "version_major": 2,
              "version_minor": 0
            },
            "text/plain": [
              "Image Augmentation:   0%|          |"
            ]
          },
          "metadata": {},
          "output_type": "display_data"
        },
        {
          "data": {
            "application/vnd.jupyter.widget-view+json": {
              "model_id": "8b0103ffa46540f59b7f6a4db14695b0",
              "version_major": 2,
              "version_minor": 0
            },
            "text/plain": [
              "Similarity Calculation:   0%|          |"
            ]
          },
          "metadata": {},
          "output_type": "display_data"
        },
        {
          "data": {
            "application/vnd.jupyter.widget-view+json": {
              "model_id": "5cc5d54cd4a34ba885651faee1987915",
              "version_major": 2,
              "version_minor": 0
            },
            "text/plain": [
              "Patch Mapping:   0%|          |"
            ]
          },
          "metadata": {},
          "output_type": "display_data"
        },
        {
          "name": "stdout",
          "output_type": "stream",
          "text": [
            "shapes of images:  (336, 336) (336, 336)\n"
          ]
        },
        {
          "data": {
            "application/vnd.jupyter.widget-view+json": {
              "model_id": "1045815e9c034151be8be0e08050b5b9",
              "version_major": 2,
              "version_minor": 0
            },
            "text/plain": [
              "Image Augmentation:   0%|          |"
            ]
          },
          "metadata": {},
          "output_type": "display_data"
        },
        {
          "data": {
            "application/vnd.jupyter.widget-view+json": {
              "model_id": "2ff416c5898447219532bfc443e33d1c",
              "version_major": 2,
              "version_minor": 0
            },
            "text/plain": [
              "Similarity Calculation:   0%|          |"
            ]
          },
          "metadata": {},
          "output_type": "display_data"
        },
        {
          "data": {
            "application/vnd.jupyter.widget-view+json": {
              "model_id": "69dd44531f1a4d10b180cd71b8c7e81e",
              "version_major": 2,
              "version_minor": 0
            },
            "text/plain": [
              "Patch Mapping:   0%|          |"
            ]
          },
          "metadata": {},
          "output_type": "display_data"
        },
        {
          "name": "stdout",
          "output_type": "stream",
          "text": [
            "shapes of images:  (336, 336) (336, 336)\n"
          ]
        },
        {
          "data": {
            "application/vnd.jupyter.widget-view+json": {
              "model_id": "bc95d4fcabb944759c528a7aa16904fb",
              "version_major": 2,
              "version_minor": 0
            },
            "text/plain": [
              "Image Augmentation:   0%|          |"
            ]
          },
          "metadata": {},
          "output_type": "display_data"
        },
        {
          "data": {
            "application/vnd.jupyter.widget-view+json": {
              "model_id": "ba6f3c464f8148779020667bb20ccab9",
              "version_major": 2,
              "version_minor": 0
            },
            "text/plain": [
              "Similarity Calculation:   0%|          |"
            ]
          },
          "metadata": {},
          "output_type": "display_data"
        },
        {
          "data": {
            "application/vnd.jupyter.widget-view+json": {
              "model_id": "754839e5995145e1ae03dd54b0e22af4",
              "version_major": 2,
              "version_minor": 0
            },
            "text/plain": [
              "Patch Mapping:   0%|          |"
            ]
          },
          "metadata": {},
          "output_type": "display_data"
        },
        {
          "name": "stdout",
          "output_type": "stream",
          "text": [
            "shapes of images:  (336, 336) (336, 336)\n"
          ]
        },
        {
          "data": {
            "application/vnd.jupyter.widget-view+json": {
              "model_id": "b2b3b304c0844972aa6580266e6e4a17",
              "version_major": 2,
              "version_minor": 0
            },
            "text/plain": [
              "Image Augmentation:   0%|          |"
            ]
          },
          "metadata": {},
          "output_type": "display_data"
        },
        {
          "data": {
            "application/vnd.jupyter.widget-view+json": {
              "model_id": "4b6de66f58fb4e6cbc9797d2c59f2cab",
              "version_major": 2,
              "version_minor": 0
            },
            "text/plain": [
              "Similarity Calculation:   0%|          |"
            ]
          },
          "metadata": {},
          "output_type": "display_data"
        },
        {
          "data": {
            "application/vnd.jupyter.widget-view+json": {
              "model_id": "f2a4261a58944f858304d55f855d8b2e",
              "version_major": 2,
              "version_minor": 0
            },
            "text/plain": [
              "Patch Mapping:   0%|          |"
            ]
          },
          "metadata": {},
          "output_type": "display_data"
        },
        {
          "name": "stdout",
          "output_type": "stream",
          "text": [
            "shapes of images:  (336, 336) (336, 336)\n"
          ]
        },
        {
          "data": {
            "application/vnd.jupyter.widget-view+json": {
              "model_id": "9ecf5d573b5b4a85b59af19925190786",
              "version_major": 2,
              "version_minor": 0
            },
            "text/plain": [
              "Image Augmentation:   0%|          |"
            ]
          },
          "metadata": {},
          "output_type": "display_data"
        },
        {
          "data": {
            "application/vnd.jupyter.widget-view+json": {
              "model_id": "a61a1ce8dd504c2482140e3b4dbac7fc",
              "version_major": 2,
              "version_minor": 0
            },
            "text/plain": [
              "Similarity Calculation:   0%|          |"
            ]
          },
          "metadata": {},
          "output_type": "display_data"
        },
        {
          "data": {
            "application/vnd.jupyter.widget-view+json": {
              "model_id": "289e7ee80efc4ba9bda8deb6e2788c2a",
              "version_major": 2,
              "version_minor": 0
            },
            "text/plain": [
              "Patch Mapping:   0%|          |"
            ]
          },
          "metadata": {},
          "output_type": "display_data"
        },
        {
          "name": "stdout",
          "output_type": "stream",
          "text": [
            "shapes of images:  (336, 336) (336, 336)\n"
          ]
        },
        {
          "data": {
            "application/vnd.jupyter.widget-view+json": {
              "model_id": "4e7ccae36a2548bebeda41f7b72e1cac",
              "version_major": 2,
              "version_minor": 0
            },
            "text/plain": [
              "Image Augmentation:   0%|          |"
            ]
          },
          "metadata": {},
          "output_type": "display_data"
        },
        {
          "data": {
            "application/vnd.jupyter.widget-view+json": {
              "model_id": "d3494715d7064015a9c4e39626b734fe",
              "version_major": 2,
              "version_minor": 0
            },
            "text/plain": [
              "Similarity Calculation:   0%|          |"
            ]
          },
          "metadata": {},
          "output_type": "display_data"
        },
        {
          "data": {
            "application/vnd.jupyter.widget-view+json": {
              "model_id": "ac1e09e74d3c48e7a11b6acb95d76659",
              "version_major": 2,
              "version_minor": 0
            },
            "text/plain": [
              "Patch Mapping:   0%|          |"
            ]
          },
          "metadata": {},
          "output_type": "display_data"
        },
        {
          "name": "stdout",
          "output_type": "stream",
          "text": [
            "shapes of images:  (336, 336) (336, 336)\n"
          ]
        },
        {
          "data": {
            "application/vnd.jupyter.widget-view+json": {
              "model_id": "1f4ab851dcb1400996e2caf84551ddf3",
              "version_major": 2,
              "version_minor": 0
            },
            "text/plain": [
              "Image Augmentation:   0%|          |"
            ]
          },
          "metadata": {},
          "output_type": "display_data"
        },
        {
          "data": {
            "application/vnd.jupyter.widget-view+json": {
              "model_id": "808b90f4655a47c1b0ad7c1b5241c1cf",
              "version_major": 2,
              "version_minor": 0
            },
            "text/plain": [
              "Similarity Calculation:   0%|          |"
            ]
          },
          "metadata": {},
          "output_type": "display_data"
        },
        {
          "data": {
            "application/vnd.jupyter.widget-view+json": {
              "model_id": "df1a8269991a4dbd81dd366967d1fb20",
              "version_major": 2,
              "version_minor": 0
            },
            "text/plain": [
              "Patch Mapping:   0%|          |"
            ]
          },
          "metadata": {},
          "output_type": "display_data"
        },
        {
          "name": "stdout",
          "output_type": "stream",
          "text": [
            "shapes of images:  (336, 336) (336, 336)\n"
          ]
        },
        {
          "data": {
            "application/vnd.jupyter.widget-view+json": {
              "model_id": "f558275d5d544518954fcd705f55abae",
              "version_major": 2,
              "version_minor": 0
            },
            "text/plain": [
              "Image Augmentation:   0%|          |"
            ]
          },
          "metadata": {},
          "output_type": "display_data"
        },
        {
          "data": {
            "application/vnd.jupyter.widget-view+json": {
              "model_id": "f9c744af9664447484089a9c2a0d373f",
              "version_major": 2,
              "version_minor": 0
            },
            "text/plain": [
              "Similarity Calculation:   0%|          |"
            ]
          },
          "metadata": {},
          "output_type": "display_data"
        },
        {
          "data": {
            "application/vnd.jupyter.widget-view+json": {
              "model_id": "8830b10b6bd5459b885f34c1bf5c4798",
              "version_major": 2,
              "version_minor": 0
            },
            "text/plain": [
              "Patch Mapping:   0%|          |"
            ]
          },
          "metadata": {},
          "output_type": "display_data"
        },
        {
          "name": "stdout",
          "output_type": "stream",
          "text": [
            "shapes of images:  (336, 336) (336, 336)\n"
          ]
        },
        {
          "data": {
            "application/vnd.jupyter.widget-view+json": {
              "model_id": "1fff47e1269347379821327ed4baf707",
              "version_major": 2,
              "version_minor": 0
            },
            "text/plain": [
              "Image Augmentation:   0%|          |"
            ]
          },
          "metadata": {},
          "output_type": "display_data"
        },
        {
          "data": {
            "application/vnd.jupyter.widget-view+json": {
              "model_id": "2f131d27b1e443f88bb0fb0059a2fd86",
              "version_major": 2,
              "version_minor": 0
            },
            "text/plain": [
              "Similarity Calculation:   0%|          |"
            ]
          },
          "metadata": {},
          "output_type": "display_data"
        },
        {
          "data": {
            "application/vnd.jupyter.widget-view+json": {
              "model_id": "3f00f6700485493483ce8706b503554b",
              "version_major": 2,
              "version_minor": 0
            },
            "text/plain": [
              "Patch Mapping:   0%|          |"
            ]
          },
          "metadata": {},
          "output_type": "display_data"
        },
        {
          "name": "stdout",
          "output_type": "stream",
          "text": [
            "shapes of images:  (336, 336) (336, 336)\n"
          ]
        },
        {
          "data": {
            "application/vnd.jupyter.widget-view+json": {
              "model_id": "5bf507c52fd146509720c0f667e0aefb",
              "version_major": 2,
              "version_minor": 0
            },
            "text/plain": [
              "Image Augmentation:   0%|          |"
            ]
          },
          "metadata": {},
          "output_type": "display_data"
        },
        {
          "data": {
            "application/vnd.jupyter.widget-view+json": {
              "model_id": "09b49bb89ffa4a178c267a6e9d4f03fc",
              "version_major": 2,
              "version_minor": 0
            },
            "text/plain": [
              "Similarity Calculation:   0%|          |"
            ]
          },
          "metadata": {},
          "output_type": "display_data"
        },
        {
          "data": {
            "application/vnd.jupyter.widget-view+json": {
              "model_id": "2a3c915e8e2c40289c7082b67f3328ae",
              "version_major": 2,
              "version_minor": 0
            },
            "text/plain": [
              "Patch Mapping:   0%|          |"
            ]
          },
          "metadata": {},
          "output_type": "display_data"
        },
        {
          "name": "stdout",
          "output_type": "stream",
          "text": [
            "shapes of images:  (336, 336) (336, 336)\n"
          ]
        },
        {
          "data": {
            "application/vnd.jupyter.widget-view+json": {
              "model_id": "22b3b6cebeb3469c8306815ba209dc9e",
              "version_major": 2,
              "version_minor": 0
            },
            "text/plain": [
              "Image Augmentation:   0%|          |"
            ]
          },
          "metadata": {},
          "output_type": "display_data"
        },
        {
          "data": {
            "application/vnd.jupyter.widget-view+json": {
              "model_id": "dd6ba2a7d6c94520814ff08ba16c465c",
              "version_major": 2,
              "version_minor": 0
            },
            "text/plain": [
              "Similarity Calculation:   0%|          |"
            ]
          },
          "metadata": {},
          "output_type": "display_data"
        },
        {
          "data": {
            "application/vnd.jupyter.widget-view+json": {
              "model_id": "246138733c50442caeb1f2d2f13b94b0",
              "version_major": 2,
              "version_minor": 0
            },
            "text/plain": [
              "Patch Mapping:   0%|          |"
            ]
          },
          "metadata": {},
          "output_type": "display_data"
        },
        {
          "name": "stdout",
          "output_type": "stream",
          "text": [
            "shapes of images:  (336, 336) (336, 336)\n"
          ]
        },
        {
          "data": {
            "application/vnd.jupyter.widget-view+json": {
              "model_id": "f9215d2c28f34becb89647cb79150fba",
              "version_major": 2,
              "version_minor": 0
            },
            "text/plain": [
              "Image Augmentation:   0%|          |"
            ]
          },
          "metadata": {},
          "output_type": "display_data"
        },
        {
          "data": {
            "application/vnd.jupyter.widget-view+json": {
              "model_id": "4e4f7c15a8394e0a95e1eb094c555a71",
              "version_major": 2,
              "version_minor": 0
            },
            "text/plain": [
              "Similarity Calculation:   0%|          |"
            ]
          },
          "metadata": {},
          "output_type": "display_data"
        },
        {
          "data": {
            "application/vnd.jupyter.widget-view+json": {
              "model_id": "470fbcb4a81d452799bd4358835757ba",
              "version_major": 2,
              "version_minor": 0
            },
            "text/plain": [
              "Patch Mapping:   0%|          |"
            ]
          },
          "metadata": {},
          "output_type": "display_data"
        },
        {
          "name": "stdout",
          "output_type": "stream",
          "text": [
            "shapes of images:  (336, 336) (336, 336)\n"
          ]
        },
        {
          "data": {
            "application/vnd.jupyter.widget-view+json": {
              "model_id": "7a1753961dc941998a2948bb68501bd1",
              "version_major": 2,
              "version_minor": 0
            },
            "text/plain": [
              "Image Augmentation:   0%|          |"
            ]
          },
          "metadata": {},
          "output_type": "display_data"
        },
        {
          "data": {
            "application/vnd.jupyter.widget-view+json": {
              "model_id": "a708a6d321214ce8ab2f52a399d46698",
              "version_major": 2,
              "version_minor": 0
            },
            "text/plain": [
              "Similarity Calculation:   0%|          |"
            ]
          },
          "metadata": {},
          "output_type": "display_data"
        },
        {
          "data": {
            "application/vnd.jupyter.widget-view+json": {
              "model_id": "26ddc338cf4b4c909e6758e23cb93643",
              "version_major": 2,
              "version_minor": 0
            },
            "text/plain": [
              "Patch Mapping:   0%|          |"
            ]
          },
          "metadata": {},
          "output_type": "display_data"
        },
        {
          "name": "stdout",
          "output_type": "stream",
          "text": [
            "shapes of images:  (336, 336) (336, 336)\n"
          ]
        },
        {
          "data": {
            "application/vnd.jupyter.widget-view+json": {
              "model_id": "a9a16c23141f4d8a9c0bb65231766be5",
              "version_major": 2,
              "version_minor": 0
            },
            "text/plain": [
              "Image Augmentation:   0%|          |"
            ]
          },
          "metadata": {},
          "output_type": "display_data"
        },
        {
          "data": {
            "application/vnd.jupyter.widget-view+json": {
              "model_id": "aba00305c9174b6085e33c3137566b08",
              "version_major": 2,
              "version_minor": 0
            },
            "text/plain": [
              "Similarity Calculation:   0%|          |"
            ]
          },
          "metadata": {},
          "output_type": "display_data"
        },
        {
          "data": {
            "application/vnd.jupyter.widget-view+json": {
              "model_id": "1d1973d7b43f4b11ac1c240a61b06bd0",
              "version_major": 2,
              "version_minor": 0
            },
            "text/plain": [
              "Patch Mapping:   0%|          |"
            ]
          },
          "metadata": {},
          "output_type": "display_data"
        },
        {
          "name": "stdout",
          "output_type": "stream",
          "text": [
            "shapes of images:  (336, 336) (336, 336)\n"
          ]
        },
        {
          "data": {
            "application/vnd.jupyter.widget-view+json": {
              "model_id": "5b5fedb55a7e40909f148c402b8848a3",
              "version_major": 2,
              "version_minor": 0
            },
            "text/plain": [
              "Image Augmentation:   0%|          |"
            ]
          },
          "metadata": {},
          "output_type": "display_data"
        },
        {
          "data": {
            "application/vnd.jupyter.widget-view+json": {
              "model_id": "5bee99e04af64b068e7d8126cd9b0d78",
              "version_major": 2,
              "version_minor": 0
            },
            "text/plain": [
              "Similarity Calculation:   0%|          |"
            ]
          },
          "metadata": {},
          "output_type": "display_data"
        },
        {
          "data": {
            "application/vnd.jupyter.widget-view+json": {
              "model_id": "8ca5c779f6a54711bb54eb63fe1c90d0",
              "version_major": 2,
              "version_minor": 0
            },
            "text/plain": [
              "Patch Mapping:   0%|          |"
            ]
          },
          "metadata": {},
          "output_type": "display_data"
        },
        {
          "name": "stdout",
          "output_type": "stream",
          "text": [
            "shapes of images:  (336, 336) (336, 336)\n"
          ]
        },
        {
          "data": {
            "application/vnd.jupyter.widget-view+json": {
              "model_id": "d3b8e4dcead645b3b158a7125a66f335",
              "version_major": 2,
              "version_minor": 0
            },
            "text/plain": [
              "Image Augmentation:   0%|          |"
            ]
          },
          "metadata": {},
          "output_type": "display_data"
        },
        {
          "data": {
            "application/vnd.jupyter.widget-view+json": {
              "model_id": "eb8716338225426eaf5f4da38ce22853",
              "version_major": 2,
              "version_minor": 0
            },
            "text/plain": [
              "Similarity Calculation:   0%|          |"
            ]
          },
          "metadata": {},
          "output_type": "display_data"
        },
        {
          "data": {
            "application/vnd.jupyter.widget-view+json": {
              "model_id": "cc66f902726f42beb4401432578ddda0",
              "version_major": 2,
              "version_minor": 0
            },
            "text/plain": [
              "Patch Mapping:   0%|          |"
            ]
          },
          "metadata": {},
          "output_type": "display_data"
        },
        {
          "name": "stdout",
          "output_type": "stream",
          "text": [
            "shapes of images:  (336, 336) (336, 336)\n"
          ]
        },
        {
          "data": {
            "application/vnd.jupyter.widget-view+json": {
              "model_id": "4c89836a1ece4c88a881ef60c404cf2a",
              "version_major": 2,
              "version_minor": 0
            },
            "text/plain": [
              "Image Augmentation:   0%|          |"
            ]
          },
          "metadata": {},
          "output_type": "display_data"
        },
        {
          "data": {
            "application/vnd.jupyter.widget-view+json": {
              "model_id": "b7da445e472e449d843f1ade08736588",
              "version_major": 2,
              "version_minor": 0
            },
            "text/plain": [
              "Similarity Calculation:   0%|          |"
            ]
          },
          "metadata": {},
          "output_type": "display_data"
        },
        {
          "data": {
            "application/vnd.jupyter.widget-view+json": {
              "model_id": "6a6946200e2e4a8daa3e97205e855aaf",
              "version_major": 2,
              "version_minor": 0
            },
            "text/plain": [
              "Patch Mapping:   0%|          |"
            ]
          },
          "metadata": {},
          "output_type": "display_data"
        },
        {
          "name": "stdout",
          "output_type": "stream",
          "text": [
            "shapes of images:  (336, 336) (336, 336)\n"
          ]
        },
        {
          "data": {
            "application/vnd.jupyter.widget-view+json": {
              "model_id": "46a3ddbb8010434692934daf4b786b9e",
              "version_major": 2,
              "version_minor": 0
            },
            "text/plain": [
              "Image Augmentation:   0%|          |"
            ]
          },
          "metadata": {},
          "output_type": "display_data"
        },
        {
          "data": {
            "application/vnd.jupyter.widget-view+json": {
              "model_id": "849af1e6780c4e5c9a9dd21c06f308ec",
              "version_major": 2,
              "version_minor": 0
            },
            "text/plain": [
              "Similarity Calculation:   0%|          |"
            ]
          },
          "metadata": {},
          "output_type": "display_data"
        },
        {
          "data": {
            "application/vnd.jupyter.widget-view+json": {
              "model_id": "7dfa60e6888f46699e93e845bfdb3083",
              "version_major": 2,
              "version_minor": 0
            },
            "text/plain": [
              "Patch Mapping:   0%|          |"
            ]
          },
          "metadata": {},
          "output_type": "display_data"
        },
        {
          "name": "stdout",
          "output_type": "stream",
          "text": [
            "shapes of images:  (336, 336) (336, 336)\n"
          ]
        },
        {
          "data": {
            "application/vnd.jupyter.widget-view+json": {
              "model_id": "ca90934f47a846bda6167a13b4415046",
              "version_major": 2,
              "version_minor": 0
            },
            "text/plain": [
              "Image Augmentation:   0%|          |"
            ]
          },
          "metadata": {},
          "output_type": "display_data"
        },
        {
          "data": {
            "application/vnd.jupyter.widget-view+json": {
              "model_id": "712076b787204fc29262e058f8c9b1f1",
              "version_major": 2,
              "version_minor": 0
            },
            "text/plain": [
              "Similarity Calculation:   0%|          |"
            ]
          },
          "metadata": {},
          "output_type": "display_data"
        },
        {
          "data": {
            "application/vnd.jupyter.widget-view+json": {
              "model_id": "a8238ce7f92f426a835494f1cb6e3232",
              "version_major": 2,
              "version_minor": 0
            },
            "text/plain": [
              "Patch Mapping:   0%|          |"
            ]
          },
          "metadata": {},
          "output_type": "display_data"
        },
        {
          "name": "stdout",
          "output_type": "stream",
          "text": [
            "shapes of images:  (336, 336) (336, 336)\n"
          ]
        },
        {
          "data": {
            "application/vnd.jupyter.widget-view+json": {
              "model_id": "63df7446ac2d49169510a14a8944bf07",
              "version_major": 2,
              "version_minor": 0
            },
            "text/plain": [
              "Image Augmentation:   0%|          |"
            ]
          },
          "metadata": {},
          "output_type": "display_data"
        },
        {
          "data": {
            "application/vnd.jupyter.widget-view+json": {
              "model_id": "aa1d5bc3c5404b9b9869ce79c9872260",
              "version_major": 2,
              "version_minor": 0
            },
            "text/plain": [
              "Similarity Calculation:   0%|          |"
            ]
          },
          "metadata": {},
          "output_type": "display_data"
        },
        {
          "data": {
            "application/vnd.jupyter.widget-view+json": {
              "model_id": "4151aecfa6a549b6bdc436a934d42803",
              "version_major": 2,
              "version_minor": 0
            },
            "text/plain": [
              "Patch Mapping:   0%|          |"
            ]
          },
          "metadata": {},
          "output_type": "display_data"
        },
        {
          "name": "stdout",
          "output_type": "stream",
          "text": [
            "shapes of images:  (336, 336) (336, 336)\n"
          ]
        },
        {
          "data": {
            "application/vnd.jupyter.widget-view+json": {
              "model_id": "4721ba39cac14399bc2a6b9e1f090479",
              "version_major": 2,
              "version_minor": 0
            },
            "text/plain": [
              "Image Augmentation:   0%|          |"
            ]
          },
          "metadata": {},
          "output_type": "display_data"
        },
        {
          "data": {
            "application/vnd.jupyter.widget-view+json": {
              "model_id": "eb8c3b4e56b44beb932a98f34c4af0f6",
              "version_major": 2,
              "version_minor": 0
            },
            "text/plain": [
              "Similarity Calculation:   0%|          |"
            ]
          },
          "metadata": {},
          "output_type": "display_data"
        },
        {
          "data": {
            "application/vnd.jupyter.widget-view+json": {
              "model_id": "a8b47e69d8d5469b94d4621ac0b0bb37",
              "version_major": 2,
              "version_minor": 0
            },
            "text/plain": [
              "Patch Mapping:   0%|          |"
            ]
          },
          "metadata": {},
          "output_type": "display_data"
        },
        {
          "name": "stdout",
          "output_type": "stream",
          "text": [
            "shapes of images:  (336, 336) (336, 336)\n"
          ]
        },
        {
          "data": {
            "application/vnd.jupyter.widget-view+json": {
              "model_id": "5b516eeb7fc94c5586a9049050a207b5",
              "version_major": 2,
              "version_minor": 0
            },
            "text/plain": [
              "Image Augmentation:   0%|          |"
            ]
          },
          "metadata": {},
          "output_type": "display_data"
        },
        {
          "data": {
            "application/vnd.jupyter.widget-view+json": {
              "model_id": "74cf9ae9f6ff4630a4145dd65f00f115",
              "version_major": 2,
              "version_minor": 0
            },
            "text/plain": [
              "Similarity Calculation:   0%|          |"
            ]
          },
          "metadata": {},
          "output_type": "display_data"
        },
        {
          "data": {
            "application/vnd.jupyter.widget-view+json": {
              "model_id": "72f6364c76df410ea096e1768df2301f",
              "version_major": 2,
              "version_minor": 0
            },
            "text/plain": [
              "Patch Mapping:   0%|          |"
            ]
          },
          "metadata": {},
          "output_type": "display_data"
        },
        {
          "name": "stdout",
          "output_type": "stream",
          "text": [
            "shapes of images:  (336, 336) (336, 336)\n"
          ]
        },
        {
          "data": {
            "application/vnd.jupyter.widget-view+json": {
              "model_id": "d12f7b72627447768c529efa33c02f65",
              "version_major": 2,
              "version_minor": 0
            },
            "text/plain": [
              "Image Augmentation:   0%|          |"
            ]
          },
          "metadata": {},
          "output_type": "display_data"
        },
        {
          "data": {
            "application/vnd.jupyter.widget-view+json": {
              "model_id": "bd17c059776947dc936ca9fde07dd1f6",
              "version_major": 2,
              "version_minor": 0
            },
            "text/plain": [
              "Similarity Calculation:   0%|          |"
            ]
          },
          "metadata": {},
          "output_type": "display_data"
        },
        {
          "data": {
            "application/vnd.jupyter.widget-view+json": {
              "model_id": "cea0ee8121074452b6c8bd7010092a0d",
              "version_major": 2,
              "version_minor": 0
            },
            "text/plain": [
              "Patch Mapping:   0%|          |"
            ]
          },
          "metadata": {},
          "output_type": "display_data"
        },
        {
          "name": "stdout",
          "output_type": "stream",
          "text": [
            "shapes of images:  (336, 336) (336, 336)\n"
          ]
        },
        {
          "data": {
            "application/vnd.jupyter.widget-view+json": {
              "model_id": "1a04048e87bb4bc9b82d07965a3e07d7",
              "version_major": 2,
              "version_minor": 0
            },
            "text/plain": [
              "Image Augmentation:   0%|          |"
            ]
          },
          "metadata": {},
          "output_type": "display_data"
        },
        {
          "data": {
            "application/vnd.jupyter.widget-view+json": {
              "model_id": "d0ad4c20f34b4560b9e34ecea30c20a9",
              "version_major": 2,
              "version_minor": 0
            },
            "text/plain": [
              "Similarity Calculation:   0%|          |"
            ]
          },
          "metadata": {},
          "output_type": "display_data"
        },
        {
          "data": {
            "application/vnd.jupyter.widget-view+json": {
              "model_id": "b168696709cb464cadbd5c293e72741a",
              "version_major": 2,
              "version_minor": 0
            },
            "text/plain": [
              "Patch Mapping:   0%|          |"
            ]
          },
          "metadata": {},
          "output_type": "display_data"
        },
        {
          "name": "stdout",
          "output_type": "stream",
          "text": [
            "shapes of images:  (336, 336) (336, 336)\n"
          ]
        },
        {
          "data": {
            "application/vnd.jupyter.widget-view+json": {
              "model_id": "3611b59b551341dfbdbd0d60797187b4",
              "version_major": 2,
              "version_minor": 0
            },
            "text/plain": [
              "Image Augmentation:   0%|          |"
            ]
          },
          "metadata": {},
          "output_type": "display_data"
        },
        {
          "data": {
            "application/vnd.jupyter.widget-view+json": {
              "model_id": "bf8c32989ec14db4ac3c7e1d12086a03",
              "version_major": 2,
              "version_minor": 0
            },
            "text/plain": [
              "Similarity Calculation:   0%|          |"
            ]
          },
          "metadata": {},
          "output_type": "display_data"
        },
        {
          "data": {
            "application/vnd.jupyter.widget-view+json": {
              "model_id": "f4ddd1a8b7fa42258db4a14e5d8d3bb7",
              "version_major": 2,
              "version_minor": 0
            },
            "text/plain": [
              "Patch Mapping:   0%|          |"
            ]
          },
          "metadata": {},
          "output_type": "display_data"
        },
        {
          "name": "stdout",
          "output_type": "stream",
          "text": [
            "shapes of images:  (336, 336) (336, 336)\n"
          ]
        },
        {
          "data": {
            "application/vnd.jupyter.widget-view+json": {
              "model_id": "467a78f25e974eb581757b98fa8bd208",
              "version_major": 2,
              "version_minor": 0
            },
            "text/plain": [
              "Image Augmentation:   0%|          |"
            ]
          },
          "metadata": {},
          "output_type": "display_data"
        },
        {
          "data": {
            "application/vnd.jupyter.widget-view+json": {
              "model_id": "c2ed21df63a647f381080c600d5451e3",
              "version_major": 2,
              "version_minor": 0
            },
            "text/plain": [
              "Similarity Calculation:   0%|          |"
            ]
          },
          "metadata": {},
          "output_type": "display_data"
        },
        {
          "data": {
            "application/vnd.jupyter.widget-view+json": {
              "model_id": "c7f2b1504394428697cc2cb3b9da84dc",
              "version_major": 2,
              "version_minor": 0
            },
            "text/plain": [
              "Patch Mapping:   0%|          |"
            ]
          },
          "metadata": {},
          "output_type": "display_data"
        },
        {
          "name": "stdout",
          "output_type": "stream",
          "text": [
            "shapes of images:  (336, 336) (336, 336)\n"
          ]
        },
        {
          "data": {
            "application/vnd.jupyter.widget-view+json": {
              "model_id": "dc1ed3210126439dac7635b4b35410da",
              "version_major": 2,
              "version_minor": 0
            },
            "text/plain": [
              "Image Augmentation:   0%|          |"
            ]
          },
          "metadata": {},
          "output_type": "display_data"
        },
        {
          "data": {
            "application/vnd.jupyter.widget-view+json": {
              "model_id": "945b07a64be94527b5bf4f93dbb188cc",
              "version_major": 2,
              "version_minor": 0
            },
            "text/plain": [
              "Similarity Calculation:   0%|          |"
            ]
          },
          "metadata": {},
          "output_type": "display_data"
        },
        {
          "data": {
            "application/vnd.jupyter.widget-view+json": {
              "model_id": "cda608cd1c994f75bb2785fedc37e0f4",
              "version_major": 2,
              "version_minor": 0
            },
            "text/plain": [
              "Patch Mapping:   0%|          |"
            ]
          },
          "metadata": {},
          "output_type": "display_data"
        },
        {
          "name": "stdout",
          "output_type": "stream",
          "text": [
            "shapes of images:  (336, 336) (336, 336)\n"
          ]
        },
        {
          "data": {
            "application/vnd.jupyter.widget-view+json": {
              "model_id": "8cb2c4d76e2443e994a1671a77756c37",
              "version_major": 2,
              "version_minor": 0
            },
            "text/plain": [
              "Image Augmentation:   0%|          |"
            ]
          },
          "metadata": {},
          "output_type": "display_data"
        },
        {
          "data": {
            "application/vnd.jupyter.widget-view+json": {
              "model_id": "ef314fab63954c748555ee1d83353545",
              "version_major": 2,
              "version_minor": 0
            },
            "text/plain": [
              "Similarity Calculation:   0%|          |"
            ]
          },
          "metadata": {},
          "output_type": "display_data"
        },
        {
          "data": {
            "application/vnd.jupyter.widget-view+json": {
              "model_id": "bb6c635c30724d758aaa828917cee7a5",
              "version_major": 2,
              "version_minor": 0
            },
            "text/plain": [
              "Patch Mapping:   0%|          |"
            ]
          },
          "metadata": {},
          "output_type": "display_data"
        },
        {
          "name": "stdout",
          "output_type": "stream",
          "text": [
            "shapes of images:  (336, 336) (336, 336)\n"
          ]
        },
        {
          "data": {
            "application/vnd.jupyter.widget-view+json": {
              "model_id": "53a181bf6e7e4be7bdb599002295ab8b",
              "version_major": 2,
              "version_minor": 0
            },
            "text/plain": [
              "Image Augmentation:   0%|          |"
            ]
          },
          "metadata": {},
          "output_type": "display_data"
        },
        {
          "data": {
            "application/vnd.jupyter.widget-view+json": {
              "model_id": "058e491f71fd4c2b97a4a3bd68a626cd",
              "version_major": 2,
              "version_minor": 0
            },
            "text/plain": [
              "Similarity Calculation:   0%|          |"
            ]
          },
          "metadata": {},
          "output_type": "display_data"
        },
        {
          "data": {
            "application/vnd.jupyter.widget-view+json": {
              "model_id": "9df1f3dbdd884b8985dde53aa513e02c",
              "version_major": 2,
              "version_minor": 0
            },
            "text/plain": [
              "Patch Mapping:   0%|          |"
            ]
          },
          "metadata": {},
          "output_type": "display_data"
        },
        {
          "name": "stdout",
          "output_type": "stream",
          "text": [
            "shapes of images:  (336, 336) (336, 336)\n"
          ]
        },
        {
          "data": {
            "application/vnd.jupyter.widget-view+json": {
              "model_id": "6a0ebb683fcd469c8ff4fb95bd53e1ae",
              "version_major": 2,
              "version_minor": 0
            },
            "text/plain": [
              "Image Augmentation:   0%|          |"
            ]
          },
          "metadata": {},
          "output_type": "display_data"
        },
        {
          "data": {
            "application/vnd.jupyter.widget-view+json": {
              "model_id": "06fe49cffaa548d6a1cd13ea928cf4f1",
              "version_major": 2,
              "version_minor": 0
            },
            "text/plain": [
              "Similarity Calculation:   0%|          |"
            ]
          },
          "metadata": {},
          "output_type": "display_data"
        },
        {
          "data": {
            "application/vnd.jupyter.widget-view+json": {
              "model_id": "8c324768df874604a7e02a32b8c2d9bc",
              "version_major": 2,
              "version_minor": 0
            },
            "text/plain": [
              "Patch Mapping:   0%|          |"
            ]
          },
          "metadata": {},
          "output_type": "display_data"
        },
        {
          "name": "stdout",
          "output_type": "stream",
          "text": [
            "shapes of images:  (336, 336) (336, 336)\n"
          ]
        },
        {
          "data": {
            "application/vnd.jupyter.widget-view+json": {
              "model_id": "8d7dbd0f66554703aef9f21e261b6a08",
              "version_major": 2,
              "version_minor": 0
            },
            "text/plain": [
              "Image Augmentation:   0%|          |"
            ]
          },
          "metadata": {},
          "output_type": "display_data"
        },
        {
          "data": {
            "application/vnd.jupyter.widget-view+json": {
              "model_id": "40663ce0f0b64b069cb39bd8dcb184d6",
              "version_major": 2,
              "version_minor": 0
            },
            "text/plain": [
              "Similarity Calculation:   0%|          |"
            ]
          },
          "metadata": {},
          "output_type": "display_data"
        },
        {
          "data": {
            "application/vnd.jupyter.widget-view+json": {
              "model_id": "0181902cd5ae42fb97e9745a4a41917a",
              "version_major": 2,
              "version_minor": 0
            },
            "text/plain": [
              "Patch Mapping:   0%|          |"
            ]
          },
          "metadata": {},
          "output_type": "display_data"
        },
        {
          "name": "stdout",
          "output_type": "stream",
          "text": [
            "shapes of images:  (336, 336) (336, 336)\n"
          ]
        },
        {
          "data": {
            "application/vnd.jupyter.widget-view+json": {
              "model_id": "bebe07aa98ae4e23aee6f52777dd6b32",
              "version_major": 2,
              "version_minor": 0
            },
            "text/plain": [
              "Image Augmentation:   0%|          |"
            ]
          },
          "metadata": {},
          "output_type": "display_data"
        },
        {
          "data": {
            "application/vnd.jupyter.widget-view+json": {
              "model_id": "8d1d21081c3c498ab6660ebf66307b2d",
              "version_major": 2,
              "version_minor": 0
            },
            "text/plain": [
              "Similarity Calculation:   0%|          |"
            ]
          },
          "metadata": {},
          "output_type": "display_data"
        },
        {
          "data": {
            "application/vnd.jupyter.widget-view+json": {
              "model_id": "00c0f7c09e9948ef8f5d9b2bc6c71f35",
              "version_major": 2,
              "version_minor": 0
            },
            "text/plain": [
              "Patch Mapping:   0%|          |"
            ]
          },
          "metadata": {},
          "output_type": "display_data"
        },
        {
          "name": "stdout",
          "output_type": "stream",
          "text": [
            "shapes of images:  (336, 336) (336, 336)\n"
          ]
        },
        {
          "data": {
            "application/vnd.jupyter.widget-view+json": {
              "model_id": "754f56abb5f2475d994a55c8a0563fb9",
              "version_major": 2,
              "version_minor": 0
            },
            "text/plain": [
              "Image Augmentation:   0%|          |"
            ]
          },
          "metadata": {},
          "output_type": "display_data"
        },
        {
          "data": {
            "application/vnd.jupyter.widget-view+json": {
              "model_id": "27d9f4f6362e417b9a85697b4429e171",
              "version_major": 2,
              "version_minor": 0
            },
            "text/plain": [
              "Similarity Calculation:   0%|          |"
            ]
          },
          "metadata": {},
          "output_type": "display_data"
        },
        {
          "data": {
            "application/vnd.jupyter.widget-view+json": {
              "model_id": "be3c3ba7d97348f787a6473d04470ed7",
              "version_major": 2,
              "version_minor": 0
            },
            "text/plain": [
              "Patch Mapping:   0%|          |"
            ]
          },
          "metadata": {},
          "output_type": "display_data"
        },
        {
          "name": "stdout",
          "output_type": "stream",
          "text": [
            "shapes of images:  (336, 336) (336, 336)\n"
          ]
        },
        {
          "data": {
            "application/vnd.jupyter.widget-view+json": {
              "model_id": "feb2f65c816247c083cea8782e65c198",
              "version_major": 2,
              "version_minor": 0
            },
            "text/plain": [
              "Image Augmentation:   0%|          |"
            ]
          },
          "metadata": {},
          "output_type": "display_data"
        },
        {
          "data": {
            "application/vnd.jupyter.widget-view+json": {
              "model_id": "ee8829d6c601448db5db2e0a3ca871b1",
              "version_major": 2,
              "version_minor": 0
            },
            "text/plain": [
              "Similarity Calculation:   0%|          |"
            ]
          },
          "metadata": {},
          "output_type": "display_data"
        },
        {
          "data": {
            "application/vnd.jupyter.widget-view+json": {
              "model_id": "9c5e291860b240a9a62376579909b4c2",
              "version_major": 2,
              "version_minor": 0
            },
            "text/plain": [
              "Patch Mapping:   0%|          |"
            ]
          },
          "metadata": {},
          "output_type": "display_data"
        },
        {
          "name": "stdout",
          "output_type": "stream",
          "text": [
            "shapes of images:  (336, 336) (336, 336)\n"
          ]
        },
        {
          "data": {
            "application/vnd.jupyter.widget-view+json": {
              "model_id": "b7ece33f45a9485d863df43f7db722cc",
              "version_major": 2,
              "version_minor": 0
            },
            "text/plain": [
              "Image Augmentation:   0%|          |"
            ]
          },
          "metadata": {},
          "output_type": "display_data"
        },
        {
          "data": {
            "application/vnd.jupyter.widget-view+json": {
              "model_id": "f019f2857fff441da58f8937f8b7dfaa",
              "version_major": 2,
              "version_minor": 0
            },
            "text/plain": [
              "Similarity Calculation:   0%|          |"
            ]
          },
          "metadata": {},
          "output_type": "display_data"
        },
        {
          "data": {
            "application/vnd.jupyter.widget-view+json": {
              "model_id": "fb0ba66103d847ada101334b141b9783",
              "version_major": 2,
              "version_minor": 0
            },
            "text/plain": [
              "Patch Mapping:   0%|          |"
            ]
          },
          "metadata": {},
          "output_type": "display_data"
        },
        {
          "name": "stdout",
          "output_type": "stream",
          "text": [
            "shapes of images:  (336, 336) (336, 336)\n"
          ]
        },
        {
          "data": {
            "application/vnd.jupyter.widget-view+json": {
              "model_id": "c6a6be08fcc64dd794298f524a022a4b",
              "version_major": 2,
              "version_minor": 0
            },
            "text/plain": [
              "Image Augmentation:   0%|          |"
            ]
          },
          "metadata": {},
          "output_type": "display_data"
        },
        {
          "data": {
            "application/vnd.jupyter.widget-view+json": {
              "model_id": "5fd920d4e9534f4797c152663e37a661",
              "version_major": 2,
              "version_minor": 0
            },
            "text/plain": [
              "Similarity Calculation:   0%|          |"
            ]
          },
          "metadata": {},
          "output_type": "display_data"
        },
        {
          "data": {
            "application/vnd.jupyter.widget-view+json": {
              "model_id": "3f9a0131dacc4c639e1ebaa7e9c4f7c5",
              "version_major": 2,
              "version_minor": 0
            },
            "text/plain": [
              "Patch Mapping:   0%|          |"
            ]
          },
          "metadata": {},
          "output_type": "display_data"
        },
        {
          "name": "stdout",
          "output_type": "stream",
          "text": [
            "shapes of images:  (336, 336) (336, 336)\n"
          ]
        },
        {
          "data": {
            "application/vnd.jupyter.widget-view+json": {
              "model_id": "e01aadac9ed642ab8f2fc214a7aa5fd4",
              "version_major": 2,
              "version_minor": 0
            },
            "text/plain": [
              "Image Augmentation:   0%|          |"
            ]
          },
          "metadata": {},
          "output_type": "display_data"
        },
        {
          "data": {
            "application/vnd.jupyter.widget-view+json": {
              "model_id": "fab351c45cd04b84b1f75a3e252f4ab3",
              "version_major": 2,
              "version_minor": 0
            },
            "text/plain": [
              "Similarity Calculation:   0%|          |"
            ]
          },
          "metadata": {},
          "output_type": "display_data"
        },
        {
          "data": {
            "application/vnd.jupyter.widget-view+json": {
              "model_id": "b738bd281c1e46448ef551beabdf0b31",
              "version_major": 2,
              "version_minor": 0
            },
            "text/plain": [
              "Patch Mapping:   0%|          |"
            ]
          },
          "metadata": {},
          "output_type": "display_data"
        },
        {
          "name": "stdout",
          "output_type": "stream",
          "text": [
            "shapes of images:  (336, 336) (336, 336)\n"
          ]
        },
        {
          "data": {
            "application/vnd.jupyter.widget-view+json": {
              "model_id": "eea41e13195a47869ea99eed694eed21",
              "version_major": 2,
              "version_minor": 0
            },
            "text/plain": [
              "Image Augmentation:   0%|          |"
            ]
          },
          "metadata": {},
          "output_type": "display_data"
        },
        {
          "data": {
            "application/vnd.jupyter.widget-view+json": {
              "model_id": "ecc2d2d056ef44028b7fef3445f0e7de",
              "version_major": 2,
              "version_minor": 0
            },
            "text/plain": [
              "Similarity Calculation:   0%|          |"
            ]
          },
          "metadata": {},
          "output_type": "display_data"
        },
        {
          "data": {
            "application/vnd.jupyter.widget-view+json": {
              "model_id": "2c89ccd72d1845f2ad72ae95a4419b76",
              "version_major": 2,
              "version_minor": 0
            },
            "text/plain": [
              "Patch Mapping:   0%|          |"
            ]
          },
          "metadata": {},
          "output_type": "display_data"
        }
      ],
      "source": [
        "#keras.config.disable_traceback_filtering()\n",
        "\n",
        "# B. Find cosine similarity between the eigen value vectors of the two images\n",
        "params = {\n",
        "    'PATCH_SIZE': PATCH_SIZE,\n",
        "    'PATCH_SIZE_2': PATCH_SIZE_2,\n",
        "    'STRIDE': STRIDE,\n",
        "    'STRIDE_2': STRIDE_2,\n",
        "    'BIG_X_PATCHES': BIG_X_PATCHES,\n",
        "    'BIG_Y_PATCHES': BIG_Y_PATCHES,\n",
        "    'SMALL_X_PATCHES': SMALL_X_PATCHES,\n",
        "    'SMALL_Y_PATCHES': SMALL_Y_PATCHES,\n",
        "    'BIG_PATCHES': BIG_PATCHES,\n",
        "    'SMALL_PATCHES': SMALL_PATCHES,\n",
        "    'NUM_PATCHES': NUM_PATCHES,\n",
        "    'NUM_IMAGES': NUM_IMAGES,\n",
        "    'CORRECTION': CORRECTION,\n",
        "    'SCALE': SCALE,\n",
        "    'TRAIN_CLASS': TRAIN_CLASS,\n",
        "    'TEST_CLASS': FINAL_TEST_CLASS\n",
        "}\n",
        "\n",
        "# generate mappings for each frame transition\n",
        "mappings = []\n",
        "\n",
        "for i, image in enumerate(clear_frames):\n",
        "    if i == 0: # skip first frame\n",
        "        continue\n",
        "    #print(\"shapes of images: \", clear_frames[i-1].shape, clear_frames[i].shape)\n",
        "    mapping = generate_mapping_for_image_pair(clear_frames[i-1], clear_frames[i], params, number_of_augmentation=10)\n",
        "    mappings.append(mapping)"
      ]
    },
    {
      "cell_type": "code",
      "execution_count": 71,
      "metadata": {},
      "outputs": [],
      "source": [
        "# 5. Generate 20-frame sequence\n",
        "generated_frames = [clear_frames[0]]\n",
        "\n",
        "for mapping in mappings:\n",
        "    generated_frame = apply_mapping(generated_frames[-1], mapping, params)\n",
        "    generated_frames.append(generated_frame)\n",
        "\n",
        "# 6. Save 20-frame sequence\n",
        "for i in range(len(generated_frames)):\n",
        "    cv2.imwrite(f'generated_frame{i}.png', generated_frames[i])"
      ]
    },
    {
      "cell_type": "code",
      "execution_count": 79,
      "metadata": {},
      "outputs": [
        {
          "name": "stdout",
          "output_type": "stream",
          "text": [
            "length of images:  147\n"
          ]
        }
      ],
      "source": [
        "# 7. Create video from 20-frame sequence\n",
        "image_prefix = 'generated_frame'\n",
        "video_name = 'generated_video_with_all_frames.mp4'\n",
        "\n",
        "#get shape of video\n",
        "frame = cv2.imread(f'{image_prefix}0.png')\n",
        "height, width, layers = frame.shape\n",
        "\n",
        "#load frames; create video object\n",
        "images = [cv2.imread(f'{image_prefix}{i}.png') for i in range(147)]\n",
        "print('length of images: ', len(images))\n",
        "new_video = cv2.VideoWriter(video_name, cv2.VideoWriter_fourcc(*'mp4v'), 10, (width, height))\n",
        "\n",
        "#write frames to video\n",
        "for image in images:\n",
        "    new_video.write(image)\n",
        "\n",
        "#release video object\n",
        "new_video.release()"
      ]
    },
    {
      "cell_type": "code",
      "execution_count": null,
      "metadata": {},
      "outputs": [],
      "source": [
        "#DISPLAY RESULTS\n",
        "\n",
        "input = tf.squeeze(input_image)\n",
        "# print('input_image_local shape', input_image_local.shape)\n",
        "\n",
        "input = cv2.imread('cheetah.png', cv2.IMREAD_GRAYSCALE)\n",
        "\n",
        "input = frame1\n",
        "\n",
        "#expected_img = ndimage.rotate(original_img, ROTATION, reshape=False, cval=0)\n",
        "expected = ndimage.affine_transform(input,\n",
        "                                        transform,\n",
        "                                        output_shape=(SCALE * 28, SCALE * 28),\n",
        "                                        cval=0.0)\n",
        "\n",
        "expected = frame2\n",
        "\n",
        "predicted = apply_mapping(input, mapping, params)\n",
        "\n",
        "display_results_for_single_image(input, predicted, expected)"
      ]
    }
  ],
  "metadata": {
    "accelerator": "GPU",
    "colab": {
      "gpuType": "T4",
      "provenance": [],
      "toc_visible": true
    },
    "kernelspec": {
      "display_name": "Python 3",
      "name": "python3"
    },
    "language_info": {
      "codemirror_mode": {
        "name": "ipython",
        "version": 3
      },
      "file_extension": ".py",
      "mimetype": "text/x-python",
      "name": "python",
      "nbconvert_exporter": "python",
      "pygments_lexer": "ipython3",
      "version": "3.11.9"
    },
    "widgets": {
      "application/vnd.jupyter.widget-state+json": {
        "16aadefb829a415e8425985dee3714a3": {
          "model_module": "@jupyter-widgets/base",
          "model_module_version": "1.2.0",
          "model_name": "LayoutModel",
          "state": {
            "_model_module": "@jupyter-widgets/base",
            "_model_module_version": "1.2.0",
            "_model_name": "LayoutModel",
            "_view_count": null,
            "_view_module": "@jupyter-widgets/base",
            "_view_module_version": "1.2.0",
            "_view_name": "LayoutView",
            "align_content": null,
            "align_items": null,
            "align_self": null,
            "border": null,
            "bottom": null,
            "display": null,
            "flex": null,
            "flex_flow": null,
            "grid_area": null,
            "grid_auto_columns": null,
            "grid_auto_flow": null,
            "grid_auto_rows": null,
            "grid_column": null,
            "grid_gap": null,
            "grid_row": null,
            "grid_template_areas": null,
            "grid_template_columns": null,
            "grid_template_rows": null,
            "height": null,
            "justify_content": null,
            "justify_items": null,
            "left": null,
            "margin": null,
            "max_height": null,
            "max_width": null,
            "min_height": null,
            "min_width": null,
            "object_fit": null,
            "object_position": null,
            "order": null,
            "overflow": null,
            "overflow_x": null,
            "overflow_y": null,
            "padding": null,
            "right": null,
            "top": null,
            "visibility": null,
            "width": null
          }
        },
        "27dd6b05b425425faaf154ebf5fc4e60": {
          "model_module": "@jupyter-widgets/base",
          "model_module_version": "1.2.0",
          "model_name": "LayoutModel",
          "state": {
            "_model_module": "@jupyter-widgets/base",
            "_model_module_version": "1.2.0",
            "_model_name": "LayoutModel",
            "_view_count": null,
            "_view_module": "@jupyter-widgets/base",
            "_view_module_version": "1.2.0",
            "_view_name": "LayoutView",
            "align_content": null,
            "align_items": null,
            "align_self": null,
            "border": null,
            "bottom": null,
            "display": null,
            "flex": null,
            "flex_flow": null,
            "grid_area": null,
            "grid_auto_columns": null,
            "grid_auto_flow": null,
            "grid_auto_rows": null,
            "grid_column": null,
            "grid_gap": null,
            "grid_row": null,
            "grid_template_areas": null,
            "grid_template_columns": null,
            "grid_template_rows": null,
            "height": null,
            "justify_content": null,
            "justify_items": null,
            "left": null,
            "margin": null,
            "max_height": null,
            "max_width": null,
            "min_height": null,
            "min_width": null,
            "object_fit": null,
            "object_position": null,
            "order": null,
            "overflow": null,
            "overflow_x": null,
            "overflow_y": null,
            "padding": null,
            "right": null,
            "top": null,
            "visibility": null,
            "width": null
          }
        },
        "4d9e6c8f451f43099c7f74abb6ad0eff": {
          "model_module": "@jupyter-widgets/controls",
          "model_module_version": "1.5.0",
          "model_name": "HBoxModel",
          "state": {
            "_dom_classes": [],
            "_model_module": "@jupyter-widgets/controls",
            "_model_module_version": "1.5.0",
            "_model_name": "HBoxModel",
            "_view_count": null,
            "_view_module": "@jupyter-widgets/controls",
            "_view_module_version": "1.5.0",
            "_view_name": "HBoxView",
            "box_style": "",
            "children": [
              "IPY_MODEL_e7a07c3bcfcf443699ba77f00a13cb14",
              "IPY_MODEL_dca3ba79a4cf4dafb15c82a01f2afdfa",
              "IPY_MODEL_e8bc24bfbfa342169755c8a8655f8ced"
            ],
            "layout": "IPY_MODEL_27dd6b05b425425faaf154ebf5fc4e60"
          }
        },
        "529f1b4cac4c45d797d47ba1e080b7ea": {
          "model_module": "@jupyter-widgets/base",
          "model_module_version": "1.2.0",
          "model_name": "LayoutModel",
          "state": {
            "_model_module": "@jupyter-widgets/base",
            "_model_module_version": "1.2.0",
            "_model_name": "LayoutModel",
            "_view_count": null,
            "_view_module": "@jupyter-widgets/base",
            "_view_module_version": "1.2.0",
            "_view_name": "LayoutView",
            "align_content": null,
            "align_items": null,
            "align_self": null,
            "border": null,
            "bottom": null,
            "display": null,
            "flex": null,
            "flex_flow": null,
            "grid_area": null,
            "grid_auto_columns": null,
            "grid_auto_flow": null,
            "grid_auto_rows": null,
            "grid_column": null,
            "grid_gap": null,
            "grid_row": null,
            "grid_template_areas": null,
            "grid_template_columns": null,
            "grid_template_rows": null,
            "height": null,
            "justify_content": null,
            "justify_items": null,
            "left": null,
            "margin": null,
            "max_height": null,
            "max_width": null,
            "min_height": null,
            "min_width": null,
            "object_fit": null,
            "object_position": null,
            "order": null,
            "overflow": null,
            "overflow_x": null,
            "overflow_y": null,
            "padding": null,
            "right": null,
            "top": null,
            "visibility": null,
            "width": null
          }
        },
        "67f2015f06e84ab88f7d34baad053af0": {
          "model_module": "@jupyter-widgets/base",
          "model_module_version": "1.2.0",
          "model_name": "LayoutModel",
          "state": {
            "_model_module": "@jupyter-widgets/base",
            "_model_module_version": "1.2.0",
            "_model_name": "LayoutModel",
            "_view_count": null,
            "_view_module": "@jupyter-widgets/base",
            "_view_module_version": "1.2.0",
            "_view_name": "LayoutView",
            "align_content": null,
            "align_items": null,
            "align_self": null,
            "border": null,
            "bottom": null,
            "display": null,
            "flex": null,
            "flex_flow": null,
            "grid_area": null,
            "grid_auto_columns": null,
            "grid_auto_flow": null,
            "grid_auto_rows": null,
            "grid_column": null,
            "grid_gap": null,
            "grid_row": null,
            "grid_template_areas": null,
            "grid_template_columns": null,
            "grid_template_rows": null,
            "height": null,
            "justify_content": null,
            "justify_items": null,
            "left": null,
            "margin": null,
            "max_height": null,
            "max_width": null,
            "min_height": null,
            "min_width": null,
            "object_fit": null,
            "object_position": null,
            "order": null,
            "overflow": null,
            "overflow_x": null,
            "overflow_y": null,
            "padding": null,
            "right": null,
            "top": null,
            "visibility": null,
            "width": null
          }
        },
        "8284d15c5df24c74b8b3d80768a675f1": {
          "model_module": "@jupyter-widgets/controls",
          "model_module_version": "1.5.0",
          "model_name": "DescriptionStyleModel",
          "state": {
            "_model_module": "@jupyter-widgets/controls",
            "_model_module_version": "1.5.0",
            "_model_name": "DescriptionStyleModel",
            "_view_count": null,
            "_view_module": "@jupyter-widgets/base",
            "_view_module_version": "1.2.0",
            "_view_name": "StyleView",
            "description_width": ""
          }
        },
        "95234a15648141f8a1e5edb04b968119": {
          "model_module": "@jupyter-widgets/controls",
          "model_module_version": "1.5.0",
          "model_name": "ProgressStyleModel",
          "state": {
            "_model_module": "@jupyter-widgets/controls",
            "_model_module_version": "1.5.0",
            "_model_name": "ProgressStyleModel",
            "_view_count": null,
            "_view_module": "@jupyter-widgets/base",
            "_view_module_version": "1.2.0",
            "_view_name": "StyleView",
            "bar_color": null,
            "description_width": ""
          }
        },
        "b9ca075cf6e845acade4af4446a82d1c": {
          "model_module": "@jupyter-widgets/controls",
          "model_module_version": "1.5.0",
          "model_name": "DescriptionStyleModel",
          "state": {
            "_model_module": "@jupyter-widgets/controls",
            "_model_module_version": "1.5.0",
            "_model_name": "DescriptionStyleModel",
            "_view_count": null,
            "_view_module": "@jupyter-widgets/base",
            "_view_module_version": "1.2.0",
            "_view_name": "StyleView",
            "description_width": ""
          }
        },
        "dca3ba79a4cf4dafb15c82a01f2afdfa": {
          "model_module": "@jupyter-widgets/controls",
          "model_module_version": "1.5.0",
          "model_name": "FloatProgressModel",
          "state": {
            "_dom_classes": [],
            "_model_module": "@jupyter-widgets/controls",
            "_model_module_version": "1.5.0",
            "_model_name": "FloatProgressModel",
            "_view_count": null,
            "_view_module": "@jupyter-widgets/controls",
            "_view_module_version": "1.5.0",
            "_view_name": "ProgressView",
            "bar_style": "success",
            "description": "",
            "description_tooltip": null,
            "layout": "IPY_MODEL_67f2015f06e84ab88f7d34baad053af0",
            "max": 784,
            "min": 0,
            "orientation": "horizontal",
            "style": "IPY_MODEL_95234a15648141f8a1e5edb04b968119",
            "value": 784
          }
        },
        "e7a07c3bcfcf443699ba77f00a13cb14": {
          "model_module": "@jupyter-widgets/controls",
          "model_module_version": "1.5.0",
          "model_name": "HTMLModel",
          "state": {
            "_dom_classes": [],
            "_model_module": "@jupyter-widgets/controls",
            "_model_module_version": "1.5.0",
            "_model_name": "HTMLModel",
            "_view_count": null,
            "_view_module": "@jupyter-widgets/controls",
            "_view_module_version": "1.5.0",
            "_view_name": "HTMLView",
            "description": "",
            "description_tooltip": null,
            "layout": "IPY_MODEL_529f1b4cac4c45d797d47ba1e080b7ea",
            "placeholder": "​",
            "style": "IPY_MODEL_8284d15c5df24c74b8b3d80768a675f1",
            "value": "Similarity Calculation: 100%"
          }
        },
        "e8bc24bfbfa342169755c8a8655f8ced": {
          "model_module": "@jupyter-widgets/controls",
          "model_module_version": "1.5.0",
          "model_name": "HTMLModel",
          "state": {
            "_dom_classes": [],
            "_model_module": "@jupyter-widgets/controls",
            "_model_module_version": "1.5.0",
            "_model_name": "HTMLModel",
            "_view_count": null,
            "_view_module": "@jupyter-widgets/controls",
            "_view_module_version": "1.5.0",
            "_view_name": "HTMLView",
            "description": "",
            "description_tooltip": null,
            "layout": "IPY_MODEL_16aadefb829a415e8425985dee3714a3",
            "placeholder": "​",
            "style": "IPY_MODEL_b9ca075cf6e845acade4af4446a82d1c",
            "value": ""
          }
        }
      }
    }
  },
  "nbformat": 4,
  "nbformat_minor": 0
}
