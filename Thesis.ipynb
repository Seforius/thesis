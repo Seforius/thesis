{
  "cells": [
    {
      "cell_type": "code",
      "execution_count": 1,
      "metadata": {
        "colab": {
          "base_uri": "https://localhost:8080/"
        },
        "id": "OyS7_YA69D5L",
        "outputId": "6c2891a8-caee-4ccc-ccba-c8fb3c961ff0"
      },
      "outputs": [
        {
          "name": "stdout",
          "output_type": "stream",
          "text": [
            "WARNING:tensorflow:From C:\\Users\\yusef\\AppData\\Local\\Packages\\PythonSoftwareFoundation.Python.3.11_qbz5n2kfra8p0\\LocalCache\\local-packages\\Python311\\site-packages\\keras\\src\\losses.py:2976: The name tf.losses.sparse_softmax_cross_entropy is deprecated. Please use tf.compat.v1.losses.sparse_softmax_cross_entropy instead.\n",
            "\n",
            "tf.__version__: 2.15.0\n"
          ]
        }
      ],
      "source": [
        "#setup\n",
        "\n",
        "# digit 8\n",
        "from __future__ import absolute_import, division, print_function\n",
        "\n",
        "# %tensorflow_version 1.x\n",
        "from tqdm.notebook import tqdm\n",
        "import numpy as np\n",
        "import cv2 #pip install opencv-python\n",
        "import scipy\n",
        "import scipy.spatial\n",
        "from scipy import ndimage\n",
        "from skimage import metrics #pip install scikit-image\n",
        "import tensorflow as tf #pip install tensorflow==2.15.0\n",
        "import time\n",
        "\n",
        "print('tf.__version__: {}'.format(tf.__version__))\n",
        "\n",
        "import matplotlib.pyplot as plt\n",
        "from keras import datasets, layers, models\n",
        "import keras\n",
        "\n",
        "from rembg import remove\n",
        "from PIL import Image\n",
        "\n",
        "#from google.colab import drive\n",
        "#drive.mount('/content/drive')\n",
        "\n",
        "#test GPU\n",
        "# gpu = tf.config.list_physical_devices('GPU')\n",
        "# print(gpu)\n",
        "# tf.config.experimental.set_memory_growth(device=gpu[0], enable=True)\n",
        "\n",
        "#force to run on cpu\n",
        "tf.config.set_visible_devices([], 'GPU')"
      ]
    },
    {
      "cell_type": "code",
      "execution_count": 2,
      "metadata": {},
      "outputs": [],
      "source": [
        "def extract_frames(video_path):\n",
        "    cap = cv2.VideoCapture(video_path)\n",
        "    frames = []\n",
        "\n",
        "    while cap.isOpened():\n",
        "        ret, frame = cap.read()\n",
        "        if not ret:\n",
        "            break\n",
        "        frames.append(frame)\n",
        "\n",
        "    cap.release()\n",
        "    return frames"
      ]
    },
    {
      "cell_type": "code",
      "execution_count": 3,
      "metadata": {},
      "outputs": [],
      "source": [
        "frames = extract_frames('cheetah.mp4')\n",
        "grayscale_frames = [cv2.cvtColor(frame, cv2.COLOR_BGR2GRAY) for frame in frames]\n",
        "resized_frames = [cv2.resize(frame, (336, 336)) for frame in grayscale_frames]\n",
        "\n",
        "#save frames in original_frames folder\n",
        "for i, frame in enumerate(resized_frames):\n",
        "    cv2.imwrite('original_frames/original_frame_{:01d}.png'.format(i), frame)"
      ]
    },
    {
      "cell_type": "code",
      "execution_count": 4,
      "metadata": {},
      "outputs": [],
      "source": [
        "from scipy.ndimage import map_coordinates\n",
        "from scipy.ndimage import gaussian_filter\n",
        "\n",
        "def invert_colors(image1, image2):\n",
        "    return cv2.bitwise_not(image1), cv2.bitwise_not(image2)\n",
        "\n",
        "def elastic_distortion(image1, image2, alpha_range, sigma):\n",
        "    random_state = np.random.RandomState(None)\n",
        "    alpha = image1.shape[1] * alpha_range\n",
        "    sigma = image1.shape[1] * sigma\n",
        "\n",
        "    shape = image1.shape[:2]\n",
        "    dx = gaussian_filter((random_state.rand(*shape) * 2 - 1), sigma, mode='constant', cval=0) * alpha\n",
        "    dy = gaussian_filter((random_state.rand(*shape) * 2 - 1), sigma, mode='constant', cval=0) * alpha\n",
        "\n",
        "    x, y = np.meshgrid(np.arange(shape[1]), np.arange(shape[0]))\n",
        "    indices = np.reshape(y + dy, (-1, 1)), np.reshape(x + dx, (-1, 1))\n",
        "\n",
        "    distorted_image1 = map_coordinates(image1, indices, order=1, mode='reflect').reshape(image1.shape)\n",
        "    distorted_image2 = map_coordinates(image2, indices, order=1, mode='reflect').reshape(image2.shape)\n",
        "\n",
        "    return distorted_image1, distorted_image2\n",
        "\n",
        "def random_erasing(image1, image2, p=0.5, sl=0.02, sh=0.4, r1=0.3, r2=3.3):\n",
        "    if np.random.rand() > p:\n",
        "        return image1, image2\n",
        "\n",
        "    img_h, img_w = image1.shape[:2]\n",
        "    area = img_h * img_w\n",
        "\n",
        "    target_area = np.random.uniform(sl, sh) * area\n",
        "    aspect_ratio = np.random.uniform(r1, r2)\n",
        "\n",
        "    h = int(round(np.sqrt(target_area * aspect_ratio)))\n",
        "    w = int(round(np.sqrt(target_area / aspect_ratio)))\n",
        "\n",
        "    if w < img_w and h < img_h:\n",
        "        x1 = np.random.randint(0, img_h - h)\n",
        "        y1 = np.random.randint(0, img_w - w)\n",
        "        image1_patch = np.random.rand(h, w) * 255\n",
        "        image2_patch = np.random.rand(h, w) * 255\n",
        "\n",
        "        image1[x1:x1 + h, y1:y1 + w] = image1_patch\n",
        "        image2[x1:x1 + h, y1:y1 + w] = image2_patch\n",
        "\n",
        "    return image1, image2\n",
        "\n",
        "\n",
        "def gamma_correction(image1, image2, gamma=1.0):\n",
        "    gamma_inv = 1.0 / gamma\n",
        "    table = np.array([((i / 255.0) ** gamma_inv) * 255 for i in np.arange(0, 256)]).astype('uint8')\n",
        "    return cv2.LUT(image1, table), cv2.LUT(image2, table)\n",
        "\n",
        "def brightness_adjustment(image1, image2, alpha=1.0, beta=0.0):\n",
        "    return cv2.convertScaleAbs(image1, alpha=alpha, beta=beta), cv2.convertScaleAbs(image2, alpha=alpha, beta=beta)\n",
        "\n",
        "def saturation_adjustment(image1, image2, alpha=1.0):\n",
        "    hsv1 = cv2.cvtColor(image1, cv2.COLOR_BGR2HSV)\n",
        "    hsv1[..., 1] = hsv1[..., 1] * alpha\n",
        "    image1 = cv2.cvtColor(hsv1, cv2.COLOR_HSV2BGR)\n",
        "\n",
        "    hsv2 = cv2.cvtColor(image2, cv2.COLOR_BGR2HSV)\n",
        "    hsv2[..., 1] = hsv2[..., 1] * alpha\n",
        "    image2 = cv2.cvtColor(hsv2, cv2.COLOR_HSV2BGR)\n",
        "\n",
        "    return image1, image2\n",
        "\n",
        "def contrast_adjustment(image1, image2, alpha=1.0):\n",
        "    image_gray1 = cv2.cvtColor(image1, cv2.COLOR_BGR2GRAY)\n",
        "    image_gray1 = (image_gray1 - image_gray1.mean()) * alpha + image_gray1.mean()\n",
        "    image1 = cv2.cvtColor(image_gray1, cv2.COLOR_GRAY2BGR)\n",
        "\n",
        "    image_gray2 = cv2.cvtColor(image2, cv2.COLOR_BGR2GRAY)\n",
        "    image_gray2 = (image_gray2 - image_gray2.mean()) * alpha + image_gray2.mean()\n",
        "    image2 = cv2.cvtColor(image_gray2, cv2.COLOR_GRAY2BGR)\n",
        "\n",
        "    return image1, image2\n",
        "\n",
        "def augment_image_pair(image1, image2):\n",
        "    # Generate random choice from 1 to 5\n",
        "    choice = np.random.randint(1, 5)\n",
        "\n",
        "    new_image1 = image1.copy()\n",
        "    new_image2 = image2.copy()\n",
        "\n",
        "    if choice == 1:\n",
        "        # Invert colors\n",
        "        new_image1, new_image2 = invert_colors(new_image1, new_image2)\n",
        "\n",
        "    elif choice == 2:\n",
        "        # Elastic distortion\n",
        "        new_image1, new_image2 = elastic_distortion(new_image1, new_image2, alpha_range=30, sigma=5)\n",
        "\n",
        "    elif choice == 3:\n",
        "        # Gamma correction\n",
        "        gamma = np.random.uniform(0.5, 2.0)\n",
        "        new_image1, new_image2 = gamma_correction(new_image1, new_image2, gamma)\n",
        "\n",
        "    elif choice == 4:\n",
        "        # Brightness adjustment\n",
        "        alpha = np.random.uniform(0.8, 1.2)\n",
        "        beta = np.random.uniform(-20, 20)\n",
        "        new_image1, new_image2 = brightness_adjustment(new_image1, new_image2, alpha, beta)\n",
        "\n",
        "    return new_image1, new_image2"
      ]
    },
    {
      "cell_type": "code",
      "execution_count": 6,
      "metadata": {
        "id": "dY4k2la_m8Ht"
      },
      "outputs": [],
      "source": [
        "def generate_translation_matrices(image_size, stride, im_range):\n",
        "\n",
        "    # Generate all the translations in x and y directions\n",
        "\n",
        "    translations_x, translations_y = tf.meshgrid(tf.range(-image_size/2/im_range, image_size/2/im_range, stride),\n",
        "                                                 tf.range(-image_size/2/im_range, image_size/2/im_range, stride))\n",
        "    # Convert the translations to float32\n",
        "    translations_x = tf.cast(translations_x, tf.float32)\n",
        "    translations_y = tf.cast(translations_y, tf.float32)\n",
        "\n",
        "    # Reshape the translations to be able to concatenate them\n",
        "    translations_x = tf.reshape(translations_x, [-1, 1])\n",
        "    translations_y = tf.reshape(translations_y, [-1, 1])\n",
        "\n",
        "    # Create the 2D affine matrix for all translations\n",
        "    num_matrices = tf.size(translations_x)\n",
        "    ones = tf.ones((num_matrices, 1), dtype=tf.float32)\n",
        "    zeros = tf.zeros((num_matrices, 1), dtype=tf.float32)\n",
        "\n",
        "    matrices = tf.concat([ones, zeros, translations_x, zeros, ones, translations_y, zeros, zeros], axis=1)\n",
        "\n",
        "    return matrices"
      ]
    },
    {
      "cell_type": "code",
      "execution_count": 7,
      "metadata": {
        "id": "r2g841hXnNSQ"
      },
      "outputs": [],
      "source": [
        "def prepare_image_for_transform(image, num_transforms):\n",
        "    image = tf.expand_dims(image, axis=0)  # Add batch dimension\n",
        "    image = tf.tile(image, [num_transforms, 1, 1])  # Repeat the image for all transformations\n",
        "    return image"
      ]
    },
    {
      "cell_type": "code",
      "execution_count": 8,
      "metadata": {
        "id": "kx71id2RnQHS"
      },
      "outputs": [],
      "source": [
        "def apply_all_transforms(image, matrices):\n",
        "    # Prepare the image for transformation\n",
        "    num_transforms = tf.shape(matrices)[0]\n",
        "    image_shape = tf.shape(image)\n",
        "    image = prepare_image_for_transform(image, num_transforms)\n",
        "    image = tf.expand_dims(image, axis=-1)\n",
        "    # Apply all transforms\n",
        "    transformed_images = tf.raw_ops.ImageProjectiveTransformV3(images=image,\n",
        "                                                               transforms=matrices,\n",
        "                                                               output_shape=image_shape,\n",
        "                                                               interpolation='NEAREST',\n",
        "                                                               fill_value=0.0)\n",
        "    return transformed_images.numpy()"
      ]
    },
    {
      "cell_type": "code",
      "execution_count": 9,
      "metadata": {
        "id": "wEE0f-QrnYy1"
      },
      "outputs": [],
      "source": [
        "def generate_perturbations(image, stride, shape, im_range):\n",
        "    # Generate all the transformations\n",
        "    matrices = generate_translation_matrices(shape, stride, im_range)\n",
        "    # Apply all the transformations\n",
        "    transformed_images = apply_all_transforms(image, matrices)\n",
        "    # Return the transformations\n",
        "    return transformed_images"
      ]
    },
    {
      "cell_type": "code",
      "execution_count": 10,
      "metadata": {
        "id": "-F9mENsEndpi"
      },
      "outputs": [],
      "source": [
        "def mse(imageA, imageB):\n",
        "    err = np.sum((imageA - imageB) ** 2)\n",
        "    err /= float(imageA.shape[0] * imageA.shape[1])\n",
        "    # return the MSE, the lower the error, the more 'similar'\n",
        "    return err"
      ]
    },
    {
      "cell_type": "code",
      "execution_count": 11,
      "metadata": {
        "id": "hGXL-iaSng9W"
      },
      "outputs": [],
      "source": [
        "def compare_images(imageA, imageB):\n",
        "    imageA = imageA.numpy()\n",
        "    imageA = imageA.astype('float') / 255.0\n",
        "    imageB = imageB.astype('float') / 255.0\n",
        "\n",
        "    m = mse(imageA, imageB)\n",
        "    s = metrics.structural_similarity(imageA, imageB, data_range=imageA.max() - imageA.min())\n",
        "    s_percentage = (s + 1) / 2 * 100\n",
        "\n",
        "    return m, s_percentage"
      ]
    },
    {
      "cell_type": "code",
      "execution_count": 12,
      "metadata": {
        "id": "Ya8tKiIjnlPd"
      },
      "outputs": [],
      "source": [
        "# Assumes the patch consists of last 2 dimensions\n",
        "\n",
        "def get_LBM(x):\n",
        "    n_row = x.shape[-2]\n",
        "    n_col = x.shape[-1]\n",
        "\n",
        "    # Convert the patches to column vectors\n",
        "    x_col_shape = tf.shape(x).numpy()\n",
        "    x_col_shape[-2] = n_row * n_col\n",
        "    x_col_shape[-1] = 1\n",
        "    x_col = tf.reshape(x, x_col_shape)\n",
        "    x_col = tf.cast(x_col, tf.float32)\n",
        "    # print('x_col.shape', x_col.shape)\n",
        "\n",
        "    # Convert the patches to row vectors\n",
        "    x_row_shape = tf.shape(x).numpy()\n",
        "    x_row_shape[-2] = 1\n",
        "    x_row_shape[-1] = n_row * n_col\n",
        "    x_row = tf.reshape(x, x_row_shape)\n",
        "    x_row = tf.cast(x_row, tf.float32)\n",
        "    # print('x_row.shape', x_row.shape)\n",
        "\n",
        "    # Calculate the AdjM\n",
        "    sqr_diff = tf.math.sqrt(tf.math.abs(x_col - x_row))\n",
        "    # print('sqr_diff.shape', sqr_diff.shape)\n",
        "\n",
        "    Dismean = np.zeros([n_row * n_col, 2])\n",
        "    i = np.broadcast_to(np.arange(n_row).reshape([n_row, 1]), [n_row, n_col]).reshape(n_row * n_col)\n",
        "    j = np.broadcast_to(np.arange(n_col).reshape([1, n_col]), [n_row, n_col]).reshape(n_row * n_col)\n",
        "\n",
        "    Dismean[:, 0] = i\n",
        "    Dismean[:, 1] = j\n",
        "    # print('Dis')\n",
        "    # print(Dismean)\n",
        "\n",
        "    E = scipy.spatial.distance.cdist(Dismean, Dismean, 'euclidean')\n",
        "    E = E + np.identity(n_row * n_col)\n",
        "    # print('E.shape', E.shape)\n",
        "    # print(E[:, 0])\n",
        "\n",
        "    AdjM = tf.divide(sqr_diff, E)\n",
        "    # print('AdjM')\n",
        "    # print(AdjM.shape)\n",
        "\n",
        "    # Sum the rows or cols of the AdjM (AdjM is symmetric so anything works)\n",
        "    sum_AdjM = tf.reduce_sum(AdjM, axis=-1)  # Sum cols\n",
        "    # print('sum_AdjM.shape', sum_AdjM.shape)\n",
        "    # print(sum_AdjM[0])\n",
        "\n",
        "    diagonal = tf.linalg.diag(sum_AdjM)\n",
        "    # print('diagonal.shape', diagonal.shape)\n",
        "\n",
        "    # LBM\n",
        "    LBM = AdjM - diagonal\n",
        "    # print('LBM.shape', LBM.shape)\n",
        "\n",
        "    return tf.cast(LBM, tf.float32)"
      ]
    },
    {
      "cell_type": "code",
      "execution_count": 13,
      "metadata": {
        "id": "f3GNAKjdn4q9"
      },
      "outputs": [],
      "source": [
        "class SVLayer(layers.Layer):\n",
        "\n",
        "    def __init__(self, patch_size, stride, patch_size_2, stride_2, **kwargs):\n",
        "        super(SVLayer, self).__init__(**kwargs)\n",
        "        self.patch_size = patch_size\n",
        "        self.stride = stride\n",
        "\n",
        "        self.patch_size_2 = patch_size_2\n",
        "        self.stride_2 = stride_2\n",
        "\n",
        "    def call(self, inputs):\n",
        "        n_images = inputs.shape[0]\n",
        "        # print('input', inputs.shape)\n",
        "\n",
        "        # Get BIG patches from the input batch of images\n",
        "        big_patches = tf.image.extract_patches(inputs, sizes=[1, self.patch_size, self.patch_size, 1],\n",
        "                                               strides=[1, self.stride, self.stride, 1], rates=[1, 1, 1, 1],\n",
        "                                               padding='VALID')\n",
        "\n",
        "        # print('big_patches.shape', big_patches.shape)\n",
        "        _, n_big_row, n_big_col, _ = big_patches.shape\n",
        "        n_big = n_big_row * n_big_col  # No. of big patches\n",
        "\n",
        "        ## tf.extract_image_patches flattens the patch in extraction.\n",
        "        ## We have to reshape the patches to (patch_size x patch_size) reshape\n",
        "        big_patches = tf.reshape(big_patches,\n",
        "                                 (n_images, n_big, self.patch_size, self.patch_size))\n",
        "\n",
        "        # print('big_patches.shape before transpose', big_patches.shape)  ###input_patches_reshape.shape (None, 3, 3, 5, 5)\n",
        "        big_patches = tf.transpose(big_patches, [0, 2, 3, 1])\n",
        "        # print('big_patches.shape after transpose', big_patches.shape)  ###input_patches_reshape.shape (None, 3, 3, 5, 5)\n",
        "\n",
        "        ## Now we need to extract smaller patches from the above big patch\n",
        "        small_patches = tf.image.extract_patches(big_patches, sizes=[1, self.patch_size_2, self.patch_size_2, 1], \\\n",
        "                                                 strides=[1, self.stride_2, self.stride_2, 1],\n",
        "                                                 rates=[1, 1, 1, 1], padding='VALID')\n",
        "\n",
        "        _, n_small_row, n_small_col, _ = small_patches.shape\n",
        "        n_small = n_small_row * n_small_col  # No. of small patches\n",
        "        # print('small_patches.shape', small_patches.shape)\n",
        "\n",
        "        # The last axis contains the small_patch at a particular posiiton for each of the n_big big_patches\n",
        "        # and there are n_small positons.\n",
        "        # So we need to breack the last axis into pieces of size = self.patch_size_2 ** 2\n",
        "\n",
        "        small_patches = tf.reshape(small_patches,\n",
        "                                   (n_images, n_small_row, n_small_col, self.patch_size_2 * self.patch_size_2, n_big))\n",
        "        small_patches = tf.reshape(small_patches, (\n",
        "        n_images, n_small_row, n_small_col, self.patch_size_2, self.patch_size_2, n_big_row, n_big_col))\n",
        "        # print('small_patches.shape before transpose', small_patches.shape)\n",
        "\n",
        "        small_patches = tf.transpose(small_patches, [0, 5, 6, 1, 2, 3, 4])\n",
        "        # print('small_patches.shape after transpose', small_patches.shape)\n",
        "\n",
        "        # Make the aggregate patch by averaging the small patches\n",
        "        # There is one aggregate patch for each big patch\n",
        "\n",
        "        agg_patches = tf.math.reduce_mean(small_patches, axis=(5, 6))\n",
        "        agg_patches = tf.cast(agg_patches, tf.float32)\n",
        "        # print('agg_patches.shape', agg_patches.shape)\n",
        "\n",
        "        agg_patches = tf.reshape(agg_patches, (n_images, n_big_row, n_big_col, n_small_row, n_small_col))\n",
        "        #print('agg_patches.shape', agg_patches.shape)\n",
        "\n",
        "        agg_LBM = get_LBM(agg_patches) \n",
        "        agg_sv, agg_eigvecs = tf.linalg.eigh(agg_LBM)  # Trunk eigenvalue vec\n",
        "\n",
        "        # Calculate the sampler vector of small_patches\n",
        "        small_LBM = get_LBM(small_patches)\n",
        "        small_sv, small_eigvecs = tf.linalg.eigh(small_LBM)\n",
        "\n",
        "        # Replicate the aggregaate patches for each of the small patch\n",
        "        agg_sv = tf.expand_dims(agg_sv, axis=3)\n",
        "        agg_sv = tf.expand_dims(agg_sv, axis=3)\n",
        "        agg_sv = tf.repeat(agg_sv, repeats=n_small_row, axis=3)\n",
        "        agg_sv = tf.repeat(agg_sv, repeats=n_small_col, axis=4)\n",
        "\n",
        "        # Concatenate the aggeregate SVs and small SVs\n",
        "        sv = tf.concat([agg_sv, small_sv], axis=-1)\n",
        "        #print('sv.shape', sv.shape)\n",
        "\n",
        "        return sv"
      ]
    },
    {
      "cell_type": "code",
      "execution_count": 14,
      "metadata": {},
      "outputs": [],
      "source": [
        "def get_similarities(input_images, transformed_images, params):\n",
        "\n",
        "    NUM_PATCHES = params['NUM_PATCHES']\n",
        "    NUM_IMAGES = params['NUM_IMAGES']\n",
        "    PATCH_SIZE = params['PATCH_SIZE']\n",
        "    STRIDE = params['STRIDE']\n",
        "    PATCH_SIZE_2 = params['PATCH_SIZE_2']\n",
        "    STRIDE_2 = params['STRIDE_2']\n",
        "    BIG_PATCHES = params['BIG_PATCHES']\n",
        "    SMALL_PATCHES = params['SMALL_PATCHES']\n",
        "    CORRECTION = params['CORRECTION']\n",
        "\n",
        "    similarities = np.zeros((NUM_PATCHES, NUM_PATCHES), dtype=np.float32)\n",
        "\n",
        "    for i in tqdm(range(len(input_images)), desc='Similarity Calculation', bar_format='{l_bar}{bar}|'):\n",
        "\n",
        "        tf.keras.backend.clear_session()\n",
        "\n",
        "        model = models.Sequential()\n",
        "        model.add(SVLayer(PATCH_SIZE, STRIDE, PATCH_SIZE_2, STRIDE_2))\n",
        "        single_img = input_images[i]\n",
        "        single_img = tf.expand_dims(single_img, axis=(0))\n",
        "        expanded_original_img = tf.expand_dims(single_img, axis=(3))\n",
        "\n",
        "        original_eigvals = model(expanded_original_img)\n",
        "\n",
        "        # original_eigvals = original_eigvals[0, :, :, :]\n",
        "\n",
        "        # Convert to unit vector\n",
        "        # print('original_eigvals_x', original_eigvals.shape)\n",
        "\n",
        "        original_eigvals = original_eigvals / (\n",
        "                    np.sqrt(np.sum(original_eigvals ** 2, axis=(5), keepdims=True)) + CORRECTION)\n",
        "\n",
        "        # print('original_eigvals', original_eigvals.shape)\n",
        "\n",
        "        # Generate eigenvalues for the rotated image\n",
        "        single_rotated_img = transformed_images[i]\n",
        "        single_rotated_img = tf.expand_dims(single_rotated_img, axis=(0))\n",
        "        expanded_rotated_img = tf.expand_dims(single_rotated_img, axis=(3))\n",
        "        rotated_eigvals = model(expanded_rotated_img)\n",
        "        # rotated_eigvals = rotated_eigvals[0, :, :, :]\n",
        "\n",
        "        # Convert to unit vector\n",
        "        rotated_eigvals = rotated_eigvals / (\n",
        "                    np.sqrt(np.sum(rotated_eigvals ** 2, axis=(5), keepdims=True)) + CORRECTION)\n",
        "\n",
        "        original_eigvals = np.reshape(original_eigvals,\n",
        "                                        (BIG_PATCHES * SMALL_PATCHES, original_eigvals.shape[-1]))\n",
        "\n",
        "        rotated_eigvals = np.reshape(rotated_eigvals, (BIG_PATCHES * SMALL_PATCHES, rotated_eigvals.shape[-1]))\n",
        "\n",
        "        similarities += np.matmul(original_eigvals, rotated_eigvals.T)\n",
        "\n",
        "        #print('ss', similarities.shape)\n",
        "\n",
        "    tf.keras.backend.clear_session()\n",
        "    return similarities"
      ]
    },
    {
      "cell_type": "code",
      "execution_count": 15,
      "metadata": {},
      "outputs": [],
      "source": [
        "def imshow(img):\n",
        "    import IPython\n",
        "    _,ret = cv2.imencode('.jpg', img) \n",
        "    i = IPython.display.Image(data=ret)\n",
        "    IPython.display.display(i)"
      ]
    },
    {
      "cell_type": "code",
      "execution_count": 16,
      "metadata": {},
      "outputs": [],
      "source": [
        "# 2. Generate the Mapping between Patches of original and new image\n",
        "\n",
        "def get_mapping(similarities):\n",
        "\n",
        "    # 1. Calculate row-wise softmax, to interpret the similarities as probabilities\n",
        "    soft_similarities = tf.nn.softmax(similarities, axis=1)\n",
        "\n",
        "    # 2. Sort rows according to entropy\n",
        "    sorted_entropy_idx = np.argsort(- tf.math.reduce_sum(soft_similarities * np.log(soft_similarities + CORRECTION), axis=1))\n",
        "    # print('entropy_idx', sorted_entropy_idx)\n",
        "\n",
        "    # 3. Generate mapping\n",
        "\n",
        "    # Select the most probable matching rotated patch for each row (original patch)\n",
        "    # starting from the row with least entropy (most confident)\n",
        "\n",
        "    bool_mapping = np.zeros_like(similarities,dtype=np.uint8)\n",
        "    #print('bool_mapping', bool_mapping.shape)\n",
        "    frozen = np.ones((similarities.shape[1]), dtype=np.uint8)\n",
        "\n",
        "    #print('frozen', frozen.shape)\n",
        "\n",
        "    for original_patch in tqdm(sorted_entropy_idx, desc='Patch Mapping', bar_format='{l_bar}{bar}|'):\n",
        "        # print('original_patch', original_patch)\n",
        "\n",
        "        similarity = soft_similarities[original_patch]\n",
        "        similarity = np.multiply(frozen, similarity)\n",
        "        # print('similarity', similarity, similarity.max(), similarity.argmax())\n",
        "\n",
        "        sorted_similarity_idx = np.argsort(-similarity)  # Sort in Descending order\n",
        "        # print('sorted_similarity_idx', sorted_similarity_idx)\n",
        "\n",
        "        #i = 0\n",
        "\n",
        "        #matching_rotated_patch = sorted_similarity_idx[i]\n",
        "        #while frozen[matching_rotated_patch] == 1:\n",
        "        #    i += 1\n",
        "        #    matching_rotated_patch = sorted_similarity_idx[i]\n",
        "\n",
        "        frozen[sorted_similarity_idx[0]] = 0\n",
        "        # print('matching_rotated_patch', matching_rotated_patch)\n",
        "        bool_mapping[original_patch, sorted_similarity_idx[0]] = 1\n",
        "\n",
        "    mapping = np.argmax(bool_mapping, axis=1)\n",
        "\n",
        "    return mapping"
      ]
    },
    {
      "cell_type": "code",
      "execution_count": 17,
      "metadata": {},
      "outputs": [],
      "source": [
        "def apply_mapping(input_img, mapping, params):\n",
        "\n",
        "    output_img = np.zeros_like(input_img)\n",
        "    NUM_PATCHES = params['NUM_PATCHES']\n",
        "\n",
        "    BIG_X_PATCHES = params['BIG_X_PATCHES']\n",
        "    BIG_Y_PATCHES = params['BIG_Y_PATCHES']\n",
        "\n",
        "    SMALL_X_PATCHES = params['SMALL_X_PATCHES']\n",
        "    SMALL_Y_PATCHES = params['SMALL_Y_PATCHES']\n",
        "\n",
        "    SMALL_PATCHES = params['SMALL_PATCHES']\n",
        "\n",
        "    PATCH_SIZE = params['PATCH_SIZE']\n",
        "    PATCH_SIZE_2 = params['PATCH_SIZE_2']\n",
        "\n",
        "    STRIDE = params['STRIDE']\n",
        "    STRIDE_2 = params['STRIDE_2']\n",
        "\n",
        "    for in_idx in range(NUM_PATCHES):\n",
        "        # Calculate the start and end rows and columns of patch in input image\n",
        "        big_in_idx = in_idx // SMALL_PATCHES\n",
        "\n",
        "        big_in_row = big_in_idx // BIG_Y_PATCHES\n",
        "        big_in_col = big_in_idx % BIG_Y_PATCHES\n",
        "\n",
        "        small_in_idx = in_idx % SMALL_PATCHES\n",
        "\n",
        "        small_in_row = small_in_idx // SMALL_Y_PATCHES\n",
        "        small_in_col = small_in_idx % SMALL_Y_PATCHES\n",
        "\n",
        "        in_row_start = big_in_row * STRIDE + small_in_row * STRIDE_2\n",
        "        in_row_end = in_row_start + PATCH_SIZE_2\n",
        "        in_col_start = big_in_col * STRIDE + small_in_col * STRIDE_2\n",
        "        in_col_end = in_col_start + PATCH_SIZE_2\n",
        "\n",
        "        # Calculate the start and end rows and columns of patch in mapped image\n",
        "        out_idx = mapping[in_idx]\n",
        "\n",
        "        big_out_idx = out_idx // SMALL_PATCHES\n",
        "        big_out_row = big_out_idx // BIG_Y_PATCHES\n",
        "        big_out_col = big_out_idx % BIG_Y_PATCHES\n",
        "\n",
        "        small_out_idx = out_idx % SMALL_PATCHES\n",
        "        small_out_row = small_out_idx // SMALL_Y_PATCHES\n",
        "        small_out_col = small_out_idx % SMALL_Y_PATCHES\n",
        "\n",
        "        out_row_start = big_out_row * STRIDE + small_out_row * STRIDE_2\n",
        "        out_row_end = out_row_start + PATCH_SIZE_2\n",
        "        out_col_start = big_out_col * STRIDE + small_out_col * STRIDE_2\n",
        "        out_col_end = out_col_start + PATCH_SIZE_2\n",
        "        output_img[out_row_start:out_row_end, out_col_start:out_col_end] = input_img[in_row_start:in_row_end, in_col_start:in_col_end]\n",
        "\n",
        "    return output_img"
      ]
    },
    {
      "cell_type": "code",
      "execution_count": 18,
      "metadata": {},
      "outputs": [],
      "source": [
        "def generate_augmentations_for_image_pair(image1, image2, number_of_augmentations: int) -> tuple:\n",
        "    augmented_image1s = []\n",
        "    augmented_image2s = []\n",
        "\n",
        "    for i in tqdm(range(number_of_augmentations), desc='Image Augmentation', bar_format='{l_bar}{bar}|'):\n",
        "        augmented_image1, augmented_image2 = augment_image_pair(image1, image2)\n",
        "        augmented_image1s.append(augmented_image1)\n",
        "        augmented_image2s.append(augmented_image2)\n",
        "\n",
        "    return augmented_image1s, augmented_image2s"
      ]
    },
    {
      "cell_type": "code",
      "execution_count": 19,
      "metadata": {},
      "outputs": [],
      "source": [
        "def generate_mapping_for_augmented_image_pair(augmented_image1s, augmented_image2s, params):\n",
        "    similarities = get_similarities(augmented_image1s, augmented_image2s, params)\n",
        "    mapping = get_mapping(similarities)\n",
        "    return mapping      "
      ]
    },
    {
      "cell_type": "code",
      "execution_count": 20,
      "metadata": {},
      "outputs": [],
      "source": [
        "def generate_mapping_for_image_pair(image1, image2, params, number_of_augmentation=200):\n",
        "    augmented_image1s, augmented_image2s = generate_augmentations_for_image_pair(image1, image2, number_of_augmentation)\n",
        "    mapping = generate_mapping_for_augmented_image_pair(augmented_image1s, augmented_image2s, params)\n",
        "    return mapping"
      ]
    },
    {
      "cell_type": "code",
      "execution_count": 21,
      "metadata": {},
      "outputs": [],
      "source": [
        "def display_results_for_single_image(input, predicted, expected, params):\n",
        "    \n",
        "    SCALE = params['SCALE']\n",
        "    NUM_IMAGES = params['NUM_IMAGES']\n",
        "    TRAIN_CLASS = params['TRAIN_CLASS']\n",
        "    FINAL_TEST_CLASS = params['TEST_CLASS']\n",
        "    NUM_PATCHES = params['NUM_PATCHES']\n",
        "\n",
        "    # Display result of transformation\n",
        "    result_fig = plt.figure()\n",
        "\n",
        "    result_fig.add_subplot(2, 3, 1)\n",
        "    input = tf.squeeze(input)\n",
        "    plt.imshow(input)\n",
        "    plt.axis('off')\n",
        "    plt.title('Input Image')\n",
        "\n",
        "    result_fig.add_subplot(2, 3, 2)\n",
        "    predicted = tf.squeeze(predicted)\n",
        "    plt.imshow(predicted)\n",
        "    plt.axis('off')\n",
        "    plt.title('Predicted')\n",
        "\n",
        "    # Filter images\n",
        "\n",
        "    filter_img = ndimage.grey_opening(predicted, size=(5, 5))\n",
        "    filter_img = ndimage.grey_closing(filter_img, size=(5, 5))\n",
        "\n",
        "    result_fig.add_subplot(2, 3, 3)\n",
        "    plt.imshow(filter_img)\n",
        "    plt.axis('off')\n",
        "    plt.title('Filtered')\n",
        "\n",
        "    mse_val, ssim_val = compare_images(predicted, expected)\n",
        "\n",
        "    plot_data = {\n",
        "        'SCALE': [SCALE],\n",
        "        'NUM_IMAGES': [NUM_IMAGES],\n",
        "        'TRAIN_CLASS': [TRAIN_CLASS],\n",
        "        'TEST_CLASS': [FINAL_TEST_CLASS],\n",
        "        'NUM_PATCHES': [NUM_PATCHES],\n",
        "        'PREDICTION MSE': [f'{mse_val:.2f}'],\n",
        "        'PREDICTION SIMILARITY (%)': [f'{ssim_val:.2f}']\n",
        "    }\n",
        "\n",
        "    table_data = [plot_data[key] for key in plot_data]\n",
        "    table_columns = list(plot_data.keys())\n",
        "\n",
        "    ax_table = result_fig.add_subplot(2, 3, 5)\n",
        "    table = ax_table.table(cellText=table_data, rowLabels=table_columns, loc='center')\n",
        "    ax_table.axis('off')\n",
        "\n",
        "    result_fig.add_subplot(2, 3, 6)\n",
        "    expected = tf.squeeze(expected)\n",
        "\n",
        "    plt.imshow(expected)\n",
        "    plt.axis('off')\n",
        "    plt.title('Expected')\n",
        "    plt.show()"
      ]
    },
    {
      "cell_type": "code",
      "execution_count": 22,
      "metadata": {
        "colab": {
          "base_uri": "https://localhost:8080/",
          "height": 140
        },
        "id": "juWJd1WaoXvC",
        "outputId": "bf80b7f2-bc5d-40ee-baa0-d7b67d3fc4b7"
      },
      "outputs": [
        {
          "name": "stdout",
          "output_type": "stream",
          "text": [
            "NUM IMAGES GENERATED:  784\n",
            "train_images.shape (200, 28, 28)\n",
            "train_images.shape (784, 28, 28, 1)\n",
            "train_images.shape (784, 336, 336, 1)\n"
          ]
        },
        {
          "data": {
            "text/plain": [
              "<Figure size 1280x2048 with 0 Axes>"
            ]
          },
          "metadata": {},
          "output_type": "display_data"
        }
      ],
      "source": [
        "# Load MNIST datasets provided by TensorFlow\n",
        "(train_images, train_labels), (_, _) = datasets.mnist.load_data()\n",
        "\n",
        "NUM_TRAIN, H, W = train_images.shape\n",
        "# NUM_TEST, _, _ = test_images.shape\n",
        "NUM_CLASSES = np.max(train_labels) + 1\n",
        "\n",
        "NUM_IMAGES = 200  # No. images per class\n",
        "FINAL_TEST_CLASS = 8\n",
        "SCALE = int(12 * 28 / H)\n",
        "new_train_images = []\n",
        "new_train_labels = []\n",
        "TRAIN_CLASS = 2\n",
        "class_images = train_images[train_labels == TRAIN_CLASS][:NUM_IMAGES]\n",
        "class_labels = train_labels[train_labels == TRAIN_CLASS][:NUM_IMAGES]\n",
        "new_train_images.append(class_images)\n",
        "new_train_labels.append(class_labels)\n",
        "\n",
        "#DO THIS HERE BECAUSE WE CHANGE THE SHAPE OF train_images AND THEN IT DOESN'T WORK\n",
        "input_image = ndimage.zoom(train_images[train_labels == FINAL_TEST_CLASS][0].reshape((-1, H, W, 1)),\n",
        "                           zoom=[1, SCALE, SCALE, 1])\n",
        "\n",
        "new_train_images = np.concatenate(new_train_images, axis=0)\n",
        "new_train_labels = np.concatenate(new_train_labels, axis=0)\n",
        "\n",
        "train_images = new_train_images\n",
        "train_labels = new_train_labels\n",
        "\n",
        "stride   = 1\n",
        "im_range = 1  # Only cover half  the image (1/4 on each side)\n",
        "NUM_IMAGES = int(np.ceil(H / stride / im_range) * np.ceil(H / stride / im_range))\n",
        "print('NUM IMAGES GENERATED: ', NUM_IMAGES)\n",
        "\n",
        "print('train_images.shape', train_images.shape)\n",
        "train_images = generate_perturbations(train_images[0], stride, H, im_range)\n",
        "print('train_images.shape', train_images.shape)\n",
        "train_images = ndimage.zoom(train_images.reshape((-1, H, W, 1)), zoom=[1, SCALE, SCALE, 1]) # TIME EATER\n",
        "print('train_images.shape', train_images.shape)\n",
        "# test_images = ndimage.zoom(test_images.reshape((NUM_TEST, H, W, 1)), zoom=[1, SCALE, SCALE, 1])\n",
        "original_imgs = np.squeeze(train_images)\n",
        "H = int(H * SCALE)\n",
        "W = int(W * SCALE)\n",
        "# Check initial images\n",
        "initial_fig = plt.figure(figsize=(10, 16), dpi=128)"
      ]
    },
    {
      "cell_type": "code",
      "execution_count": 23,
      "metadata": {
        "colab": {
          "base_uri": "https://localhost:8080/",
          "height": 122
        },
        "id": "YDGfVGXso4qP",
        "outputId": "505bb1ac-2565-4719-8433-c40886b02039"
      },
      "outputs": [
        {
          "name": "stdout",
          "output_type": "stream",
          "text": [
            "original_imgs (784, 336, 336)\n"
          ]
        },
        {
          "data": {
            "text/plain": [
              "<Figure size 1600x3200 with 0 Axes>"
            ]
          },
          "metadata": {},
          "output_type": "display_data"
        }
      ],
      "source": [
        "# Rotation Experiment\n",
        "# Given multiple pairs of images, generate a mapping using some similarity measure\n",
        "# applied to eigvectors of LBM of patches of the two images\n",
        "\n",
        "# 1. Get an image of class == TEST_CLASS and rotate a copy of it\n",
        "#TEST_CLASS = 3\n",
        "#original_imgs = np.squeeze(train_images[train_labels == TEST_CLASS][:NUM_IMAGES])\n",
        "\n",
        "if NUM_IMAGES == 1:\n",
        "    original_imgs = np.expand_dims(original_imgs, axis=0)\n",
        "\n",
        "print('original_imgs', original_imgs.shape)  # original_imgs (20, 336, 336)\n",
        "\n",
        "rotation_angle = 45\n",
        "translation_x = 0\n",
        "translation_y = 0\n",
        "\n",
        "rotation_angle = np.deg2rad(rotation_angle)\n",
        "array_shape = original_imgs[0].shape\n",
        "center = np.array(array_shape) / 2.0 - 0.5\n",
        "translate_to_origin = np.array([\n",
        "    [1, 0, -center[1]],\n",
        "    [0, 1, -center[0]],\n",
        "    [0, 0, 1]\n",
        "])\n",
        "\n",
        "rotation = np.array([\n",
        "    [np.cos(rotation_angle), -np.sin(rotation_angle),  0],\n",
        "    [np.sin(rotation_angle),  np.cos(rotation_angle),  0],\n",
        "    [                     0,                       0,  1]\n",
        "])\n",
        "\n",
        "translate_back = np.array([\n",
        "    [1, 0, center[1] + translation_x],\n",
        "    [0, 1, center[0] + translation_y],\n",
        "    [0, 0, 1]\n",
        "])\n",
        "\n",
        "transform = np.dot(translate_back, np.dot(rotation, translate_to_origin))\n",
        "rotated_imgs = []\n",
        "\n",
        "for i in range(NUM_IMAGES):\n",
        "    original_img = original_imgs[i]\n",
        "    # print('original_img', original_img.shape)\n",
        "    # Control23 ????\n",
        "    array = np.array(original_img)\n",
        "    # height, width = array.shape[1,2]\n",
        "    # print('array.shape',array.shape)\n",
        "\n",
        "    rotated_img = ndimage.affine_transform(array,\n",
        "                                           transform,\n",
        "                                           output_shape=(SCALE * 28, SCALE * 28),\n",
        "                                           mode='nearest',\n",
        "                                           cval=0.0)\n",
        "    rotated_imgs.append(rotated_img)\n",
        "\n",
        "# np.array([ndimage.rotate(original_img, ROTATION, reshape=False, cval=0) for original_img in original_img])\n",
        "# print('rotated_imgs', rotated_imgs.shape)\n",
        "\n",
        "input_img_fig = plt.figure(figsize=(16, 32), dpi=100)"
      ]
    },
    {
      "cell_type": "code",
      "execution_count": 24,
      "metadata": {
        "colab": {
          "base_uri": "https://localhost:8080/"
        },
        "id": "_MfR7PmPqOey",
        "outputId": "023099d1-51fa-4870-a487-0bcc390d81af"
      },
      "outputs": [
        {
          "name": "stdout",
          "output_type": "stream",
          "text": [
            "H, W: 336 336\n"
          ]
        }
      ],
      "source": [
        "CORRECTION = 1e-8\n",
        "PATCH_SIZE = 8  # To Match original SV implementation this patch size must be original patch size\n",
        "STRIDE = 4\n",
        "\n",
        "PATCH_SIZE_2 = 4  # this patch size must be same as above and stride = 1 (stride doesnt matter because patch sizes are same as big patches)\n",
        "STRIDE_2 = 4\n",
        "\n",
        "print('H, W:', H, W)\n",
        "\n",
        "BIG_X_PATCHES = (H - PATCH_SIZE) // STRIDE + 1\n",
        "BIG_Y_PATCHES = (W - PATCH_SIZE) // STRIDE + 1\n",
        "\n",
        "BIG_PATCHES = BIG_X_PATCHES * BIG_Y_PATCHES\n",
        "\n",
        "SMALL_X_PATCHES = (PATCH_SIZE - PATCH_SIZE_2) // STRIDE_2 + 1\n",
        "SMALL_Y_PATCHES = (PATCH_SIZE - PATCH_SIZE_2) // STRIDE_2 + 1\n",
        "\n",
        "SMALL_PATCHES = SMALL_X_PATCHES * SMALL_Y_PATCHES\n",
        "\n",
        "NUM_PATCHES = BIG_PATCHES * SMALL_PATCHES\n",
        "\n",
        "#######print('BIG_PATCHES: ', BIG_PATCHES)\n",
        "#######print('SMALL_PATCHES: ', SMALL_PATCHES)\n",
        "#######print('NUM_PATCHES: ', NUM_PATCHES)"
      ]
    },
    {
      "cell_type": "code",
      "execution_count": 25,
      "metadata": {
        "colab": {
          "base_uri": "https://localhost:8080/",
          "height": 245
        },
        "id": "FK-ptR7nrB_n",
        "outputId": "4ea15d6c-a20d-4f99-b156-873c6b960d06"
      },
      "outputs": [],
      "source": [
        "# A. Find eigen values for each patch in original and rotated image\n",
        "\n",
        "# Generate eigenvalues for the original image\n",
        "# print('rotated_eigvals', rotated_eigvals.shape)\n",
        "\n",
        "#get frames from video\n",
        "frames = extract_frames('cheetah.mp4')\n",
        "grayscale_frames = [cv2.cvtColor(frame, cv2.COLOR_BGR2GRAY) for frame in frames]\n",
        "resized_frames = [cv2.resize(frame, (336, 336)) for frame in grayscale_frames]\n",
        "\n",
        "\n",
        "# for i in range(3,21):\n",
        "#     current_frame = resized_frames[i]\n",
        "#     #save frame as png\n",
        "#     cv2.imwrite(f'frame{i}.png', current_frame)\n",
        "\n",
        "#load clear frames into memory\n",
        "clear_frames = [cv2.imread(f'frame{i}-clear.png', cv2.IMREAD_GRAYSCALE) for i in range(1,21)]\n",
        "\n",
        "frame1 = clear_frames[0]\n",
        "frame2 = clear_frames[1]"
      ]
    },
    {
      "cell_type": "code",
      "execution_count": 26,
      "metadata": {},
      "outputs": [],
      "source": [
        "# extract frames\n",
        "frames = extract_frames('cheetah.mp4')\n",
        "# make grayscale\n",
        "grayscale_frames = [cv2.cvtColor(frame, cv2.COLOR_BGR2GRAY) for frame in frames]\n",
        "# resize\n",
        "resized_frames = [cv2.resize(frame, (336, 336)) for frame in grayscale_frames]\n",
        "\n",
        "#clear background (requires conversion to grayscale again)\n",
        "clear_frames = [cv2.cvtColor(remove(frame), cv2.COLOR_BGR2GRAY) for frame in resized_frames]"
      ]
    },
    {
      "cell_type": "code",
      "execution_count": 27,
      "metadata": {},
      "outputs": [
        {
          "name": "stdout",
          "output_type": "stream",
          "text": [
            "147\n"
          ]
        }
      ],
      "source": [
        "print(len(clear_frames))"
      ]
    },
    {
      "cell_type": "code",
      "execution_count": 28,
      "metadata": {},
      "outputs": [
        {
          "data": {
            "application/vnd.jupyter.widget-view+json": {
              "model_id": "98a2ad5417de4046abdb01c77e1ffb3b",
              "version_major": 2,
              "version_minor": 0
            },
            "text/plain": [
              "Image Augmentation:   0%|          |"
            ]
          },
          "metadata": {},
          "output_type": "display_data"
        },
        {
          "data": {
            "application/vnd.jupyter.widget-view+json": {
              "model_id": "1fb95b8e49e24dd185e3d6a33c5c64eb",
              "version_major": 2,
              "version_minor": 0
            },
            "text/plain": [
              "Similarity Calculation:   0%|          |"
            ]
          },
          "metadata": {},
          "output_type": "display_data"
        },
        {
          "name": "stdout",
          "output_type": "stream",
          "text": [
            "WARNING:tensorflow:From C:\\Users\\yusef\\AppData\\Local\\Packages\\PythonSoftwareFoundation.Python.3.11_qbz5n2kfra8p0\\LocalCache\\local-packages\\Python311\\site-packages\\keras\\src\\backend.py:277: The name tf.reset_default_graph is deprecated. Please use tf.compat.v1.reset_default_graph instead.\n",
            "\n"
          ]
        },
        {
          "data": {
            "application/vnd.jupyter.widget-view+json": {
              "model_id": "db88a3698ba447d4bb22f33e58cba48c",
              "version_major": 2,
              "version_minor": 0
            },
            "text/plain": [
              "Patch Mapping:   0%|          |"
            ]
          },
          "metadata": {},
          "output_type": "display_data"
        },
        {
          "data": {
            "application/vnd.jupyter.widget-view+json": {
              "model_id": "7700e91fe44e4bb88503b37b19c9ad91",
              "version_major": 2,
              "version_minor": 0
            },
            "text/plain": [
              "Image Augmentation:   0%|          |"
            ]
          },
          "metadata": {},
          "output_type": "display_data"
        },
        {
          "data": {
            "application/vnd.jupyter.widget-view+json": {
              "model_id": "ca6261ccbb21427e8bc64333f827c5c9",
              "version_major": 2,
              "version_minor": 0
            },
            "text/plain": [
              "Similarity Calculation:   0%|          |"
            ]
          },
          "metadata": {},
          "output_type": "display_data"
        },
        {
          "data": {
            "application/vnd.jupyter.widget-view+json": {
              "model_id": "aa8e903ba6bb4681952ae6f5f41fd75c",
              "version_major": 2,
              "version_minor": 0
            },
            "text/plain": [
              "Patch Mapping:   0%|          |"
            ]
          },
          "metadata": {},
          "output_type": "display_data"
        },
        {
          "data": {
            "application/vnd.jupyter.widget-view+json": {
              "model_id": "8933844ac5934914b759804110accc4c",
              "version_major": 2,
              "version_minor": 0
            },
            "text/plain": [
              "Image Augmentation:   0%|          |"
            ]
          },
          "metadata": {},
          "output_type": "display_data"
        },
        {
          "data": {
            "application/vnd.jupyter.widget-view+json": {
              "model_id": "da11ef60f3f945f2a2115fd5471a013e",
              "version_major": 2,
              "version_minor": 0
            },
            "text/plain": [
              "Similarity Calculation:   0%|          |"
            ]
          },
          "metadata": {},
          "output_type": "display_data"
        },
        {
          "data": {
            "application/vnd.jupyter.widget-view+json": {
              "model_id": "e22510f6f4e04dbb81439f99275819d3",
              "version_major": 2,
              "version_minor": 0
            },
            "text/plain": [
              "Patch Mapping:   0%|          |"
            ]
          },
          "metadata": {},
          "output_type": "display_data"
        },
        {
          "data": {
            "application/vnd.jupyter.widget-view+json": {
              "model_id": "5117347aa1654e2db7b73b4cba0c53d1",
              "version_major": 2,
              "version_minor": 0
            },
            "text/plain": [
              "Image Augmentation:   0%|          |"
            ]
          },
          "metadata": {},
          "output_type": "display_data"
        },
        {
          "data": {
            "application/vnd.jupyter.widget-view+json": {
              "model_id": "ae241f9a673d4653adf95acca4a47604",
              "version_major": 2,
              "version_minor": 0
            },
            "text/plain": [
              "Similarity Calculation:   0%|          |"
            ]
          },
          "metadata": {},
          "output_type": "display_data"
        },
        {
          "data": {
            "application/vnd.jupyter.widget-view+json": {
              "model_id": "20aa43ef286f4859be2e7356150a245f",
              "version_major": 2,
              "version_minor": 0
            },
            "text/plain": [
              "Patch Mapping:   0%|          |"
            ]
          },
          "metadata": {},
          "output_type": "display_data"
        },
        {
          "data": {
            "application/vnd.jupyter.widget-view+json": {
              "model_id": "532e4787b51d40fe8b0c72f84bfc68af",
              "version_major": 2,
              "version_minor": 0
            },
            "text/plain": [
              "Image Augmentation:   0%|          |"
            ]
          },
          "metadata": {},
          "output_type": "display_data"
        },
        {
          "data": {
            "application/vnd.jupyter.widget-view+json": {
              "model_id": "a01a64ef696a405f8bcd9f99b9ce7b75",
              "version_major": 2,
              "version_minor": 0
            },
            "text/plain": [
              "Similarity Calculation:   0%|          |"
            ]
          },
          "metadata": {},
          "output_type": "display_data"
        },
        {
          "data": {
            "application/vnd.jupyter.widget-view+json": {
              "model_id": "bc7129a3b9164ad8a29aa5ddeef44e26",
              "version_major": 2,
              "version_minor": 0
            },
            "text/plain": [
              "Patch Mapping:   0%|          |"
            ]
          },
          "metadata": {},
          "output_type": "display_data"
        },
        {
          "data": {
            "application/vnd.jupyter.widget-view+json": {
              "model_id": "6d9d6e30d17d4f5ba996f642e14ff8aa",
              "version_major": 2,
              "version_minor": 0
            },
            "text/plain": [
              "Image Augmentation:   0%|          |"
            ]
          },
          "metadata": {},
          "output_type": "display_data"
        },
        {
          "data": {
            "application/vnd.jupyter.widget-view+json": {
              "model_id": "6c5d34283eb04df6ab8e1df08c8ad335",
              "version_major": 2,
              "version_minor": 0
            },
            "text/plain": [
              "Similarity Calculation:   0%|          |"
            ]
          },
          "metadata": {},
          "output_type": "display_data"
        },
        {
          "data": {
            "application/vnd.jupyter.widget-view+json": {
              "model_id": "23bff1b8bbe34900aacaa95af7892cdb",
              "version_major": 2,
              "version_minor": 0
            },
            "text/plain": [
              "Patch Mapping:   0%|          |"
            ]
          },
          "metadata": {},
          "output_type": "display_data"
        },
        {
          "data": {
            "application/vnd.jupyter.widget-view+json": {
              "model_id": "b1a7e06baff14c9084aa8535e843e77c",
              "version_major": 2,
              "version_minor": 0
            },
            "text/plain": [
              "Image Augmentation:   0%|          |"
            ]
          },
          "metadata": {},
          "output_type": "display_data"
        },
        {
          "data": {
            "application/vnd.jupyter.widget-view+json": {
              "model_id": "079b67b7b1e746cc8462927ef9fde21b",
              "version_major": 2,
              "version_minor": 0
            },
            "text/plain": [
              "Similarity Calculation:   0%|          |"
            ]
          },
          "metadata": {},
          "output_type": "display_data"
        },
        {
          "data": {
            "application/vnd.jupyter.widget-view+json": {
              "model_id": "87baa25f11a248f7af01be111ada387c",
              "version_major": 2,
              "version_minor": 0
            },
            "text/plain": [
              "Patch Mapping:   0%|          |"
            ]
          },
          "metadata": {},
          "output_type": "display_data"
        },
        {
          "data": {
            "application/vnd.jupyter.widget-view+json": {
              "model_id": "2951d0586ad2460889a32aa85730c5e9",
              "version_major": 2,
              "version_minor": 0
            },
            "text/plain": [
              "Image Augmentation:   0%|          |"
            ]
          },
          "metadata": {},
          "output_type": "display_data"
        },
        {
          "data": {
            "application/vnd.jupyter.widget-view+json": {
              "model_id": "437e1791c1634ec3b95545ee219959c3",
              "version_major": 2,
              "version_minor": 0
            },
            "text/plain": [
              "Similarity Calculation:   0%|          |"
            ]
          },
          "metadata": {},
          "output_type": "display_data"
        },
        {
          "data": {
            "application/vnd.jupyter.widget-view+json": {
              "model_id": "a9c00aa601064d918ba64fcf8051d4b9",
              "version_major": 2,
              "version_minor": 0
            },
            "text/plain": [
              "Patch Mapping:   0%|          |"
            ]
          },
          "metadata": {},
          "output_type": "display_data"
        },
        {
          "data": {
            "application/vnd.jupyter.widget-view+json": {
              "model_id": "e52d653be1594ab9921f414da1dd66d9",
              "version_major": 2,
              "version_minor": 0
            },
            "text/plain": [
              "Image Augmentation:   0%|          |"
            ]
          },
          "metadata": {},
          "output_type": "display_data"
        },
        {
          "data": {
            "application/vnd.jupyter.widget-view+json": {
              "model_id": "0f029ee117804cbebf0eb08787b7735a",
              "version_major": 2,
              "version_minor": 0
            },
            "text/plain": [
              "Similarity Calculation:   0%|          |"
            ]
          },
          "metadata": {},
          "output_type": "display_data"
        },
        {
          "data": {
            "application/vnd.jupyter.widget-view+json": {
              "model_id": "a55b3102944d4918b58802ec6313659d",
              "version_major": 2,
              "version_minor": 0
            },
            "text/plain": [
              "Patch Mapping:   0%|          |"
            ]
          },
          "metadata": {},
          "output_type": "display_data"
        },
        {
          "data": {
            "application/vnd.jupyter.widget-view+json": {
              "model_id": "0e54e3d2b3104f7e9d9d4d9926971e33",
              "version_major": 2,
              "version_minor": 0
            },
            "text/plain": [
              "Image Augmentation:   0%|          |"
            ]
          },
          "metadata": {},
          "output_type": "display_data"
        },
        {
          "data": {
            "application/vnd.jupyter.widget-view+json": {
              "model_id": "45e939d5cf534376a2399aa22aca9b86",
              "version_major": 2,
              "version_minor": 0
            },
            "text/plain": [
              "Similarity Calculation:   0%|          |"
            ]
          },
          "metadata": {},
          "output_type": "display_data"
        },
        {
          "data": {
            "application/vnd.jupyter.widget-view+json": {
              "model_id": "5e01128527f3441baddedbcbe037607a",
              "version_major": 2,
              "version_minor": 0
            },
            "text/plain": [
              "Patch Mapping:   0%|          |"
            ]
          },
          "metadata": {},
          "output_type": "display_data"
        },
        {
          "data": {
            "application/vnd.jupyter.widget-view+json": {
              "model_id": "3378b1c8306844588ecbf8e462263be6",
              "version_major": 2,
              "version_minor": 0
            },
            "text/plain": [
              "Image Augmentation:   0%|          |"
            ]
          },
          "metadata": {},
          "output_type": "display_data"
        },
        {
          "data": {
            "application/vnd.jupyter.widget-view+json": {
              "model_id": "767b8f1e89a74d3680adf229d60d0cc5",
              "version_major": 2,
              "version_minor": 0
            },
            "text/plain": [
              "Similarity Calculation:   0%|          |"
            ]
          },
          "metadata": {},
          "output_type": "display_data"
        },
        {
          "data": {
            "application/vnd.jupyter.widget-view+json": {
              "model_id": "b8362c5d994e4cf69c7d5504cfa5dce0",
              "version_major": 2,
              "version_minor": 0
            },
            "text/plain": [
              "Patch Mapping:   0%|          |"
            ]
          },
          "metadata": {},
          "output_type": "display_data"
        },
        {
          "data": {
            "application/vnd.jupyter.widget-view+json": {
              "model_id": "8876ef215f474cb390aa9e89a8ca9b54",
              "version_major": 2,
              "version_minor": 0
            },
            "text/plain": [
              "Image Augmentation:   0%|          |"
            ]
          },
          "metadata": {},
          "output_type": "display_data"
        },
        {
          "data": {
            "application/vnd.jupyter.widget-view+json": {
              "model_id": "99207c172501423a9d3a25b0dc34be55",
              "version_major": 2,
              "version_minor": 0
            },
            "text/plain": [
              "Similarity Calculation:   0%|          |"
            ]
          },
          "metadata": {},
          "output_type": "display_data"
        },
        {
          "data": {
            "application/vnd.jupyter.widget-view+json": {
              "model_id": "519ce0640f344aec9e3825998516df52",
              "version_major": 2,
              "version_minor": 0
            },
            "text/plain": [
              "Patch Mapping:   0%|          |"
            ]
          },
          "metadata": {},
          "output_type": "display_data"
        },
        {
          "data": {
            "application/vnd.jupyter.widget-view+json": {
              "model_id": "c47aa55c8c5c4054a5249d159437efc9",
              "version_major": 2,
              "version_minor": 0
            },
            "text/plain": [
              "Image Augmentation:   0%|          |"
            ]
          },
          "metadata": {},
          "output_type": "display_data"
        },
        {
          "data": {
            "application/vnd.jupyter.widget-view+json": {
              "model_id": "381d962236a5465a808c62fff73d81e9",
              "version_major": 2,
              "version_minor": 0
            },
            "text/plain": [
              "Similarity Calculation:   0%|          |"
            ]
          },
          "metadata": {},
          "output_type": "display_data"
        },
        {
          "data": {
            "application/vnd.jupyter.widget-view+json": {
              "model_id": "74aed4d7ec374b61a4b1a9fe8b9d4a2f",
              "version_major": 2,
              "version_minor": 0
            },
            "text/plain": [
              "Patch Mapping:   0%|          |"
            ]
          },
          "metadata": {},
          "output_type": "display_data"
        },
        {
          "data": {
            "application/vnd.jupyter.widget-view+json": {
              "model_id": "e7f68a71cdaf4e5ebba56f8e8564bb19",
              "version_major": 2,
              "version_minor": 0
            },
            "text/plain": [
              "Image Augmentation:   0%|          |"
            ]
          },
          "metadata": {},
          "output_type": "display_data"
        },
        {
          "data": {
            "application/vnd.jupyter.widget-view+json": {
              "model_id": "fe535d99ec75437d8b5e0a8150474f13",
              "version_major": 2,
              "version_minor": 0
            },
            "text/plain": [
              "Similarity Calculation:   0%|          |"
            ]
          },
          "metadata": {},
          "output_type": "display_data"
        },
        {
          "data": {
            "application/vnd.jupyter.widget-view+json": {
              "model_id": "8e8e2d469e6949fabb6fe62ddb29a1e5",
              "version_major": 2,
              "version_minor": 0
            },
            "text/plain": [
              "Patch Mapping:   0%|          |"
            ]
          },
          "metadata": {},
          "output_type": "display_data"
        },
        {
          "data": {
            "application/vnd.jupyter.widget-view+json": {
              "model_id": "697fb1f78c7647f293781080b4f48009",
              "version_major": 2,
              "version_minor": 0
            },
            "text/plain": [
              "Image Augmentation:   0%|          |"
            ]
          },
          "metadata": {},
          "output_type": "display_data"
        },
        {
          "data": {
            "application/vnd.jupyter.widget-view+json": {
              "model_id": "ba10f4a046684e03a8e4d48f63ca277c",
              "version_major": 2,
              "version_minor": 0
            },
            "text/plain": [
              "Similarity Calculation:   0%|          |"
            ]
          },
          "metadata": {},
          "output_type": "display_data"
        },
        {
          "data": {
            "application/vnd.jupyter.widget-view+json": {
              "model_id": "5a49fc6da9af45849b420993dfd0ef36",
              "version_major": 2,
              "version_minor": 0
            },
            "text/plain": [
              "Patch Mapping:   0%|          |"
            ]
          },
          "metadata": {},
          "output_type": "display_data"
        },
        {
          "data": {
            "application/vnd.jupyter.widget-view+json": {
              "model_id": "146c5b69ee2f4295bad14d605d8ec178",
              "version_major": 2,
              "version_minor": 0
            },
            "text/plain": [
              "Image Augmentation:   0%|          |"
            ]
          },
          "metadata": {},
          "output_type": "display_data"
        },
        {
          "data": {
            "application/vnd.jupyter.widget-view+json": {
              "model_id": "6537603234f648ef8c885dc2d3e0d5c7",
              "version_major": 2,
              "version_minor": 0
            },
            "text/plain": [
              "Similarity Calculation:   0%|          |"
            ]
          },
          "metadata": {},
          "output_type": "display_data"
        },
        {
          "data": {
            "application/vnd.jupyter.widget-view+json": {
              "model_id": "ba1ea9e5072948fe8a7fd1df528bef1f",
              "version_major": 2,
              "version_minor": 0
            },
            "text/plain": [
              "Patch Mapping:   0%|          |"
            ]
          },
          "metadata": {},
          "output_type": "display_data"
        },
        {
          "data": {
            "application/vnd.jupyter.widget-view+json": {
              "model_id": "328c608b73c0415098cd99dabfce4904",
              "version_major": 2,
              "version_minor": 0
            },
            "text/plain": [
              "Image Augmentation:   0%|          |"
            ]
          },
          "metadata": {},
          "output_type": "display_data"
        },
        {
          "data": {
            "application/vnd.jupyter.widget-view+json": {
              "model_id": "fa71f58c6aa149b1a37932b5472c30ad",
              "version_major": 2,
              "version_minor": 0
            },
            "text/plain": [
              "Similarity Calculation:   0%|          |"
            ]
          },
          "metadata": {},
          "output_type": "display_data"
        },
        {
          "data": {
            "application/vnd.jupyter.widget-view+json": {
              "model_id": "0ac1ed3ba32d450d925bddb102677933",
              "version_major": 2,
              "version_minor": 0
            },
            "text/plain": [
              "Patch Mapping:   0%|          |"
            ]
          },
          "metadata": {},
          "output_type": "display_data"
        },
        {
          "data": {
            "application/vnd.jupyter.widget-view+json": {
              "model_id": "6e99b30167f0479e98f1dece46c2f713",
              "version_major": 2,
              "version_minor": 0
            },
            "text/plain": [
              "Image Augmentation:   0%|          |"
            ]
          },
          "metadata": {},
          "output_type": "display_data"
        },
        {
          "data": {
            "application/vnd.jupyter.widget-view+json": {
              "model_id": "67735ce03b9541a99f8b71b8fbb194a9",
              "version_major": 2,
              "version_minor": 0
            },
            "text/plain": [
              "Similarity Calculation:   0%|          |"
            ]
          },
          "metadata": {},
          "output_type": "display_data"
        },
        {
          "data": {
            "application/vnd.jupyter.widget-view+json": {
              "model_id": "03772591439f4094ae0237b65fc70a30",
              "version_major": 2,
              "version_minor": 0
            },
            "text/plain": [
              "Patch Mapping:   0%|          |"
            ]
          },
          "metadata": {},
          "output_type": "display_data"
        },
        {
          "data": {
            "application/vnd.jupyter.widget-view+json": {
              "model_id": "fcb3aa0afcba4c67924747cd7de7bc4a",
              "version_major": 2,
              "version_minor": 0
            },
            "text/plain": [
              "Image Augmentation:   0%|          |"
            ]
          },
          "metadata": {},
          "output_type": "display_data"
        },
        {
          "data": {
            "application/vnd.jupyter.widget-view+json": {
              "model_id": "46c95d2b069f43cc93380460f492838a",
              "version_major": 2,
              "version_minor": 0
            },
            "text/plain": [
              "Similarity Calculation:   0%|          |"
            ]
          },
          "metadata": {},
          "output_type": "display_data"
        },
        {
          "data": {
            "application/vnd.jupyter.widget-view+json": {
              "model_id": "205650b8f9aa4d058706a14886bf3816",
              "version_major": 2,
              "version_minor": 0
            },
            "text/plain": [
              "Patch Mapping:   0%|          |"
            ]
          },
          "metadata": {},
          "output_type": "display_data"
        },
        {
          "data": {
            "application/vnd.jupyter.widget-view+json": {
              "model_id": "7207a81f89064ef29dccfff0d69ed745",
              "version_major": 2,
              "version_minor": 0
            },
            "text/plain": [
              "Image Augmentation:   0%|          |"
            ]
          },
          "metadata": {},
          "output_type": "display_data"
        },
        {
          "data": {
            "application/vnd.jupyter.widget-view+json": {
              "model_id": "29140926132449aea46841ca900eaf64",
              "version_major": 2,
              "version_minor": 0
            },
            "text/plain": [
              "Similarity Calculation:   0%|          |"
            ]
          },
          "metadata": {},
          "output_type": "display_data"
        },
        {
          "data": {
            "application/vnd.jupyter.widget-view+json": {
              "model_id": "9197e79d15ff4430bdabff725abded4f",
              "version_major": 2,
              "version_minor": 0
            },
            "text/plain": [
              "Patch Mapping:   0%|          |"
            ]
          },
          "metadata": {},
          "output_type": "display_data"
        },
        {
          "data": {
            "application/vnd.jupyter.widget-view+json": {
              "model_id": "90c741e5cb7c482bb645f59ef1857a8d",
              "version_major": 2,
              "version_minor": 0
            },
            "text/plain": [
              "Image Augmentation:   0%|          |"
            ]
          },
          "metadata": {},
          "output_type": "display_data"
        },
        {
          "data": {
            "application/vnd.jupyter.widget-view+json": {
              "model_id": "9a860963121c4dc283b8d9a3a1abd22a",
              "version_major": 2,
              "version_minor": 0
            },
            "text/plain": [
              "Similarity Calculation:   0%|          |"
            ]
          },
          "metadata": {},
          "output_type": "display_data"
        },
        {
          "data": {
            "application/vnd.jupyter.widget-view+json": {
              "model_id": "b4315cfa057a4e5fa059d25d09c13b6c",
              "version_major": 2,
              "version_minor": 0
            },
            "text/plain": [
              "Patch Mapping:   0%|          |"
            ]
          },
          "metadata": {},
          "output_type": "display_data"
        },
        {
          "data": {
            "application/vnd.jupyter.widget-view+json": {
              "model_id": "5dd75fe4a0d6483187645e052f820624",
              "version_major": 2,
              "version_minor": 0
            },
            "text/plain": [
              "Image Augmentation:   0%|          |"
            ]
          },
          "metadata": {},
          "output_type": "display_data"
        },
        {
          "data": {
            "application/vnd.jupyter.widget-view+json": {
              "model_id": "69483a3f124347dbbbe95d3b5289a4ec",
              "version_major": 2,
              "version_minor": 0
            },
            "text/plain": [
              "Similarity Calculation:   0%|          |"
            ]
          },
          "metadata": {},
          "output_type": "display_data"
        },
        {
          "data": {
            "application/vnd.jupyter.widget-view+json": {
              "model_id": "b2faee76c0464257a7582131bdffd440",
              "version_major": 2,
              "version_minor": 0
            },
            "text/plain": [
              "Patch Mapping:   0%|          |"
            ]
          },
          "metadata": {},
          "output_type": "display_data"
        },
        {
          "data": {
            "application/vnd.jupyter.widget-view+json": {
              "model_id": "3b1bc8e3f71a4af1b4d04e663010484a",
              "version_major": 2,
              "version_minor": 0
            },
            "text/plain": [
              "Image Augmentation:   0%|          |"
            ]
          },
          "metadata": {},
          "output_type": "display_data"
        },
        {
          "data": {
            "application/vnd.jupyter.widget-view+json": {
              "model_id": "0b121846caa542cea2b2869ad6a10036",
              "version_major": 2,
              "version_minor": 0
            },
            "text/plain": [
              "Similarity Calculation:   0%|          |"
            ]
          },
          "metadata": {},
          "output_type": "display_data"
        },
        {
          "data": {
            "application/vnd.jupyter.widget-view+json": {
              "model_id": "049f8df457054ea897e840d4a9ee62af",
              "version_major": 2,
              "version_minor": 0
            },
            "text/plain": [
              "Patch Mapping:   0%|          |"
            ]
          },
          "metadata": {},
          "output_type": "display_data"
        },
        {
          "data": {
            "application/vnd.jupyter.widget-view+json": {
              "model_id": "379cf13d5111470c8bb1f1c8bb177658",
              "version_major": 2,
              "version_minor": 0
            },
            "text/plain": [
              "Image Augmentation:   0%|          |"
            ]
          },
          "metadata": {},
          "output_type": "display_data"
        },
        {
          "data": {
            "application/vnd.jupyter.widget-view+json": {
              "model_id": "f1c84ae0d6b041939b47cf5ed227c27c",
              "version_major": 2,
              "version_minor": 0
            },
            "text/plain": [
              "Similarity Calculation:   0%|          |"
            ]
          },
          "metadata": {},
          "output_type": "display_data"
        },
        {
          "data": {
            "application/vnd.jupyter.widget-view+json": {
              "model_id": "bc43d73edd054364893fa938f5bf0f20",
              "version_major": 2,
              "version_minor": 0
            },
            "text/plain": [
              "Patch Mapping:   0%|          |"
            ]
          },
          "metadata": {},
          "output_type": "display_data"
        },
        {
          "data": {
            "application/vnd.jupyter.widget-view+json": {
              "model_id": "417d3a82704247ed96a4a744c79b6448",
              "version_major": 2,
              "version_minor": 0
            },
            "text/plain": [
              "Image Augmentation:   0%|          |"
            ]
          },
          "metadata": {},
          "output_type": "display_data"
        },
        {
          "data": {
            "application/vnd.jupyter.widget-view+json": {
              "model_id": "f0f300344617413cbd632ab10029cd1b",
              "version_major": 2,
              "version_minor": 0
            },
            "text/plain": [
              "Similarity Calculation:   0%|          |"
            ]
          },
          "metadata": {},
          "output_type": "display_data"
        },
        {
          "data": {
            "application/vnd.jupyter.widget-view+json": {
              "model_id": "658baa269ebd4fefb8a6242a06408163",
              "version_major": 2,
              "version_minor": 0
            },
            "text/plain": [
              "Patch Mapping:   0%|          |"
            ]
          },
          "metadata": {},
          "output_type": "display_data"
        },
        {
          "data": {
            "application/vnd.jupyter.widget-view+json": {
              "model_id": "2147445056084e8dab9d894b6b2d377a",
              "version_major": 2,
              "version_minor": 0
            },
            "text/plain": [
              "Image Augmentation:   0%|          |"
            ]
          },
          "metadata": {},
          "output_type": "display_data"
        },
        {
          "data": {
            "application/vnd.jupyter.widget-view+json": {
              "model_id": "0f101d7e6bb9493ea67536f5281376bd",
              "version_major": 2,
              "version_minor": 0
            },
            "text/plain": [
              "Similarity Calculation:   0%|          |"
            ]
          },
          "metadata": {},
          "output_type": "display_data"
        },
        {
          "data": {
            "application/vnd.jupyter.widget-view+json": {
              "model_id": "53f99b9323d44bb4ac1df5840debd0a2",
              "version_major": 2,
              "version_minor": 0
            },
            "text/plain": [
              "Patch Mapping:   0%|          |"
            ]
          },
          "metadata": {},
          "output_type": "display_data"
        },
        {
          "data": {
            "application/vnd.jupyter.widget-view+json": {
              "model_id": "5d12a79e4c3d419fb86a410c7876d08f",
              "version_major": 2,
              "version_minor": 0
            },
            "text/plain": [
              "Image Augmentation:   0%|          |"
            ]
          },
          "metadata": {},
          "output_type": "display_data"
        },
        {
          "data": {
            "application/vnd.jupyter.widget-view+json": {
              "model_id": "2e2222b7cc994284b9afe2bbb8d361f2",
              "version_major": 2,
              "version_minor": 0
            },
            "text/plain": [
              "Similarity Calculation:   0%|          |"
            ]
          },
          "metadata": {},
          "output_type": "display_data"
        },
        {
          "data": {
            "application/vnd.jupyter.widget-view+json": {
              "model_id": "cf7fde1c4517427e94e3ed31bc753c8b",
              "version_major": 2,
              "version_minor": 0
            },
            "text/plain": [
              "Patch Mapping:   0%|          |"
            ]
          },
          "metadata": {},
          "output_type": "display_data"
        },
        {
          "data": {
            "application/vnd.jupyter.widget-view+json": {
              "model_id": "85675cd4dda1479481847b20b5e59d8f",
              "version_major": 2,
              "version_minor": 0
            },
            "text/plain": [
              "Image Augmentation:   0%|          |"
            ]
          },
          "metadata": {},
          "output_type": "display_data"
        },
        {
          "data": {
            "application/vnd.jupyter.widget-view+json": {
              "model_id": "036e7f502cb042c5899b3540623b71fc",
              "version_major": 2,
              "version_minor": 0
            },
            "text/plain": [
              "Similarity Calculation:   0%|          |"
            ]
          },
          "metadata": {},
          "output_type": "display_data"
        },
        {
          "data": {
            "application/vnd.jupyter.widget-view+json": {
              "model_id": "6a431c56bb60473c9d330f9efec3b5cf",
              "version_major": 2,
              "version_minor": 0
            },
            "text/plain": [
              "Patch Mapping:   0%|          |"
            ]
          },
          "metadata": {},
          "output_type": "display_data"
        },
        {
          "data": {
            "application/vnd.jupyter.widget-view+json": {
              "model_id": "6fa423ec25c948d0bfb0ae6e38144208",
              "version_major": 2,
              "version_minor": 0
            },
            "text/plain": [
              "Image Augmentation:   0%|          |"
            ]
          },
          "metadata": {},
          "output_type": "display_data"
        },
        {
          "data": {
            "application/vnd.jupyter.widget-view+json": {
              "model_id": "9f6aca07056641a8b59b366016f5f81e",
              "version_major": 2,
              "version_minor": 0
            },
            "text/plain": [
              "Similarity Calculation:   0%|          |"
            ]
          },
          "metadata": {},
          "output_type": "display_data"
        },
        {
          "data": {
            "application/vnd.jupyter.widget-view+json": {
              "model_id": "0388102cb0f34083b3f15b88013427a2",
              "version_major": 2,
              "version_minor": 0
            },
            "text/plain": [
              "Patch Mapping:   0%|          |"
            ]
          },
          "metadata": {},
          "output_type": "display_data"
        },
        {
          "data": {
            "application/vnd.jupyter.widget-view+json": {
              "model_id": "88b06973a21e4045b675ae3b04cb57fd",
              "version_major": 2,
              "version_minor": 0
            },
            "text/plain": [
              "Image Augmentation:   0%|          |"
            ]
          },
          "metadata": {},
          "output_type": "display_data"
        },
        {
          "data": {
            "application/vnd.jupyter.widget-view+json": {
              "model_id": "27b4e7969a1540bfbbb9379d6ad797c0",
              "version_major": 2,
              "version_minor": 0
            },
            "text/plain": [
              "Similarity Calculation:   0%|          |"
            ]
          },
          "metadata": {},
          "output_type": "display_data"
        },
        {
          "data": {
            "application/vnd.jupyter.widget-view+json": {
              "model_id": "d510b925de514b18852c634d4d9c0bd1",
              "version_major": 2,
              "version_minor": 0
            },
            "text/plain": [
              "Patch Mapping:   0%|          |"
            ]
          },
          "metadata": {},
          "output_type": "display_data"
        },
        {
          "data": {
            "application/vnd.jupyter.widget-view+json": {
              "model_id": "34e341bf29134dd6987431c6c1a1fd05",
              "version_major": 2,
              "version_minor": 0
            },
            "text/plain": [
              "Image Augmentation:   0%|          |"
            ]
          },
          "metadata": {},
          "output_type": "display_data"
        },
        {
          "data": {
            "application/vnd.jupyter.widget-view+json": {
              "model_id": "f13b6017666b478f89068a47a2df2817",
              "version_major": 2,
              "version_minor": 0
            },
            "text/plain": [
              "Similarity Calculation:   0%|          |"
            ]
          },
          "metadata": {},
          "output_type": "display_data"
        },
        {
          "data": {
            "application/vnd.jupyter.widget-view+json": {
              "model_id": "a83052f37a2c4ef89a0160253f17c220",
              "version_major": 2,
              "version_minor": 0
            },
            "text/plain": [
              "Patch Mapping:   0%|          |"
            ]
          },
          "metadata": {},
          "output_type": "display_data"
        },
        {
          "data": {
            "application/vnd.jupyter.widget-view+json": {
              "model_id": "13c79b96c076482295fd340a10426208",
              "version_major": 2,
              "version_minor": 0
            },
            "text/plain": [
              "Image Augmentation:   0%|          |"
            ]
          },
          "metadata": {},
          "output_type": "display_data"
        },
        {
          "data": {
            "application/vnd.jupyter.widget-view+json": {
              "model_id": "866913dc3ee74e84ba3f6d40fd700d40",
              "version_major": 2,
              "version_minor": 0
            },
            "text/plain": [
              "Similarity Calculation:   0%|          |"
            ]
          },
          "metadata": {},
          "output_type": "display_data"
        },
        {
          "data": {
            "application/vnd.jupyter.widget-view+json": {
              "model_id": "9ab27485e57b43daa9323ffb5e99e170",
              "version_major": 2,
              "version_minor": 0
            },
            "text/plain": [
              "Patch Mapping:   0%|          |"
            ]
          },
          "metadata": {},
          "output_type": "display_data"
        },
        {
          "data": {
            "application/vnd.jupyter.widget-view+json": {
              "model_id": "7c8bf15f41d9414689b3a1b90b54b281",
              "version_major": 2,
              "version_minor": 0
            },
            "text/plain": [
              "Image Augmentation:   0%|          |"
            ]
          },
          "metadata": {},
          "output_type": "display_data"
        },
        {
          "data": {
            "application/vnd.jupyter.widget-view+json": {
              "model_id": "4ac197306af64a36b624658edb7d7505",
              "version_major": 2,
              "version_minor": 0
            },
            "text/plain": [
              "Similarity Calculation:   0%|          |"
            ]
          },
          "metadata": {},
          "output_type": "display_data"
        },
        {
          "data": {
            "application/vnd.jupyter.widget-view+json": {
              "model_id": "714547e2591d4b53a5c53b39d3763c07",
              "version_major": 2,
              "version_minor": 0
            },
            "text/plain": [
              "Patch Mapping:   0%|          |"
            ]
          },
          "metadata": {},
          "output_type": "display_data"
        },
        {
          "data": {
            "application/vnd.jupyter.widget-view+json": {
              "model_id": "94c4154bcf3d466987e6e718c82aa734",
              "version_major": 2,
              "version_minor": 0
            },
            "text/plain": [
              "Image Augmentation:   0%|          |"
            ]
          },
          "metadata": {},
          "output_type": "display_data"
        },
        {
          "data": {
            "application/vnd.jupyter.widget-view+json": {
              "model_id": "989baa1f32a84dbea90ec9a88a93eee3",
              "version_major": 2,
              "version_minor": 0
            },
            "text/plain": [
              "Similarity Calculation:   0%|          |"
            ]
          },
          "metadata": {},
          "output_type": "display_data"
        },
        {
          "data": {
            "application/vnd.jupyter.widget-view+json": {
              "model_id": "159b303da64a454a859836f5b750cb9d",
              "version_major": 2,
              "version_minor": 0
            },
            "text/plain": [
              "Patch Mapping:   0%|          |"
            ]
          },
          "metadata": {},
          "output_type": "display_data"
        },
        {
          "data": {
            "application/vnd.jupyter.widget-view+json": {
              "model_id": "cb44d933f3394753bfa88614d7497434",
              "version_major": 2,
              "version_minor": 0
            },
            "text/plain": [
              "Image Augmentation:   0%|          |"
            ]
          },
          "metadata": {},
          "output_type": "display_data"
        },
        {
          "data": {
            "application/vnd.jupyter.widget-view+json": {
              "model_id": "2b492bfba5794b92930e5338ae0b7354",
              "version_major": 2,
              "version_minor": 0
            },
            "text/plain": [
              "Similarity Calculation:   0%|          |"
            ]
          },
          "metadata": {},
          "output_type": "display_data"
        },
        {
          "data": {
            "application/vnd.jupyter.widget-view+json": {
              "model_id": "aae1e69fee724a3ebdbc765d27f1b951",
              "version_major": 2,
              "version_minor": 0
            },
            "text/plain": [
              "Patch Mapping:   0%|          |"
            ]
          },
          "metadata": {},
          "output_type": "display_data"
        },
        {
          "data": {
            "application/vnd.jupyter.widget-view+json": {
              "model_id": "3b599da17c7e4b64a29549e7a3c28541",
              "version_major": 2,
              "version_minor": 0
            },
            "text/plain": [
              "Image Augmentation:   0%|          |"
            ]
          },
          "metadata": {},
          "output_type": "display_data"
        },
        {
          "data": {
            "application/vnd.jupyter.widget-view+json": {
              "model_id": "3f54f695007b4142858d33db06893d1f",
              "version_major": 2,
              "version_minor": 0
            },
            "text/plain": [
              "Similarity Calculation:   0%|          |"
            ]
          },
          "metadata": {},
          "output_type": "display_data"
        },
        {
          "data": {
            "application/vnd.jupyter.widget-view+json": {
              "model_id": "dfe654532d5a43c789707804dd8d4f7f",
              "version_major": 2,
              "version_minor": 0
            },
            "text/plain": [
              "Patch Mapping:   0%|          |"
            ]
          },
          "metadata": {},
          "output_type": "display_data"
        },
        {
          "data": {
            "application/vnd.jupyter.widget-view+json": {
              "model_id": "a6671f7b47bb431692b773a41fd4865c",
              "version_major": 2,
              "version_minor": 0
            },
            "text/plain": [
              "Image Augmentation:   0%|          |"
            ]
          },
          "metadata": {},
          "output_type": "display_data"
        },
        {
          "data": {
            "application/vnd.jupyter.widget-view+json": {
              "model_id": "3181f6de1530420d8d6bc49ad7ed2ccd",
              "version_major": 2,
              "version_minor": 0
            },
            "text/plain": [
              "Similarity Calculation:   0%|          |"
            ]
          },
          "metadata": {},
          "output_type": "display_data"
        },
        {
          "data": {
            "application/vnd.jupyter.widget-view+json": {
              "model_id": "d4c87b61596d43519397e696469ac1a4",
              "version_major": 2,
              "version_minor": 0
            },
            "text/plain": [
              "Patch Mapping:   0%|          |"
            ]
          },
          "metadata": {},
          "output_type": "display_data"
        },
        {
          "data": {
            "application/vnd.jupyter.widget-view+json": {
              "model_id": "86c8ad5da65c4e708f583b1c568b6b4f",
              "version_major": 2,
              "version_minor": 0
            },
            "text/plain": [
              "Image Augmentation:   0%|          |"
            ]
          },
          "metadata": {},
          "output_type": "display_data"
        },
        {
          "data": {
            "application/vnd.jupyter.widget-view+json": {
              "model_id": "835916e225424c6f947baa4635dbdad8",
              "version_major": 2,
              "version_minor": 0
            },
            "text/plain": [
              "Similarity Calculation:   0%|          |"
            ]
          },
          "metadata": {},
          "output_type": "display_data"
        },
        {
          "data": {
            "application/vnd.jupyter.widget-view+json": {
              "model_id": "3ed70b23827e4e42a3137d1ea53d2f73",
              "version_major": 2,
              "version_minor": 0
            },
            "text/plain": [
              "Patch Mapping:   0%|          |"
            ]
          },
          "metadata": {},
          "output_type": "display_data"
        },
        {
          "data": {
            "application/vnd.jupyter.widget-view+json": {
              "model_id": "2b20a9a23a004c61a803426ca4be4712",
              "version_major": 2,
              "version_minor": 0
            },
            "text/plain": [
              "Image Augmentation:   0%|          |"
            ]
          },
          "metadata": {},
          "output_type": "display_data"
        },
        {
          "data": {
            "application/vnd.jupyter.widget-view+json": {
              "model_id": "c1cfe9c9631f463180abc8f92ed5a884",
              "version_major": 2,
              "version_minor": 0
            },
            "text/plain": [
              "Similarity Calculation:   0%|          |"
            ]
          },
          "metadata": {},
          "output_type": "display_data"
        },
        {
          "data": {
            "application/vnd.jupyter.widget-view+json": {
              "model_id": "e4b77a5c37614d228b4b94d68ca736de",
              "version_major": 2,
              "version_minor": 0
            },
            "text/plain": [
              "Patch Mapping:   0%|          |"
            ]
          },
          "metadata": {},
          "output_type": "display_data"
        },
        {
          "data": {
            "application/vnd.jupyter.widget-view+json": {
              "model_id": "515f5789204f4682abd2a0d47c2c7ce3",
              "version_major": 2,
              "version_minor": 0
            },
            "text/plain": [
              "Image Augmentation:   0%|          |"
            ]
          },
          "metadata": {},
          "output_type": "display_data"
        },
        {
          "data": {
            "application/vnd.jupyter.widget-view+json": {
              "model_id": "af0d67ef3d254165bc5f40304128c6a6",
              "version_major": 2,
              "version_minor": 0
            },
            "text/plain": [
              "Similarity Calculation:   0%|          |"
            ]
          },
          "metadata": {},
          "output_type": "display_data"
        },
        {
          "data": {
            "application/vnd.jupyter.widget-view+json": {
              "model_id": "7f33c19c2a944a50907708adcb1462d2",
              "version_major": 2,
              "version_minor": 0
            },
            "text/plain": [
              "Patch Mapping:   0%|          |"
            ]
          },
          "metadata": {},
          "output_type": "display_data"
        },
        {
          "data": {
            "application/vnd.jupyter.widget-view+json": {
              "model_id": "5af0af9738e143eba84c877cbd48d99c",
              "version_major": 2,
              "version_minor": 0
            },
            "text/plain": [
              "Image Augmentation:   0%|          |"
            ]
          },
          "metadata": {},
          "output_type": "display_data"
        },
        {
          "data": {
            "application/vnd.jupyter.widget-view+json": {
              "model_id": "c71d5cce0447420795154360114d6a19",
              "version_major": 2,
              "version_minor": 0
            },
            "text/plain": [
              "Similarity Calculation:   0%|          |"
            ]
          },
          "metadata": {},
          "output_type": "display_data"
        },
        {
          "data": {
            "application/vnd.jupyter.widget-view+json": {
              "model_id": "3fc49c7b5dba412e9245df4a9621b8c9",
              "version_major": 2,
              "version_minor": 0
            },
            "text/plain": [
              "Patch Mapping:   0%|          |"
            ]
          },
          "metadata": {},
          "output_type": "display_data"
        },
        {
          "data": {
            "application/vnd.jupyter.widget-view+json": {
              "model_id": "ba8ad522065246baaeb2cdde493fbd65",
              "version_major": 2,
              "version_minor": 0
            },
            "text/plain": [
              "Image Augmentation:   0%|          |"
            ]
          },
          "metadata": {},
          "output_type": "display_data"
        },
        {
          "data": {
            "application/vnd.jupyter.widget-view+json": {
              "model_id": "8aa9a9e4ae0d465085310c1317e7cb32",
              "version_major": 2,
              "version_minor": 0
            },
            "text/plain": [
              "Similarity Calculation:   0%|          |"
            ]
          },
          "metadata": {},
          "output_type": "display_data"
        },
        {
          "data": {
            "application/vnd.jupyter.widget-view+json": {
              "model_id": "9af383ec5ca142a7a0ed32ed8f1fc81a",
              "version_major": 2,
              "version_minor": 0
            },
            "text/plain": [
              "Patch Mapping:   0%|          |"
            ]
          },
          "metadata": {},
          "output_type": "display_data"
        },
        {
          "data": {
            "application/vnd.jupyter.widget-view+json": {
              "model_id": "e20d3347e15d4a1fbb0c19ad36b2b6dd",
              "version_major": 2,
              "version_minor": 0
            },
            "text/plain": [
              "Image Augmentation:   0%|          |"
            ]
          },
          "metadata": {},
          "output_type": "display_data"
        },
        {
          "data": {
            "application/vnd.jupyter.widget-view+json": {
              "model_id": "32ea8a3085bb41a1a40f90a3ef866614",
              "version_major": 2,
              "version_minor": 0
            },
            "text/plain": [
              "Similarity Calculation:   0%|          |"
            ]
          },
          "metadata": {},
          "output_type": "display_data"
        },
        {
          "data": {
            "application/vnd.jupyter.widget-view+json": {
              "model_id": "01d3e5796c6d4ddc836b9b0cfa1ef529",
              "version_major": 2,
              "version_minor": 0
            },
            "text/plain": [
              "Patch Mapping:   0%|          |"
            ]
          },
          "metadata": {},
          "output_type": "display_data"
        },
        {
          "data": {
            "application/vnd.jupyter.widget-view+json": {
              "model_id": "f450c3c47fa74579a2e9e1f33b0cc4de",
              "version_major": 2,
              "version_minor": 0
            },
            "text/plain": [
              "Image Augmentation:   0%|          |"
            ]
          },
          "metadata": {},
          "output_type": "display_data"
        },
        {
          "data": {
            "application/vnd.jupyter.widget-view+json": {
              "model_id": "e9006db9d8924b44b03f776fcb2846a3",
              "version_major": 2,
              "version_minor": 0
            },
            "text/plain": [
              "Similarity Calculation:   0%|          |"
            ]
          },
          "metadata": {},
          "output_type": "display_data"
        },
        {
          "data": {
            "application/vnd.jupyter.widget-view+json": {
              "model_id": "324bb0c332dc426d9160341eaee40801",
              "version_major": 2,
              "version_minor": 0
            },
            "text/plain": [
              "Patch Mapping:   0%|          |"
            ]
          },
          "metadata": {},
          "output_type": "display_data"
        },
        {
          "data": {
            "application/vnd.jupyter.widget-view+json": {
              "model_id": "b6e79c07fd7142b1bdb0e546bc8e2f81",
              "version_major": 2,
              "version_minor": 0
            },
            "text/plain": [
              "Image Augmentation:   0%|          |"
            ]
          },
          "metadata": {},
          "output_type": "display_data"
        },
        {
          "data": {
            "application/vnd.jupyter.widget-view+json": {
              "model_id": "70188244df444a068495c3114b08f5f2",
              "version_major": 2,
              "version_minor": 0
            },
            "text/plain": [
              "Similarity Calculation:   0%|          |"
            ]
          },
          "metadata": {},
          "output_type": "display_data"
        },
        {
          "data": {
            "application/vnd.jupyter.widget-view+json": {
              "model_id": "5a1d5d6756f6401b8162c53a17eb8694",
              "version_major": 2,
              "version_minor": 0
            },
            "text/plain": [
              "Patch Mapping:   0%|          |"
            ]
          },
          "metadata": {},
          "output_type": "display_data"
        },
        {
          "data": {
            "application/vnd.jupyter.widget-view+json": {
              "model_id": "e201c6a11a7a41aea1f1f38da7a5d507",
              "version_major": 2,
              "version_minor": 0
            },
            "text/plain": [
              "Image Augmentation:   0%|          |"
            ]
          },
          "metadata": {},
          "output_type": "display_data"
        },
        {
          "data": {
            "application/vnd.jupyter.widget-view+json": {
              "model_id": "29dd2d221acd4d818cb68dc15f7549a2",
              "version_major": 2,
              "version_minor": 0
            },
            "text/plain": [
              "Similarity Calculation:   0%|          |"
            ]
          },
          "metadata": {},
          "output_type": "display_data"
        },
        {
          "data": {
            "application/vnd.jupyter.widget-view+json": {
              "model_id": "4680f1446eb8443988d415e486ec272b",
              "version_major": 2,
              "version_minor": 0
            },
            "text/plain": [
              "Patch Mapping:   0%|          |"
            ]
          },
          "metadata": {},
          "output_type": "display_data"
        },
        {
          "data": {
            "application/vnd.jupyter.widget-view+json": {
              "model_id": "85f661099e6d4a70b06830c9f8361ec5",
              "version_major": 2,
              "version_minor": 0
            },
            "text/plain": [
              "Image Augmentation:   0%|          |"
            ]
          },
          "metadata": {},
          "output_type": "display_data"
        },
        {
          "data": {
            "application/vnd.jupyter.widget-view+json": {
              "model_id": "2069a3036a854dcbb2e92b60895bb270",
              "version_major": 2,
              "version_minor": 0
            },
            "text/plain": [
              "Similarity Calculation:   0%|          |"
            ]
          },
          "metadata": {},
          "output_type": "display_data"
        },
        {
          "data": {
            "application/vnd.jupyter.widget-view+json": {
              "model_id": "09ded59f0d694f31911845623a3ef59d",
              "version_major": 2,
              "version_minor": 0
            },
            "text/plain": [
              "Patch Mapping:   0%|          |"
            ]
          },
          "metadata": {},
          "output_type": "display_data"
        },
        {
          "data": {
            "application/vnd.jupyter.widget-view+json": {
              "model_id": "3c54054ee0f649cfbfa5090270fdb2f8",
              "version_major": 2,
              "version_minor": 0
            },
            "text/plain": [
              "Image Augmentation:   0%|          |"
            ]
          },
          "metadata": {},
          "output_type": "display_data"
        },
        {
          "data": {
            "application/vnd.jupyter.widget-view+json": {
              "model_id": "f40297b0e6244d75b7c9a9fea2c5cce9",
              "version_major": 2,
              "version_minor": 0
            },
            "text/plain": [
              "Similarity Calculation:   0%|          |"
            ]
          },
          "metadata": {},
          "output_type": "display_data"
        },
        {
          "data": {
            "application/vnd.jupyter.widget-view+json": {
              "model_id": "d61eaf76b7a64fcb93b17e47e5ecb607",
              "version_major": 2,
              "version_minor": 0
            },
            "text/plain": [
              "Patch Mapping:   0%|          |"
            ]
          },
          "metadata": {},
          "output_type": "display_data"
        },
        {
          "data": {
            "application/vnd.jupyter.widget-view+json": {
              "model_id": "dc0e82ccb7b6442b8a0c269d8d4d7c20",
              "version_major": 2,
              "version_minor": 0
            },
            "text/plain": [
              "Image Augmentation:   0%|          |"
            ]
          },
          "metadata": {},
          "output_type": "display_data"
        },
        {
          "data": {
            "application/vnd.jupyter.widget-view+json": {
              "model_id": "0d641b6c162343efaf2a499fbdd85fab",
              "version_major": 2,
              "version_minor": 0
            },
            "text/plain": [
              "Similarity Calculation:   0%|          |"
            ]
          },
          "metadata": {},
          "output_type": "display_data"
        },
        {
          "data": {
            "application/vnd.jupyter.widget-view+json": {
              "model_id": "12b9523887d0468e9d9a65ffa988b633",
              "version_major": 2,
              "version_minor": 0
            },
            "text/plain": [
              "Patch Mapping:   0%|          |"
            ]
          },
          "metadata": {},
          "output_type": "display_data"
        },
        {
          "data": {
            "application/vnd.jupyter.widget-view+json": {
              "model_id": "5526ada9dc75424ea2a520b2dd58b7a0",
              "version_major": 2,
              "version_minor": 0
            },
            "text/plain": [
              "Image Augmentation:   0%|          |"
            ]
          },
          "metadata": {},
          "output_type": "display_data"
        },
        {
          "data": {
            "application/vnd.jupyter.widget-view+json": {
              "model_id": "1327afc8c5c74bd19dc2bad09cb5a0e7",
              "version_major": 2,
              "version_minor": 0
            },
            "text/plain": [
              "Similarity Calculation:   0%|          |"
            ]
          },
          "metadata": {},
          "output_type": "display_data"
        },
        {
          "data": {
            "application/vnd.jupyter.widget-view+json": {
              "model_id": "ca5295c58e2145f092e548b47054ba8d",
              "version_major": 2,
              "version_minor": 0
            },
            "text/plain": [
              "Patch Mapping:   0%|          |"
            ]
          },
          "metadata": {},
          "output_type": "display_data"
        },
        {
          "data": {
            "application/vnd.jupyter.widget-view+json": {
              "model_id": "f2961eb7d8b641b486c69f46aca4250b",
              "version_major": 2,
              "version_minor": 0
            },
            "text/plain": [
              "Image Augmentation:   0%|          |"
            ]
          },
          "metadata": {},
          "output_type": "display_data"
        },
        {
          "data": {
            "application/vnd.jupyter.widget-view+json": {
              "model_id": "d00c1f7413314cb8802cae6c6cb5b638",
              "version_major": 2,
              "version_minor": 0
            },
            "text/plain": [
              "Similarity Calculation:   0%|          |"
            ]
          },
          "metadata": {},
          "output_type": "display_data"
        },
        {
          "data": {
            "application/vnd.jupyter.widget-view+json": {
              "model_id": "f5be5617190d49df9c103175955048cc",
              "version_major": 2,
              "version_minor": 0
            },
            "text/plain": [
              "Patch Mapping:   0%|          |"
            ]
          },
          "metadata": {},
          "output_type": "display_data"
        },
        {
          "data": {
            "application/vnd.jupyter.widget-view+json": {
              "model_id": "f897dff5a07546ed8185ad273f676d97",
              "version_major": 2,
              "version_minor": 0
            },
            "text/plain": [
              "Image Augmentation:   0%|          |"
            ]
          },
          "metadata": {},
          "output_type": "display_data"
        },
        {
          "data": {
            "application/vnd.jupyter.widget-view+json": {
              "model_id": "ba3657dc490c463f8ccd41d253984fc5",
              "version_major": 2,
              "version_minor": 0
            },
            "text/plain": [
              "Similarity Calculation:   0%|          |"
            ]
          },
          "metadata": {},
          "output_type": "display_data"
        },
        {
          "data": {
            "application/vnd.jupyter.widget-view+json": {
              "model_id": "ef73fde1c29947fab8c40d5d2a7a5c2d",
              "version_major": 2,
              "version_minor": 0
            },
            "text/plain": [
              "Patch Mapping:   0%|          |"
            ]
          },
          "metadata": {},
          "output_type": "display_data"
        },
        {
          "data": {
            "application/vnd.jupyter.widget-view+json": {
              "model_id": "9a837cb2220c4c44b4836106530a6951",
              "version_major": 2,
              "version_minor": 0
            },
            "text/plain": [
              "Image Augmentation:   0%|          |"
            ]
          },
          "metadata": {},
          "output_type": "display_data"
        },
        {
          "data": {
            "application/vnd.jupyter.widget-view+json": {
              "model_id": "2c67ffd8113843fea71143edfcb9fc7b",
              "version_major": 2,
              "version_minor": 0
            },
            "text/plain": [
              "Similarity Calculation:   0%|          |"
            ]
          },
          "metadata": {},
          "output_type": "display_data"
        },
        {
          "data": {
            "application/vnd.jupyter.widget-view+json": {
              "model_id": "a9c2ff79c6d44d93989c4eb91f33d1c7",
              "version_major": 2,
              "version_minor": 0
            },
            "text/plain": [
              "Patch Mapping:   0%|          |"
            ]
          },
          "metadata": {},
          "output_type": "display_data"
        },
        {
          "data": {
            "application/vnd.jupyter.widget-view+json": {
              "model_id": "f401197d66ff4f0eab01f57b9ee6f8a7",
              "version_major": 2,
              "version_minor": 0
            },
            "text/plain": [
              "Image Augmentation:   0%|          |"
            ]
          },
          "metadata": {},
          "output_type": "display_data"
        },
        {
          "data": {
            "application/vnd.jupyter.widget-view+json": {
              "model_id": "6262490f002c4aafbe16a59fc51bef31",
              "version_major": 2,
              "version_minor": 0
            },
            "text/plain": [
              "Similarity Calculation:   0%|          |"
            ]
          },
          "metadata": {},
          "output_type": "display_data"
        },
        {
          "data": {
            "application/vnd.jupyter.widget-view+json": {
              "model_id": "93a7bc1896854b5386026b1ab910b910",
              "version_major": 2,
              "version_minor": 0
            },
            "text/plain": [
              "Patch Mapping:   0%|          |"
            ]
          },
          "metadata": {},
          "output_type": "display_data"
        },
        {
          "data": {
            "application/vnd.jupyter.widget-view+json": {
              "model_id": "9ad6dad524514384b74e6d396e23fc19",
              "version_major": 2,
              "version_minor": 0
            },
            "text/plain": [
              "Image Augmentation:   0%|          |"
            ]
          },
          "metadata": {},
          "output_type": "display_data"
        },
        {
          "data": {
            "application/vnd.jupyter.widget-view+json": {
              "model_id": "f9a9f6a7bd1e4b23989b8970c9ad4b79",
              "version_major": 2,
              "version_minor": 0
            },
            "text/plain": [
              "Similarity Calculation:   0%|          |"
            ]
          },
          "metadata": {},
          "output_type": "display_data"
        },
        {
          "data": {
            "application/vnd.jupyter.widget-view+json": {
              "model_id": "31ecf7eeed844e5c87aaf2d0908c27f7",
              "version_major": 2,
              "version_minor": 0
            },
            "text/plain": [
              "Patch Mapping:   0%|          |"
            ]
          },
          "metadata": {},
          "output_type": "display_data"
        },
        {
          "data": {
            "application/vnd.jupyter.widget-view+json": {
              "model_id": "0535957e1c1d4763826a65db53e7fd90",
              "version_major": 2,
              "version_minor": 0
            },
            "text/plain": [
              "Image Augmentation:   0%|          |"
            ]
          },
          "metadata": {},
          "output_type": "display_data"
        },
        {
          "data": {
            "application/vnd.jupyter.widget-view+json": {
              "model_id": "d65fbca622dc4f54b9e383d5ba577ffa",
              "version_major": 2,
              "version_minor": 0
            },
            "text/plain": [
              "Similarity Calculation:   0%|          |"
            ]
          },
          "metadata": {},
          "output_type": "display_data"
        },
        {
          "data": {
            "application/vnd.jupyter.widget-view+json": {
              "model_id": "dcbf0535df1a48b9a2568aa57816bc92",
              "version_major": 2,
              "version_minor": 0
            },
            "text/plain": [
              "Patch Mapping:   0%|          |"
            ]
          },
          "metadata": {},
          "output_type": "display_data"
        },
        {
          "data": {
            "application/vnd.jupyter.widget-view+json": {
              "model_id": "9c125b83e2f147a1b6e59f94344a2dd2",
              "version_major": 2,
              "version_minor": 0
            },
            "text/plain": [
              "Image Augmentation:   0%|          |"
            ]
          },
          "metadata": {},
          "output_type": "display_data"
        },
        {
          "data": {
            "application/vnd.jupyter.widget-view+json": {
              "model_id": "65052843eb2e4d8890c30772083ccd1e",
              "version_major": 2,
              "version_minor": 0
            },
            "text/plain": [
              "Similarity Calculation:   0%|          |"
            ]
          },
          "metadata": {},
          "output_type": "display_data"
        },
        {
          "data": {
            "application/vnd.jupyter.widget-view+json": {
              "model_id": "fdcaadec1f7d4f86b80bf4e6f5a64af9",
              "version_major": 2,
              "version_minor": 0
            },
            "text/plain": [
              "Patch Mapping:   0%|          |"
            ]
          },
          "metadata": {},
          "output_type": "display_data"
        },
        {
          "data": {
            "application/vnd.jupyter.widget-view+json": {
              "model_id": "076148f9e3b04e9596edf21bed8ba978",
              "version_major": 2,
              "version_minor": 0
            },
            "text/plain": [
              "Image Augmentation:   0%|          |"
            ]
          },
          "metadata": {},
          "output_type": "display_data"
        },
        {
          "data": {
            "application/vnd.jupyter.widget-view+json": {
              "model_id": "4a17f29562c54e49b1f89c84e443eaa1",
              "version_major": 2,
              "version_minor": 0
            },
            "text/plain": [
              "Similarity Calculation:   0%|          |"
            ]
          },
          "metadata": {},
          "output_type": "display_data"
        },
        {
          "data": {
            "application/vnd.jupyter.widget-view+json": {
              "model_id": "cf603b53a3584808b4df90924b6ac6e7",
              "version_major": 2,
              "version_minor": 0
            },
            "text/plain": [
              "Patch Mapping:   0%|          |"
            ]
          },
          "metadata": {},
          "output_type": "display_data"
        },
        {
          "data": {
            "application/vnd.jupyter.widget-view+json": {
              "model_id": "ffcc52a7d3c24a709d70b00aaca5d24d",
              "version_major": 2,
              "version_minor": 0
            },
            "text/plain": [
              "Image Augmentation:   0%|          |"
            ]
          },
          "metadata": {},
          "output_type": "display_data"
        },
        {
          "data": {
            "application/vnd.jupyter.widget-view+json": {
              "model_id": "61228d41663d4e41870c9e34f5034e19",
              "version_major": 2,
              "version_minor": 0
            },
            "text/plain": [
              "Similarity Calculation:   0%|          |"
            ]
          },
          "metadata": {},
          "output_type": "display_data"
        },
        {
          "data": {
            "application/vnd.jupyter.widget-view+json": {
              "model_id": "b3097479759f4ff9913bd6e6b70940d9",
              "version_major": 2,
              "version_minor": 0
            },
            "text/plain": [
              "Patch Mapping:   0%|          |"
            ]
          },
          "metadata": {},
          "output_type": "display_data"
        },
        {
          "data": {
            "application/vnd.jupyter.widget-view+json": {
              "model_id": "98a07df1785e49819a009ef6339d0453",
              "version_major": 2,
              "version_minor": 0
            },
            "text/plain": [
              "Image Augmentation:   0%|          |"
            ]
          },
          "metadata": {},
          "output_type": "display_data"
        },
        {
          "data": {
            "application/vnd.jupyter.widget-view+json": {
              "model_id": "899b9367157d479883ead1f63707309d",
              "version_major": 2,
              "version_minor": 0
            },
            "text/plain": [
              "Similarity Calculation:   0%|          |"
            ]
          },
          "metadata": {},
          "output_type": "display_data"
        },
        {
          "data": {
            "application/vnd.jupyter.widget-view+json": {
              "model_id": "f43eda3c61bd4eb39adf1cfa136f4755",
              "version_major": 2,
              "version_minor": 0
            },
            "text/plain": [
              "Patch Mapping:   0%|          |"
            ]
          },
          "metadata": {},
          "output_type": "display_data"
        },
        {
          "data": {
            "application/vnd.jupyter.widget-view+json": {
              "model_id": "89a4aca42bc947daba3e76438d219c65",
              "version_major": 2,
              "version_minor": 0
            },
            "text/plain": [
              "Image Augmentation:   0%|          |"
            ]
          },
          "metadata": {},
          "output_type": "display_data"
        },
        {
          "data": {
            "application/vnd.jupyter.widget-view+json": {
              "model_id": "b1dd8ab963e84905b3466bbfbe88500c",
              "version_major": 2,
              "version_minor": 0
            },
            "text/plain": [
              "Similarity Calculation:   0%|          |"
            ]
          },
          "metadata": {},
          "output_type": "display_data"
        },
        {
          "data": {
            "application/vnd.jupyter.widget-view+json": {
              "model_id": "8873a9c6668848a3abf50a5b63212346",
              "version_major": 2,
              "version_minor": 0
            },
            "text/plain": [
              "Patch Mapping:   0%|          |"
            ]
          },
          "metadata": {},
          "output_type": "display_data"
        },
        {
          "data": {
            "application/vnd.jupyter.widget-view+json": {
              "model_id": "d108d1c46cf0422f950f9dcc816f8268",
              "version_major": 2,
              "version_minor": 0
            },
            "text/plain": [
              "Image Augmentation:   0%|          |"
            ]
          },
          "metadata": {},
          "output_type": "display_data"
        },
        {
          "data": {
            "application/vnd.jupyter.widget-view+json": {
              "model_id": "0055dc58dc8746d78bf53fd32ce48841",
              "version_major": 2,
              "version_minor": 0
            },
            "text/plain": [
              "Similarity Calculation:   0%|          |"
            ]
          },
          "metadata": {},
          "output_type": "display_data"
        },
        {
          "data": {
            "application/vnd.jupyter.widget-view+json": {
              "model_id": "8fc3be2ccd9746cb8e7f650554ff605b",
              "version_major": 2,
              "version_minor": 0
            },
            "text/plain": [
              "Patch Mapping:   0%|          |"
            ]
          },
          "metadata": {},
          "output_type": "display_data"
        },
        {
          "data": {
            "application/vnd.jupyter.widget-view+json": {
              "model_id": "15a41c6e000049048f5cddbb30c39848",
              "version_major": 2,
              "version_minor": 0
            },
            "text/plain": [
              "Image Augmentation:   0%|          |"
            ]
          },
          "metadata": {},
          "output_type": "display_data"
        },
        {
          "data": {
            "application/vnd.jupyter.widget-view+json": {
              "model_id": "265f8a66bf644bd38fc720c0937af82d",
              "version_major": 2,
              "version_minor": 0
            },
            "text/plain": [
              "Similarity Calculation:   0%|          |"
            ]
          },
          "metadata": {},
          "output_type": "display_data"
        },
        {
          "data": {
            "application/vnd.jupyter.widget-view+json": {
              "model_id": "0a198da4db63428b9138554903bd9519",
              "version_major": 2,
              "version_minor": 0
            },
            "text/plain": [
              "Patch Mapping:   0%|          |"
            ]
          },
          "metadata": {},
          "output_type": "display_data"
        },
        {
          "data": {
            "application/vnd.jupyter.widget-view+json": {
              "model_id": "7b6a641908af44499cd22b2d4d4e6cb7",
              "version_major": 2,
              "version_minor": 0
            },
            "text/plain": [
              "Image Augmentation:   0%|          |"
            ]
          },
          "metadata": {},
          "output_type": "display_data"
        },
        {
          "data": {
            "application/vnd.jupyter.widget-view+json": {
              "model_id": "905dcec5b19a4a1d8af5302e14c1167e",
              "version_major": 2,
              "version_minor": 0
            },
            "text/plain": [
              "Similarity Calculation:   0%|          |"
            ]
          },
          "metadata": {},
          "output_type": "display_data"
        },
        {
          "data": {
            "application/vnd.jupyter.widget-view+json": {
              "model_id": "0b8d910f6df2415dbecf5ad7d561accb",
              "version_major": 2,
              "version_minor": 0
            },
            "text/plain": [
              "Patch Mapping:   0%|          |"
            ]
          },
          "metadata": {},
          "output_type": "display_data"
        },
        {
          "data": {
            "application/vnd.jupyter.widget-view+json": {
              "model_id": "e0e0be6b340547e2a8d157ca8dd94d9d",
              "version_major": 2,
              "version_minor": 0
            },
            "text/plain": [
              "Image Augmentation:   0%|          |"
            ]
          },
          "metadata": {},
          "output_type": "display_data"
        },
        {
          "data": {
            "application/vnd.jupyter.widget-view+json": {
              "model_id": "d4534a7f156d4ae8b1de6b4e947dbf57",
              "version_major": 2,
              "version_minor": 0
            },
            "text/plain": [
              "Similarity Calculation:   0%|          |"
            ]
          },
          "metadata": {},
          "output_type": "display_data"
        },
        {
          "data": {
            "application/vnd.jupyter.widget-view+json": {
              "model_id": "23df5944e7a440abbd8b12acd599c763",
              "version_major": 2,
              "version_minor": 0
            },
            "text/plain": [
              "Patch Mapping:   0%|          |"
            ]
          },
          "metadata": {},
          "output_type": "display_data"
        },
        {
          "data": {
            "application/vnd.jupyter.widget-view+json": {
              "model_id": "e91fe2522022496fbbbd6971992d7f4a",
              "version_major": 2,
              "version_minor": 0
            },
            "text/plain": [
              "Image Augmentation:   0%|          |"
            ]
          },
          "metadata": {},
          "output_type": "display_data"
        },
        {
          "data": {
            "application/vnd.jupyter.widget-view+json": {
              "model_id": "40d7728964674160b703460c137e8cb4",
              "version_major": 2,
              "version_minor": 0
            },
            "text/plain": [
              "Similarity Calculation:   0%|          |"
            ]
          },
          "metadata": {},
          "output_type": "display_data"
        },
        {
          "data": {
            "application/vnd.jupyter.widget-view+json": {
              "model_id": "e1394f9b73dd46208d7d66920bde0d2e",
              "version_major": 2,
              "version_minor": 0
            },
            "text/plain": [
              "Patch Mapping:   0%|          |"
            ]
          },
          "metadata": {},
          "output_type": "display_data"
        },
        {
          "data": {
            "application/vnd.jupyter.widget-view+json": {
              "model_id": "964795fc9aed4190a51180cba6d4cfdf",
              "version_major": 2,
              "version_minor": 0
            },
            "text/plain": [
              "Image Augmentation:   0%|          |"
            ]
          },
          "metadata": {},
          "output_type": "display_data"
        },
        {
          "data": {
            "application/vnd.jupyter.widget-view+json": {
              "model_id": "2a4569750681498d81d6102c32b8cd16",
              "version_major": 2,
              "version_minor": 0
            },
            "text/plain": [
              "Similarity Calculation:   0%|          |"
            ]
          },
          "metadata": {},
          "output_type": "display_data"
        },
        {
          "data": {
            "application/vnd.jupyter.widget-view+json": {
              "model_id": "84f341d3bb4f48ba81dcfb9947b4dc55",
              "version_major": 2,
              "version_minor": 0
            },
            "text/plain": [
              "Patch Mapping:   0%|          |"
            ]
          },
          "metadata": {},
          "output_type": "display_data"
        },
        {
          "data": {
            "application/vnd.jupyter.widget-view+json": {
              "model_id": "d54fafd8206c433ba0ed3e19d8a703b1",
              "version_major": 2,
              "version_minor": 0
            },
            "text/plain": [
              "Image Augmentation:   0%|          |"
            ]
          },
          "metadata": {},
          "output_type": "display_data"
        },
        {
          "data": {
            "application/vnd.jupyter.widget-view+json": {
              "model_id": "0b476ad347a644e4926ccbaa35e77d43",
              "version_major": 2,
              "version_minor": 0
            },
            "text/plain": [
              "Similarity Calculation:   0%|          |"
            ]
          },
          "metadata": {},
          "output_type": "display_data"
        },
        {
          "data": {
            "application/vnd.jupyter.widget-view+json": {
              "model_id": "bb5eb07137b44cc0a47ee72f940f2f60",
              "version_major": 2,
              "version_minor": 0
            },
            "text/plain": [
              "Patch Mapping:   0%|          |"
            ]
          },
          "metadata": {},
          "output_type": "display_data"
        },
        {
          "data": {
            "application/vnd.jupyter.widget-view+json": {
              "model_id": "9f3577d582094addb9bdd395034bacba",
              "version_major": 2,
              "version_minor": 0
            },
            "text/plain": [
              "Image Augmentation:   0%|          |"
            ]
          },
          "metadata": {},
          "output_type": "display_data"
        },
        {
          "data": {
            "application/vnd.jupyter.widget-view+json": {
              "model_id": "b841b0b31d5847298d5f70dc64b33c99",
              "version_major": 2,
              "version_minor": 0
            },
            "text/plain": [
              "Similarity Calculation:   0%|          |"
            ]
          },
          "metadata": {},
          "output_type": "display_data"
        },
        {
          "data": {
            "application/vnd.jupyter.widget-view+json": {
              "model_id": "6e4ecb315c2c4fc9aec34ec9dd72f60c",
              "version_major": 2,
              "version_minor": 0
            },
            "text/plain": [
              "Patch Mapping:   0%|          |"
            ]
          },
          "metadata": {},
          "output_type": "display_data"
        },
        {
          "data": {
            "application/vnd.jupyter.widget-view+json": {
              "model_id": "31e5d553458048c094b4932f71892b53",
              "version_major": 2,
              "version_minor": 0
            },
            "text/plain": [
              "Image Augmentation:   0%|          |"
            ]
          },
          "metadata": {},
          "output_type": "display_data"
        },
        {
          "data": {
            "application/vnd.jupyter.widget-view+json": {
              "model_id": "c7e8aac75cf9476683111d97a6f457c9",
              "version_major": 2,
              "version_minor": 0
            },
            "text/plain": [
              "Similarity Calculation:   0%|          |"
            ]
          },
          "metadata": {},
          "output_type": "display_data"
        },
        {
          "data": {
            "application/vnd.jupyter.widget-view+json": {
              "model_id": "ca43f085aeb146c48a6d435d685e1bc6",
              "version_major": 2,
              "version_minor": 0
            },
            "text/plain": [
              "Patch Mapping:   0%|          |"
            ]
          },
          "metadata": {},
          "output_type": "display_data"
        },
        {
          "data": {
            "application/vnd.jupyter.widget-view+json": {
              "model_id": "03bfed8901db452b8f1ca277d35ec6a5",
              "version_major": 2,
              "version_minor": 0
            },
            "text/plain": [
              "Image Augmentation:   0%|          |"
            ]
          },
          "metadata": {},
          "output_type": "display_data"
        },
        {
          "data": {
            "application/vnd.jupyter.widget-view+json": {
              "model_id": "d678137bedd94f1a9fa820196694451f",
              "version_major": 2,
              "version_minor": 0
            },
            "text/plain": [
              "Similarity Calculation:   0%|          |"
            ]
          },
          "metadata": {},
          "output_type": "display_data"
        },
        {
          "data": {
            "application/vnd.jupyter.widget-view+json": {
              "model_id": "adffe1b89194423a9a789a05b090fe65",
              "version_major": 2,
              "version_minor": 0
            },
            "text/plain": [
              "Patch Mapping:   0%|          |"
            ]
          },
          "metadata": {},
          "output_type": "display_data"
        },
        {
          "data": {
            "application/vnd.jupyter.widget-view+json": {
              "model_id": "663de31585484756b1e5b503043d552b",
              "version_major": 2,
              "version_minor": 0
            },
            "text/plain": [
              "Image Augmentation:   0%|          |"
            ]
          },
          "metadata": {},
          "output_type": "display_data"
        },
        {
          "data": {
            "application/vnd.jupyter.widget-view+json": {
              "model_id": "3ecf2740e5e14478996283ae17eb059d",
              "version_major": 2,
              "version_minor": 0
            },
            "text/plain": [
              "Similarity Calculation:   0%|          |"
            ]
          },
          "metadata": {},
          "output_type": "display_data"
        },
        {
          "data": {
            "application/vnd.jupyter.widget-view+json": {
              "model_id": "9bb5dfbcdd154200a5cff9a29749c92c",
              "version_major": 2,
              "version_minor": 0
            },
            "text/plain": [
              "Patch Mapping:   0%|          |"
            ]
          },
          "metadata": {},
          "output_type": "display_data"
        },
        {
          "data": {
            "application/vnd.jupyter.widget-view+json": {
              "model_id": "4afdc0a00a54444b8bb5f2f4490779b4",
              "version_major": 2,
              "version_minor": 0
            },
            "text/plain": [
              "Image Augmentation:   0%|          |"
            ]
          },
          "metadata": {},
          "output_type": "display_data"
        },
        {
          "data": {
            "application/vnd.jupyter.widget-view+json": {
              "model_id": "b4262028d9a64d7cafb884dafd9a8e0b",
              "version_major": 2,
              "version_minor": 0
            },
            "text/plain": [
              "Similarity Calculation:   0%|          |"
            ]
          },
          "metadata": {},
          "output_type": "display_data"
        },
        {
          "data": {
            "application/vnd.jupyter.widget-view+json": {
              "model_id": "e5045d72139d48dca81206e0255b70e5",
              "version_major": 2,
              "version_minor": 0
            },
            "text/plain": [
              "Patch Mapping:   0%|          |"
            ]
          },
          "metadata": {},
          "output_type": "display_data"
        },
        {
          "data": {
            "application/vnd.jupyter.widget-view+json": {
              "model_id": "43f3c333be3e460aa78fa8f5832a297d",
              "version_major": 2,
              "version_minor": 0
            },
            "text/plain": [
              "Image Augmentation:   0%|          |"
            ]
          },
          "metadata": {},
          "output_type": "display_data"
        },
        {
          "data": {
            "application/vnd.jupyter.widget-view+json": {
              "model_id": "86047356fdfb4985b1d88ff67300a524",
              "version_major": 2,
              "version_minor": 0
            },
            "text/plain": [
              "Similarity Calculation:   0%|          |"
            ]
          },
          "metadata": {},
          "output_type": "display_data"
        },
        {
          "data": {
            "application/vnd.jupyter.widget-view+json": {
              "model_id": "03a4683d56d74876b8a6fb3c442fb322",
              "version_major": 2,
              "version_minor": 0
            },
            "text/plain": [
              "Patch Mapping:   0%|          |"
            ]
          },
          "metadata": {},
          "output_type": "display_data"
        },
        {
          "data": {
            "application/vnd.jupyter.widget-view+json": {
              "model_id": "2b6a0465135446ddbe870cb42b28507b",
              "version_major": 2,
              "version_minor": 0
            },
            "text/plain": [
              "Image Augmentation:   0%|          |"
            ]
          },
          "metadata": {},
          "output_type": "display_data"
        },
        {
          "data": {
            "application/vnd.jupyter.widget-view+json": {
              "model_id": "e7c68c39f64f490cad583a3fb79d72ea",
              "version_major": 2,
              "version_minor": 0
            },
            "text/plain": [
              "Similarity Calculation:   0%|          |"
            ]
          },
          "metadata": {},
          "output_type": "display_data"
        },
        {
          "data": {
            "application/vnd.jupyter.widget-view+json": {
              "model_id": "5adfa7c0740b43d2a0edadecadf3a58e",
              "version_major": 2,
              "version_minor": 0
            },
            "text/plain": [
              "Patch Mapping:   0%|          |"
            ]
          },
          "metadata": {},
          "output_type": "display_data"
        },
        {
          "data": {
            "application/vnd.jupyter.widget-view+json": {
              "model_id": "ed2493ae071f41828750d18576da4d4e",
              "version_major": 2,
              "version_minor": 0
            },
            "text/plain": [
              "Image Augmentation:   0%|          |"
            ]
          },
          "metadata": {},
          "output_type": "display_data"
        },
        {
          "data": {
            "application/vnd.jupyter.widget-view+json": {
              "model_id": "9501f63d9aed40bd8b4e7bccdbad331b",
              "version_major": 2,
              "version_minor": 0
            },
            "text/plain": [
              "Similarity Calculation:   0%|          |"
            ]
          },
          "metadata": {},
          "output_type": "display_data"
        },
        {
          "data": {
            "application/vnd.jupyter.widget-view+json": {
              "model_id": "d205b144ccaa48cc904fceb972eb351e",
              "version_major": 2,
              "version_minor": 0
            },
            "text/plain": [
              "Patch Mapping:   0%|          |"
            ]
          },
          "metadata": {},
          "output_type": "display_data"
        },
        {
          "data": {
            "application/vnd.jupyter.widget-view+json": {
              "model_id": "55b174eef8054ae084e17c74d74633de",
              "version_major": 2,
              "version_minor": 0
            },
            "text/plain": [
              "Image Augmentation:   0%|          |"
            ]
          },
          "metadata": {},
          "output_type": "display_data"
        },
        {
          "data": {
            "application/vnd.jupyter.widget-view+json": {
              "model_id": "6758a36da8f1430ea0a7092c2ce4b6ac",
              "version_major": 2,
              "version_minor": 0
            },
            "text/plain": [
              "Similarity Calculation:   0%|          |"
            ]
          },
          "metadata": {},
          "output_type": "display_data"
        },
        {
          "data": {
            "application/vnd.jupyter.widget-view+json": {
              "model_id": "86874b22c6a64e56b28807ba9a7473e8",
              "version_major": 2,
              "version_minor": 0
            },
            "text/plain": [
              "Patch Mapping:   0%|          |"
            ]
          },
          "metadata": {},
          "output_type": "display_data"
        },
        {
          "data": {
            "application/vnd.jupyter.widget-view+json": {
              "model_id": "f829f225dcab4fd6b70ba74cd6a09632",
              "version_major": 2,
              "version_minor": 0
            },
            "text/plain": [
              "Image Augmentation:   0%|          |"
            ]
          },
          "metadata": {},
          "output_type": "display_data"
        },
        {
          "data": {
            "application/vnd.jupyter.widget-view+json": {
              "model_id": "7fdb2c3f14db4818afea062e7935926b",
              "version_major": 2,
              "version_minor": 0
            },
            "text/plain": [
              "Similarity Calculation:   0%|          |"
            ]
          },
          "metadata": {},
          "output_type": "display_data"
        },
        {
          "data": {
            "application/vnd.jupyter.widget-view+json": {
              "model_id": "2b587f3939ff4baa8c002598da1a59ad",
              "version_major": 2,
              "version_minor": 0
            },
            "text/plain": [
              "Patch Mapping:   0%|          |"
            ]
          },
          "metadata": {},
          "output_type": "display_data"
        },
        {
          "data": {
            "application/vnd.jupyter.widget-view+json": {
              "model_id": "e08b2dea1b664c3a8fcbe3ae50cd9071",
              "version_major": 2,
              "version_minor": 0
            },
            "text/plain": [
              "Image Augmentation:   0%|          |"
            ]
          },
          "metadata": {},
          "output_type": "display_data"
        },
        {
          "data": {
            "application/vnd.jupyter.widget-view+json": {
              "model_id": "a90910f0d5414b0d9165d9b63f0b03d1",
              "version_major": 2,
              "version_minor": 0
            },
            "text/plain": [
              "Similarity Calculation:   0%|          |"
            ]
          },
          "metadata": {},
          "output_type": "display_data"
        },
        {
          "data": {
            "application/vnd.jupyter.widget-view+json": {
              "model_id": "307121efdf074d1ca24c1967c771737d",
              "version_major": 2,
              "version_minor": 0
            },
            "text/plain": [
              "Patch Mapping:   0%|          |"
            ]
          },
          "metadata": {},
          "output_type": "display_data"
        },
        {
          "data": {
            "application/vnd.jupyter.widget-view+json": {
              "model_id": "4a565ba1ad0f467fb43f9338b5ad8866",
              "version_major": 2,
              "version_minor": 0
            },
            "text/plain": [
              "Image Augmentation:   0%|          |"
            ]
          },
          "metadata": {},
          "output_type": "display_data"
        },
        {
          "data": {
            "application/vnd.jupyter.widget-view+json": {
              "model_id": "9387782459a74ea4918d806281f32040",
              "version_major": 2,
              "version_minor": 0
            },
            "text/plain": [
              "Similarity Calculation:   0%|          |"
            ]
          },
          "metadata": {},
          "output_type": "display_data"
        },
        {
          "data": {
            "application/vnd.jupyter.widget-view+json": {
              "model_id": "f5cb12fb368e4f869ca3ca1dbce20bd1",
              "version_major": 2,
              "version_minor": 0
            },
            "text/plain": [
              "Patch Mapping:   0%|          |"
            ]
          },
          "metadata": {},
          "output_type": "display_data"
        },
        {
          "data": {
            "application/vnd.jupyter.widget-view+json": {
              "model_id": "aa7937a85926404aa2c04089722343e6",
              "version_major": 2,
              "version_minor": 0
            },
            "text/plain": [
              "Image Augmentation:   0%|          |"
            ]
          },
          "metadata": {},
          "output_type": "display_data"
        },
        {
          "data": {
            "application/vnd.jupyter.widget-view+json": {
              "model_id": "7490bb3b29664136a78fa5b6017f79c0",
              "version_major": 2,
              "version_minor": 0
            },
            "text/plain": [
              "Similarity Calculation:   0%|          |"
            ]
          },
          "metadata": {},
          "output_type": "display_data"
        },
        {
          "data": {
            "application/vnd.jupyter.widget-view+json": {
              "model_id": "ac68fd37f1764921abcb7700b58b41a6",
              "version_major": 2,
              "version_minor": 0
            },
            "text/plain": [
              "Patch Mapping:   0%|          |"
            ]
          },
          "metadata": {},
          "output_type": "display_data"
        },
        {
          "data": {
            "application/vnd.jupyter.widget-view+json": {
              "model_id": "4c02b9bcdc0d4cee8465d6b14ec23cb5",
              "version_major": 2,
              "version_minor": 0
            },
            "text/plain": [
              "Image Augmentation:   0%|          |"
            ]
          },
          "metadata": {},
          "output_type": "display_data"
        },
        {
          "data": {
            "application/vnd.jupyter.widget-view+json": {
              "model_id": "fb61becf27f44b33a6de2f1184d3be96",
              "version_major": 2,
              "version_minor": 0
            },
            "text/plain": [
              "Similarity Calculation:   0%|          |"
            ]
          },
          "metadata": {},
          "output_type": "display_data"
        },
        {
          "data": {
            "application/vnd.jupyter.widget-view+json": {
              "model_id": "b8787fa582754007a1c7b8fb983965de",
              "version_major": 2,
              "version_minor": 0
            },
            "text/plain": [
              "Patch Mapping:   0%|          |"
            ]
          },
          "metadata": {},
          "output_type": "display_data"
        },
        {
          "data": {
            "application/vnd.jupyter.widget-view+json": {
              "model_id": "41ce81565ee44c038b860d213038601c",
              "version_major": 2,
              "version_minor": 0
            },
            "text/plain": [
              "Image Augmentation:   0%|          |"
            ]
          },
          "metadata": {},
          "output_type": "display_data"
        },
        {
          "data": {
            "application/vnd.jupyter.widget-view+json": {
              "model_id": "45697a1fca7e4e29b4ce6d6b0a99b33f",
              "version_major": 2,
              "version_minor": 0
            },
            "text/plain": [
              "Similarity Calculation:   0%|          |"
            ]
          },
          "metadata": {},
          "output_type": "display_data"
        },
        {
          "data": {
            "application/vnd.jupyter.widget-view+json": {
              "model_id": "643d34c3a2b649c4ae109f82c54cbe73",
              "version_major": 2,
              "version_minor": 0
            },
            "text/plain": [
              "Patch Mapping:   0%|          |"
            ]
          },
          "metadata": {},
          "output_type": "display_data"
        },
        {
          "data": {
            "application/vnd.jupyter.widget-view+json": {
              "model_id": "1fcbc46403d04bf09157d7d4762d91b0",
              "version_major": 2,
              "version_minor": 0
            },
            "text/plain": [
              "Image Augmentation:   0%|          |"
            ]
          },
          "metadata": {},
          "output_type": "display_data"
        },
        {
          "data": {
            "application/vnd.jupyter.widget-view+json": {
              "model_id": "31ddce93917d4b9cbd69c0c4b700df9c",
              "version_major": 2,
              "version_minor": 0
            },
            "text/plain": [
              "Similarity Calculation:   0%|          |"
            ]
          },
          "metadata": {},
          "output_type": "display_data"
        },
        {
          "data": {
            "application/vnd.jupyter.widget-view+json": {
              "model_id": "bde5cdd9e68e4732b0bc9912377b22f1",
              "version_major": 2,
              "version_minor": 0
            },
            "text/plain": [
              "Patch Mapping:   0%|          |"
            ]
          },
          "metadata": {},
          "output_type": "display_data"
        },
        {
          "data": {
            "application/vnd.jupyter.widget-view+json": {
              "model_id": "737f2537df6d4910994c3675bd9e183c",
              "version_major": 2,
              "version_minor": 0
            },
            "text/plain": [
              "Image Augmentation:   0%|          |"
            ]
          },
          "metadata": {},
          "output_type": "display_data"
        },
        {
          "data": {
            "application/vnd.jupyter.widget-view+json": {
              "model_id": "df763481e9c749cc9d0ea8eee0bc4cbd",
              "version_major": 2,
              "version_minor": 0
            },
            "text/plain": [
              "Similarity Calculation:   0%|          |"
            ]
          },
          "metadata": {},
          "output_type": "display_data"
        },
        {
          "data": {
            "application/vnd.jupyter.widget-view+json": {
              "model_id": "10e032110ba540fc9deed601984b039c",
              "version_major": 2,
              "version_minor": 0
            },
            "text/plain": [
              "Patch Mapping:   0%|          |"
            ]
          },
          "metadata": {},
          "output_type": "display_data"
        },
        {
          "data": {
            "application/vnd.jupyter.widget-view+json": {
              "model_id": "c29ded49b3b54cf4a60294397a91d858",
              "version_major": 2,
              "version_minor": 0
            },
            "text/plain": [
              "Image Augmentation:   0%|          |"
            ]
          },
          "metadata": {},
          "output_type": "display_data"
        },
        {
          "data": {
            "application/vnd.jupyter.widget-view+json": {
              "model_id": "da678b936c414cd9b3b4c015e4471908",
              "version_major": 2,
              "version_minor": 0
            },
            "text/plain": [
              "Similarity Calculation:   0%|          |"
            ]
          },
          "metadata": {},
          "output_type": "display_data"
        },
        {
          "data": {
            "application/vnd.jupyter.widget-view+json": {
              "model_id": "d7a59247bf1441068e3449d8a746679f",
              "version_major": 2,
              "version_minor": 0
            },
            "text/plain": [
              "Patch Mapping:   0%|          |"
            ]
          },
          "metadata": {},
          "output_type": "display_data"
        },
        {
          "data": {
            "application/vnd.jupyter.widget-view+json": {
              "model_id": "fa07f34ccdb6482d83c5c4d05eeb00c5",
              "version_major": 2,
              "version_minor": 0
            },
            "text/plain": [
              "Image Augmentation:   0%|          |"
            ]
          },
          "metadata": {},
          "output_type": "display_data"
        },
        {
          "data": {
            "application/vnd.jupyter.widget-view+json": {
              "model_id": "30bf8bf5af5940f2b3a5ab3c67fd03ee",
              "version_major": 2,
              "version_minor": 0
            },
            "text/plain": [
              "Similarity Calculation:   0%|          |"
            ]
          },
          "metadata": {},
          "output_type": "display_data"
        },
        {
          "data": {
            "application/vnd.jupyter.widget-view+json": {
              "model_id": "ba9bfc545994406fb7dbbec81ddad55f",
              "version_major": 2,
              "version_minor": 0
            },
            "text/plain": [
              "Patch Mapping:   0%|          |"
            ]
          },
          "metadata": {},
          "output_type": "display_data"
        },
        {
          "data": {
            "application/vnd.jupyter.widget-view+json": {
              "model_id": "6f2f4009fcad4b2da9f066824019e31e",
              "version_major": 2,
              "version_minor": 0
            },
            "text/plain": [
              "Image Augmentation:   0%|          |"
            ]
          },
          "metadata": {},
          "output_type": "display_data"
        },
        {
          "data": {
            "application/vnd.jupyter.widget-view+json": {
              "model_id": "8227e79e54fc4df2988d341cd0116214",
              "version_major": 2,
              "version_minor": 0
            },
            "text/plain": [
              "Similarity Calculation:   0%|          |"
            ]
          },
          "metadata": {},
          "output_type": "display_data"
        },
        {
          "data": {
            "application/vnd.jupyter.widget-view+json": {
              "model_id": "61b08ec03e844179bbdf6aeac4723e13",
              "version_major": 2,
              "version_minor": 0
            },
            "text/plain": [
              "Patch Mapping:   0%|          |"
            ]
          },
          "metadata": {},
          "output_type": "display_data"
        },
        {
          "data": {
            "application/vnd.jupyter.widget-view+json": {
              "model_id": "3570187ae61d42969ce911678a35bbfa",
              "version_major": 2,
              "version_minor": 0
            },
            "text/plain": [
              "Image Augmentation:   0%|          |"
            ]
          },
          "metadata": {},
          "output_type": "display_data"
        },
        {
          "data": {
            "application/vnd.jupyter.widget-view+json": {
              "model_id": "cda395b2b3414205ae6eb7f8a83b2a94",
              "version_major": 2,
              "version_minor": 0
            },
            "text/plain": [
              "Similarity Calculation:   0%|          |"
            ]
          },
          "metadata": {},
          "output_type": "display_data"
        },
        {
          "data": {
            "application/vnd.jupyter.widget-view+json": {
              "model_id": "b4df60dc89424be28e40a5156d752910",
              "version_major": 2,
              "version_minor": 0
            },
            "text/plain": [
              "Patch Mapping:   0%|          |"
            ]
          },
          "metadata": {},
          "output_type": "display_data"
        },
        {
          "data": {
            "application/vnd.jupyter.widget-view+json": {
              "model_id": "677a0c0bc8414e04a53de1244f48857d",
              "version_major": 2,
              "version_minor": 0
            },
            "text/plain": [
              "Image Augmentation:   0%|          |"
            ]
          },
          "metadata": {},
          "output_type": "display_data"
        },
        {
          "data": {
            "application/vnd.jupyter.widget-view+json": {
              "model_id": "98f2fd825ba7417691dc31bce60961a2",
              "version_major": 2,
              "version_minor": 0
            },
            "text/plain": [
              "Similarity Calculation:   0%|          |"
            ]
          },
          "metadata": {},
          "output_type": "display_data"
        },
        {
          "data": {
            "application/vnd.jupyter.widget-view+json": {
              "model_id": "43c6f3a18142482083b7bd40b24aabf8",
              "version_major": 2,
              "version_minor": 0
            },
            "text/plain": [
              "Patch Mapping:   0%|          |"
            ]
          },
          "metadata": {},
          "output_type": "display_data"
        },
        {
          "data": {
            "application/vnd.jupyter.widget-view+json": {
              "model_id": "b682e64550f64e329ffa1177a37c0148",
              "version_major": 2,
              "version_minor": 0
            },
            "text/plain": [
              "Image Augmentation:   0%|          |"
            ]
          },
          "metadata": {},
          "output_type": "display_data"
        },
        {
          "data": {
            "application/vnd.jupyter.widget-view+json": {
              "model_id": "31ccc1c953ae446fbe88918cfedd8993",
              "version_major": 2,
              "version_minor": 0
            },
            "text/plain": [
              "Similarity Calculation:   0%|          |"
            ]
          },
          "metadata": {},
          "output_type": "display_data"
        },
        {
          "data": {
            "application/vnd.jupyter.widget-view+json": {
              "model_id": "9556033eeb7e4c739c326ca4fb41f778",
              "version_major": 2,
              "version_minor": 0
            },
            "text/plain": [
              "Patch Mapping:   0%|          |"
            ]
          },
          "metadata": {},
          "output_type": "display_data"
        },
        {
          "data": {
            "application/vnd.jupyter.widget-view+json": {
              "model_id": "efc8c79677014ec28664ee42dd6a706a",
              "version_major": 2,
              "version_minor": 0
            },
            "text/plain": [
              "Image Augmentation:   0%|          |"
            ]
          },
          "metadata": {},
          "output_type": "display_data"
        },
        {
          "data": {
            "application/vnd.jupyter.widget-view+json": {
              "model_id": "2932dd5a02f84debbb68f8d552d5faa5",
              "version_major": 2,
              "version_minor": 0
            },
            "text/plain": [
              "Similarity Calculation:   0%|          |"
            ]
          },
          "metadata": {},
          "output_type": "display_data"
        },
        {
          "data": {
            "application/vnd.jupyter.widget-view+json": {
              "model_id": "deb2f337d20441cbaec144d28b41aaf5",
              "version_major": 2,
              "version_minor": 0
            },
            "text/plain": [
              "Patch Mapping:   0%|          |"
            ]
          },
          "metadata": {},
          "output_type": "display_data"
        },
        {
          "data": {
            "application/vnd.jupyter.widget-view+json": {
              "model_id": "6f4e3d3e4902461496093997064758b5",
              "version_major": 2,
              "version_minor": 0
            },
            "text/plain": [
              "Image Augmentation:   0%|          |"
            ]
          },
          "metadata": {},
          "output_type": "display_data"
        },
        {
          "data": {
            "application/vnd.jupyter.widget-view+json": {
              "model_id": "005e5c9656c34ff3af5871fe96603aaa",
              "version_major": 2,
              "version_minor": 0
            },
            "text/plain": [
              "Similarity Calculation:   0%|          |"
            ]
          },
          "metadata": {},
          "output_type": "display_data"
        },
        {
          "data": {
            "application/vnd.jupyter.widget-view+json": {
              "model_id": "69cdc2eff99d48b7a88d094ce256f77d",
              "version_major": 2,
              "version_minor": 0
            },
            "text/plain": [
              "Patch Mapping:   0%|          |"
            ]
          },
          "metadata": {},
          "output_type": "display_data"
        },
        {
          "data": {
            "application/vnd.jupyter.widget-view+json": {
              "model_id": "2ec3902db3a548ecba4880ca2661ab6d",
              "version_major": 2,
              "version_minor": 0
            },
            "text/plain": [
              "Image Augmentation:   0%|          |"
            ]
          },
          "metadata": {},
          "output_type": "display_data"
        },
        {
          "data": {
            "application/vnd.jupyter.widget-view+json": {
              "model_id": "a21da7d93c6e47d3b4648e0b26c4612b",
              "version_major": 2,
              "version_minor": 0
            },
            "text/plain": [
              "Similarity Calculation:   0%|          |"
            ]
          },
          "metadata": {},
          "output_type": "display_data"
        },
        {
          "data": {
            "application/vnd.jupyter.widget-view+json": {
              "model_id": "052d134e5ef84df68a7368be31be47b1",
              "version_major": 2,
              "version_minor": 0
            },
            "text/plain": [
              "Patch Mapping:   0%|          |"
            ]
          },
          "metadata": {},
          "output_type": "display_data"
        },
        {
          "data": {
            "application/vnd.jupyter.widget-view+json": {
              "model_id": "c62787445aba4850a883c93bc7f09270",
              "version_major": 2,
              "version_minor": 0
            },
            "text/plain": [
              "Image Augmentation:   0%|          |"
            ]
          },
          "metadata": {},
          "output_type": "display_data"
        },
        {
          "data": {
            "application/vnd.jupyter.widget-view+json": {
              "model_id": "6c13eb185a924c688522ad72b36998ac",
              "version_major": 2,
              "version_minor": 0
            },
            "text/plain": [
              "Similarity Calculation:   0%|          |"
            ]
          },
          "metadata": {},
          "output_type": "display_data"
        },
        {
          "data": {
            "application/vnd.jupyter.widget-view+json": {
              "model_id": "4d4af9204017498cb0593864788c4b00",
              "version_major": 2,
              "version_minor": 0
            },
            "text/plain": [
              "Patch Mapping:   0%|          |"
            ]
          },
          "metadata": {},
          "output_type": "display_data"
        },
        {
          "data": {
            "application/vnd.jupyter.widget-view+json": {
              "model_id": "1ac7161fc3b14611a18368e3d649e6e3",
              "version_major": 2,
              "version_minor": 0
            },
            "text/plain": [
              "Image Augmentation:   0%|          |"
            ]
          },
          "metadata": {},
          "output_type": "display_data"
        },
        {
          "data": {
            "application/vnd.jupyter.widget-view+json": {
              "model_id": "7885895196604098b7c29d6c851f7428",
              "version_major": 2,
              "version_minor": 0
            },
            "text/plain": [
              "Similarity Calculation:   0%|          |"
            ]
          },
          "metadata": {},
          "output_type": "display_data"
        },
        {
          "data": {
            "application/vnd.jupyter.widget-view+json": {
              "model_id": "c31d04804882452797b03fd6fa5a419c",
              "version_major": 2,
              "version_minor": 0
            },
            "text/plain": [
              "Patch Mapping:   0%|          |"
            ]
          },
          "metadata": {},
          "output_type": "display_data"
        },
        {
          "data": {
            "application/vnd.jupyter.widget-view+json": {
              "model_id": "320021b6aea24330ad6a9786b1fce47e",
              "version_major": 2,
              "version_minor": 0
            },
            "text/plain": [
              "Image Augmentation:   0%|          |"
            ]
          },
          "metadata": {},
          "output_type": "display_data"
        },
        {
          "data": {
            "application/vnd.jupyter.widget-view+json": {
              "model_id": "5538c20638ca4b6c8f0717f5252380c0",
              "version_major": 2,
              "version_minor": 0
            },
            "text/plain": [
              "Similarity Calculation:   0%|          |"
            ]
          },
          "metadata": {},
          "output_type": "display_data"
        },
        {
          "data": {
            "application/vnd.jupyter.widget-view+json": {
              "model_id": "bb2bd0f2d7b04a45a2fda5f8b5a927e6",
              "version_major": 2,
              "version_minor": 0
            },
            "text/plain": [
              "Patch Mapping:   0%|          |"
            ]
          },
          "metadata": {},
          "output_type": "display_data"
        },
        {
          "data": {
            "application/vnd.jupyter.widget-view+json": {
              "model_id": "c5656240331c4daabdfaae0a6eccfc10",
              "version_major": 2,
              "version_minor": 0
            },
            "text/plain": [
              "Image Augmentation:   0%|          |"
            ]
          },
          "metadata": {},
          "output_type": "display_data"
        },
        {
          "data": {
            "application/vnd.jupyter.widget-view+json": {
              "model_id": "8e6b9c40b875475499087ee850f34194",
              "version_major": 2,
              "version_minor": 0
            },
            "text/plain": [
              "Similarity Calculation:   0%|          |"
            ]
          },
          "metadata": {},
          "output_type": "display_data"
        },
        {
          "data": {
            "application/vnd.jupyter.widget-view+json": {
              "model_id": "509dc6e3413049a491a04501d8015645",
              "version_major": 2,
              "version_minor": 0
            },
            "text/plain": [
              "Patch Mapping:   0%|          |"
            ]
          },
          "metadata": {},
          "output_type": "display_data"
        },
        {
          "data": {
            "application/vnd.jupyter.widget-view+json": {
              "model_id": "402332f1066e45bf9633af5e1738e127",
              "version_major": 2,
              "version_minor": 0
            },
            "text/plain": [
              "Image Augmentation:   0%|          |"
            ]
          },
          "metadata": {},
          "output_type": "display_data"
        },
        {
          "data": {
            "application/vnd.jupyter.widget-view+json": {
              "model_id": "fe2fb4af0aaf46a29f0a23f0cb457287",
              "version_major": 2,
              "version_minor": 0
            },
            "text/plain": [
              "Similarity Calculation:   0%|          |"
            ]
          },
          "metadata": {},
          "output_type": "display_data"
        },
        {
          "data": {
            "application/vnd.jupyter.widget-view+json": {
              "model_id": "f60167c03cf3490e9ee9ded95923abd3",
              "version_major": 2,
              "version_minor": 0
            },
            "text/plain": [
              "Patch Mapping:   0%|          |"
            ]
          },
          "metadata": {},
          "output_type": "display_data"
        },
        {
          "data": {
            "application/vnd.jupyter.widget-view+json": {
              "model_id": "9755ad81f300474696cbc4feae740f3a",
              "version_major": 2,
              "version_minor": 0
            },
            "text/plain": [
              "Image Augmentation:   0%|          |"
            ]
          },
          "metadata": {},
          "output_type": "display_data"
        },
        {
          "data": {
            "application/vnd.jupyter.widget-view+json": {
              "model_id": "cb3cc55c20864a9481a85e015aa3495c",
              "version_major": 2,
              "version_minor": 0
            },
            "text/plain": [
              "Similarity Calculation:   0%|          |"
            ]
          },
          "metadata": {},
          "output_type": "display_data"
        },
        {
          "data": {
            "application/vnd.jupyter.widget-view+json": {
              "model_id": "26e0cb6307a34065a791ac63d9b46467",
              "version_major": 2,
              "version_minor": 0
            },
            "text/plain": [
              "Patch Mapping:   0%|          |"
            ]
          },
          "metadata": {},
          "output_type": "display_data"
        },
        {
          "data": {
            "application/vnd.jupyter.widget-view+json": {
              "model_id": "f7e2d173928b4d47a106ec4212608cd0",
              "version_major": 2,
              "version_minor": 0
            },
            "text/plain": [
              "Image Augmentation:   0%|          |"
            ]
          },
          "metadata": {},
          "output_type": "display_data"
        },
        {
          "data": {
            "application/vnd.jupyter.widget-view+json": {
              "model_id": "c33427127a4e4b9e847b7540b3b6fc4f",
              "version_major": 2,
              "version_minor": 0
            },
            "text/plain": [
              "Similarity Calculation:   0%|          |"
            ]
          },
          "metadata": {},
          "output_type": "display_data"
        },
        {
          "data": {
            "application/vnd.jupyter.widget-view+json": {
              "model_id": "45d993d1f4304baf9a8631aad67fb3f6",
              "version_major": 2,
              "version_minor": 0
            },
            "text/plain": [
              "Patch Mapping:   0%|          |"
            ]
          },
          "metadata": {},
          "output_type": "display_data"
        },
        {
          "data": {
            "application/vnd.jupyter.widget-view+json": {
              "model_id": "af919990d93141ceaf912af3fd9767b4",
              "version_major": 2,
              "version_minor": 0
            },
            "text/plain": [
              "Image Augmentation:   0%|          |"
            ]
          },
          "metadata": {},
          "output_type": "display_data"
        },
        {
          "data": {
            "application/vnd.jupyter.widget-view+json": {
              "model_id": "ae54a6c9075c4ab0bbb9be6cb5f05bf6",
              "version_major": 2,
              "version_minor": 0
            },
            "text/plain": [
              "Similarity Calculation:   0%|          |"
            ]
          },
          "metadata": {},
          "output_type": "display_data"
        },
        {
          "data": {
            "application/vnd.jupyter.widget-view+json": {
              "model_id": "80de672c5ea845fab921ee77c8849ca5",
              "version_major": 2,
              "version_minor": 0
            },
            "text/plain": [
              "Patch Mapping:   0%|          |"
            ]
          },
          "metadata": {},
          "output_type": "display_data"
        },
        {
          "data": {
            "application/vnd.jupyter.widget-view+json": {
              "model_id": "3b2e7661a6fa4f8dbda82b21ccbddfdf",
              "version_major": 2,
              "version_minor": 0
            },
            "text/plain": [
              "Image Augmentation:   0%|          |"
            ]
          },
          "metadata": {},
          "output_type": "display_data"
        },
        {
          "data": {
            "application/vnd.jupyter.widget-view+json": {
              "model_id": "86e83f8e4a1844e699675d31a20f8f28",
              "version_major": 2,
              "version_minor": 0
            },
            "text/plain": [
              "Similarity Calculation:   0%|          |"
            ]
          },
          "metadata": {},
          "output_type": "display_data"
        },
        {
          "data": {
            "application/vnd.jupyter.widget-view+json": {
              "model_id": "d6eafd57f7a44925a9d378c73a57a167",
              "version_major": 2,
              "version_minor": 0
            },
            "text/plain": [
              "Patch Mapping:   0%|          |"
            ]
          },
          "metadata": {},
          "output_type": "display_data"
        },
        {
          "data": {
            "application/vnd.jupyter.widget-view+json": {
              "model_id": "d979b4f6ac64409786c48b98e752abf2",
              "version_major": 2,
              "version_minor": 0
            },
            "text/plain": [
              "Image Augmentation:   0%|          |"
            ]
          },
          "metadata": {},
          "output_type": "display_data"
        },
        {
          "data": {
            "application/vnd.jupyter.widget-view+json": {
              "model_id": "9b1e829c4a804881b08c0ae1e3f8e102",
              "version_major": 2,
              "version_minor": 0
            },
            "text/plain": [
              "Similarity Calculation:   0%|          |"
            ]
          },
          "metadata": {},
          "output_type": "display_data"
        },
        {
          "data": {
            "application/vnd.jupyter.widget-view+json": {
              "model_id": "af9c3f802b624f95b49e81492bbd17e7",
              "version_major": 2,
              "version_minor": 0
            },
            "text/plain": [
              "Patch Mapping:   0%|          |"
            ]
          },
          "metadata": {},
          "output_type": "display_data"
        },
        {
          "data": {
            "application/vnd.jupyter.widget-view+json": {
              "model_id": "82e889e60c00444fb4d89d426959eb7d",
              "version_major": 2,
              "version_minor": 0
            },
            "text/plain": [
              "Image Augmentation:   0%|          |"
            ]
          },
          "metadata": {},
          "output_type": "display_data"
        },
        {
          "data": {
            "application/vnd.jupyter.widget-view+json": {
              "model_id": "63b2392924b0420688e1a588f720ea59",
              "version_major": 2,
              "version_minor": 0
            },
            "text/plain": [
              "Similarity Calculation:   0%|          |"
            ]
          },
          "metadata": {},
          "output_type": "display_data"
        },
        {
          "data": {
            "application/vnd.jupyter.widget-view+json": {
              "model_id": "599e78de061d4209b4e672a1ab44ecbe",
              "version_major": 2,
              "version_minor": 0
            },
            "text/plain": [
              "Patch Mapping:   0%|          |"
            ]
          },
          "metadata": {},
          "output_type": "display_data"
        },
        {
          "data": {
            "application/vnd.jupyter.widget-view+json": {
              "model_id": "f43f753e3ba648f6aefb72ac45825f9b",
              "version_major": 2,
              "version_minor": 0
            },
            "text/plain": [
              "Image Augmentation:   0%|          |"
            ]
          },
          "metadata": {},
          "output_type": "display_data"
        },
        {
          "data": {
            "application/vnd.jupyter.widget-view+json": {
              "model_id": "233721e3c5034cd985fbdc311803471c",
              "version_major": 2,
              "version_minor": 0
            },
            "text/plain": [
              "Similarity Calculation:   0%|          |"
            ]
          },
          "metadata": {},
          "output_type": "display_data"
        },
        {
          "data": {
            "application/vnd.jupyter.widget-view+json": {
              "model_id": "c8ac9ab7ada34f44b25d8648677e051f",
              "version_major": 2,
              "version_minor": 0
            },
            "text/plain": [
              "Patch Mapping:   0%|          |"
            ]
          },
          "metadata": {},
          "output_type": "display_data"
        },
        {
          "data": {
            "application/vnd.jupyter.widget-view+json": {
              "model_id": "e4c97e1c04ee4061a20ef65dc2f41ada",
              "version_major": 2,
              "version_minor": 0
            },
            "text/plain": [
              "Image Augmentation:   0%|          |"
            ]
          },
          "metadata": {},
          "output_type": "display_data"
        },
        {
          "data": {
            "application/vnd.jupyter.widget-view+json": {
              "model_id": "a6d9fdf50c3742cb922c4c5e60d242a5",
              "version_major": 2,
              "version_minor": 0
            },
            "text/plain": [
              "Similarity Calculation:   0%|          |"
            ]
          },
          "metadata": {},
          "output_type": "display_data"
        },
        {
          "data": {
            "application/vnd.jupyter.widget-view+json": {
              "model_id": "1a35319d7cf14bdfab491322d8c98e0d",
              "version_major": 2,
              "version_minor": 0
            },
            "text/plain": [
              "Patch Mapping:   0%|          |"
            ]
          },
          "metadata": {},
          "output_type": "display_data"
        },
        {
          "data": {
            "application/vnd.jupyter.widget-view+json": {
              "model_id": "0c2cf73e22424185ae382143ae5b234c",
              "version_major": 2,
              "version_minor": 0
            },
            "text/plain": [
              "Image Augmentation:   0%|          |"
            ]
          },
          "metadata": {},
          "output_type": "display_data"
        },
        {
          "data": {
            "application/vnd.jupyter.widget-view+json": {
              "model_id": "5b6b13b28a47491a8288ffdc9c6d2327",
              "version_major": 2,
              "version_minor": 0
            },
            "text/plain": [
              "Similarity Calculation:   0%|          |"
            ]
          },
          "metadata": {},
          "output_type": "display_data"
        },
        {
          "data": {
            "application/vnd.jupyter.widget-view+json": {
              "model_id": "b896497ce29a48fca4ece54479e9318b",
              "version_major": 2,
              "version_minor": 0
            },
            "text/plain": [
              "Patch Mapping:   0%|          |"
            ]
          },
          "metadata": {},
          "output_type": "display_data"
        },
        {
          "data": {
            "application/vnd.jupyter.widget-view+json": {
              "model_id": "94a6bc2fe3274d38941e8756eb92490d",
              "version_major": 2,
              "version_minor": 0
            },
            "text/plain": [
              "Image Augmentation:   0%|          |"
            ]
          },
          "metadata": {},
          "output_type": "display_data"
        },
        {
          "data": {
            "application/vnd.jupyter.widget-view+json": {
              "model_id": "fef80b14580044fcbbe8167a8b4efc57",
              "version_major": 2,
              "version_minor": 0
            },
            "text/plain": [
              "Similarity Calculation:   0%|          |"
            ]
          },
          "metadata": {},
          "output_type": "display_data"
        },
        {
          "data": {
            "application/vnd.jupyter.widget-view+json": {
              "model_id": "031f35ed139449759c713fec4c2d089e",
              "version_major": 2,
              "version_minor": 0
            },
            "text/plain": [
              "Patch Mapping:   0%|          |"
            ]
          },
          "metadata": {},
          "output_type": "display_data"
        },
        {
          "data": {
            "application/vnd.jupyter.widget-view+json": {
              "model_id": "6560f7c3207e47d29efc17f967024f46",
              "version_major": 2,
              "version_minor": 0
            },
            "text/plain": [
              "Image Augmentation:   0%|          |"
            ]
          },
          "metadata": {},
          "output_type": "display_data"
        },
        {
          "data": {
            "application/vnd.jupyter.widget-view+json": {
              "model_id": "2c4b68393c9f48d1ae21dd5da363f28c",
              "version_major": 2,
              "version_minor": 0
            },
            "text/plain": [
              "Similarity Calculation:   0%|          |"
            ]
          },
          "metadata": {},
          "output_type": "display_data"
        },
        {
          "data": {
            "application/vnd.jupyter.widget-view+json": {
              "model_id": "766cee5653b34dd98239f34e7c913c42",
              "version_major": 2,
              "version_minor": 0
            },
            "text/plain": [
              "Patch Mapping:   0%|          |"
            ]
          },
          "metadata": {},
          "output_type": "display_data"
        },
        {
          "data": {
            "application/vnd.jupyter.widget-view+json": {
              "model_id": "c2fe517379264f118fc8b39e1953a39d",
              "version_major": 2,
              "version_minor": 0
            },
            "text/plain": [
              "Image Augmentation:   0%|          |"
            ]
          },
          "metadata": {},
          "output_type": "display_data"
        },
        {
          "data": {
            "application/vnd.jupyter.widget-view+json": {
              "model_id": "31c920f2df234deca77622f765936596",
              "version_major": 2,
              "version_minor": 0
            },
            "text/plain": [
              "Similarity Calculation:   0%|          |"
            ]
          },
          "metadata": {},
          "output_type": "display_data"
        },
        {
          "data": {
            "application/vnd.jupyter.widget-view+json": {
              "model_id": "0e59793a0f6a4fde83e13622d47f8192",
              "version_major": 2,
              "version_minor": 0
            },
            "text/plain": [
              "Patch Mapping:   0%|          |"
            ]
          },
          "metadata": {},
          "output_type": "display_data"
        },
        {
          "data": {
            "application/vnd.jupyter.widget-view+json": {
              "model_id": "8e95721da621439dbdeb2787721eb5f8",
              "version_major": 2,
              "version_minor": 0
            },
            "text/plain": [
              "Image Augmentation:   0%|          |"
            ]
          },
          "metadata": {},
          "output_type": "display_data"
        },
        {
          "data": {
            "application/vnd.jupyter.widget-view+json": {
              "model_id": "ac090998fbd743af95a00f43f98b2901",
              "version_major": 2,
              "version_minor": 0
            },
            "text/plain": [
              "Similarity Calculation:   0%|          |"
            ]
          },
          "metadata": {},
          "output_type": "display_data"
        },
        {
          "data": {
            "application/vnd.jupyter.widget-view+json": {
              "model_id": "62d434731173448981335d2279fe9b9e",
              "version_major": 2,
              "version_minor": 0
            },
            "text/plain": [
              "Patch Mapping:   0%|          |"
            ]
          },
          "metadata": {},
          "output_type": "display_data"
        },
        {
          "data": {
            "application/vnd.jupyter.widget-view+json": {
              "model_id": "8df51c1183c64bde8f66e5e57cef133f",
              "version_major": 2,
              "version_minor": 0
            },
            "text/plain": [
              "Image Augmentation:   0%|          |"
            ]
          },
          "metadata": {},
          "output_type": "display_data"
        },
        {
          "data": {
            "application/vnd.jupyter.widget-view+json": {
              "model_id": "c209d71bb81a4fe8aab89db85c791b6a",
              "version_major": 2,
              "version_minor": 0
            },
            "text/plain": [
              "Similarity Calculation:   0%|          |"
            ]
          },
          "metadata": {},
          "output_type": "display_data"
        },
        {
          "data": {
            "application/vnd.jupyter.widget-view+json": {
              "model_id": "60a0d0d0fe704669b665c07eb2bb2403",
              "version_major": 2,
              "version_minor": 0
            },
            "text/plain": [
              "Patch Mapping:   0%|          |"
            ]
          },
          "metadata": {},
          "output_type": "display_data"
        },
        {
          "data": {
            "application/vnd.jupyter.widget-view+json": {
              "model_id": "1c104617e28247a597737c528a1fa618",
              "version_major": 2,
              "version_minor": 0
            },
            "text/plain": [
              "Image Augmentation:   0%|          |"
            ]
          },
          "metadata": {},
          "output_type": "display_data"
        },
        {
          "data": {
            "application/vnd.jupyter.widget-view+json": {
              "model_id": "1f196ebbb0ba440b81ec1f22f4e6bebf",
              "version_major": 2,
              "version_minor": 0
            },
            "text/plain": [
              "Similarity Calculation:   0%|          |"
            ]
          },
          "metadata": {},
          "output_type": "display_data"
        },
        {
          "data": {
            "application/vnd.jupyter.widget-view+json": {
              "model_id": "6dc639ae6e504b57ad23c1eac0f330d0",
              "version_major": 2,
              "version_minor": 0
            },
            "text/plain": [
              "Patch Mapping:   0%|          |"
            ]
          },
          "metadata": {},
          "output_type": "display_data"
        },
        {
          "data": {
            "application/vnd.jupyter.widget-view+json": {
              "model_id": "2b07af28cf6d43b6a7f9d99a83b08fe1",
              "version_major": 2,
              "version_minor": 0
            },
            "text/plain": [
              "Image Augmentation:   0%|          |"
            ]
          },
          "metadata": {},
          "output_type": "display_data"
        },
        {
          "data": {
            "application/vnd.jupyter.widget-view+json": {
              "model_id": "be19477b74184befa2cbd5d29614d8ce",
              "version_major": 2,
              "version_minor": 0
            },
            "text/plain": [
              "Similarity Calculation:   0%|          |"
            ]
          },
          "metadata": {},
          "output_type": "display_data"
        },
        {
          "data": {
            "application/vnd.jupyter.widget-view+json": {
              "model_id": "18d775399f084c75b1069d5d7ebbb334",
              "version_major": 2,
              "version_minor": 0
            },
            "text/plain": [
              "Patch Mapping:   0%|          |"
            ]
          },
          "metadata": {},
          "output_type": "display_data"
        },
        {
          "data": {
            "application/vnd.jupyter.widget-view+json": {
              "model_id": "cd7d76814d4b4da0b88bddef38359c1a",
              "version_major": 2,
              "version_minor": 0
            },
            "text/plain": [
              "Image Augmentation:   0%|          |"
            ]
          },
          "metadata": {},
          "output_type": "display_data"
        },
        {
          "data": {
            "application/vnd.jupyter.widget-view+json": {
              "model_id": "bb3ebd2da6c3424ab9f9aabd16c2fda4",
              "version_major": 2,
              "version_minor": 0
            },
            "text/plain": [
              "Similarity Calculation:   0%|          |"
            ]
          },
          "metadata": {},
          "output_type": "display_data"
        },
        {
          "data": {
            "application/vnd.jupyter.widget-view+json": {
              "model_id": "48c35b1c7af44a7fb3fb3f29ac3d02ab",
              "version_major": 2,
              "version_minor": 0
            },
            "text/plain": [
              "Patch Mapping:   0%|          |"
            ]
          },
          "metadata": {},
          "output_type": "display_data"
        },
        {
          "data": {
            "application/vnd.jupyter.widget-view+json": {
              "model_id": "4ea3179376ea44eb9a8a9330c6bf6b89",
              "version_major": 2,
              "version_minor": 0
            },
            "text/plain": [
              "Image Augmentation:   0%|          |"
            ]
          },
          "metadata": {},
          "output_type": "display_data"
        },
        {
          "data": {
            "application/vnd.jupyter.widget-view+json": {
              "model_id": "f03fa1c878404bd3bc44b61644a02b0a",
              "version_major": 2,
              "version_minor": 0
            },
            "text/plain": [
              "Similarity Calculation:   0%|          |"
            ]
          },
          "metadata": {},
          "output_type": "display_data"
        },
        {
          "data": {
            "application/vnd.jupyter.widget-view+json": {
              "model_id": "678a0e88c7694dfd8f108a13dc1a4963",
              "version_major": 2,
              "version_minor": 0
            },
            "text/plain": [
              "Patch Mapping:   0%|          |"
            ]
          },
          "metadata": {},
          "output_type": "display_data"
        },
        {
          "data": {
            "application/vnd.jupyter.widget-view+json": {
              "model_id": "7023baa336034a57b3925dd4a4fb93fa",
              "version_major": 2,
              "version_minor": 0
            },
            "text/plain": [
              "Image Augmentation:   0%|          |"
            ]
          },
          "metadata": {},
          "output_type": "display_data"
        },
        {
          "data": {
            "application/vnd.jupyter.widget-view+json": {
              "model_id": "063a5a0ae8324e209bdfd7ac9a7739aa",
              "version_major": 2,
              "version_minor": 0
            },
            "text/plain": [
              "Similarity Calculation:   0%|          |"
            ]
          },
          "metadata": {},
          "output_type": "display_data"
        },
        {
          "data": {
            "application/vnd.jupyter.widget-view+json": {
              "model_id": "d56c3ac25ada41408b761c2103759ac7",
              "version_major": 2,
              "version_minor": 0
            },
            "text/plain": [
              "Patch Mapping:   0%|          |"
            ]
          },
          "metadata": {},
          "output_type": "display_data"
        },
        {
          "data": {
            "application/vnd.jupyter.widget-view+json": {
              "model_id": "c29e3648f9694cbf8b1f899214ed8cdb",
              "version_major": 2,
              "version_minor": 0
            },
            "text/plain": [
              "Image Augmentation:   0%|          |"
            ]
          },
          "metadata": {},
          "output_type": "display_data"
        },
        {
          "data": {
            "application/vnd.jupyter.widget-view+json": {
              "model_id": "11adab83458d4824acd4d1846cad2aed",
              "version_major": 2,
              "version_minor": 0
            },
            "text/plain": [
              "Similarity Calculation:   0%|          |"
            ]
          },
          "metadata": {},
          "output_type": "display_data"
        },
        {
          "data": {
            "application/vnd.jupyter.widget-view+json": {
              "model_id": "e8483481ed634ea0a1486283c4cdcb89",
              "version_major": 2,
              "version_minor": 0
            },
            "text/plain": [
              "Patch Mapping:   0%|          |"
            ]
          },
          "metadata": {},
          "output_type": "display_data"
        },
        {
          "data": {
            "application/vnd.jupyter.widget-view+json": {
              "model_id": "08a7ddbd10fd42c6a5f5bffe3f93c4fd",
              "version_major": 2,
              "version_minor": 0
            },
            "text/plain": [
              "Image Augmentation:   0%|          |"
            ]
          },
          "metadata": {},
          "output_type": "display_data"
        },
        {
          "data": {
            "application/vnd.jupyter.widget-view+json": {
              "model_id": "98fa7b11671940c989c413dd6f556bf3",
              "version_major": 2,
              "version_minor": 0
            },
            "text/plain": [
              "Similarity Calculation:   0%|          |"
            ]
          },
          "metadata": {},
          "output_type": "display_data"
        },
        {
          "data": {
            "application/vnd.jupyter.widget-view+json": {
              "model_id": "eea2e9dfe30249ae9a63b0786e359df0",
              "version_major": 2,
              "version_minor": 0
            },
            "text/plain": [
              "Patch Mapping:   0%|          |"
            ]
          },
          "metadata": {},
          "output_type": "display_data"
        },
        {
          "data": {
            "application/vnd.jupyter.widget-view+json": {
              "model_id": "21a30f60a46c4d07bcf9216ff9d5caa0",
              "version_major": 2,
              "version_minor": 0
            },
            "text/plain": [
              "Image Augmentation:   0%|          |"
            ]
          },
          "metadata": {},
          "output_type": "display_data"
        },
        {
          "data": {
            "application/vnd.jupyter.widget-view+json": {
              "model_id": "5bde90748b934ed0a17ed1ee1c54c6b0",
              "version_major": 2,
              "version_minor": 0
            },
            "text/plain": [
              "Similarity Calculation:   0%|          |"
            ]
          },
          "metadata": {},
          "output_type": "display_data"
        },
        {
          "data": {
            "application/vnd.jupyter.widget-view+json": {
              "model_id": "f76230a1ae8e4782a3882d9d0db2d9a9",
              "version_major": 2,
              "version_minor": 0
            },
            "text/plain": [
              "Patch Mapping:   0%|          |"
            ]
          },
          "metadata": {},
          "output_type": "display_data"
        },
        {
          "data": {
            "application/vnd.jupyter.widget-view+json": {
              "model_id": "bd13dd76d7044075bb59d7d5dd52ebc1",
              "version_major": 2,
              "version_minor": 0
            },
            "text/plain": [
              "Image Augmentation:   0%|          |"
            ]
          },
          "metadata": {},
          "output_type": "display_data"
        },
        {
          "data": {
            "application/vnd.jupyter.widget-view+json": {
              "model_id": "e91123dc6d68474fbbed83c3f0dbb012",
              "version_major": 2,
              "version_minor": 0
            },
            "text/plain": [
              "Similarity Calculation:   0%|          |"
            ]
          },
          "metadata": {},
          "output_type": "display_data"
        },
        {
          "data": {
            "application/vnd.jupyter.widget-view+json": {
              "model_id": "d7d385604cd1403188df3135ba3a8cb0",
              "version_major": 2,
              "version_minor": 0
            },
            "text/plain": [
              "Patch Mapping:   0%|          |"
            ]
          },
          "metadata": {},
          "output_type": "display_data"
        },
        {
          "data": {
            "application/vnd.jupyter.widget-view+json": {
              "model_id": "166d0915d83c461fb12c206343ea88f8",
              "version_major": 2,
              "version_minor": 0
            },
            "text/plain": [
              "Image Augmentation:   0%|          |"
            ]
          },
          "metadata": {},
          "output_type": "display_data"
        },
        {
          "data": {
            "application/vnd.jupyter.widget-view+json": {
              "model_id": "a095358503a8470794cd7e37dc89479c",
              "version_major": 2,
              "version_minor": 0
            },
            "text/plain": [
              "Similarity Calculation:   0%|          |"
            ]
          },
          "metadata": {},
          "output_type": "display_data"
        },
        {
          "data": {
            "application/vnd.jupyter.widget-view+json": {
              "model_id": "6c6ce16bbc604c639a25e20139c4953e",
              "version_major": 2,
              "version_minor": 0
            },
            "text/plain": [
              "Patch Mapping:   0%|          |"
            ]
          },
          "metadata": {},
          "output_type": "display_data"
        },
        {
          "data": {
            "application/vnd.jupyter.widget-view+json": {
              "model_id": "9a97c8054e034c07a0c3367df9484365",
              "version_major": 2,
              "version_minor": 0
            },
            "text/plain": [
              "Image Augmentation:   0%|          |"
            ]
          },
          "metadata": {},
          "output_type": "display_data"
        },
        {
          "data": {
            "application/vnd.jupyter.widget-view+json": {
              "model_id": "a770e8d769d24625b104959689310060",
              "version_major": 2,
              "version_minor": 0
            },
            "text/plain": [
              "Similarity Calculation:   0%|          |"
            ]
          },
          "metadata": {},
          "output_type": "display_data"
        },
        {
          "data": {
            "application/vnd.jupyter.widget-view+json": {
              "model_id": "234ce688b53941c0ba9ae41314d2990b",
              "version_major": 2,
              "version_minor": 0
            },
            "text/plain": [
              "Patch Mapping:   0%|          |"
            ]
          },
          "metadata": {},
          "output_type": "display_data"
        },
        {
          "data": {
            "application/vnd.jupyter.widget-view+json": {
              "model_id": "fba98d6feed444e3aed42e7e7e56659e",
              "version_major": 2,
              "version_minor": 0
            },
            "text/plain": [
              "Image Augmentation:   0%|          |"
            ]
          },
          "metadata": {},
          "output_type": "display_data"
        },
        {
          "data": {
            "application/vnd.jupyter.widget-view+json": {
              "model_id": "5910be7978be4dcb9d6faee4bfbc1970",
              "version_major": 2,
              "version_minor": 0
            },
            "text/plain": [
              "Similarity Calculation:   0%|          |"
            ]
          },
          "metadata": {},
          "output_type": "display_data"
        },
        {
          "data": {
            "application/vnd.jupyter.widget-view+json": {
              "model_id": "5612134faddc450db347199ebc11cf97",
              "version_major": 2,
              "version_minor": 0
            },
            "text/plain": [
              "Patch Mapping:   0%|          |"
            ]
          },
          "metadata": {},
          "output_type": "display_data"
        },
        {
          "data": {
            "application/vnd.jupyter.widget-view+json": {
              "model_id": "a771b2f3f64f48898611009df9a04bd7",
              "version_major": 2,
              "version_minor": 0
            },
            "text/plain": [
              "Image Augmentation:   0%|          |"
            ]
          },
          "metadata": {},
          "output_type": "display_data"
        },
        {
          "data": {
            "application/vnd.jupyter.widget-view+json": {
              "model_id": "3888fc3215954797b332f6f5726e9321",
              "version_major": 2,
              "version_minor": 0
            },
            "text/plain": [
              "Similarity Calculation:   0%|          |"
            ]
          },
          "metadata": {},
          "output_type": "display_data"
        },
        {
          "data": {
            "application/vnd.jupyter.widget-view+json": {
              "model_id": "0c294f8b3dcd4cf3b0343b5ef4c8ffa7",
              "version_major": 2,
              "version_minor": 0
            },
            "text/plain": [
              "Patch Mapping:   0%|          |"
            ]
          },
          "metadata": {},
          "output_type": "display_data"
        },
        {
          "data": {
            "application/vnd.jupyter.widget-view+json": {
              "model_id": "6991b47e2bd24d6d8345e8f6286d1cfc",
              "version_major": 2,
              "version_minor": 0
            },
            "text/plain": [
              "Image Augmentation:   0%|          |"
            ]
          },
          "metadata": {},
          "output_type": "display_data"
        },
        {
          "data": {
            "application/vnd.jupyter.widget-view+json": {
              "model_id": "330ba62d7fb2476cb3ab2093a46e14e9",
              "version_major": 2,
              "version_minor": 0
            },
            "text/plain": [
              "Similarity Calculation:   0%|          |"
            ]
          },
          "metadata": {},
          "output_type": "display_data"
        },
        {
          "data": {
            "application/vnd.jupyter.widget-view+json": {
              "model_id": "51b5c85013554c28b688e4daf60fef1b",
              "version_major": 2,
              "version_minor": 0
            },
            "text/plain": [
              "Patch Mapping:   0%|          |"
            ]
          },
          "metadata": {},
          "output_type": "display_data"
        },
        {
          "data": {
            "application/vnd.jupyter.widget-view+json": {
              "model_id": "60c0529d9da647d58362ff171d6a752d",
              "version_major": 2,
              "version_minor": 0
            },
            "text/plain": [
              "Image Augmentation:   0%|          |"
            ]
          },
          "metadata": {},
          "output_type": "display_data"
        },
        {
          "data": {
            "application/vnd.jupyter.widget-view+json": {
              "model_id": "c38925c6dc9a4014a09afc75f18142ef",
              "version_major": 2,
              "version_minor": 0
            },
            "text/plain": [
              "Similarity Calculation:   0%|          |"
            ]
          },
          "metadata": {},
          "output_type": "display_data"
        },
        {
          "data": {
            "application/vnd.jupyter.widget-view+json": {
              "model_id": "fe31fb2fb7b74caab4fef5b39a95cd51",
              "version_major": 2,
              "version_minor": 0
            },
            "text/plain": [
              "Patch Mapping:   0%|          |"
            ]
          },
          "metadata": {},
          "output_type": "display_data"
        },
        {
          "data": {
            "application/vnd.jupyter.widget-view+json": {
              "model_id": "4644ad5e359b4755bd02bd0abe502356",
              "version_major": 2,
              "version_minor": 0
            },
            "text/plain": [
              "Image Augmentation:   0%|          |"
            ]
          },
          "metadata": {},
          "output_type": "display_data"
        },
        {
          "data": {
            "application/vnd.jupyter.widget-view+json": {
              "model_id": "49f1cad4bdd0422081e9b410d5e3c078",
              "version_major": 2,
              "version_minor": 0
            },
            "text/plain": [
              "Similarity Calculation:   0%|          |"
            ]
          },
          "metadata": {},
          "output_type": "display_data"
        },
        {
          "data": {
            "application/vnd.jupyter.widget-view+json": {
              "model_id": "f5e1318fe9234a05a4f1fa3346f49478",
              "version_major": 2,
              "version_minor": 0
            },
            "text/plain": [
              "Patch Mapping:   0%|          |"
            ]
          },
          "metadata": {},
          "output_type": "display_data"
        },
        {
          "data": {
            "application/vnd.jupyter.widget-view+json": {
              "model_id": "f8a89b5fead74322bdf7551dcf3348ef",
              "version_major": 2,
              "version_minor": 0
            },
            "text/plain": [
              "Image Augmentation:   0%|          |"
            ]
          },
          "metadata": {},
          "output_type": "display_data"
        },
        {
          "data": {
            "application/vnd.jupyter.widget-view+json": {
              "model_id": "cc32798438fc4a23af5b60f18709357c",
              "version_major": 2,
              "version_minor": 0
            },
            "text/plain": [
              "Similarity Calculation:   0%|          |"
            ]
          },
          "metadata": {},
          "output_type": "display_data"
        },
        {
          "data": {
            "application/vnd.jupyter.widget-view+json": {
              "model_id": "b6c32865c34847baaec1258fe880dc1b",
              "version_major": 2,
              "version_minor": 0
            },
            "text/plain": [
              "Patch Mapping:   0%|          |"
            ]
          },
          "metadata": {},
          "output_type": "display_data"
        },
        {
          "data": {
            "application/vnd.jupyter.widget-view+json": {
              "model_id": "0394835a33db4e31aa2371be0f31eba6",
              "version_major": 2,
              "version_minor": 0
            },
            "text/plain": [
              "Image Augmentation:   0%|          |"
            ]
          },
          "metadata": {},
          "output_type": "display_data"
        },
        {
          "data": {
            "application/vnd.jupyter.widget-view+json": {
              "model_id": "60038f13224b4585964ee19f73fe8d79",
              "version_major": 2,
              "version_minor": 0
            },
            "text/plain": [
              "Similarity Calculation:   0%|          |"
            ]
          },
          "metadata": {},
          "output_type": "display_data"
        },
        {
          "data": {
            "application/vnd.jupyter.widget-view+json": {
              "model_id": "98390d99b7104281a560db22d3177f25",
              "version_major": 2,
              "version_minor": 0
            },
            "text/plain": [
              "Patch Mapping:   0%|          |"
            ]
          },
          "metadata": {},
          "output_type": "display_data"
        },
        {
          "data": {
            "application/vnd.jupyter.widget-view+json": {
              "model_id": "1974cdd70406400f8e1f954a4cd1914e",
              "version_major": 2,
              "version_minor": 0
            },
            "text/plain": [
              "Image Augmentation:   0%|          |"
            ]
          },
          "metadata": {},
          "output_type": "display_data"
        },
        {
          "data": {
            "application/vnd.jupyter.widget-view+json": {
              "model_id": "abd5ee716fe54a4d8dd3cbdae5e356f7",
              "version_major": 2,
              "version_minor": 0
            },
            "text/plain": [
              "Similarity Calculation:   0%|          |"
            ]
          },
          "metadata": {},
          "output_type": "display_data"
        },
        {
          "data": {
            "application/vnd.jupyter.widget-view+json": {
              "model_id": "d0405f20539e44eba066d971891e59f2",
              "version_major": 2,
              "version_minor": 0
            },
            "text/plain": [
              "Patch Mapping:   0%|          |"
            ]
          },
          "metadata": {},
          "output_type": "display_data"
        },
        {
          "data": {
            "application/vnd.jupyter.widget-view+json": {
              "model_id": "b5bb68c740fc4a20a66510c687c13b66",
              "version_major": 2,
              "version_minor": 0
            },
            "text/plain": [
              "Image Augmentation:   0%|          |"
            ]
          },
          "metadata": {},
          "output_type": "display_data"
        },
        {
          "data": {
            "application/vnd.jupyter.widget-view+json": {
              "model_id": "7faec91d19024e3c985628080bc8e9ad",
              "version_major": 2,
              "version_minor": 0
            },
            "text/plain": [
              "Similarity Calculation:   0%|          |"
            ]
          },
          "metadata": {},
          "output_type": "display_data"
        },
        {
          "data": {
            "application/vnd.jupyter.widget-view+json": {
              "model_id": "8c51964d16bf4b37ad3b4ce824a844d5",
              "version_major": 2,
              "version_minor": 0
            },
            "text/plain": [
              "Patch Mapping:   0%|          |"
            ]
          },
          "metadata": {},
          "output_type": "display_data"
        },
        {
          "data": {
            "application/vnd.jupyter.widget-view+json": {
              "model_id": "41abb8bbb87b4a78a9ac9eb20f00ecdc",
              "version_major": 2,
              "version_minor": 0
            },
            "text/plain": [
              "Image Augmentation:   0%|          |"
            ]
          },
          "metadata": {},
          "output_type": "display_data"
        },
        {
          "data": {
            "application/vnd.jupyter.widget-view+json": {
              "model_id": "a0201e6dfe0f49d6bed2343538f570ff",
              "version_major": 2,
              "version_minor": 0
            },
            "text/plain": [
              "Similarity Calculation:   0%|          |"
            ]
          },
          "metadata": {},
          "output_type": "display_data"
        },
        {
          "data": {
            "application/vnd.jupyter.widget-view+json": {
              "model_id": "8df00d4cba2148fd950194df7e1afe7a",
              "version_major": 2,
              "version_minor": 0
            },
            "text/plain": [
              "Patch Mapping:   0%|          |"
            ]
          },
          "metadata": {},
          "output_type": "display_data"
        },
        {
          "data": {
            "application/vnd.jupyter.widget-view+json": {
              "model_id": "b5dea57b44f544f88816522c0b1c7007",
              "version_major": 2,
              "version_minor": 0
            },
            "text/plain": [
              "Image Augmentation:   0%|          |"
            ]
          },
          "metadata": {},
          "output_type": "display_data"
        },
        {
          "data": {
            "application/vnd.jupyter.widget-view+json": {
              "model_id": "f2a177b64bf946f3abe7697b2bd11bbd",
              "version_major": 2,
              "version_minor": 0
            },
            "text/plain": [
              "Similarity Calculation:   0%|          |"
            ]
          },
          "metadata": {},
          "output_type": "display_data"
        },
        {
          "data": {
            "application/vnd.jupyter.widget-view+json": {
              "model_id": "eee4d1f0dc8246d8b2c263011794739f",
              "version_major": 2,
              "version_minor": 0
            },
            "text/plain": [
              "Patch Mapping:   0%|          |"
            ]
          },
          "metadata": {},
          "output_type": "display_data"
        },
        {
          "data": {
            "application/vnd.jupyter.widget-view+json": {
              "model_id": "ec7a2b5460d84cfb91858d820336860f",
              "version_major": 2,
              "version_minor": 0
            },
            "text/plain": [
              "Image Augmentation:   0%|          |"
            ]
          },
          "metadata": {},
          "output_type": "display_data"
        },
        {
          "data": {
            "application/vnd.jupyter.widget-view+json": {
              "model_id": "e26dd1f245f24a869929473154209755",
              "version_major": 2,
              "version_minor": 0
            },
            "text/plain": [
              "Similarity Calculation:   0%|          |"
            ]
          },
          "metadata": {},
          "output_type": "display_data"
        },
        {
          "data": {
            "application/vnd.jupyter.widget-view+json": {
              "model_id": "089a49be1bfc4a69b5adbb981940d246",
              "version_major": 2,
              "version_minor": 0
            },
            "text/plain": [
              "Patch Mapping:   0%|          |"
            ]
          },
          "metadata": {},
          "output_type": "display_data"
        },
        {
          "data": {
            "application/vnd.jupyter.widget-view+json": {
              "model_id": "0b244e24143849bb8645b649e4570abc",
              "version_major": 2,
              "version_minor": 0
            },
            "text/plain": [
              "Image Augmentation:   0%|          |"
            ]
          },
          "metadata": {},
          "output_type": "display_data"
        },
        {
          "data": {
            "application/vnd.jupyter.widget-view+json": {
              "model_id": "779cebbad68d482b837bc6d85f3a9329",
              "version_major": 2,
              "version_minor": 0
            },
            "text/plain": [
              "Similarity Calculation:   0%|          |"
            ]
          },
          "metadata": {},
          "output_type": "display_data"
        },
        {
          "data": {
            "application/vnd.jupyter.widget-view+json": {
              "model_id": "92d3abb584714cbbaea656d45bdb7bef",
              "version_major": 2,
              "version_minor": 0
            },
            "text/plain": [
              "Patch Mapping:   0%|          |"
            ]
          },
          "metadata": {},
          "output_type": "display_data"
        },
        {
          "data": {
            "application/vnd.jupyter.widget-view+json": {
              "model_id": "4285715ac12b400e89c9569a12c34206",
              "version_major": 2,
              "version_minor": 0
            },
            "text/plain": [
              "Image Augmentation:   0%|          |"
            ]
          },
          "metadata": {},
          "output_type": "display_data"
        },
        {
          "data": {
            "application/vnd.jupyter.widget-view+json": {
              "model_id": "f6c112005b4847ff86efdd0f911c3b22",
              "version_major": 2,
              "version_minor": 0
            },
            "text/plain": [
              "Similarity Calculation:   0%|          |"
            ]
          },
          "metadata": {},
          "output_type": "display_data"
        },
        {
          "data": {
            "application/vnd.jupyter.widget-view+json": {
              "model_id": "392722df12ad446e9fb46ddd6b8ec8e7",
              "version_major": 2,
              "version_minor": 0
            },
            "text/plain": [
              "Patch Mapping:   0%|          |"
            ]
          },
          "metadata": {},
          "output_type": "display_data"
        },
        {
          "data": {
            "application/vnd.jupyter.widget-view+json": {
              "model_id": "fcdcd548fbd143e792c62dbd7cafc5f5",
              "version_major": 2,
              "version_minor": 0
            },
            "text/plain": [
              "Image Augmentation:   0%|          |"
            ]
          },
          "metadata": {},
          "output_type": "display_data"
        },
        {
          "data": {
            "application/vnd.jupyter.widget-view+json": {
              "model_id": "0b2eebee55334e98b478a7962f1cf715",
              "version_major": 2,
              "version_minor": 0
            },
            "text/plain": [
              "Similarity Calculation:   0%|          |"
            ]
          },
          "metadata": {},
          "output_type": "display_data"
        },
        {
          "data": {
            "application/vnd.jupyter.widget-view+json": {
              "model_id": "6a5bf7e8fe3b466cabca39e0c5d43892",
              "version_major": 2,
              "version_minor": 0
            },
            "text/plain": [
              "Patch Mapping:   0%|          |"
            ]
          },
          "metadata": {},
          "output_type": "display_data"
        },
        {
          "data": {
            "application/vnd.jupyter.widget-view+json": {
              "model_id": "eae4f74713c949439e1c5580227a18f0",
              "version_major": 2,
              "version_minor": 0
            },
            "text/plain": [
              "Image Augmentation:   0%|          |"
            ]
          },
          "metadata": {},
          "output_type": "display_data"
        },
        {
          "data": {
            "application/vnd.jupyter.widget-view+json": {
              "model_id": "8be9d992e05c46ea8bc6821892cd29cb",
              "version_major": 2,
              "version_minor": 0
            },
            "text/plain": [
              "Similarity Calculation:   0%|          |"
            ]
          },
          "metadata": {},
          "output_type": "display_data"
        },
        {
          "data": {
            "application/vnd.jupyter.widget-view+json": {
              "model_id": "cc57cc4c920648ff90561ea5099d0a93",
              "version_major": 2,
              "version_minor": 0
            },
            "text/plain": [
              "Patch Mapping:   0%|          |"
            ]
          },
          "metadata": {},
          "output_type": "display_data"
        },
        {
          "data": {
            "application/vnd.jupyter.widget-view+json": {
              "model_id": "a5c7e14e2cbc4987af94bbede8642241",
              "version_major": 2,
              "version_minor": 0
            },
            "text/plain": [
              "Image Augmentation:   0%|          |"
            ]
          },
          "metadata": {},
          "output_type": "display_data"
        },
        {
          "data": {
            "application/vnd.jupyter.widget-view+json": {
              "model_id": "8aa170742f174a3b8e3b9f725c7d5617",
              "version_major": 2,
              "version_minor": 0
            },
            "text/plain": [
              "Similarity Calculation:   0%|          |"
            ]
          },
          "metadata": {},
          "output_type": "display_data"
        },
        {
          "data": {
            "application/vnd.jupyter.widget-view+json": {
              "model_id": "d1f8f30fc054460796273dfff1a7473c",
              "version_major": 2,
              "version_minor": 0
            },
            "text/plain": [
              "Patch Mapping:   0%|          |"
            ]
          },
          "metadata": {},
          "output_type": "display_data"
        },
        {
          "data": {
            "application/vnd.jupyter.widget-view+json": {
              "model_id": "9bc27445c28f411880ab84e85e912353",
              "version_major": 2,
              "version_minor": 0
            },
            "text/plain": [
              "Image Augmentation:   0%|          |"
            ]
          },
          "metadata": {},
          "output_type": "display_data"
        },
        {
          "data": {
            "application/vnd.jupyter.widget-view+json": {
              "model_id": "68afdf4d363d490ba4c9f4110cd6acfe",
              "version_major": 2,
              "version_minor": 0
            },
            "text/plain": [
              "Similarity Calculation:   0%|          |"
            ]
          },
          "metadata": {},
          "output_type": "display_data"
        },
        {
          "data": {
            "application/vnd.jupyter.widget-view+json": {
              "model_id": "bc5d451bbef84bca9c036b520822bdf6",
              "version_major": 2,
              "version_minor": 0
            },
            "text/plain": [
              "Patch Mapping:   0%|          |"
            ]
          },
          "metadata": {},
          "output_type": "display_data"
        },
        {
          "data": {
            "application/vnd.jupyter.widget-view+json": {
              "model_id": "aede8b0d2630433698c177ab3e95095e",
              "version_major": 2,
              "version_minor": 0
            },
            "text/plain": [
              "Image Augmentation:   0%|          |"
            ]
          },
          "metadata": {},
          "output_type": "display_data"
        },
        {
          "data": {
            "application/vnd.jupyter.widget-view+json": {
              "model_id": "781a8c09c288482ca0b1e882977b57da",
              "version_major": 2,
              "version_minor": 0
            },
            "text/plain": [
              "Similarity Calculation:   0%|          |"
            ]
          },
          "metadata": {},
          "output_type": "display_data"
        },
        {
          "data": {
            "application/vnd.jupyter.widget-view+json": {
              "model_id": "d71c66f2711a4a92803bdca4ad75dfd4",
              "version_major": 2,
              "version_minor": 0
            },
            "text/plain": [
              "Patch Mapping:   0%|          |"
            ]
          },
          "metadata": {},
          "output_type": "display_data"
        },
        {
          "data": {
            "application/vnd.jupyter.widget-view+json": {
              "model_id": "d8334cf4a9a4424bad807c6c6fad8f4b",
              "version_major": 2,
              "version_minor": 0
            },
            "text/plain": [
              "Image Augmentation:   0%|          |"
            ]
          },
          "metadata": {},
          "output_type": "display_data"
        },
        {
          "data": {
            "application/vnd.jupyter.widget-view+json": {
              "model_id": "5a5005c498d24cc08c9fa20fa12a398a",
              "version_major": 2,
              "version_minor": 0
            },
            "text/plain": [
              "Similarity Calculation:   0%|          |"
            ]
          },
          "metadata": {},
          "output_type": "display_data"
        },
        {
          "data": {
            "application/vnd.jupyter.widget-view+json": {
              "model_id": "f400156165804d2cb926f18a3922f134",
              "version_major": 2,
              "version_minor": 0
            },
            "text/plain": [
              "Patch Mapping:   0%|          |"
            ]
          },
          "metadata": {},
          "output_type": "display_data"
        },
        {
          "data": {
            "application/vnd.jupyter.widget-view+json": {
              "model_id": "0325714414bc45c78db83ec790469161",
              "version_major": 2,
              "version_minor": 0
            },
            "text/plain": [
              "Image Augmentation:   0%|          |"
            ]
          },
          "metadata": {},
          "output_type": "display_data"
        },
        {
          "data": {
            "application/vnd.jupyter.widget-view+json": {
              "model_id": "aed8abdac4b54d9f8f4f2aa8705ffa07",
              "version_major": 2,
              "version_minor": 0
            },
            "text/plain": [
              "Similarity Calculation:   0%|          |"
            ]
          },
          "metadata": {},
          "output_type": "display_data"
        },
        {
          "data": {
            "application/vnd.jupyter.widget-view+json": {
              "model_id": "cafaa1284f694533942baaa005df0110",
              "version_major": 2,
              "version_minor": 0
            },
            "text/plain": [
              "Patch Mapping:   0%|          |"
            ]
          },
          "metadata": {},
          "output_type": "display_data"
        },
        {
          "data": {
            "application/vnd.jupyter.widget-view+json": {
              "model_id": "7879a98f7ac74ef6a6e18e4fc6a6ad7c",
              "version_major": 2,
              "version_minor": 0
            },
            "text/plain": [
              "Image Augmentation:   0%|          |"
            ]
          },
          "metadata": {},
          "output_type": "display_data"
        },
        {
          "data": {
            "application/vnd.jupyter.widget-view+json": {
              "model_id": "37d97d2f3a2f4c74a998b6212ca206e7",
              "version_major": 2,
              "version_minor": 0
            },
            "text/plain": [
              "Similarity Calculation:   0%|          |"
            ]
          },
          "metadata": {},
          "output_type": "display_data"
        },
        {
          "data": {
            "application/vnd.jupyter.widget-view+json": {
              "model_id": "d60ebe855ac0432fa819c8f6133aa411",
              "version_major": 2,
              "version_minor": 0
            },
            "text/plain": [
              "Patch Mapping:   0%|          |"
            ]
          },
          "metadata": {},
          "output_type": "display_data"
        }
      ],
      "source": [
        "# #keras.config.disable_traceback_filtering()\n",
        "\n",
        "# # B. Find cosine similarity between the eigen value vectors of the two images\n",
        "# params = {\n",
        "#     'PATCH_SIZE': PATCH_SIZE,\n",
        "#     'PATCH_SIZE_2': PATCH_SIZE_2,\n",
        "#     'STRIDE': STRIDE,\n",
        "#     'STRIDE_2': STRIDE_2,\n",
        "#     'BIG_X_PATCHES': BIG_X_PATCHES,\n",
        "#     'BIG_Y_PATCHES': BIG_Y_PATCHES,\n",
        "#     'SMALL_X_PATCHES': SMALL_X_PATCHES,\n",
        "#     'SMALL_Y_PATCHES': SMALL_Y_PATCHES,\n",
        "#     'BIG_PATCHES': BIG_PATCHES,\n",
        "#     'SMALL_PATCHES': SMALL_PATCHES,\n",
        "#     'NUM_PATCHES': NUM_PATCHES,\n",
        "#     'NUM_IMAGES': NUM_IMAGES,\n",
        "#     'CORRECTION': CORRECTION,\n",
        "#     'SCALE': SCALE,\n",
        "#     'TRAIN_CLASS': TRAIN_CLASS,\n",
        "#     'TEST_CLASS': FINAL_TEST_CLASS\n",
        "# }\n",
        "\n",
        "# # generate mappings for each frame transition\n",
        "# mappings = []\n",
        "\n",
        "# for i, image in enumerate(clear_frames):\n",
        "#     if i == 0: # skip first frame\n",
        "#         continue\n",
        "#     #print(\"shapes of images: \", clear_frames[i-1].shape, clear_frames[i].shape)\n",
        "#     mapping = generate_mapping_for_image_pair(clear_frames[i-1], clear_frames[i], params, number_of_augmentation=10)\n",
        "#     mappings.append(mapping)"
      ]
    },
    {
      "cell_type": "code",
      "execution_count": 29,
      "metadata": {},
      "outputs": [],
      "source": [
        "# 5. Generate 20-frame sequence\n",
        "generated_frames = [clear_frames[0]]\n",
        "\n",
        "for mapping in mappings:\n",
        "    generated_frame = apply_mapping(generated_frames[-1], mapping, params)\n",
        "    generated_frames.append(generated_frame)\n",
        "\n",
        "# 6. Save 20-frame sequence\n",
        "for i in range(len(generated_frames)):\n",
        "    cv2.imwrite(f'generated_frame{i}.png', generated_frames[i])"
      ]
    },
    {
      "cell_type": "code",
      "execution_count": 30,
      "metadata": {},
      "outputs": [
        {
          "name": "stdout",
          "output_type": "stream",
          "text": [
            "length of images:  147\n"
          ]
        }
      ],
      "source": [
        "# 7. Create video from 20-frame sequence\n",
        "image_prefix = 'generated_frame'\n",
        "video_name = 'generated_video_with_all_frames.mp4'\n",
        "\n",
        "#get shape of video\n",
        "frame = cv2.imread(f'{image_prefix}0.png')\n",
        "height, width, layers = frame.shape\n",
        "\n",
        "#load frames; create video object\n",
        "images = [cv2.imread(f'{image_prefix}{i}.png') for i in range(147)]\n",
        "print('length of images: ', len(images))\n",
        "new_video = cv2.VideoWriter(video_name, cv2.VideoWriter_fourcc(*'mp4v'), 10, (width, height))\n",
        "\n",
        "#write frames to video\n",
        "for image in images:\n",
        "    new_video.write(image)\n",
        "\n",
        "#release video object\n",
        "new_video.release()"
      ]
    },
    {
      "cell_type": "code",
      "execution_count": 31,
      "metadata": {},
      "outputs": [
        {
          "ename": "TypeError",
          "evalue": "'NoneType' object is not subscriptable",
          "output_type": "error",
          "traceback": [
            "\u001b[1;31m---------------------------------------------------------------------------\u001b[0m",
            "\u001b[1;31mTypeError\u001b[0m                                 Traceback (most recent call last)",
            "Cell \u001b[1;32mIn[31], line 18\u001b[0m\n\u001b[0;32m     10\u001b[0m \u001b[38;5;66;03m#expected_img = ndimage.rotate(original_img, ROTATION, reshape=False, cval=0)\u001b[39;00m\n\u001b[0;32m     11\u001b[0m \u001b[38;5;66;03m# expected = ndimage.affine_transform(input,\u001b[39;00m\n\u001b[0;32m     12\u001b[0m \u001b[38;5;66;03m#                                         transform,\u001b[39;00m\n\u001b[0;32m     13\u001b[0m \u001b[38;5;66;03m#                                         output_shape=(SCALE * 28, SCALE * 28),\u001b[39;00m\n\u001b[0;32m     14\u001b[0m \u001b[38;5;66;03m#                                         cval=0.0)\u001b[39;00m\n\u001b[0;32m     16\u001b[0m expected \u001b[38;5;241m=\u001b[39m frame2\n\u001b[1;32m---> 18\u001b[0m predicted \u001b[38;5;241m=\u001b[39m \u001b[43mapply_mapping\u001b[49m\u001b[43m(\u001b[49m\u001b[38;5;28;43minput\u001b[39;49m\u001b[43m,\u001b[49m\u001b[43m \u001b[49m\u001b[43mmapping\u001b[49m\u001b[43m,\u001b[49m\u001b[43m \u001b[49m\u001b[43mparams\u001b[49m\u001b[43m)\u001b[49m\n\u001b[0;32m     20\u001b[0m display_results_for_single_image(\u001b[38;5;28minput\u001b[39m, predicted, expected)\n",
            "Cell \u001b[1;32mIn[17], line 52\u001b[0m, in \u001b[0;36mapply_mapping\u001b[1;34m(input_img, mapping, params)\u001b[0m\n\u001b[0;32m     50\u001b[0m     out_col_start \u001b[38;5;241m=\u001b[39m big_out_col \u001b[38;5;241m*\u001b[39m STRIDE \u001b[38;5;241m+\u001b[39m small_out_col \u001b[38;5;241m*\u001b[39m STRIDE_2\n\u001b[0;32m     51\u001b[0m     out_col_end \u001b[38;5;241m=\u001b[39m out_col_start \u001b[38;5;241m+\u001b[39m PATCH_SIZE_2\n\u001b[1;32m---> 52\u001b[0m     output_img[out_row_start:out_row_end, out_col_start:out_col_end] \u001b[38;5;241m=\u001b[39m \u001b[43minput_img\u001b[49m\u001b[43m[\u001b[49m\u001b[43min_row_start\u001b[49m\u001b[43m:\u001b[49m\u001b[43min_row_end\u001b[49m\u001b[43m,\u001b[49m\u001b[43m \u001b[49m\u001b[43min_col_start\u001b[49m\u001b[43m:\u001b[49m\u001b[43min_col_end\u001b[49m\u001b[43m]\u001b[49m\n\u001b[0;32m     54\u001b[0m \u001b[38;5;28;01mreturn\u001b[39;00m output_img\n",
            "\u001b[1;31mTypeError\u001b[0m: 'NoneType' object is not subscriptable"
          ]
        }
      ],
      "source": [
        "#DISPLAY RESULTS\n",
        "\n",
        "input = tf.squeeze(input_image)\n",
        "# print('input_image_local shape', input_image_local.shape)\n",
        "\n",
        "input = cv2.imread('cheetah.png', cv2.IMREAD_GRAYSCALE)\n",
        "\n",
        "input = frame1\n",
        "\n",
        "#expected_img = ndimage.rotate(original_img, ROTATION, reshape=False, cval=0)\n",
        "# expected = ndimage.affine_transform(input,\n",
        "#                                         transform,\n",
        "#                                         output_shape=(SCALE * 28, SCALE * 28),\n",
        "#                                         cval=0.0)\n",
        "\n",
        "expected = frame2\n",
        "\n",
        "predicted = apply_mapping(input, mapping, params)\n",
        "\n",
        "display_results_for_single_image(input, predicted, expected)"
      ]
    }
  ],
  "metadata": {
    "accelerator": "GPU",
    "colab": {
      "gpuType": "T4",
      "provenance": [],
      "toc_visible": true
    },
    "kernelspec": {
      "display_name": "Python 3",
      "name": "python3"
    },
    "language_info": {
      "codemirror_mode": {
        "name": "ipython",
        "version": 3
      },
      "file_extension": ".py",
      "mimetype": "text/x-python",
      "name": "python",
      "nbconvert_exporter": "python",
      "pygments_lexer": "ipython3",
      "version": "3.11.9"
    },
    "widgets": {
      "application/vnd.jupyter.widget-state+json": {
        "16aadefb829a415e8425985dee3714a3": {
          "model_module": "@jupyter-widgets/base",
          "model_module_version": "1.2.0",
          "model_name": "LayoutModel",
          "state": {
            "_model_module": "@jupyter-widgets/base",
            "_model_module_version": "1.2.0",
            "_model_name": "LayoutModel",
            "_view_count": null,
            "_view_module": "@jupyter-widgets/base",
            "_view_module_version": "1.2.0",
            "_view_name": "LayoutView",
            "align_content": null,
            "align_items": null,
            "align_self": null,
            "border": null,
            "bottom": null,
            "display": null,
            "flex": null,
            "flex_flow": null,
            "grid_area": null,
            "grid_auto_columns": null,
            "grid_auto_flow": null,
            "grid_auto_rows": null,
            "grid_column": null,
            "grid_gap": null,
            "grid_row": null,
            "grid_template_areas": null,
            "grid_template_columns": null,
            "grid_template_rows": null,
            "height": null,
            "justify_content": null,
            "justify_items": null,
            "left": null,
            "margin": null,
            "max_height": null,
            "max_width": null,
            "min_height": null,
            "min_width": null,
            "object_fit": null,
            "object_position": null,
            "order": null,
            "overflow": null,
            "overflow_x": null,
            "overflow_y": null,
            "padding": null,
            "right": null,
            "top": null,
            "visibility": null,
            "width": null
          }
        },
        "27dd6b05b425425faaf154ebf5fc4e60": {
          "model_module": "@jupyter-widgets/base",
          "model_module_version": "1.2.0",
          "model_name": "LayoutModel",
          "state": {
            "_model_module": "@jupyter-widgets/base",
            "_model_module_version": "1.2.0",
            "_model_name": "LayoutModel",
            "_view_count": null,
            "_view_module": "@jupyter-widgets/base",
            "_view_module_version": "1.2.0",
            "_view_name": "LayoutView",
            "align_content": null,
            "align_items": null,
            "align_self": null,
            "border": null,
            "bottom": null,
            "display": null,
            "flex": null,
            "flex_flow": null,
            "grid_area": null,
            "grid_auto_columns": null,
            "grid_auto_flow": null,
            "grid_auto_rows": null,
            "grid_column": null,
            "grid_gap": null,
            "grid_row": null,
            "grid_template_areas": null,
            "grid_template_columns": null,
            "grid_template_rows": null,
            "height": null,
            "justify_content": null,
            "justify_items": null,
            "left": null,
            "margin": null,
            "max_height": null,
            "max_width": null,
            "min_height": null,
            "min_width": null,
            "object_fit": null,
            "object_position": null,
            "order": null,
            "overflow": null,
            "overflow_x": null,
            "overflow_y": null,
            "padding": null,
            "right": null,
            "top": null,
            "visibility": null,
            "width": null
          }
        },
        "4d9e6c8f451f43099c7f74abb6ad0eff": {
          "model_module": "@jupyter-widgets/controls",
          "model_module_version": "1.5.0",
          "model_name": "HBoxModel",
          "state": {
            "_dom_classes": [],
            "_model_module": "@jupyter-widgets/controls",
            "_model_module_version": "1.5.0",
            "_model_name": "HBoxModel",
            "_view_count": null,
            "_view_module": "@jupyter-widgets/controls",
            "_view_module_version": "1.5.0",
            "_view_name": "HBoxView",
            "box_style": "",
            "children": [
              "IPY_MODEL_e7a07c3bcfcf443699ba77f00a13cb14",
              "IPY_MODEL_dca3ba79a4cf4dafb15c82a01f2afdfa",
              "IPY_MODEL_e8bc24bfbfa342169755c8a8655f8ced"
            ],
            "layout": "IPY_MODEL_27dd6b05b425425faaf154ebf5fc4e60"
          }
        },
        "529f1b4cac4c45d797d47ba1e080b7ea": {
          "model_module": "@jupyter-widgets/base",
          "model_module_version": "1.2.0",
          "model_name": "LayoutModel",
          "state": {
            "_model_module": "@jupyter-widgets/base",
            "_model_module_version": "1.2.0",
            "_model_name": "LayoutModel",
            "_view_count": null,
            "_view_module": "@jupyter-widgets/base",
            "_view_module_version": "1.2.0",
            "_view_name": "LayoutView",
            "align_content": null,
            "align_items": null,
            "align_self": null,
            "border": null,
            "bottom": null,
            "display": null,
            "flex": null,
            "flex_flow": null,
            "grid_area": null,
            "grid_auto_columns": null,
            "grid_auto_flow": null,
            "grid_auto_rows": null,
            "grid_column": null,
            "grid_gap": null,
            "grid_row": null,
            "grid_template_areas": null,
            "grid_template_columns": null,
            "grid_template_rows": null,
            "height": null,
            "justify_content": null,
            "justify_items": null,
            "left": null,
            "margin": null,
            "max_height": null,
            "max_width": null,
            "min_height": null,
            "min_width": null,
            "object_fit": null,
            "object_position": null,
            "order": null,
            "overflow": null,
            "overflow_x": null,
            "overflow_y": null,
            "padding": null,
            "right": null,
            "top": null,
            "visibility": null,
            "width": null
          }
        },
        "67f2015f06e84ab88f7d34baad053af0": {
          "model_module": "@jupyter-widgets/base",
          "model_module_version": "1.2.0",
          "model_name": "LayoutModel",
          "state": {
            "_model_module": "@jupyter-widgets/base",
            "_model_module_version": "1.2.0",
            "_model_name": "LayoutModel",
            "_view_count": null,
            "_view_module": "@jupyter-widgets/base",
            "_view_module_version": "1.2.0",
            "_view_name": "LayoutView",
            "align_content": null,
            "align_items": null,
            "align_self": null,
            "border": null,
            "bottom": null,
            "display": null,
            "flex": null,
            "flex_flow": null,
            "grid_area": null,
            "grid_auto_columns": null,
            "grid_auto_flow": null,
            "grid_auto_rows": null,
            "grid_column": null,
            "grid_gap": null,
            "grid_row": null,
            "grid_template_areas": null,
            "grid_template_columns": null,
            "grid_template_rows": null,
            "height": null,
            "justify_content": null,
            "justify_items": null,
            "left": null,
            "margin": null,
            "max_height": null,
            "max_width": null,
            "min_height": null,
            "min_width": null,
            "object_fit": null,
            "object_position": null,
            "order": null,
            "overflow": null,
            "overflow_x": null,
            "overflow_y": null,
            "padding": null,
            "right": null,
            "top": null,
            "visibility": null,
            "width": null
          }
        },
        "8284d15c5df24c74b8b3d80768a675f1": {
          "model_module": "@jupyter-widgets/controls",
          "model_module_version": "1.5.0",
          "model_name": "DescriptionStyleModel",
          "state": {
            "_model_module": "@jupyter-widgets/controls",
            "_model_module_version": "1.5.0",
            "_model_name": "DescriptionStyleModel",
            "_view_count": null,
            "_view_module": "@jupyter-widgets/base",
            "_view_module_version": "1.2.0",
            "_view_name": "StyleView",
            "description_width": ""
          }
        },
        "95234a15648141f8a1e5edb04b968119": {
          "model_module": "@jupyter-widgets/controls",
          "model_module_version": "1.5.0",
          "model_name": "ProgressStyleModel",
          "state": {
            "_model_module": "@jupyter-widgets/controls",
            "_model_module_version": "1.5.0",
            "_model_name": "ProgressStyleModel",
            "_view_count": null,
            "_view_module": "@jupyter-widgets/base",
            "_view_module_version": "1.2.0",
            "_view_name": "StyleView",
            "bar_color": null,
            "description_width": ""
          }
        },
        "b9ca075cf6e845acade4af4446a82d1c": {
          "model_module": "@jupyter-widgets/controls",
          "model_module_version": "1.5.0",
          "model_name": "DescriptionStyleModel",
          "state": {
            "_model_module": "@jupyter-widgets/controls",
            "_model_module_version": "1.5.0",
            "_model_name": "DescriptionStyleModel",
            "_view_count": null,
            "_view_module": "@jupyter-widgets/base",
            "_view_module_version": "1.2.0",
            "_view_name": "StyleView",
            "description_width": ""
          }
        },
        "dca3ba79a4cf4dafb15c82a01f2afdfa": {
          "model_module": "@jupyter-widgets/controls",
          "model_module_version": "1.5.0",
          "model_name": "FloatProgressModel",
          "state": {
            "_dom_classes": [],
            "_model_module": "@jupyter-widgets/controls",
            "_model_module_version": "1.5.0",
            "_model_name": "FloatProgressModel",
            "_view_count": null,
            "_view_module": "@jupyter-widgets/controls",
            "_view_module_version": "1.5.0",
            "_view_name": "ProgressView",
            "bar_style": "success",
            "description": "",
            "description_tooltip": null,
            "layout": "IPY_MODEL_67f2015f06e84ab88f7d34baad053af0",
            "max": 784,
            "min": 0,
            "orientation": "horizontal",
            "style": "IPY_MODEL_95234a15648141f8a1e5edb04b968119",
            "value": 784
          }
        },
        "e7a07c3bcfcf443699ba77f00a13cb14": {
          "model_module": "@jupyter-widgets/controls",
          "model_module_version": "1.5.0",
          "model_name": "HTMLModel",
          "state": {
            "_dom_classes": [],
            "_model_module": "@jupyter-widgets/controls",
            "_model_module_version": "1.5.0",
            "_model_name": "HTMLModel",
            "_view_count": null,
            "_view_module": "@jupyter-widgets/controls",
            "_view_module_version": "1.5.0",
            "_view_name": "HTMLView",
            "description": "",
            "description_tooltip": null,
            "layout": "IPY_MODEL_529f1b4cac4c45d797d47ba1e080b7ea",
            "placeholder": "​",
            "style": "IPY_MODEL_8284d15c5df24c74b8b3d80768a675f1",
            "value": "Similarity Calculation: 100%"
          }
        },
        "e8bc24bfbfa342169755c8a8655f8ced": {
          "model_module": "@jupyter-widgets/controls",
          "model_module_version": "1.5.0",
          "model_name": "HTMLModel",
          "state": {
            "_dom_classes": [],
            "_model_module": "@jupyter-widgets/controls",
            "_model_module_version": "1.5.0",
            "_model_name": "HTMLModel",
            "_view_count": null,
            "_view_module": "@jupyter-widgets/controls",
            "_view_module_version": "1.5.0",
            "_view_name": "HTMLView",
            "description": "",
            "description_tooltip": null,
            "layout": "IPY_MODEL_16aadefb829a415e8425985dee3714a3",
            "placeholder": "​",
            "style": "IPY_MODEL_b9ca075cf6e845acade4af4446a82d1c",
            "value": ""
          }
        }
      }
    }
  },
  "nbformat": 4,
  "nbformat_minor": 0
}
